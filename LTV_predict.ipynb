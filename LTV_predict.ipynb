{
  "nbformat": 4,
  "nbformat_minor": 0,
  "metadata": {
    "colab": {
      "name": "LTV_predict.ipynb",
      "provenance": [],
      "mount_file_id": "1FJvgfCiLxua5orzUCOO3k9t70Pqx1UCO",
      "authorship_tag": "ABX9TyPtemb48U0486bKCncuYwww",
      "include_colab_link": true
    },
    "kernelspec": {
      "name": "python3",
      "display_name": "Python 3"
    },
    "language_info": {
      "name": "python"
    }
  },
  "cells": [
    {
      "cell_type": "markdown",
      "metadata": {
        "id": "view-in-github",
        "colab_type": "text"
      },
      "source": [
        "<a href=\"https://colab.research.google.com/github/01-slime/EDA/blob/main/LTV_predict.ipynb\" target=\"_parent\"><img src=\"https://colab.research.google.com/assets/colab-badge.svg\" alt=\"Open In Colab\"/></a>"
      ]
    },
    {
      "cell_type": "code",
      "execution_count": 107,
      "metadata": {
        "id": "QrL3F01QjqSX"
      },
      "outputs": [],
      "source": [
        "import numpy as np\n",
        "import pandas as pd\n",
        "import matplotlib.pyplot as plt\n",
        "pd.set_option('display.float_format',lambda x:'%.2f'% x)"
      ]
    },
    {
      "cell_type": "markdown",
      "source": [
        "###Import Data"
      ],
      "metadata": {
        "id": "C_XogLfPkWMV"
      }
    },
    {
      "cell_type": "code",
      "source": [
        "customer_value = pd.read_csv('/content/drive/MyDrive/Colab Notebooks/customer_segmentation_result.csv')\n",
        "customer_value.head()"
      ],
      "metadata": {
        "colab": {
          "base_uri": "https://localhost:8080/",
          "height": 206
        },
        "id": "iPo8QgT-kMFM",
        "outputId": "f8f5a4be-93b8-495f-de39-fecc8f49e59d"
      },
      "execution_count": 108,
      "outputs": [
        {
          "output_type": "execute_result",
          "data": {
            "text/html": [
              "\n",
              "  <div id=\"df-f7180e21-19b6-45c7-bcb8-1fb8a6173fc0\">\n",
              "    <div class=\"colab-df-container\">\n",
              "      <div>\n",
              "<style scoped>\n",
              "    .dataframe tbody tr th:only-of-type {\n",
              "        vertical-align: middle;\n",
              "    }\n",
              "\n",
              "    .dataframe tbody tr th {\n",
              "        vertical-align: top;\n",
              "    }\n",
              "\n",
              "    .dataframe thead th {\n",
              "        text-align: right;\n",
              "    }\n",
              "</style>\n",
              "<table border=\"1\" class=\"dataframe\">\n",
              "  <thead>\n",
              "    <tr style=\"text-align: right;\">\n",
              "      <th></th>\n",
              "      <th>Unnamed: 0</th>\n",
              "      <th>CustomerID</th>\n",
              "      <th>Recency</th>\n",
              "      <th>RecencyCluster</th>\n",
              "      <th>Frequency</th>\n",
              "      <th>FrequencyCluster</th>\n",
              "      <th>Revenue</th>\n",
              "      <th>RevenueCluster</th>\n",
              "      <th>OverallScore</th>\n",
              "      <th>Segment</th>\n",
              "    </tr>\n",
              "  </thead>\n",
              "  <tbody>\n",
              "    <tr>\n",
              "      <th>0</th>\n",
              "      <td>0</td>\n",
              "      <td>9100002488768.00</td>\n",
              "      <td>123</td>\n",
              "      <td>3</td>\n",
              "      <td>23</td>\n",
              "      <td>2</td>\n",
              "      <td>268088.00</td>\n",
              "      <td>2</td>\n",
              "      <td>7</td>\n",
              "      <td>High-Value</td>\n",
              "    </tr>\n",
              "    <tr>\n",
              "      <th>1</th>\n",
              "      <td>1</td>\n",
              "      <td>9100002508831.00</td>\n",
              "      <td>16</td>\n",
              "      <td>3</td>\n",
              "      <td>25</td>\n",
              "      <td>2</td>\n",
              "      <td>276824.00</td>\n",
              "      <td>2</td>\n",
              "      <td>7</td>\n",
              "      <td>High-Value</td>\n",
              "    </tr>\n",
              "    <tr>\n",
              "      <th>2</th>\n",
              "      <td>2</td>\n",
              "      <td>9100001761848.00</td>\n",
              "      <td>61</td>\n",
              "      <td>3</td>\n",
              "      <td>20</td>\n",
              "      <td>2</td>\n",
              "      <td>197248.00</td>\n",
              "      <td>2</td>\n",
              "      <td>7</td>\n",
              "      <td>High-Value</td>\n",
              "    </tr>\n",
              "    <tr>\n",
              "      <th>3</th>\n",
              "      <td>3</td>\n",
              "      <td>9100002184202.00</td>\n",
              "      <td>18</td>\n",
              "      <td>3</td>\n",
              "      <td>20</td>\n",
              "      <td>2</td>\n",
              "      <td>235864.00</td>\n",
              "      <td>2</td>\n",
              "      <td>7</td>\n",
              "      <td>High-Value</td>\n",
              "    </tr>\n",
              "    <tr>\n",
              "      <th>4</th>\n",
              "      <td>4</td>\n",
              "      <td>9100001249339.00</td>\n",
              "      <td>68</td>\n",
              "      <td>3</td>\n",
              "      <td>24</td>\n",
              "      <td>2</td>\n",
              "      <td>255800.00</td>\n",
              "      <td>2</td>\n",
              "      <td>7</td>\n",
              "      <td>High-Value</td>\n",
              "    </tr>\n",
              "  </tbody>\n",
              "</table>\n",
              "</div>\n",
              "      <button class=\"colab-df-convert\" onclick=\"convertToInteractive('df-f7180e21-19b6-45c7-bcb8-1fb8a6173fc0')\"\n",
              "              title=\"Convert this dataframe to an interactive table.\"\n",
              "              style=\"display:none;\">\n",
              "        \n",
              "  <svg xmlns=\"http://www.w3.org/2000/svg\" height=\"24px\"viewBox=\"0 0 24 24\"\n",
              "       width=\"24px\">\n",
              "    <path d=\"M0 0h24v24H0V0z\" fill=\"none\"/>\n",
              "    <path d=\"M18.56 5.44l.94 2.06.94-2.06 2.06-.94-2.06-.94-.94-2.06-.94 2.06-2.06.94zm-11 1L8.5 8.5l.94-2.06 2.06-.94-2.06-.94L8.5 2.5l-.94 2.06-2.06.94zm10 10l.94 2.06.94-2.06 2.06-.94-2.06-.94-.94-2.06-.94 2.06-2.06.94z\"/><path d=\"M17.41 7.96l-1.37-1.37c-.4-.4-.92-.59-1.43-.59-.52 0-1.04.2-1.43.59L10.3 9.45l-7.72 7.72c-.78.78-.78 2.05 0 2.83L4 21.41c.39.39.9.59 1.41.59.51 0 1.02-.2 1.41-.59l7.78-7.78 2.81-2.81c.8-.78.8-2.07 0-2.86zM5.41 20L4 18.59l7.72-7.72 1.47 1.35L5.41 20z\"/>\n",
              "  </svg>\n",
              "      </button>\n",
              "      \n",
              "  <style>\n",
              "    .colab-df-container {\n",
              "      display:flex;\n",
              "      flex-wrap:wrap;\n",
              "      gap: 12px;\n",
              "    }\n",
              "\n",
              "    .colab-df-convert {\n",
              "      background-color: #E8F0FE;\n",
              "      border: none;\n",
              "      border-radius: 50%;\n",
              "      cursor: pointer;\n",
              "      display: none;\n",
              "      fill: #1967D2;\n",
              "      height: 32px;\n",
              "      padding: 0 0 0 0;\n",
              "      width: 32px;\n",
              "    }\n",
              "\n",
              "    .colab-df-convert:hover {\n",
              "      background-color: #E2EBFA;\n",
              "      box-shadow: 0px 1px 2px rgba(60, 64, 67, 0.3), 0px 1px 3px 1px rgba(60, 64, 67, 0.15);\n",
              "      fill: #174EA6;\n",
              "    }\n",
              "\n",
              "    [theme=dark] .colab-df-convert {\n",
              "      background-color: #3B4455;\n",
              "      fill: #D2E3FC;\n",
              "    }\n",
              "\n",
              "    [theme=dark] .colab-df-convert:hover {\n",
              "      background-color: #434B5C;\n",
              "      box-shadow: 0px 1px 3px 1px rgba(0, 0, 0, 0.15);\n",
              "      filter: drop-shadow(0px 1px 2px rgba(0, 0, 0, 0.3));\n",
              "      fill: #FFFFFF;\n",
              "    }\n",
              "  </style>\n",
              "\n",
              "      <script>\n",
              "        const buttonEl =\n",
              "          document.querySelector('#df-f7180e21-19b6-45c7-bcb8-1fb8a6173fc0 button.colab-df-convert');\n",
              "        buttonEl.style.display =\n",
              "          google.colab.kernel.accessAllowed ? 'block' : 'none';\n",
              "\n",
              "        async function convertToInteractive(key) {\n",
              "          const element = document.querySelector('#df-f7180e21-19b6-45c7-bcb8-1fb8a6173fc0');\n",
              "          const dataTable =\n",
              "            await google.colab.kernel.invokeFunction('convertToInteractive',\n",
              "                                                     [key], {});\n",
              "          if (!dataTable) return;\n",
              "\n",
              "          const docLinkHtml = 'Like what you see? Visit the ' +\n",
              "            '<a target=\"_blank\" href=https://colab.research.google.com/notebooks/data_table.ipynb>data table notebook</a>'\n",
              "            + ' to learn more about interactive tables.';\n",
              "          element.innerHTML = '';\n",
              "          dataTable['output_type'] = 'display_data';\n",
              "          await google.colab.output.renderOutput(dataTable, element);\n",
              "          const docLink = document.createElement('div');\n",
              "          docLink.innerHTML = docLinkHtml;\n",
              "          element.appendChild(docLink);\n",
              "        }\n",
              "      </script>\n",
              "    </div>\n",
              "  </div>\n",
              "  "
            ],
            "text/plain": [
              "   Unnamed: 0       CustomerID  ...  OverallScore     Segment\n",
              "0           0 9100002488768.00  ...             7  High-Value\n",
              "1           1 9100002508831.00  ...             7  High-Value\n",
              "2           2 9100001761848.00  ...             7  High-Value\n",
              "3           3 9100002184202.00  ...             7  High-Value\n",
              "4           4 9100001249339.00  ...             7  High-Value\n",
              "\n",
              "[5 rows x 10 columns]"
            ]
          },
          "metadata": {},
          "execution_count": 108
        }
      ]
    },
    {
      "cell_type": "code",
      "source": [
        "customer_value = customer_value.drop('Unnamed: 0',axis=1)\n",
        "customer_value"
      ],
      "metadata": {
        "colab": {
          "base_uri": "https://localhost:8080/",
          "height": 424
        },
        "id": "YVCAI_kIktAF",
        "outputId": "ea0d36d4-d262-4144-b965-37908ec9614e"
      },
      "execution_count": 109,
      "outputs": [
        {
          "output_type": "execute_result",
          "data": {
            "text/html": [
              "\n",
              "  <div id=\"df-744ba91b-bf53-4400-be5f-1b3034021dc1\">\n",
              "    <div class=\"colab-df-container\">\n",
              "      <div>\n",
              "<style scoped>\n",
              "    .dataframe tbody tr th:only-of-type {\n",
              "        vertical-align: middle;\n",
              "    }\n",
              "\n",
              "    .dataframe tbody tr th {\n",
              "        vertical-align: top;\n",
              "    }\n",
              "\n",
              "    .dataframe thead th {\n",
              "        text-align: right;\n",
              "    }\n",
              "</style>\n",
              "<table border=\"1\" class=\"dataframe\">\n",
              "  <thead>\n",
              "    <tr style=\"text-align: right;\">\n",
              "      <th></th>\n",
              "      <th>CustomerID</th>\n",
              "      <th>Recency</th>\n",
              "      <th>RecencyCluster</th>\n",
              "      <th>Frequency</th>\n",
              "      <th>FrequencyCluster</th>\n",
              "      <th>Revenue</th>\n",
              "      <th>RevenueCluster</th>\n",
              "      <th>OverallScore</th>\n",
              "      <th>Segment</th>\n",
              "    </tr>\n",
              "  </thead>\n",
              "  <tbody>\n",
              "    <tr>\n",
              "      <th>0</th>\n",
              "      <td>9100002488768.00</td>\n",
              "      <td>123</td>\n",
              "      <td>3</td>\n",
              "      <td>23</td>\n",
              "      <td>2</td>\n",
              "      <td>268088.00</td>\n",
              "      <td>2</td>\n",
              "      <td>7</td>\n",
              "      <td>High-Value</td>\n",
              "    </tr>\n",
              "    <tr>\n",
              "      <th>1</th>\n",
              "      <td>9100002508831.00</td>\n",
              "      <td>16</td>\n",
              "      <td>3</td>\n",
              "      <td>25</td>\n",
              "      <td>2</td>\n",
              "      <td>276824.00</td>\n",
              "      <td>2</td>\n",
              "      <td>7</td>\n",
              "      <td>High-Value</td>\n",
              "    </tr>\n",
              "    <tr>\n",
              "      <th>2</th>\n",
              "      <td>9100001761848.00</td>\n",
              "      <td>61</td>\n",
              "      <td>3</td>\n",
              "      <td>20</td>\n",
              "      <td>2</td>\n",
              "      <td>197248.00</td>\n",
              "      <td>2</td>\n",
              "      <td>7</td>\n",
              "      <td>High-Value</td>\n",
              "    </tr>\n",
              "    <tr>\n",
              "      <th>3</th>\n",
              "      <td>9100002184202.00</td>\n",
              "      <td>18</td>\n",
              "      <td>3</td>\n",
              "      <td>20</td>\n",
              "      <td>2</td>\n",
              "      <td>235864.00</td>\n",
              "      <td>2</td>\n",
              "      <td>7</td>\n",
              "      <td>High-Value</td>\n",
              "    </tr>\n",
              "    <tr>\n",
              "      <th>4</th>\n",
              "      <td>9100001249339.00</td>\n",
              "      <td>68</td>\n",
              "      <td>3</td>\n",
              "      <td>24</td>\n",
              "      <td>2</td>\n",
              "      <td>255800.00</td>\n",
              "      <td>2</td>\n",
              "      <td>7</td>\n",
              "      <td>High-Value</td>\n",
              "    </tr>\n",
              "    <tr>\n",
              "      <th>...</th>\n",
              "      <td>...</td>\n",
              "      <td>...</td>\n",
              "      <td>...</td>\n",
              "      <td>...</td>\n",
              "      <td>...</td>\n",
              "      <td>...</td>\n",
              "      <td>...</td>\n",
              "      <td>...</td>\n",
              "      <td>...</td>\n",
              "    </tr>\n",
              "    <tr>\n",
              "      <th>71200</th>\n",
              "      <td>9100002763261.00</td>\n",
              "      <td>329</td>\n",
              "      <td>1</td>\n",
              "      <td>1</td>\n",
              "      <td>0</td>\n",
              "      <td>5272.00</td>\n",
              "      <td>0</td>\n",
              "      <td>1</td>\n",
              "      <td>Low-Value</td>\n",
              "    </tr>\n",
              "    <tr>\n",
              "      <th>71201</th>\n",
              "      <td>9100001558486.00</td>\n",
              "      <td>113</td>\n",
              "      <td>3</td>\n",
              "      <td>38</td>\n",
              "      <td>3</td>\n",
              "      <td>45080.00</td>\n",
              "      <td>0</td>\n",
              "      <td>6</td>\n",
              "      <td>High-Value</td>\n",
              "    </tr>\n",
              "    <tr>\n",
              "      <th>71202</th>\n",
              "      <td>9100001384559.00</td>\n",
              "      <td>39</td>\n",
              "      <td>3</td>\n",
              "      <td>33</td>\n",
              "      <td>3</td>\n",
              "      <td>38816.00</td>\n",
              "      <td>0</td>\n",
              "      <td>6</td>\n",
              "      <td>High-Value</td>\n",
              "    </tr>\n",
              "    <tr>\n",
              "      <th>71203</th>\n",
              "      <td>9100001270685.00</td>\n",
              "      <td>33</td>\n",
              "      <td>3</td>\n",
              "      <td>31</td>\n",
              "      <td>3</td>\n",
              "      <td>67568.00</td>\n",
              "      <td>0</td>\n",
              "      <td>6</td>\n",
              "      <td>High-Value</td>\n",
              "    </tr>\n",
              "    <tr>\n",
              "      <th>71204</th>\n",
              "      <td>9100001176611.00</td>\n",
              "      <td>590</td>\n",
              "      <td>0</td>\n",
              "      <td>33</td>\n",
              "      <td>3</td>\n",
              "      <td>34512.00</td>\n",
              "      <td>0</td>\n",
              "      <td>3</td>\n",
              "      <td>Mid-Value</td>\n",
              "    </tr>\n",
              "  </tbody>\n",
              "</table>\n",
              "<p>71205 rows × 9 columns</p>\n",
              "</div>\n",
              "      <button class=\"colab-df-convert\" onclick=\"convertToInteractive('df-744ba91b-bf53-4400-be5f-1b3034021dc1')\"\n",
              "              title=\"Convert this dataframe to an interactive table.\"\n",
              "              style=\"display:none;\">\n",
              "        \n",
              "  <svg xmlns=\"http://www.w3.org/2000/svg\" height=\"24px\"viewBox=\"0 0 24 24\"\n",
              "       width=\"24px\">\n",
              "    <path d=\"M0 0h24v24H0V0z\" fill=\"none\"/>\n",
              "    <path d=\"M18.56 5.44l.94 2.06.94-2.06 2.06-.94-2.06-.94-.94-2.06-.94 2.06-2.06.94zm-11 1L8.5 8.5l.94-2.06 2.06-.94-2.06-.94L8.5 2.5l-.94 2.06-2.06.94zm10 10l.94 2.06.94-2.06 2.06-.94-2.06-.94-.94-2.06-.94 2.06-2.06.94z\"/><path d=\"M17.41 7.96l-1.37-1.37c-.4-.4-.92-.59-1.43-.59-.52 0-1.04.2-1.43.59L10.3 9.45l-7.72 7.72c-.78.78-.78 2.05 0 2.83L4 21.41c.39.39.9.59 1.41.59.51 0 1.02-.2 1.41-.59l7.78-7.78 2.81-2.81c.8-.78.8-2.07 0-2.86zM5.41 20L4 18.59l7.72-7.72 1.47 1.35L5.41 20z\"/>\n",
              "  </svg>\n",
              "      </button>\n",
              "      \n",
              "  <style>\n",
              "    .colab-df-container {\n",
              "      display:flex;\n",
              "      flex-wrap:wrap;\n",
              "      gap: 12px;\n",
              "    }\n",
              "\n",
              "    .colab-df-convert {\n",
              "      background-color: #E8F0FE;\n",
              "      border: none;\n",
              "      border-radius: 50%;\n",
              "      cursor: pointer;\n",
              "      display: none;\n",
              "      fill: #1967D2;\n",
              "      height: 32px;\n",
              "      padding: 0 0 0 0;\n",
              "      width: 32px;\n",
              "    }\n",
              "\n",
              "    .colab-df-convert:hover {\n",
              "      background-color: #E2EBFA;\n",
              "      box-shadow: 0px 1px 2px rgba(60, 64, 67, 0.3), 0px 1px 3px 1px rgba(60, 64, 67, 0.15);\n",
              "      fill: #174EA6;\n",
              "    }\n",
              "\n",
              "    [theme=dark] .colab-df-convert {\n",
              "      background-color: #3B4455;\n",
              "      fill: #D2E3FC;\n",
              "    }\n",
              "\n",
              "    [theme=dark] .colab-df-convert:hover {\n",
              "      background-color: #434B5C;\n",
              "      box-shadow: 0px 1px 3px 1px rgba(0, 0, 0, 0.15);\n",
              "      filter: drop-shadow(0px 1px 2px rgba(0, 0, 0, 0.3));\n",
              "      fill: #FFFFFF;\n",
              "    }\n",
              "  </style>\n",
              "\n",
              "      <script>\n",
              "        const buttonEl =\n",
              "          document.querySelector('#df-744ba91b-bf53-4400-be5f-1b3034021dc1 button.colab-df-convert');\n",
              "        buttonEl.style.display =\n",
              "          google.colab.kernel.accessAllowed ? 'block' : 'none';\n",
              "\n",
              "        async function convertToInteractive(key) {\n",
              "          const element = document.querySelector('#df-744ba91b-bf53-4400-be5f-1b3034021dc1');\n",
              "          const dataTable =\n",
              "            await google.colab.kernel.invokeFunction('convertToInteractive',\n",
              "                                                     [key], {});\n",
              "          if (!dataTable) return;\n",
              "\n",
              "          const docLinkHtml = 'Like what you see? Visit the ' +\n",
              "            '<a target=\"_blank\" href=https://colab.research.google.com/notebooks/data_table.ipynb>data table notebook</a>'\n",
              "            + ' to learn more about interactive tables.';\n",
              "          element.innerHTML = '';\n",
              "          dataTable['output_type'] = 'display_data';\n",
              "          await google.colab.output.renderOutput(dataTable, element);\n",
              "          const docLink = document.createElement('div');\n",
              "          docLink.innerHTML = docLinkHtml;\n",
              "          element.appendChild(docLink);\n",
              "        }\n",
              "      </script>\n",
              "    </div>\n",
              "  </div>\n",
              "  "
            ],
            "text/plain": [
              "            CustomerID  Recency  ...  OverallScore     Segment\n",
              "0     9100002488768.00      123  ...             7  High-Value\n",
              "1     9100002508831.00       16  ...             7  High-Value\n",
              "2     9100001761848.00       61  ...             7  High-Value\n",
              "3     9100002184202.00       18  ...             7  High-Value\n",
              "4     9100001249339.00       68  ...             7  High-Value\n",
              "...                ...      ...  ...           ...         ...\n",
              "71200 9100002763261.00      329  ...             1   Low-Value\n",
              "71201 9100001558486.00      113  ...             6  High-Value\n",
              "71202 9100001384559.00       39  ...             6  High-Value\n",
              "71203 9100001270685.00       33  ...             6  High-Value\n",
              "71204 9100001176611.00      590  ...             3   Mid-Value\n",
              "\n",
              "[71205 rows x 9 columns]"
            ]
          },
          "metadata": {},
          "execution_count": 109
        }
      ]
    },
    {
      "cell_type": "markdown",
      "source": [
        "###Label encoding"
      ],
      "metadata": {
        "id": "kdoZIwPClkve"
      }
    },
    {
      "cell_type": "code",
      "source": [
        "from sklearn.preprocessing import LabelEncoder\n",
        "labelencoder = LabelEncoder()\n",
        "customer_value['Segment'] = labelencoder.fit_transform(customer_value[\"Segment\"])\n",
        "customer_value.head()"
      ],
      "metadata": {
        "colab": {
          "base_uri": "https://localhost:8080/",
          "height": 206
        },
        "id": "G8K513FClR_q",
        "outputId": "708982fa-5f14-44b9-a266-652868251ec6"
      },
      "execution_count": 110,
      "outputs": [
        {
          "output_type": "execute_result",
          "data": {
            "text/html": [
              "\n",
              "  <div id=\"df-ce498243-6fbb-4111-b96d-13a69c90834c\">\n",
              "    <div class=\"colab-df-container\">\n",
              "      <div>\n",
              "<style scoped>\n",
              "    .dataframe tbody tr th:only-of-type {\n",
              "        vertical-align: middle;\n",
              "    }\n",
              "\n",
              "    .dataframe tbody tr th {\n",
              "        vertical-align: top;\n",
              "    }\n",
              "\n",
              "    .dataframe thead th {\n",
              "        text-align: right;\n",
              "    }\n",
              "</style>\n",
              "<table border=\"1\" class=\"dataframe\">\n",
              "  <thead>\n",
              "    <tr style=\"text-align: right;\">\n",
              "      <th></th>\n",
              "      <th>CustomerID</th>\n",
              "      <th>Recency</th>\n",
              "      <th>RecencyCluster</th>\n",
              "      <th>Frequency</th>\n",
              "      <th>FrequencyCluster</th>\n",
              "      <th>Revenue</th>\n",
              "      <th>RevenueCluster</th>\n",
              "      <th>OverallScore</th>\n",
              "      <th>Segment</th>\n",
              "    </tr>\n",
              "  </thead>\n",
              "  <tbody>\n",
              "    <tr>\n",
              "      <th>0</th>\n",
              "      <td>9100002488768.00</td>\n",
              "      <td>123</td>\n",
              "      <td>3</td>\n",
              "      <td>23</td>\n",
              "      <td>2</td>\n",
              "      <td>268088.00</td>\n",
              "      <td>2</td>\n",
              "      <td>7</td>\n",
              "      <td>0</td>\n",
              "    </tr>\n",
              "    <tr>\n",
              "      <th>1</th>\n",
              "      <td>9100002508831.00</td>\n",
              "      <td>16</td>\n",
              "      <td>3</td>\n",
              "      <td>25</td>\n",
              "      <td>2</td>\n",
              "      <td>276824.00</td>\n",
              "      <td>2</td>\n",
              "      <td>7</td>\n",
              "      <td>0</td>\n",
              "    </tr>\n",
              "    <tr>\n",
              "      <th>2</th>\n",
              "      <td>9100001761848.00</td>\n",
              "      <td>61</td>\n",
              "      <td>3</td>\n",
              "      <td>20</td>\n",
              "      <td>2</td>\n",
              "      <td>197248.00</td>\n",
              "      <td>2</td>\n",
              "      <td>7</td>\n",
              "      <td>0</td>\n",
              "    </tr>\n",
              "    <tr>\n",
              "      <th>3</th>\n",
              "      <td>9100002184202.00</td>\n",
              "      <td>18</td>\n",
              "      <td>3</td>\n",
              "      <td>20</td>\n",
              "      <td>2</td>\n",
              "      <td>235864.00</td>\n",
              "      <td>2</td>\n",
              "      <td>7</td>\n",
              "      <td>0</td>\n",
              "    </tr>\n",
              "    <tr>\n",
              "      <th>4</th>\n",
              "      <td>9100001249339.00</td>\n",
              "      <td>68</td>\n",
              "      <td>3</td>\n",
              "      <td>24</td>\n",
              "      <td>2</td>\n",
              "      <td>255800.00</td>\n",
              "      <td>2</td>\n",
              "      <td>7</td>\n",
              "      <td>0</td>\n",
              "    </tr>\n",
              "  </tbody>\n",
              "</table>\n",
              "</div>\n",
              "      <button class=\"colab-df-convert\" onclick=\"convertToInteractive('df-ce498243-6fbb-4111-b96d-13a69c90834c')\"\n",
              "              title=\"Convert this dataframe to an interactive table.\"\n",
              "              style=\"display:none;\">\n",
              "        \n",
              "  <svg xmlns=\"http://www.w3.org/2000/svg\" height=\"24px\"viewBox=\"0 0 24 24\"\n",
              "       width=\"24px\">\n",
              "    <path d=\"M0 0h24v24H0V0z\" fill=\"none\"/>\n",
              "    <path d=\"M18.56 5.44l.94 2.06.94-2.06 2.06-.94-2.06-.94-.94-2.06-.94 2.06-2.06.94zm-11 1L8.5 8.5l.94-2.06 2.06-.94-2.06-.94L8.5 2.5l-.94 2.06-2.06.94zm10 10l.94 2.06.94-2.06 2.06-.94-2.06-.94-.94-2.06-.94 2.06-2.06.94z\"/><path d=\"M17.41 7.96l-1.37-1.37c-.4-.4-.92-.59-1.43-.59-.52 0-1.04.2-1.43.59L10.3 9.45l-7.72 7.72c-.78.78-.78 2.05 0 2.83L4 21.41c.39.39.9.59 1.41.59.51 0 1.02-.2 1.41-.59l7.78-7.78 2.81-2.81c.8-.78.8-2.07 0-2.86zM5.41 20L4 18.59l7.72-7.72 1.47 1.35L5.41 20z\"/>\n",
              "  </svg>\n",
              "      </button>\n",
              "      \n",
              "  <style>\n",
              "    .colab-df-container {\n",
              "      display:flex;\n",
              "      flex-wrap:wrap;\n",
              "      gap: 12px;\n",
              "    }\n",
              "\n",
              "    .colab-df-convert {\n",
              "      background-color: #E8F0FE;\n",
              "      border: none;\n",
              "      border-radius: 50%;\n",
              "      cursor: pointer;\n",
              "      display: none;\n",
              "      fill: #1967D2;\n",
              "      height: 32px;\n",
              "      padding: 0 0 0 0;\n",
              "      width: 32px;\n",
              "    }\n",
              "\n",
              "    .colab-df-convert:hover {\n",
              "      background-color: #E2EBFA;\n",
              "      box-shadow: 0px 1px 2px rgba(60, 64, 67, 0.3), 0px 1px 3px 1px rgba(60, 64, 67, 0.15);\n",
              "      fill: #174EA6;\n",
              "    }\n",
              "\n",
              "    [theme=dark] .colab-df-convert {\n",
              "      background-color: #3B4455;\n",
              "      fill: #D2E3FC;\n",
              "    }\n",
              "\n",
              "    [theme=dark] .colab-df-convert:hover {\n",
              "      background-color: #434B5C;\n",
              "      box-shadow: 0px 1px 3px 1px rgba(0, 0, 0, 0.15);\n",
              "      filter: drop-shadow(0px 1px 2px rgba(0, 0, 0, 0.3));\n",
              "      fill: #FFFFFF;\n",
              "    }\n",
              "  </style>\n",
              "\n",
              "      <script>\n",
              "        const buttonEl =\n",
              "          document.querySelector('#df-ce498243-6fbb-4111-b96d-13a69c90834c button.colab-df-convert');\n",
              "        buttonEl.style.display =\n",
              "          google.colab.kernel.accessAllowed ? 'block' : 'none';\n",
              "\n",
              "        async function convertToInteractive(key) {\n",
              "          const element = document.querySelector('#df-ce498243-6fbb-4111-b96d-13a69c90834c');\n",
              "          const dataTable =\n",
              "            await google.colab.kernel.invokeFunction('convertToInteractive',\n",
              "                                                     [key], {});\n",
              "          if (!dataTable) return;\n",
              "\n",
              "          const docLinkHtml = 'Like what you see? Visit the ' +\n",
              "            '<a target=\"_blank\" href=https://colab.research.google.com/notebooks/data_table.ipynb>data table notebook</a>'\n",
              "            + ' to learn more about interactive tables.';\n",
              "          element.innerHTML = '';\n",
              "          dataTable['output_type'] = 'display_data';\n",
              "          await google.colab.output.renderOutput(dataTable, element);\n",
              "          const docLink = document.createElement('div');\n",
              "          docLink.innerHTML = docLinkHtml;\n",
              "          element.appendChild(docLink);\n",
              "        }\n",
              "      </script>\n",
              "    </div>\n",
              "  </div>\n",
              "  "
            ],
            "text/plain": [
              "        CustomerID  Recency  ...  OverallScore  Segment\n",
              "0 9100002488768.00      123  ...             7        0\n",
              "1 9100002508831.00       16  ...             7        0\n",
              "2 9100001761848.00       61  ...             7        0\n",
              "3 9100002184202.00       18  ...             7        0\n",
              "4 9100001249339.00       68  ...             7        0\n",
              "\n",
              "[5 rows x 9 columns]"
            ]
          },
          "metadata": {},
          "execution_count": 110
        }
      ]
    },
    {
      "cell_type": "markdown",
      "source": [
        "###Calculate Show correlations"
      ],
      "metadata": {
        "id": "Zdmu5vckmNsa"
      }
    },
    {
      "cell_type": "code",
      "source": [
        "corr_matrix = customer_value.corr()\n",
        "corr_matrix"
      ],
      "metadata": {
        "colab": {
          "base_uri": "https://localhost:8080/",
          "height": 332
        },
        "id": "QdPDB5H6mK2R",
        "outputId": "3b1ffd2b-dad8-4371-b8ec-c2ab57caa9c6"
      },
      "execution_count": 111,
      "outputs": [
        {
          "output_type": "execute_result",
          "data": {
            "text/html": [
              "\n",
              "  <div id=\"df-d553cb61-6ab2-410e-80b2-d414ef7ef46e\">\n",
              "    <div class=\"colab-df-container\">\n",
              "      <div>\n",
              "<style scoped>\n",
              "    .dataframe tbody tr th:only-of-type {\n",
              "        vertical-align: middle;\n",
              "    }\n",
              "\n",
              "    .dataframe tbody tr th {\n",
              "        vertical-align: top;\n",
              "    }\n",
              "\n",
              "    .dataframe thead th {\n",
              "        text-align: right;\n",
              "    }\n",
              "</style>\n",
              "<table border=\"1\" class=\"dataframe\">\n",
              "  <thead>\n",
              "    <tr style=\"text-align: right;\">\n",
              "      <th></th>\n",
              "      <th>CustomerID</th>\n",
              "      <th>Recency</th>\n",
              "      <th>RecencyCluster</th>\n",
              "      <th>Frequency</th>\n",
              "      <th>FrequencyCluster</th>\n",
              "      <th>Revenue</th>\n",
              "      <th>RevenueCluster</th>\n",
              "      <th>OverallScore</th>\n",
              "      <th>Segment</th>\n",
              "    </tr>\n",
              "  </thead>\n",
              "  <tbody>\n",
              "    <tr>\n",
              "      <th>CustomerID</th>\n",
              "      <td>1.00</td>\n",
              "      <td>0.13</td>\n",
              "      <td>-0.13</td>\n",
              "      <td>-0.29</td>\n",
              "      <td>-0.28</td>\n",
              "      <td>-0.30</td>\n",
              "      <td>-0.29</td>\n",
              "      <td>-0.26</td>\n",
              "      <td>0.16</td>\n",
              "    </tr>\n",
              "    <tr>\n",
              "      <th>Recency</th>\n",
              "      <td>0.13</td>\n",
              "      <td>1.00</td>\n",
              "      <td>-0.97</td>\n",
              "      <td>-0.47</td>\n",
              "      <td>-0.47</td>\n",
              "      <td>-0.44</td>\n",
              "      <td>-0.45</td>\n",
              "      <td>-0.77</td>\n",
              "      <td>0.15</td>\n",
              "    </tr>\n",
              "    <tr>\n",
              "      <th>RecencyCluster</th>\n",
              "      <td>-0.13</td>\n",
              "      <td>-0.97</td>\n",
              "      <td>1.00</td>\n",
              "      <td>0.47</td>\n",
              "      <td>0.47</td>\n",
              "      <td>0.43</td>\n",
              "      <td>0.44</td>\n",
              "      <td>0.78</td>\n",
              "      <td>-0.15</td>\n",
              "    </tr>\n",
              "    <tr>\n",
              "      <th>Frequency</th>\n",
              "      <td>-0.29</td>\n",
              "      <td>-0.47</td>\n",
              "      <td>0.47</td>\n",
              "      <td>1.00</td>\n",
              "      <td>0.97</td>\n",
              "      <td>0.93</td>\n",
              "      <td>0.91</td>\n",
              "      <td>0.89</td>\n",
              "      <td>-0.59</td>\n",
              "    </tr>\n",
              "    <tr>\n",
              "      <th>FrequencyCluster</th>\n",
              "      <td>-0.28</td>\n",
              "      <td>-0.47</td>\n",
              "      <td>0.47</td>\n",
              "      <td>0.97</td>\n",
              "      <td>1.00</td>\n",
              "      <td>0.90</td>\n",
              "      <td>0.90</td>\n",
              "      <td>0.90</td>\n",
              "      <td>-0.60</td>\n",
              "    </tr>\n",
              "    <tr>\n",
              "      <th>Revenue</th>\n",
              "      <td>-0.30</td>\n",
              "      <td>-0.44</td>\n",
              "      <td>0.43</td>\n",
              "      <td>0.93</td>\n",
              "      <td>0.90</td>\n",
              "      <td>1.00</td>\n",
              "      <td>0.95</td>\n",
              "      <td>0.87</td>\n",
              "      <td>-0.57</td>\n",
              "    </tr>\n",
              "    <tr>\n",
              "      <th>RevenueCluster</th>\n",
              "      <td>-0.29</td>\n",
              "      <td>-0.45</td>\n",
              "      <td>0.44</td>\n",
              "      <td>0.91</td>\n",
              "      <td>0.90</td>\n",
              "      <td>0.95</td>\n",
              "      <td>1.00</td>\n",
              "      <td>0.89</td>\n",
              "      <td>-0.59</td>\n",
              "    </tr>\n",
              "    <tr>\n",
              "      <th>OverallScore</th>\n",
              "      <td>-0.26</td>\n",
              "      <td>-0.77</td>\n",
              "      <td>0.78</td>\n",
              "      <td>0.89</td>\n",
              "      <td>0.90</td>\n",
              "      <td>0.87</td>\n",
              "      <td>0.89</td>\n",
              "      <td>1.00</td>\n",
              "      <td>-0.50</td>\n",
              "    </tr>\n",
              "    <tr>\n",
              "      <th>Segment</th>\n",
              "      <td>0.16</td>\n",
              "      <td>0.15</td>\n",
              "      <td>-0.15</td>\n",
              "      <td>-0.59</td>\n",
              "      <td>-0.60</td>\n",
              "      <td>-0.57</td>\n",
              "      <td>-0.59</td>\n",
              "      <td>-0.50</td>\n",
              "      <td>1.00</td>\n",
              "    </tr>\n",
              "  </tbody>\n",
              "</table>\n",
              "</div>\n",
              "      <button class=\"colab-df-convert\" onclick=\"convertToInteractive('df-d553cb61-6ab2-410e-80b2-d414ef7ef46e')\"\n",
              "              title=\"Convert this dataframe to an interactive table.\"\n",
              "              style=\"display:none;\">\n",
              "        \n",
              "  <svg xmlns=\"http://www.w3.org/2000/svg\" height=\"24px\"viewBox=\"0 0 24 24\"\n",
              "       width=\"24px\">\n",
              "    <path d=\"M0 0h24v24H0V0z\" fill=\"none\"/>\n",
              "    <path d=\"M18.56 5.44l.94 2.06.94-2.06 2.06-.94-2.06-.94-.94-2.06-.94 2.06-2.06.94zm-11 1L8.5 8.5l.94-2.06 2.06-.94-2.06-.94L8.5 2.5l-.94 2.06-2.06.94zm10 10l.94 2.06.94-2.06 2.06-.94-2.06-.94-.94-2.06-.94 2.06-2.06.94z\"/><path d=\"M17.41 7.96l-1.37-1.37c-.4-.4-.92-.59-1.43-.59-.52 0-1.04.2-1.43.59L10.3 9.45l-7.72 7.72c-.78.78-.78 2.05 0 2.83L4 21.41c.39.39.9.59 1.41.59.51 0 1.02-.2 1.41-.59l7.78-7.78 2.81-2.81c.8-.78.8-2.07 0-2.86zM5.41 20L4 18.59l7.72-7.72 1.47 1.35L5.41 20z\"/>\n",
              "  </svg>\n",
              "      </button>\n",
              "      \n",
              "  <style>\n",
              "    .colab-df-container {\n",
              "      display:flex;\n",
              "      flex-wrap:wrap;\n",
              "      gap: 12px;\n",
              "    }\n",
              "\n",
              "    .colab-df-convert {\n",
              "      background-color: #E8F0FE;\n",
              "      border: none;\n",
              "      border-radius: 50%;\n",
              "      cursor: pointer;\n",
              "      display: none;\n",
              "      fill: #1967D2;\n",
              "      height: 32px;\n",
              "      padding: 0 0 0 0;\n",
              "      width: 32px;\n",
              "    }\n",
              "\n",
              "    .colab-df-convert:hover {\n",
              "      background-color: #E2EBFA;\n",
              "      box-shadow: 0px 1px 2px rgba(60, 64, 67, 0.3), 0px 1px 3px 1px rgba(60, 64, 67, 0.15);\n",
              "      fill: #174EA6;\n",
              "    }\n",
              "\n",
              "    [theme=dark] .colab-df-convert {\n",
              "      background-color: #3B4455;\n",
              "      fill: #D2E3FC;\n",
              "    }\n",
              "\n",
              "    [theme=dark] .colab-df-convert:hover {\n",
              "      background-color: #434B5C;\n",
              "      box-shadow: 0px 1px 3px 1px rgba(0, 0, 0, 0.15);\n",
              "      filter: drop-shadow(0px 1px 2px rgba(0, 0, 0, 0.3));\n",
              "      fill: #FFFFFF;\n",
              "    }\n",
              "  </style>\n",
              "\n",
              "      <script>\n",
              "        const buttonEl =\n",
              "          document.querySelector('#df-d553cb61-6ab2-410e-80b2-d414ef7ef46e button.colab-df-convert');\n",
              "        buttonEl.style.display =\n",
              "          google.colab.kernel.accessAllowed ? 'block' : 'none';\n",
              "\n",
              "        async function convertToInteractive(key) {\n",
              "          const element = document.querySelector('#df-d553cb61-6ab2-410e-80b2-d414ef7ef46e');\n",
              "          const dataTable =\n",
              "            await google.colab.kernel.invokeFunction('convertToInteractive',\n",
              "                                                     [key], {});\n",
              "          if (!dataTable) return;\n",
              "\n",
              "          const docLinkHtml = 'Like what you see? Visit the ' +\n",
              "            '<a target=\"_blank\" href=https://colab.research.google.com/notebooks/data_table.ipynb>data table notebook</a>'\n",
              "            + ' to learn more about interactive tables.';\n",
              "          element.innerHTML = '';\n",
              "          dataTable['output_type'] = 'display_data';\n",
              "          await google.colab.output.renderOutput(dataTable, element);\n",
              "          const docLink = document.createElement('div');\n",
              "          docLink.innerHTML = docLinkHtml;\n",
              "          element.appendChild(docLink);\n",
              "        }\n",
              "      </script>\n",
              "    </div>\n",
              "  </div>\n",
              "  "
            ],
            "text/plain": [
              "                  CustomerID  Recency  ...  OverallScore  Segment\n",
              "CustomerID              1.00     0.13  ...         -0.26     0.16\n",
              "Recency                 0.13     1.00  ...         -0.77     0.15\n",
              "RecencyCluster         -0.13    -0.97  ...          0.78    -0.15\n",
              "Frequency              -0.29    -0.47  ...          0.89    -0.59\n",
              "FrequencyCluster       -0.28    -0.47  ...          0.90    -0.60\n",
              "Revenue                -0.30    -0.44  ...          0.87    -0.57\n",
              "RevenueCluster         -0.29    -0.45  ...          0.89    -0.59\n",
              "OverallScore           -0.26    -0.77  ...          1.00    -0.50\n",
              "Segment                 0.16     0.15  ...         -0.50     1.00\n",
              "\n",
              "[9 rows x 9 columns]"
            ]
          },
          "metadata": {},
          "execution_count": 111
        }
      ]
    },
    {
      "cell_type": "code",
      "source": [
        "corr_matrix['Segment'].sort_values(ascending=False) #sort_values 比大小？\n",
        "print(corr_matrix['Segment'].sort_values(ascending=False))"
      ],
      "metadata": {
        "colab": {
          "base_uri": "https://localhost:8080/"
        },
        "id": "wXkpTbLYmtR-",
        "outputId": "54693c36-50d1-43c7-db51-bec264957e82"
      },
      "execution_count": 112,
      "outputs": [
        {
          "output_type": "stream",
          "name": "stdout",
          "text": [
            "Segment             1.00\n",
            "CustomerID          0.16\n",
            "Recency             0.15\n",
            "RecencyCluster     -0.15\n",
            "OverallScore       -0.50\n",
            "Revenue            -0.57\n",
            "Frequency          -0.59\n",
            "RevenueCluster     -0.59\n",
            "FrequencyCluster   -0.60\n",
            "Name: Segment, dtype: float64\n"
          ]
        }
      ]
    },
    {
      "cell_type": "markdown",
      "source": [
        "###Standaration"
      ],
      "metadata": {
        "id": "g857oYT-ouJQ"
      }
    },
    {
      "cell_type": "code",
      "source": [
        "from sklearn.preprocessing import StandardScaler\n",
        "scaler = StandardScaler()\n",
        "x = scaler.fit_transform(customer_value[['Recency','Frequency','Revenue']])\n",
        "y = customer_value['Segment']\n",
        "#把資料存進x,而y是結果,我們要用x去預測y (y=ax+b)"
      ],
      "metadata": {
        "id": "vh4jdMSxnq2y"
      },
      "execution_count": 113,
      "outputs": []
    },
    {
      "cell_type": "code",
      "source": [
        "x,y"
      ],
      "metadata": {
        "colab": {
          "base_uri": "https://localhost:8080/"
        },
        "id": "AcToHfOOpcpI",
        "outputId": "8d99ca96-a662-47d7-96c0-286bb3b6565a"
      },
      "execution_count": 114,
      "outputs": [
        {
          "output_type": "execute_result",
          "data": {
            "text/plain": [
              "(array([[-0.73342026,  1.44730373,  1.48475403],\n",
              "        [-1.23016427,  1.64879703,  1.55725989],\n",
              "        [-1.02125323,  1.14506377,  0.89680581],\n",
              "        ...,\n",
              "        [-1.12338752,  2.45477025, -0.41812661],\n",
              "        [-1.15124232,  2.25327694, -0.17949467],\n",
              "        [ 1.434612  ,  2.45477025, -0.45384837]]), 0        0\n",
              " 1        0\n",
              " 2        0\n",
              " 3        0\n",
              " 4        0\n",
              "         ..\n",
              " 71200    1\n",
              " 71201    0\n",
              " 71202    0\n",
              " 71203    0\n",
              " 71204    2\n",
              " Name: Segment, Length: 71205, dtype: int64)"
            ]
          },
          "metadata": {},
          "execution_count": 114
        }
      ]
    },
    {
      "cell_type": "markdown",
      "source": [
        "###說明"
      ],
      "metadata": {
        "id": "W-AliFTjrHrJ"
      }
    },
    {
      "cell_type": "code",
      "source": [
        "#總結:做資料訓練之前，import資料，去看哪些是類別行or樹執行,去info裡看，把不要的刪除(透過pandas達成)，去掉留下來就是要訓練的資料\n",
        "#那要把類別轉成數值，第一個就是labelencoding第二種事one hot encoding ,學姊用label\n",
        "#看完之後轉乘了0/1/2，我們再去看他的相關係數\n",
        "#有分證相關與父相關，越接近1就是月相近\n",
        "#那整個資料探勘完之後，就把資料做標準化，用sklearn套件，把它分出x/y欄位是哪些，分出來後數值會介於1與-1之間\n",
        "#要切成訓練資料或測試資料..."
      ],
      "metadata": {
        "id": "cPa9dI3RpeNi"
      },
      "execution_count": 115,
      "outputs": []
    },
    {
      "cell_type": "markdown",
      "source": [
        "###Split Test and Trrain"
      ],
      "metadata": {
        "id": "HmH_LqbdrKAq"
      }
    },
    {
      "cell_type": "code",
      "source": [
        "from sklearn.model_selection import train_test_split\n",
        "#split training and test sets\n",
        "X_train, X_test, y_train, y_test = train_test_split(x,y, test_size=0.05, random_state=56)"
      ],
      "metadata": {
        "id": "p5jK8CezrNK6"
      },
      "execution_count": 116,
      "outputs": []
    },
    {
      "cell_type": "code",
      "source": [
        "X_train,y_train"
      ],
      "metadata": {
        "colab": {
          "base_uri": "https://localhost:8080/"
        },
        "id": "At7JDVgerqOo",
        "outputId": "94f7e3e0-bf69-42e2-f6b8-ac2d56bab82e"
      },
      "execution_count": 117,
      "outputs": [
        {
          "output_type": "execute_result",
          "data": {
            "text/plain": [
              "(array([[-0.62200104, -0.66837597, -0.56645822],\n",
              "        [-1.24873414,  1.24581042,  1.04068879],\n",
              "        [-0.32488313, -0.76912262, -0.68325109],\n",
              "        ...,\n",
              "        [-1.10017518,  2.15253029,  3.29613917],\n",
              "        [-0.5709339 ,  0.84282381,  1.16790604],\n",
              "        [-0.73342026, -0.76912262, -0.61486186]]), 47816    1\n",
              " 2621     0\n",
              " 45725    1\n",
              " 12237    0\n",
              " 24839    0\n",
              "         ..\n",
              " 65769    1\n",
              " 42106    1\n",
              " 25835    0\n",
              " 3264     0\n",
              " 33167    2\n",
              " Name: Segment, Length: 67644, dtype: int64)"
            ]
          },
          "metadata": {},
          "execution_count": 117
        }
      ]
    },
    {
      "cell_type": "markdown",
      "source": [
        "###Support Vector Machine"
      ],
      "metadata": {
        "id": "mnp6rxMNr8IS"
      }
    },
    {
      "cell_type": "code",
      "source": [
        "from sklearn import svm\n",
        "from sklearn.model_selection import KFold, cross_val_score\n",
        "\n",
        "clf = svm.SVC(kernel='rbf' ,C=1,gamma='auto') #高斯\n",
        "clf.fit(X_train,y_train) #監督式學習-一定要給機器一個Y值，才能學習，kmeans則是非監督式學習 fit然後predict\n",
        "\n",
        "clf.predict(X_test) #得出為y值\n",
        "\n",
        "#參數\n",
        "#1. 核函數 kernel - 在模型裡面，我們可以選擇各式各樣的核函數，包含線性、多項式、高斯、sigmoid等等\n",
        "#2. 參數C - C為懲罰係數。 C愈大代表錯誤的容忍程度愈低，在訓練集樣本中會區分的愈精細，因此設定太大容易造成過度擬和的問題。反之，設定太小則會造成低度擬合的問題。若沒設定，模型中預設為1。\n",
        "#3. 參數gamma - gamma參數決定支援向量的多寡，並影響訓練速度與預測速度 。此參數有兩個自動運算選擇，分別為’scale’與’auto’，或是也可以直接指定數值，設定後會以下列方式算出隱含參數，以決定資料映射到新特徵空間後的分佈，在未設定下預設為’scale’。\n"
      ],
      "metadata": {
        "colab": {
          "base_uri": "https://localhost:8080/"
        },
        "id": "qSiQgmYMrwYP",
        "outputId": "54f93115-275b-46e7-ba34-ee9dac3bed12"
      },
      "execution_count": 118,
      "outputs": [
        {
          "output_type": "execute_result",
          "data": {
            "text/plain": [
              "array([1, 1, 2, ..., 1, 1, 0])"
            ]
          },
          "metadata": {},
          "execution_count": 118
        }
      ]
    },
    {
      "cell_type": "code",
      "source": [
        "print(clf.score(X_train,y_train))\n",
        "print(clf.score(X_test,y_test))\n",
        "\n",
        "#交叉驗證\n",
        "scores = cross_val_score(clf,X_train,y_train,cv=5,scoring='accuracy')\n",
        "print(scores)\n",
        "print(scores.mean())"
      ],
      "metadata": {
        "colab": {
          "base_uri": "https://localhost:8080/"
        },
        "id": "EC1EMN88t5eg",
        "outputId": "548d343a-6fd7-45ab-cfb0-814234ece5cd"
      },
      "execution_count": 119,
      "outputs": [
        {
          "output_type": "stream",
          "name": "stdout",
          "text": [
            "0.9667376263970197\n",
            "0.9679865206402696\n",
            "[0.9661468  0.96466849 0.96725553 0.96548156 0.96629213]\n",
            "0.9659689007633206\n"
          ]
        }
      ]
    },
    {
      "cell_type": "markdown",
      "source": [
        "###Logistic Regression"
      ],
      "metadata": {
        "id": "zdCbUal_z_wr"
      }
    },
    {
      "cell_type": "code",
      "source": [
        "from sklearn.linear_model import LogisticRegression\n",
        "from sklearn import metrics\n",
        "\n",
        "logreg = LogisticRegression()\n",
        "logreg.fit(X_train, y_train)\n",
        "\n",
        "y_pred = logreg.predict(X_test)\n",
        "\n",
        "print(logreg.score(X_train,y_train))\n",
        "print(logreg.score(X_test,y_test))"
      ],
      "metadata": {
        "colab": {
          "base_uri": "https://localhost:8080/"
        },
        "id": "zfGLGVECuX7r",
        "outputId": "a55014ee-a3b4-484a-bfa4-c7ace86fe7b0"
      },
      "execution_count": 120,
      "outputs": [
        {
          "output_type": "stream",
          "name": "stdout",
          "text": [
            "0.936727573768553\n",
            "0.939623701207526\n"
          ]
        }
      ]
    },
    {
      "cell_type": "markdown",
      "source": [
        "###Naive Bayes"
      ],
      "metadata": {
        "id": "jdrNWo-B0ig8"
      }
    },
    {
      "cell_type": "code",
      "source": [
        "from sklearn.naive_bayes import GaussianNB\n",
        "\n",
        "model = GaussianNB()\n",
        "model.fit(X_train,y_train)\n",
        "\n",
        "y_pred = model.predict(X_test)\n",
        "print(model.score(X_train,y_train))\n",
        "print(model.score(X_test,y_test))"
      ],
      "metadata": {
        "colab": {
          "base_uri": "https://localhost:8080/"
        },
        "id": "BYk1wcIa0gTf",
        "outputId": "262cc973-532b-416e-ea47-a93b77dfcb8c"
      },
      "execution_count": 122,
      "outputs": [
        {
          "output_type": "stream",
          "name": "stdout",
          "text": [
            "0.847436579740997\n",
            "0.842740803145184\n"
          ]
        }
      ]
    },
    {
      "cell_type": "markdown",
      "source": [
        "###K-Nearest Neighbors"
      ],
      "metadata": {
        "id": "ejpp--iC6YtR"
      }
    },
    {
      "cell_type": "code",
      "source": [
        "from sklearn.neighbors import KNeighborsClassifier\n",
        "\n",
        "knn = KNeighborsClassifier()\n",
        "knn.fit(X_train,y_train)\n",
        "\n",
        "y_pred = model.predict(X_test)\n",
        "print(knn.score(X_train,y_train))\n",
        "print(knn.score(X_test,y_test))"
      ],
      "metadata": {
        "colab": {
          "base_uri": "https://localhost:8080/"
        },
        "id": "RAbdntsz5uR3",
        "outputId": "6672d52e-94e6-46f5-fd79-59bf18745340"
      },
      "execution_count": 123,
      "outputs": [
        {
          "output_type": "stream",
          "name": "stdout",
          "text": [
            "0.9974720596061735\n",
            "0.9932603201347936\n"
          ]
        }
      ]
    },
    {
      "cell_type": "markdown",
      "source": [
        "###Decision Tree"
      ],
      "metadata": {
        "id": "S3zdieSp61BI"
      }
    },
    {
      "cell_type": "code",
      "source": [
        "from sklearn.tree import DecisionTreeClassifier\n",
        "\n",
        "\n",
        "model= DecisionTreeClassifier(max_depth=2,criterion='entropy')\n",
        "model.fit(X_train,y_train)\n",
        "\n",
        "y_pred = model.predict(X_test)\n",
        "\n",
        "print(model.score(X_train,y_train))\n",
        "print(model.score(X_test,y_test))"
      ],
      "metadata": {
        "colab": {
          "base_uri": "https://localhost:8080/"
        },
        "id": "nKGjruux6y50",
        "outputId": "b3fb29c7-7ba7-4947-b9c7-a81789151427"
      },
      "execution_count": 125,
      "outputs": [
        {
          "output_type": "stream",
          "name": "stdout",
          "text": [
            "0.8869227130270239\n",
            "0.8938500421229991\n"
          ]
        }
      ]
    },
    {
      "cell_type": "code",
      "source": [
        "from sklearn.tree import export_graphviz\n",
        "from sklearn import tree\n",
        "# viz code\n",
        "tree.plot_tree(model);"
      ],
      "metadata": {
        "colab": {
          "base_uri": "https://localhost:8080/",
          "height": 248
        },
        "id": "oVaCZ4Kw7Wmd",
        "outputId": "5ae36aac-18c7-4d91-8f90-678f2a5eb202"
      },
      "execution_count": 126,
      "outputs": [
        {
          "output_type": "display_data",
          "data": {
            "image/png": "[encoded data removed]",
            "text/plain": [
              "<Figure size 432x288 with 1 Axes>"
            ]
          },
          "metadata": {
            "needs_background": "light"
          }
        }
      ]
    },
    {
      "cell_type": "markdown",
      "source": [
        "### xgboost"
      ],
      "metadata": {
        "id": "jT0THzFt8IOu"
      }
    },
    {
      "cell_type": "code",
      "source": [
        "from xgboost import XGBClassifier\n",
        "\n",
        "xgbc = XGBClassifier()\n",
        "xgbc.fit(X_train,y_train)\n",
        "\n",
        "print(xgbc.score(X_train,y_train))\n",
        "print(xgbc.score(X_test,y_test))"
      ],
      "metadata": {
        "colab": {
          "base_uri": "https://localhost:8080/"
        },
        "id": "aJcvqVwT7sCh",
        "outputId": "640a2670-1186-4053-bbcb-2b16393222de"
      },
      "execution_count": 128,
      "outputs": [
        {
          "output_type": "stream",
          "name": "stdout",
          "text": [
            "0.9998965170599018\n",
            "0.9997191800056164\n"
          ]
        }
      ]
    },
    {
      "cell_type": "code",
      "source": [
        ""
      ],
      "metadata": {
        "id": "nYSsZUPC8UWA"
      },
      "execution_count": null,
      "outputs": []
    }
  ]
}