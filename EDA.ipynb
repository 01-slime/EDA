{
  "nbformat": 4,
  "nbformat_minor": 0,
  "metadata": {
    "colab": {
      "name": "EDA.ipynb",
      "provenance": [],
      "mount_file_id": "https://github.com/01-slime/EDA/blob/main/EDA.ipynb",
      "authorship_tag": "ABX9TyPKtlvF5d97yVKvdH1BX1MR",
      "include_colab_link": true
    },
    "kernelspec": {
      "name": "python3",
      "display_name": "Python 3"
    },
    "language_info": {
      "name": "python"
    }
  },
  "cells": [
    {
      "cell_type": "markdown",
      "metadata": {
        "id": "view-in-github",
        "colab_type": "text"
      },
      "source": [
        "<a href=\"https://colab.research.google.com/github/01-slime/EDA/blob/main/EDA.ipynb\" target=\"_parent\"><img src=\"https://colab.research.google.com/assets/colab-badge.svg\" alt=\"Open In Colab\"/></a>"
      ]
    },
    {
      "cell_type": "markdown",
      "metadata": {
        "id": "knKh7z1P1g8z"
      },
      "source": [
        "##EDA(資料前處理)"
      ]
    },
    {
      "cell_type": "code",
      "metadata": {
        "id": "uRojrY_l1Vf7"
      },
      "source": [
        "#EDA(資料前處理)\n",
        "import pandas as pd #目前只需要用到這個"
      ],
      "execution_count": 247,
      "outputs": []
    },
    {
      "cell_type": "code",
      "metadata": {
        "id": "De4v4mJT10wH"
      },
      "source": [
        "#給他一個存檔案的變數\n",
        "data = pd.read_csv('/content/drive/MyDrive/T大使企業實習-佐登尼斯/11 30/colab/data3_project.csv')"
      ],
      "execution_count": 248,
      "outputs": []
    },
    {
      "cell_type": "code",
      "metadata": {
        "colab": {
          "base_uri": "https://localhost:8080/",
          "height": 0
        },
        "id": "vsPzT-UV2WbQ",
        "outputId": "44d54696-71ab-4ee5-a549-2925c1a4c438"
      },
      "source": [
        "#如何看資料內檔案：查看roll的前五筆\n",
        "data.head(5)"
      ],
      "execution_count": 249,
      "outputs": [
        {
          "output_type": "execute_result",
          "data": {
            "text/html": [
              "<div>\n",
              "<style scoped>\n",
              "    .dataframe tbody tr th:only-of-type {\n",
              "        vertical-align: middle;\n",
              "    }\n",
              "\n",
              "    .dataframe tbody tr th {\n",
              "        vertical-align: top;\n",
              "    }\n",
              "\n",
              "    .dataframe thead th {\n",
              "        text-align: right;\n",
              "    }\n",
              "</style>\n",
              "<table border=\"1\" class=\"dataframe\">\n",
              "  <thead>\n",
              "    <tr style=\"text-align: right;\">\n",
              "      <th></th>\n",
              "      <th>InvoiceNo</th>\n",
              "      <th>StockCode</th>\n",
              "      <th>Description</th>\n",
              "      <th>Quantity</th>\n",
              "      <th>InvoiceDate</th>\n",
              "      <th>UnitPrice</th>\n",
              "      <th>CustomerID</th>\n",
              "      <th>Country</th>\n",
              "      <th>member_start_date</th>\n",
              "      <th>first_trans_date</th>\n",
              "    </tr>\n",
              "  </thead>\n",
              "  <tbody>\n",
              "    <tr>\n",
              "      <th>0</th>\n",
              "      <td>PS5327001158</td>\n",
              "      <td>JA01</td>\n",
              "      <td>晶淬雪潔顏乳100ml</td>\n",
              "      <td>8.00</td>\n",
              "      <td>2019-01-01</td>\n",
              "      <td>1259.00</td>\n",
              "      <td>9100002488768.00</td>\n",
              "      <td>中區</td>\n",
              "      <td>2019-12-09</td>\n",
              "      <td>2018-06-24</td>\n",
              "    </tr>\n",
              "    <tr>\n",
              "      <th>1</th>\n",
              "      <td>PS5335020955</td>\n",
              "      <td>KG06</td>\n",
              "      <td>多肽亮眼乳霜20g-保濕型</td>\n",
              "      <td>8.00</td>\n",
              "      <td>2019-01-01</td>\n",
              "      <td>839.00</td>\n",
              "      <td>9100002556566.00</td>\n",
              "      <td>中區</td>\n",
              "      <td>2018-10-21</td>\n",
              "      <td>2018-10-21</td>\n",
              "    </tr>\n",
              "    <tr>\n",
              "      <th>2</th>\n",
              "      <td>PS5335020955</td>\n",
              "      <td>BJ102</td>\n",
              "      <td>檸檬精油10ml MUI</td>\n",
              "      <td>8.00</td>\n",
              "      <td>2019-01-01</td>\n",
              "      <td>839.00</td>\n",
              "      <td>9100002556566.00</td>\n",
              "      <td>中區</td>\n",
              "      <td>2018-10-21</td>\n",
              "      <td>2018-10-21</td>\n",
              "    </tr>\n",
              "    <tr>\n",
              "      <th>3</th>\n",
              "      <td>PS5335020955</td>\n",
              "      <td>JZA3G1</td>\n",
              "      <td>柚見快樂精油15ml MUI</td>\n",
              "      <td>-8.00</td>\n",
              "      <td>2019-01-01</td>\n",
              "      <td>-1501.00</td>\n",
              "      <td>9100002556566.00</td>\n",
              "      <td>中區</td>\n",
              "      <td>2018-10-21</td>\n",
              "      <td>2018-10-21</td>\n",
              "    </tr>\n",
              "    <tr>\n",
              "      <th>4</th>\n",
              "      <td>PS5444006919</td>\n",
              "      <td>BJ103</td>\n",
              "      <td>細花冬青香氛油10ml MUI</td>\n",
              "      <td>8.00</td>\n",
              "      <td>2019-01-01</td>\n",
              "      <td>672.00</td>\n",
              "      <td>9100002582077.00</td>\n",
              "      <td>南區</td>\n",
              "      <td>2018-12-04</td>\n",
              "      <td>2018-12-04</td>\n",
              "    </tr>\n",
              "  </tbody>\n",
              "</table>\n",
              "</div>"
            ],
            "text/plain": [
              "      InvoiceNo StockCode  ... member_start_date  first_trans_date\n",
              "0  PS5327001158      JA01  ...        2019-12-09        2018-06-24\n",
              "1  PS5335020955      KG06  ...        2018-10-21        2018-10-21\n",
              "2  PS5335020955     BJ102  ...        2018-10-21        2018-10-21\n",
              "3  PS5335020955    JZA3G1  ...        2018-10-21        2018-10-21\n",
              "4  PS5444006919     BJ103  ...        2018-12-04        2018-12-04\n",
              "\n",
              "[5 rows x 10 columns]"
            ]
          },
          "metadata": {},
          "execution_count": 249
        }
      ]
    },
    {
      "cell_type": "code",
      "metadata": {
        "colab": {
          "base_uri": "https://localhost:8080/",
          "height": 0
        },
        "id": "EvBdiZsq2zgE",
        "outputId": "0e27b150-6028-441c-ab17-eb4b132a8b1b"
      },
      "source": [
        "#看後五筆\n",
        "data.tail(5)"
      ],
      "execution_count": 250,
      "outputs": [
        {
          "output_type": "execute_result",
          "data": {
            "text/html": [
              "<div>\n",
              "<style scoped>\n",
              "    .dataframe tbody tr th:only-of-type {\n",
              "        vertical-align: middle;\n",
              "    }\n",
              "\n",
              "    .dataframe tbody tr th {\n",
              "        vertical-align: top;\n",
              "    }\n",
              "\n",
              "    .dataframe thead th {\n",
              "        text-align: right;\n",
              "    }\n",
              "</style>\n",
              "<table border=\"1\" class=\"dataframe\">\n",
              "  <thead>\n",
              "    <tr style=\"text-align: right;\">\n",
              "      <th></th>\n",
              "      <th>InvoiceNo</th>\n",
              "      <th>StockCode</th>\n",
              "      <th>Description</th>\n",
              "      <th>Quantity</th>\n",
              "      <th>InvoiceDate</th>\n",
              "      <th>UnitPrice</th>\n",
              "      <th>CustomerID</th>\n",
              "      <th>Country</th>\n",
              "      <th>member_start_date</th>\n",
              "      <th>first_trans_date</th>\n",
              "    </tr>\n",
              "  </thead>\n",
              "  <tbody>\n",
              "    <tr>\n",
              "      <th>1404430</th>\n",
              "      <td>PS5324024941</td>\n",
              "      <td>KQ02</td>\n",
              "      <td>玫瑰晶萃活膚液130ml</td>\n",
              "      <td>16.00</td>\n",
              "      <td>2020-12-31</td>\n",
              "      <td>2946.00</td>\n",
              "      <td>9100000595826.00</td>\n",
              "      <td>中區</td>\n",
              "      <td>2010-03-15</td>\n",
              "      <td>2012-07-11</td>\n",
              "    </tr>\n",
              "    <tr>\n",
              "      <th>1404431</th>\n",
              "      <td>PS5219002027</td>\n",
              "      <td>GAXFG1</td>\n",
              "      <td>真正除臭抗菌噴霧(銀離子迷迭香)250ml</td>\n",
              "      <td>8.00</td>\n",
              "      <td>2020-12-31</td>\n",
              "      <td>309.00</td>\n",
              "      <td>9100003028369.00</td>\n",
              "      <td>竹區</td>\n",
              "      <td>2020-12-08</td>\n",
              "      <td>2020-11-26</td>\n",
              "    </tr>\n",
              "    <tr>\n",
              "      <th>1404432</th>\n",
              "      <td>PS5219002027</td>\n",
              "      <td>MAB2G1</td>\n",
              "      <td>BA-5肌密全效噴霧奇蹟水70ml</td>\n",
              "      <td>8.00</td>\n",
              "      <td>2020-12-31</td>\n",
              "      <td>1094.00</td>\n",
              "      <td>9100003028369.00</td>\n",
              "      <td>竹區</td>\n",
              "      <td>2020-12-08</td>\n",
              "      <td>2020-11-26</td>\n",
              "    </tr>\n",
              "    <tr>\n",
              "      <th>1404433</th>\n",
              "      <td>PS5219002027</td>\n",
              "      <td>WD096</td>\n",
              "      <td>緊緻保濕裸膚羽翼面膜25ml-零售單包</td>\n",
              "      <td>16.00</td>\n",
              "      <td>2020-12-31</td>\n",
              "      <td>165.00</td>\n",
              "      <td>9100003028369.00</td>\n",
              "      <td>竹區</td>\n",
              "      <td>2020-12-08</td>\n",
              "      <td>2020-11-26</td>\n",
              "    </tr>\n",
              "    <tr>\n",
              "      <th>1404434</th>\n",
              "      <td>PS5219002028</td>\n",
              "      <td>GAXFG2</td>\n",
              "      <td>真正除臭抗菌噴霧(銀離子迷迭香)350ml</td>\n",
              "      <td>8.00</td>\n",
              "      <td>2020-12-31</td>\n",
              "      <td>441.00</td>\n",
              "      <td>9100003039464.00</td>\n",
              "      <td>竹區</td>\n",
              "      <td>2020-12-23</td>\n",
              "      <td>2020-12-10</td>\n",
              "    </tr>\n",
              "  </tbody>\n",
              "</table>\n",
              "</div>"
            ],
            "text/plain": [
              "            InvoiceNo StockCode  ... member_start_date  first_trans_date\n",
              "1404430  PS5324024941      KQ02  ...        2010-03-15        2012-07-11\n",
              "1404431  PS5219002027    GAXFG1  ...        2020-12-08        2020-11-26\n",
              "1404432  PS5219002027    MAB2G1  ...        2020-12-08        2020-11-26\n",
              "1404433  PS5219002027     WD096  ...        2020-12-08        2020-11-26\n",
              "1404434  PS5219002028    GAXFG2  ...        2020-12-23        2020-12-10\n",
              "\n",
              "[5 rows x 10 columns]"
            ]
          },
          "metadata": {},
          "execution_count": 250
        }
      ]
    },
    {
      "cell_type": "code",
      "metadata": {
        "colab": {
          "base_uri": "https://localhost:8080/"
        },
        "id": "LVWs5qv62_2K",
        "outputId": "b359ed90-1235-4c08-9510-58cf635c3f1d"
      },
      "source": [
        "#查看檔案的型態：詳細資料中的資料型態\n",
        "#not type(data)\n",
        "data.info()"
      ],
      "execution_count": 251,
      "outputs": [
        {
          "output_type": "stream",
          "name": "stdout",
          "text": [
            "<class 'pandas.core.frame.DataFrame'>\n",
            "RangeIndex: 1404435 entries, 0 to 1404434\n",
            "Data columns (total 10 columns):\n",
            " #   Column             Non-Null Count    Dtype  \n",
            "---  ------             --------------    -----  \n",
            " 0   InvoiceNo          1404435 non-null  object \n",
            " 1   StockCode          1404435 non-null  object \n",
            " 2   Description        1404435 non-null  object \n",
            " 3   Quantity           1404435 non-null  float64\n",
            " 4   InvoiceDate        1404435 non-null  object \n",
            " 5   UnitPrice          1404435 non-null  float64\n",
            " 6   CustomerID         1403724 non-null  float64\n",
            " 7   Country            1404435 non-null  object \n",
            " 8   member_start_date  1366651 non-null  object \n",
            " 9   first_trans_date   1400412 non-null  object \n",
            "dtypes: float64(3), object(7)\n",
            "memory usage: 107.2+ MB\n"
          ]
        }
      ]
    },
    {
      "cell_type": "code",
      "metadata": {
        "colab": {
          "base_uri": "https://localhost:8080/"
        },
        "id": "kp7XSfpZ34Qq",
        "outputId": "db4951e8-8c85-4f44-c7b9-85e823e333d7"
      },
      "source": [
        "#float64=數值 \n",
        "data.shape #1百多萬筆資料以及有10個column"
      ],
      "execution_count": 252,
      "outputs": [
        {
          "output_type": "execute_result",
          "data": {
            "text/plain": [
              "(1404435, 10)"
            ]
          },
          "metadata": {},
          "execution_count": 252
        }
      ]
    },
    {
      "cell_type": "code",
      "metadata": {
        "colab": {
          "base_uri": "https://localhost:8080/"
        },
        "id": "VoTsUF554JEA",
        "outputId": "1e1a7b65-e171-4f22-801e-3c260a652160"
      },
      "source": [
        "data.Description.value_counts() #針對欄位為object形式查看 此為pd中函式,資料前處理蠻常使用"
      ],
      "execution_count": 253,
      "outputs": [
        {
          "output_type": "execute_result",
          "data": {
            "text/plain": [
              "全背順氣活力SPA課程單堂             58636\n",
              "清除環境中腸病毒濕紙巾10抽            52599\n",
              "plus5智頻美塑儀課程單堂            46660\n",
              "(新)溫熱刮痧課程單堂               34129\n",
              "全身健康優化SPA課程單堂             33770\n",
              "                          ...  \n",
              "精準無痕BOTOX(單堂會員)40U            1\n",
              "如膠似漆ISLI61                    1\n",
              "EXENCE甦活精油精華液(1劑)6ml*6        1\n",
              "臉部刮痧單堂                        1\n",
              "背部三焦舒穴單堂贈送                    1\n",
              "Name: Description, Length: 870, dtype: int64"
            ]
          },
          "metadata": {},
          "execution_count": 253
        }
      ]
    },
    {
      "cell_type": "code",
      "metadata": {
        "colab": {
          "base_uri": "https://localhost:8080/"
        },
        "id": "o9qGSmlB4u7O",
        "outputId": "0b7ade1c-3e5f-4913-d880-25e698a67f92"
      },
      "source": [
        "#data.Quantity.value_counts() 不常使用\n",
        "data.Country.value_counts() #通常可查看欄位為物件(中文)的資訊"
      ],
      "execution_count": 254,
      "outputs": [
        {
          "output_type": "execute_result",
          "data": {
            "text/plain": [
              "中區      286162\n",
              "高屏全區    240244\n",
              "台北A區    215051\n",
              "台北B區    206350\n",
              "南區      154843\n",
              "竹區      147998\n",
              "彰雲區     138562\n",
              "佐登微爾      8108\n",
              "總管理處      7117\n",
              "Name: Country, dtype: int64"
            ]
          },
          "metadata": {},
          "execution_count": 254
        }
      ]
    },
    {
      "cell_type": "code",
      "metadata": {
        "colab": {
          "base_uri": "https://localhost:8080/",
          "height": 0
        },
        "id": "aWBzjoBE4-ey",
        "outputId": "b45d96ab-b5e2-4a8c-8ba0-65ad6d7508fa"
      },
      "source": [
        "#練習：抓出數量大於2的...\n",
        "data[['StockCode','Description','Quantity','InvoiceDate','UnitPrice']] #看一筆資料時使用['object'],多筆時使用[['','',...]]"
      ],
      "execution_count": 255,
      "outputs": [
        {
          "output_type": "execute_result",
          "data": {
            "text/html": [
              "<div>\n",
              "<style scoped>\n",
              "    .dataframe tbody tr th:only-of-type {\n",
              "        vertical-align: middle;\n",
              "    }\n",
              "\n",
              "    .dataframe tbody tr th {\n",
              "        vertical-align: top;\n",
              "    }\n",
              "\n",
              "    .dataframe thead th {\n",
              "        text-align: right;\n",
              "    }\n",
              "</style>\n",
              "<table border=\"1\" class=\"dataframe\">\n",
              "  <thead>\n",
              "    <tr style=\"text-align: right;\">\n",
              "      <th></th>\n",
              "      <th>StockCode</th>\n",
              "      <th>Description</th>\n",
              "      <th>Quantity</th>\n",
              "      <th>InvoiceDate</th>\n",
              "      <th>UnitPrice</th>\n",
              "    </tr>\n",
              "  </thead>\n",
              "  <tbody>\n",
              "    <tr>\n",
              "      <th>0</th>\n",
              "      <td>JA01</td>\n",
              "      <td>晶淬雪潔顏乳100ml</td>\n",
              "      <td>8.00</td>\n",
              "      <td>2019-01-01</td>\n",
              "      <td>1259.00</td>\n",
              "    </tr>\n",
              "    <tr>\n",
              "      <th>1</th>\n",
              "      <td>KG06</td>\n",
              "      <td>多肽亮眼乳霜20g-保濕型</td>\n",
              "      <td>8.00</td>\n",
              "      <td>2019-01-01</td>\n",
              "      <td>839.00</td>\n",
              "    </tr>\n",
              "    <tr>\n",
              "      <th>2</th>\n",
              "      <td>BJ102</td>\n",
              "      <td>檸檬精油10ml MUI</td>\n",
              "      <td>8.00</td>\n",
              "      <td>2019-01-01</td>\n",
              "      <td>839.00</td>\n",
              "    </tr>\n",
              "    <tr>\n",
              "      <th>3</th>\n",
              "      <td>JZA3G1</td>\n",
              "      <td>柚見快樂精油15ml MUI</td>\n",
              "      <td>-8.00</td>\n",
              "      <td>2019-01-01</td>\n",
              "      <td>-1501.00</td>\n",
              "    </tr>\n",
              "    <tr>\n",
              "      <th>4</th>\n",
              "      <td>BJ103</td>\n",
              "      <td>細花冬青香氛油10ml MUI</td>\n",
              "      <td>8.00</td>\n",
              "      <td>2019-01-01</td>\n",
              "      <td>672.00</td>\n",
              "    </tr>\n",
              "    <tr>\n",
              "      <th>...</th>\n",
              "      <td>...</td>\n",
              "      <td>...</td>\n",
              "      <td>...</td>\n",
              "      <td>...</td>\n",
              "      <td>...</td>\n",
              "    </tr>\n",
              "    <tr>\n",
              "      <th>1404430</th>\n",
              "      <td>KQ02</td>\n",
              "      <td>玫瑰晶萃活膚液130ml</td>\n",
              "      <td>16.00</td>\n",
              "      <td>2020-12-31</td>\n",
              "      <td>2946.00</td>\n",
              "    </tr>\n",
              "    <tr>\n",
              "      <th>1404431</th>\n",
              "      <td>GAXFG1</td>\n",
              "      <td>真正除臭抗菌噴霧(銀離子迷迭香)250ml</td>\n",
              "      <td>8.00</td>\n",
              "      <td>2020-12-31</td>\n",
              "      <td>309.00</td>\n",
              "    </tr>\n",
              "    <tr>\n",
              "      <th>1404432</th>\n",
              "      <td>MAB2G1</td>\n",
              "      <td>BA-5肌密全效噴霧奇蹟水70ml</td>\n",
              "      <td>8.00</td>\n",
              "      <td>2020-12-31</td>\n",
              "      <td>1094.00</td>\n",
              "    </tr>\n",
              "    <tr>\n",
              "      <th>1404433</th>\n",
              "      <td>WD096</td>\n",
              "      <td>緊緻保濕裸膚羽翼面膜25ml-零售單包</td>\n",
              "      <td>16.00</td>\n",
              "      <td>2020-12-31</td>\n",
              "      <td>165.00</td>\n",
              "    </tr>\n",
              "    <tr>\n",
              "      <th>1404434</th>\n",
              "      <td>GAXFG2</td>\n",
              "      <td>真正除臭抗菌噴霧(銀離子迷迭香)350ml</td>\n",
              "      <td>8.00</td>\n",
              "      <td>2020-12-31</td>\n",
              "      <td>441.00</td>\n",
              "    </tr>\n",
              "  </tbody>\n",
              "</table>\n",
              "<p>1404435 rows × 5 columns</p>\n",
              "</div>"
            ],
            "text/plain": [
              "        StockCode            Description  Quantity InvoiceDate  UnitPrice\n",
              "0            JA01            晶淬雪潔顏乳100ml      8.00  2019-01-01    1259.00\n",
              "1            KG06          多肽亮眼乳霜20g-保濕型      8.00  2019-01-01     839.00\n",
              "2           BJ102           檸檬精油10ml MUI      8.00  2019-01-01     839.00\n",
              "3          JZA3G1         柚見快樂精油15ml MUI     -8.00  2019-01-01   -1501.00\n",
              "4           BJ103        細花冬青香氛油10ml MUI      8.00  2019-01-01     672.00\n",
              "...           ...                    ...       ...         ...        ...\n",
              "1404430      KQ02           玫瑰晶萃活膚液130ml     16.00  2020-12-31    2946.00\n",
              "1404431    GAXFG1  真正除臭抗菌噴霧(銀離子迷迭香)250ml      8.00  2020-12-31     309.00\n",
              "1404432    MAB2G1      BA-5肌密全效噴霧奇蹟水70ml      8.00  2020-12-31    1094.00\n",
              "1404433     WD096    緊緻保濕裸膚羽翼面膜25ml-零售單包     16.00  2020-12-31     165.00\n",
              "1404434    GAXFG2  真正除臭抗菌噴霧(銀離子迷迭香)350ml      8.00  2020-12-31     441.00\n",
              "\n",
              "[1404435 rows x 5 columns]"
            ]
          },
          "metadata": {},
          "execution_count": 255
        }
      ]
    },
    {
      "cell_type": "code",
      "metadata": {
        "colab": {
          "base_uri": "https://localhost:8080/",
          "height": 0
        },
        "id": "0vLIJl5S5ubh",
        "outputId": "2c1ff0df-d801-4fdd-a4bc-662ae1b79b56"
      },
      "source": [
        "#如何寫『大於2』呢？\n",
        "data[data['Quantity']>2]"
      ],
      "execution_count": 256,
      "outputs": [
        {
          "output_type": "execute_result",
          "data": {
            "text/html": [
              "<div>\n",
              "<style scoped>\n",
              "    .dataframe tbody tr th:only-of-type {\n",
              "        vertical-align: middle;\n",
              "    }\n",
              "\n",
              "    .dataframe tbody tr th {\n",
              "        vertical-align: top;\n",
              "    }\n",
              "\n",
              "    .dataframe thead th {\n",
              "        text-align: right;\n",
              "    }\n",
              "</style>\n",
              "<table border=\"1\" class=\"dataframe\">\n",
              "  <thead>\n",
              "    <tr style=\"text-align: right;\">\n",
              "      <th></th>\n",
              "      <th>InvoiceNo</th>\n",
              "      <th>StockCode</th>\n",
              "      <th>Description</th>\n",
              "      <th>Quantity</th>\n",
              "      <th>InvoiceDate</th>\n",
              "      <th>UnitPrice</th>\n",
              "      <th>CustomerID</th>\n",
              "      <th>Country</th>\n",
              "      <th>member_start_date</th>\n",
              "      <th>first_trans_date</th>\n",
              "    </tr>\n",
              "  </thead>\n",
              "  <tbody>\n",
              "    <tr>\n",
              "      <th>0</th>\n",
              "      <td>PS5327001158</td>\n",
              "      <td>JA01</td>\n",
              "      <td>晶淬雪潔顏乳100ml</td>\n",
              "      <td>8.00</td>\n",
              "      <td>2019-01-01</td>\n",
              "      <td>1259.00</td>\n",
              "      <td>9100002488768.00</td>\n",
              "      <td>中區</td>\n",
              "      <td>2019-12-09</td>\n",
              "      <td>2018-06-24</td>\n",
              "    </tr>\n",
              "    <tr>\n",
              "      <th>1</th>\n",
              "      <td>PS5335020955</td>\n",
              "      <td>KG06</td>\n",
              "      <td>多肽亮眼乳霜20g-保濕型</td>\n",
              "      <td>8.00</td>\n",
              "      <td>2019-01-01</td>\n",
              "      <td>839.00</td>\n",
              "      <td>9100002556566.00</td>\n",
              "      <td>中區</td>\n",
              "      <td>2018-10-21</td>\n",
              "      <td>2018-10-21</td>\n",
              "    </tr>\n",
              "    <tr>\n",
              "      <th>2</th>\n",
              "      <td>PS5335020955</td>\n",
              "      <td>BJ102</td>\n",
              "      <td>檸檬精油10ml MUI</td>\n",
              "      <td>8.00</td>\n",
              "      <td>2019-01-01</td>\n",
              "      <td>839.00</td>\n",
              "      <td>9100002556566.00</td>\n",
              "      <td>中區</td>\n",
              "      <td>2018-10-21</td>\n",
              "      <td>2018-10-21</td>\n",
              "    </tr>\n",
              "    <tr>\n",
              "      <th>4</th>\n",
              "      <td>PS5444006919</td>\n",
              "      <td>BJ103</td>\n",
              "      <td>細花冬青香氛油10ml MUI</td>\n",
              "      <td>8.00</td>\n",
              "      <td>2019-01-01</td>\n",
              "      <td>672.00</td>\n",
              "      <td>9100002582077.00</td>\n",
              "      <td>南區</td>\n",
              "      <td>2018-12-04</td>\n",
              "      <td>2018-12-04</td>\n",
              "    </tr>\n",
              "    <tr>\n",
              "      <th>5</th>\n",
              "      <td>PS5444006920</td>\n",
              "      <td>K8018</td>\n",
              "      <td>植粹養護潤髮乳475ml</td>\n",
              "      <td>8.00</td>\n",
              "      <td>2019-01-01</td>\n",
              "      <td>549.00</td>\n",
              "      <td>9100002426142.00</td>\n",
              "      <td>南區</td>\n",
              "      <td>2017-12-19</td>\n",
              "      <td>2017-12-19</td>\n",
              "    </tr>\n",
              "    <tr>\n",
              "      <th>...</th>\n",
              "      <td>...</td>\n",
              "      <td>...</td>\n",
              "      <td>...</td>\n",
              "      <td>...</td>\n",
              "      <td>...</td>\n",
              "      <td>...</td>\n",
              "      <td>...</td>\n",
              "      <td>...</td>\n",
              "      <td>...</td>\n",
              "      <td>...</td>\n",
              "    </tr>\n",
              "    <tr>\n",
              "      <th>1404430</th>\n",
              "      <td>PS5324024941</td>\n",
              "      <td>KQ02</td>\n",
              "      <td>玫瑰晶萃活膚液130ml</td>\n",
              "      <td>16.00</td>\n",
              "      <td>2020-12-31</td>\n",
              "      <td>2946.00</td>\n",
              "      <td>9100000595826.00</td>\n",
              "      <td>中區</td>\n",
              "      <td>2010-03-15</td>\n",
              "      <td>2012-07-11</td>\n",
              "    </tr>\n",
              "    <tr>\n",
              "      <th>1404431</th>\n",
              "      <td>PS5219002027</td>\n",
              "      <td>GAXFG1</td>\n",
              "      <td>真正除臭抗菌噴霧(銀離子迷迭香)250ml</td>\n",
              "      <td>8.00</td>\n",
              "      <td>2020-12-31</td>\n",
              "      <td>309.00</td>\n",
              "      <td>9100003028369.00</td>\n",
              "      <td>竹區</td>\n",
              "      <td>2020-12-08</td>\n",
              "      <td>2020-11-26</td>\n",
              "    </tr>\n",
              "    <tr>\n",
              "      <th>1404432</th>\n",
              "      <td>PS5219002027</td>\n",
              "      <td>MAB2G1</td>\n",
              "      <td>BA-5肌密全效噴霧奇蹟水70ml</td>\n",
              "      <td>8.00</td>\n",
              "      <td>2020-12-31</td>\n",
              "      <td>1094.00</td>\n",
              "      <td>9100003028369.00</td>\n",
              "      <td>竹區</td>\n",
              "      <td>2020-12-08</td>\n",
              "      <td>2020-11-26</td>\n",
              "    </tr>\n",
              "    <tr>\n",
              "      <th>1404433</th>\n",
              "      <td>PS5219002027</td>\n",
              "      <td>WD096</td>\n",
              "      <td>緊緻保濕裸膚羽翼面膜25ml-零售單包</td>\n",
              "      <td>16.00</td>\n",
              "      <td>2020-12-31</td>\n",
              "      <td>165.00</td>\n",
              "      <td>9100003028369.00</td>\n",
              "      <td>竹區</td>\n",
              "      <td>2020-12-08</td>\n",
              "      <td>2020-11-26</td>\n",
              "    </tr>\n",
              "    <tr>\n",
              "      <th>1404434</th>\n",
              "      <td>PS5219002028</td>\n",
              "      <td>GAXFG2</td>\n",
              "      <td>真正除臭抗菌噴霧(銀離子迷迭香)350ml</td>\n",
              "      <td>8.00</td>\n",
              "      <td>2020-12-31</td>\n",
              "      <td>441.00</td>\n",
              "      <td>9100003039464.00</td>\n",
              "      <td>竹區</td>\n",
              "      <td>2020-12-23</td>\n",
              "      <td>2020-12-10</td>\n",
              "    </tr>\n",
              "  </tbody>\n",
              "</table>\n",
              "<p>1397796 rows × 10 columns</p>\n",
              "</div>"
            ],
            "text/plain": [
              "            InvoiceNo StockCode  ... member_start_date  first_trans_date\n",
              "0        PS5327001158      JA01  ...        2019-12-09        2018-06-24\n",
              "1        PS5335020955      KG06  ...        2018-10-21        2018-10-21\n",
              "2        PS5335020955     BJ102  ...        2018-10-21        2018-10-21\n",
              "4        PS5444006919     BJ103  ...        2018-12-04        2018-12-04\n",
              "5        PS5444006920     K8018  ...        2017-12-19        2017-12-19\n",
              "...               ...       ...  ...               ...               ...\n",
              "1404430  PS5324024941      KQ02  ...        2010-03-15        2012-07-11\n",
              "1404431  PS5219002027    GAXFG1  ...        2020-12-08        2020-11-26\n",
              "1404432  PS5219002027    MAB2G1  ...        2020-12-08        2020-11-26\n",
              "1404433  PS5219002027     WD096  ...        2020-12-08        2020-11-26\n",
              "1404434  PS5219002028    GAXFG2  ...        2020-12-23        2020-12-10\n",
              "\n",
              "[1397796 rows x 10 columns]"
            ]
          },
          "metadata": {},
          "execution_count": 256
        }
      ]
    },
    {
      "cell_type": "code",
      "metadata": {
        "colab": {
          "base_uri": "https://localhost:8080/",
          "height": 0
        },
        "id": "9xohFWqA6p94",
        "outputId": "93c3d092-4d70-489e-8357-95950d668e66"
      },
      "source": [
        "#那如何兩個條件都達成呢？ 答：新增一個變數後再設一次條件\n",
        "data1 = data[['StockCode','Description','Quantity','InvoiceDate','UnitPrice']]\n",
        "data1[data1['Quantity']>2]"
      ],
      "execution_count": 257,
      "outputs": [
        {
          "output_type": "execute_result",
          "data": {
            "text/html": [
              "<div>\n",
              "<style scoped>\n",
              "    .dataframe tbody tr th:only-of-type {\n",
              "        vertical-align: middle;\n",
              "    }\n",
              "\n",
              "    .dataframe tbody tr th {\n",
              "        vertical-align: top;\n",
              "    }\n",
              "\n",
              "    .dataframe thead th {\n",
              "        text-align: right;\n",
              "    }\n",
              "</style>\n",
              "<table border=\"1\" class=\"dataframe\">\n",
              "  <thead>\n",
              "    <tr style=\"text-align: right;\">\n",
              "      <th></th>\n",
              "      <th>StockCode</th>\n",
              "      <th>Description</th>\n",
              "      <th>Quantity</th>\n",
              "      <th>InvoiceDate</th>\n",
              "      <th>UnitPrice</th>\n",
              "    </tr>\n",
              "  </thead>\n",
              "  <tbody>\n",
              "    <tr>\n",
              "      <th>0</th>\n",
              "      <td>JA01</td>\n",
              "      <td>晶淬雪潔顏乳100ml</td>\n",
              "      <td>8.00</td>\n",
              "      <td>2019-01-01</td>\n",
              "      <td>1259.00</td>\n",
              "    </tr>\n",
              "    <tr>\n",
              "      <th>1</th>\n",
              "      <td>KG06</td>\n",
              "      <td>多肽亮眼乳霜20g-保濕型</td>\n",
              "      <td>8.00</td>\n",
              "      <td>2019-01-01</td>\n",
              "      <td>839.00</td>\n",
              "    </tr>\n",
              "    <tr>\n",
              "      <th>2</th>\n",
              "      <td>BJ102</td>\n",
              "      <td>檸檬精油10ml MUI</td>\n",
              "      <td>8.00</td>\n",
              "      <td>2019-01-01</td>\n",
              "      <td>839.00</td>\n",
              "    </tr>\n",
              "    <tr>\n",
              "      <th>4</th>\n",
              "      <td>BJ103</td>\n",
              "      <td>細花冬青香氛油10ml MUI</td>\n",
              "      <td>8.00</td>\n",
              "      <td>2019-01-01</td>\n",
              "      <td>672.00</td>\n",
              "    </tr>\n",
              "    <tr>\n",
              "      <th>5</th>\n",
              "      <td>K8018</td>\n",
              "      <td>植粹養護潤髮乳475ml</td>\n",
              "      <td>8.00</td>\n",
              "      <td>2019-01-01</td>\n",
              "      <td>549.00</td>\n",
              "    </tr>\n",
              "    <tr>\n",
              "      <th>...</th>\n",
              "      <td>...</td>\n",
              "      <td>...</td>\n",
              "      <td>...</td>\n",
              "      <td>...</td>\n",
              "      <td>...</td>\n",
              "    </tr>\n",
              "    <tr>\n",
              "      <th>1404430</th>\n",
              "      <td>KQ02</td>\n",
              "      <td>玫瑰晶萃活膚液130ml</td>\n",
              "      <td>16.00</td>\n",
              "      <td>2020-12-31</td>\n",
              "      <td>2946.00</td>\n",
              "    </tr>\n",
              "    <tr>\n",
              "      <th>1404431</th>\n",
              "      <td>GAXFG1</td>\n",
              "      <td>真正除臭抗菌噴霧(銀離子迷迭香)250ml</td>\n",
              "      <td>8.00</td>\n",
              "      <td>2020-12-31</td>\n",
              "      <td>309.00</td>\n",
              "    </tr>\n",
              "    <tr>\n",
              "      <th>1404432</th>\n",
              "      <td>MAB2G1</td>\n",
              "      <td>BA-5肌密全效噴霧奇蹟水70ml</td>\n",
              "      <td>8.00</td>\n",
              "      <td>2020-12-31</td>\n",
              "      <td>1094.00</td>\n",
              "    </tr>\n",
              "    <tr>\n",
              "      <th>1404433</th>\n",
              "      <td>WD096</td>\n",
              "      <td>緊緻保濕裸膚羽翼面膜25ml-零售單包</td>\n",
              "      <td>16.00</td>\n",
              "      <td>2020-12-31</td>\n",
              "      <td>165.00</td>\n",
              "    </tr>\n",
              "    <tr>\n",
              "      <th>1404434</th>\n",
              "      <td>GAXFG2</td>\n",
              "      <td>真正除臭抗菌噴霧(銀離子迷迭香)350ml</td>\n",
              "      <td>8.00</td>\n",
              "      <td>2020-12-31</td>\n",
              "      <td>441.00</td>\n",
              "    </tr>\n",
              "  </tbody>\n",
              "</table>\n",
              "<p>1397796 rows × 5 columns</p>\n",
              "</div>"
            ],
            "text/plain": [
              "        StockCode            Description  Quantity InvoiceDate  UnitPrice\n",
              "0            JA01            晶淬雪潔顏乳100ml      8.00  2019-01-01    1259.00\n",
              "1            KG06          多肽亮眼乳霜20g-保濕型      8.00  2019-01-01     839.00\n",
              "2           BJ102           檸檬精油10ml MUI      8.00  2019-01-01     839.00\n",
              "4           BJ103        細花冬青香氛油10ml MUI      8.00  2019-01-01     672.00\n",
              "5           K8018           植粹養護潤髮乳475ml      8.00  2019-01-01     549.00\n",
              "...           ...                    ...       ...         ...        ...\n",
              "1404430      KQ02           玫瑰晶萃活膚液130ml     16.00  2020-12-31    2946.00\n",
              "1404431    GAXFG1  真正除臭抗菌噴霧(銀離子迷迭香)250ml      8.00  2020-12-31     309.00\n",
              "1404432    MAB2G1      BA-5肌密全效噴霧奇蹟水70ml      8.00  2020-12-31    1094.00\n",
              "1404433     WD096    緊緻保濕裸膚羽翼面膜25ml-零售單包     16.00  2020-12-31     165.00\n",
              "1404434    GAXFG2  真正除臭抗菌噴霧(銀離子迷迭香)350ml      8.00  2020-12-31     441.00\n",
              "\n",
              "[1397796 rows x 5 columns]"
            ]
          },
          "metadata": {},
          "execution_count": 257
        }
      ]
    },
    {
      "cell_type": "code",
      "metadata": {
        "colab": {
          "base_uri": "https://localhost:8080/"
        },
        "id": "YG7nXBgx7NI3",
        "outputId": "0d1527ec-439f-4bcd-fd85-3349d795d346"
      },
      "source": [
        "#顯示特定欄位資料\n",
        "data.iloc[1000]"
      ],
      "execution_count": 258,
      "outputs": [
        {
          "output_type": "execute_result",
          "data": {
            "text/plain": [
              "InvoiceNo               PS5444006925\n",
              "StockCode                    HB89A01\n",
              "Description              頭部活氧熱舒壓課程單堂\n",
              "Quantity                        8.00\n",
              "InvoiceDate               2019-01-02\n",
              "UnitPrice                     848.00\n",
              "CustomerID          9100001536064.00\n",
              "Country                           南區\n",
              "member_start_date         2013-04-26\n",
              "first_trans_date          2013-04-20\n",
              "Name: 1000, dtype: object"
            ]
          },
          "metadata": {},
          "execution_count": 258
        }
      ]
    },
    {
      "cell_type": "code",
      "metadata": {
        "id": "3qKtQHIT8i0j"
      },
      "source": [
        "data2 = data[['CustomerID','Description']]"
      ],
      "execution_count": 259,
      "outputs": []
    },
    {
      "cell_type": "code",
      "metadata": {
        "colab": {
          "base_uri": "https://localhost:8080/"
        },
        "id": "7TalR8zs93ES",
        "outputId": "308ac4b3-15f4-4649-a2be-4f6c542b5cf3"
      },
      "source": [
        "data2.iloc[1000]"
      ],
      "execution_count": 260,
      "outputs": [
        {
          "output_type": "execute_result",
          "data": {
            "text/plain": [
              "CustomerID    9100001536064.00\n",
              "Description        頭部活氧熱舒壓課程單堂\n",
              "Name: 1000, dtype: object"
            ]
          },
          "metadata": {},
          "execution_count": 260
        }
      ]
    },
    {
      "cell_type": "markdown",
      "metadata": {
        "id": "Dwu8meuy1xoH"
      },
      "source": [
        "## New-Data Wrangling (透過Z-score方法抓異常值)"
      ]
    },
    {
      "cell_type": "code",
      "metadata": {
        "id": "RpOzv8m010ZW"
      },
      "source": [
        "import numpy as np"
      ],
      "execution_count": 261,
      "outputs": []
    },
    {
      "cell_type": "code",
      "metadata": {
        "id": "5PbmDCei2Zbl"
      },
      "source": [
        "pd.set_option('display.float_format',lambda x:'%.2f'% x) #設定浮點數要到小數點後幾位，主要是針對讀檔欄位為『浮點數』時，只顯示到『小數點第二位』"
      ],
      "execution_count": 262,
      "outputs": []
    },
    {
      "cell_type": "code",
      "metadata": {
        "colab": {
          "base_uri": "https://localhost:8080/"
        },
        "id": "ezEtdluB3dxx",
        "outputId": "53ed788e-5e25-47a6-a4a6-ee31eb6f87dc"
      },
      "source": [
        "data.info()"
      ],
      "execution_count": 263,
      "outputs": [
        {
          "output_type": "stream",
          "name": "stdout",
          "text": [
            "<class 'pandas.core.frame.DataFrame'>\n",
            "RangeIndex: 1404435 entries, 0 to 1404434\n",
            "Data columns (total 10 columns):\n",
            " #   Column             Non-Null Count    Dtype  \n",
            "---  ------             --------------    -----  \n",
            " 0   InvoiceNo          1404435 non-null  object \n",
            " 1   StockCode          1404435 non-null  object \n",
            " 2   Description        1404435 non-null  object \n",
            " 3   Quantity           1404435 non-null  float64\n",
            " 4   InvoiceDate        1404435 non-null  object \n",
            " 5   UnitPrice          1404435 non-null  float64\n",
            " 6   CustomerID         1403724 non-null  float64\n",
            " 7   Country            1404435 non-null  object \n",
            " 8   member_start_date  1366651 non-null  object \n",
            " 9   first_trans_date   1400412 non-null  object \n",
            "dtypes: float64(3), object(7)\n",
            "memory usage: 107.2+ MB\n"
          ]
        }
      ]
    },
    {
      "cell_type": "code",
      "metadata": {
        "colab": {
          "base_uri": "https://localhost:8080/"
        },
        "id": "7SbtNYM_304o",
        "outputId": "b625c70b-6eb5-4686-e632-23c6075ea5e6"
      },
      "source": [
        "data.shape #14..多筆資料,10個欄位"
      ],
      "execution_count": 264,
      "outputs": [
        {
          "output_type": "execute_result",
          "data": {
            "text/plain": [
              "(1404435, 10)"
            ]
          },
          "metadata": {},
          "execution_count": 264
        }
      ]
    },
    {
      "cell_type": "code",
      "metadata": {
        "colab": {
          "base_uri": "https://localhost:8080/"
        },
        "id": "CD9kC84g4AC9",
        "outputId": "72983e60-4dcb-43e3-a372-b2adb01edc64"
      },
      "source": [
        "data.Description.value_counts() #看產品,出現次數,進行初步探索(要有一定的doment know how)"
      ],
      "execution_count": 265,
      "outputs": [
        {
          "output_type": "execute_result",
          "data": {
            "text/plain": [
              "全背順氣活力SPA課程單堂             58636\n",
              "清除環境中腸病毒濕紙巾10抽            52599\n",
              "plus5智頻美塑儀課程單堂            46660\n",
              "(新)溫熱刮痧課程單堂               34129\n",
              "全身健康優化SPA課程單堂             33770\n",
              "                          ...  \n",
              "精準無痕BOTOX(單堂會員)40U            1\n",
              "如膠似漆ISLI61                    1\n",
              "EXENCE甦活精油精華液(1劑)6ml*6        1\n",
              "臉部刮痧單堂                        1\n",
              "背部三焦舒穴單堂贈送                    1\n",
              "Name: Description, Length: 870, dtype: int64"
            ]
          },
          "metadata": {},
          "execution_count": 265
        }
      ]
    },
    {
      "cell_type": "code",
      "metadata": {
        "colab": {
          "base_uri": "https://localhost:8080/"
        },
        "id": "h3rgMfWy4OkX",
        "outputId": "12744cb9-ce33-478e-bfc0-0a38dadd0d8c"
      },
      "source": [
        "data['Description'].value_counts"
      ],
      "execution_count": 266,
      "outputs": [
        {
          "output_type": "execute_result",
          "data": {
            "text/plain": [
              "<bound method IndexOpsMixin.value_counts of 0                    晶淬雪潔顏乳100ml\n",
              "1                  多肽亮眼乳霜20g-保濕型\n",
              "2                   檸檬精油10ml MUI\n",
              "3                 柚見快樂精油15ml MUI\n",
              "4                細花冬青香氛油10ml MUI\n",
              "                   ...          \n",
              "1404430             玫瑰晶萃活膚液130ml\n",
              "1404431    真正除臭抗菌噴霧(銀離子迷迭香)250ml\n",
              "1404432        BA-5肌密全效噴霧奇蹟水70ml\n",
              "1404433      緊緻保濕裸膚羽翼面膜25ml-零售單包\n",
              "1404434    真正除臭抗菌噴霧(銀離子迷迭香)350ml\n",
              "Name: Description, Length: 1404435, dtype: object>"
            ]
          },
          "metadata": {},
          "execution_count": 266
        }
      ]
    },
    {
      "cell_type": "code",
      "metadata": {
        "colab": {
          "base_uri": "https://localhost:8080/"
        },
        "id": "6isnAcjo4mp5",
        "outputId": "630a0266-83fd-432a-d40e-31ad810de47c"
      },
      "source": [
        "data.isna().any() #檢查這筆資料中 各項欄位內有無『諾值(null)』"
      ],
      "execution_count": 267,
      "outputs": [
        {
          "output_type": "execute_result",
          "data": {
            "text/plain": [
              "InvoiceNo            False\n",
              "StockCode            False\n",
              "Description          False\n",
              "Quantity             False\n",
              "InvoiceDate          False\n",
              "UnitPrice            False\n",
              "CustomerID            True\n",
              "Country              False\n",
              "member_start_date     True\n",
              "first_trans_date      True\n",
              "dtype: bool"
            ]
          },
          "metadata": {},
          "execution_count": 267
        }
      ]
    },
    {
      "cell_type": "code",
      "metadata": {
        "colab": {
          "base_uri": "https://localhost:8080/",
          "height": 458
        },
        "id": "IH7CnL7_4q82",
        "outputId": "62bc2359-16a8-4a9b-dfb8-9368f329ce6b"
      },
      "source": [
        "data.loc[data['CustomerID'].isnull()] #用loc找出"
      ],
      "execution_count": 268,
      "outputs": [
        {
          "output_type": "execute_result",
          "data": {
            "text/html": [
              "<div>\n",
              "<style scoped>\n",
              "    .dataframe tbody tr th:only-of-type {\n",
              "        vertical-align: middle;\n",
              "    }\n",
              "\n",
              "    .dataframe tbody tr th {\n",
              "        vertical-align: top;\n",
              "    }\n",
              "\n",
              "    .dataframe thead th {\n",
              "        text-align: right;\n",
              "    }\n",
              "</style>\n",
              "<table border=\"1\" class=\"dataframe\">\n",
              "  <thead>\n",
              "    <tr style=\"text-align: right;\">\n",
              "      <th></th>\n",
              "      <th>InvoiceNo</th>\n",
              "      <th>StockCode</th>\n",
              "      <th>Description</th>\n",
              "      <th>Quantity</th>\n",
              "      <th>InvoiceDate</th>\n",
              "      <th>UnitPrice</th>\n",
              "      <th>CustomerID</th>\n",
              "      <th>Country</th>\n",
              "      <th>member_start_date</th>\n",
              "      <th>first_trans_date</th>\n",
              "    </tr>\n",
              "  </thead>\n",
              "  <tbody>\n",
              "    <tr>\n",
              "      <th>1544</th>\n",
              "      <td>PS1001008016</td>\n",
              "      <td>MD-1265</td>\n",
              "      <td>2019營運售全背</td>\n",
              "      <td>32.00</td>\n",
              "      <td>2019-01-03</td>\n",
              "      <td>1859.00</td>\n",
              "      <td>nan</td>\n",
              "      <td>總管理處</td>\n",
              "      <td>NaN</td>\n",
              "      <td>NaN</td>\n",
              "    </tr>\n",
              "    <tr>\n",
              "      <th>1545</th>\n",
              "      <td>PS1001008016</td>\n",
              "      <td>JZA4G2</td>\n",
              "      <td>輕鬆．清新複方按摩油30ml</td>\n",
              "      <td>40.00</td>\n",
              "      <td>2019-01-03</td>\n",
              "      <td>2699.00</td>\n",
              "      <td>nan</td>\n",
              "      <td>總管理處</td>\n",
              "      <td>NaN</td>\n",
              "      <td>NaN</td>\n",
              "    </tr>\n",
              "    <tr>\n",
              "      <th>3470</th>\n",
              "      <td>PS1001008018</td>\n",
              "      <td>MD-1266</td>\n",
              "      <td>2019營運售太極</td>\n",
              "      <td>8.00</td>\n",
              "      <td>2019-01-05</td>\n",
              "      <td>509.00</td>\n",
              "      <td>nan</td>\n",
              "      <td>總管理處</td>\n",
              "      <td>NaN</td>\n",
              "      <td>NaN</td>\n",
              "    </tr>\n",
              "    <tr>\n",
              "      <th>3471</th>\n",
              "      <td>PS1001008018</td>\n",
              "      <td>K8016</td>\n",
              "      <td>植粹清香沐浴精500ml</td>\n",
              "      <td>8.00</td>\n",
              "      <td>2019-01-05</td>\n",
              "      <td>497.00</td>\n",
              "      <td>nan</td>\n",
              "      <td>總管理處</td>\n",
              "      <td>NaN</td>\n",
              "      <td>NaN</td>\n",
              "    </tr>\n",
              "    <tr>\n",
              "      <th>3472</th>\n",
              "      <td>PS1001008018</td>\n",
              "      <td>K8017</td>\n",
              "      <td>植粹養護洗髮精500ml</td>\n",
              "      <td>8.00</td>\n",
              "      <td>2019-01-05</td>\n",
              "      <td>497.00</td>\n",
              "      <td>nan</td>\n",
              "      <td>總管理處</td>\n",
              "      <td>NaN</td>\n",
              "      <td>NaN</td>\n",
              "    </tr>\n",
              "    <tr>\n",
              "      <th>...</th>\n",
              "      <td>...</td>\n",
              "      <td>...</td>\n",
              "      <td>...</td>\n",
              "      <td>...</td>\n",
              "      <td>...</td>\n",
              "      <td>...</td>\n",
              "      <td>...</td>\n",
              "      <td>...</td>\n",
              "      <td>...</td>\n",
              "      <td>...</td>\n",
              "    </tr>\n",
              "    <tr>\n",
              "      <th>1370084</th>\n",
              "      <td>PS5525021426</td>\n",
              "      <td>BJ079</td>\n",
              "      <td>佐登妮絲６號複方精油10ml</td>\n",
              "      <td>8.00</td>\n",
              "      <td>2020-12-14</td>\n",
              "      <td>1099.00</td>\n",
              "      <td>nan</td>\n",
              "      <td>高屏全區</td>\n",
              "      <td>NaN</td>\n",
              "      <td>NaN</td>\n",
              "    </tr>\n",
              "    <tr>\n",
              "      <th>1370085</th>\n",
              "      <td>PS5525021426</td>\n",
              "      <td>JYA1G1</td>\n",
              "      <td>玫瑰複方精油5ml HALAL</td>\n",
              "      <td>8.00</td>\n",
              "      <td>2020-12-14</td>\n",
              "      <td>1099.00</td>\n",
              "      <td>nan</td>\n",
              "      <td>高屏全區</td>\n",
              "      <td>NaN</td>\n",
              "      <td>NaN</td>\n",
              "    </tr>\n",
              "    <tr>\n",
              "      <th>1382674</th>\n",
              "      <td>PS5455008904</td>\n",
              "      <td>ZFE02</td>\n",
              "      <td>工本費</td>\n",
              "      <td>8.00</td>\n",
              "      <td>2020-12-21</td>\n",
              "      <td>509.00</td>\n",
              "      <td>nan</td>\n",
              "      <td>南區</td>\n",
              "      <td>NaN</td>\n",
              "      <td>NaN</td>\n",
              "    </tr>\n",
              "    <tr>\n",
              "      <th>1396234</th>\n",
              "      <td>PS5414018463</td>\n",
              "      <td>JZB4G1</td>\n",
              "      <td>呼暢護隨精油30ml</td>\n",
              "      <td>-8.00</td>\n",
              "      <td>2020-12-28</td>\n",
              "      <td>-1720.00</td>\n",
              "      <td>nan</td>\n",
              "      <td>南區</td>\n",
              "      <td>NaN</td>\n",
              "      <td>NaN</td>\n",
              "    </tr>\n",
              "    <tr>\n",
              "      <th>1396235</th>\n",
              "      <td>PS5414018463</td>\n",
              "      <td>KQ02</td>\n",
              "      <td>玫瑰晶萃活膚液130ml</td>\n",
              "      <td>8.00</td>\n",
              "      <td>2020-12-28</td>\n",
              "      <td>1838.00</td>\n",
              "      <td>nan</td>\n",
              "      <td>南區</td>\n",
              "      <td>NaN</td>\n",
              "      <td>NaN</td>\n",
              "    </tr>\n",
              "  </tbody>\n",
              "</table>\n",
              "<p>711 rows × 10 columns</p>\n",
              "</div>"
            ],
            "text/plain": [
              "            InvoiceNo StockCode  ... member_start_date  first_trans_date\n",
              "1544     PS1001008016   MD-1265  ...               NaN               NaN\n",
              "1545     PS1001008016    JZA4G2  ...               NaN               NaN\n",
              "3470     PS1001008018   MD-1266  ...               NaN               NaN\n",
              "3471     PS1001008018     K8016  ...               NaN               NaN\n",
              "3472     PS1001008018     K8017  ...               NaN               NaN\n",
              "...               ...       ...  ...               ...               ...\n",
              "1370084  PS5525021426     BJ079  ...               NaN               NaN\n",
              "1370085  PS5525021426    JYA1G1  ...               NaN               NaN\n",
              "1382674  PS5455008904     ZFE02  ...               NaN               NaN\n",
              "1396234  PS5414018463    JZB4G1  ...               NaN               NaN\n",
              "1396235  PS5414018463      KQ02  ...               NaN               NaN\n",
              "\n",
              "[711 rows x 10 columns]"
            ]
          },
          "metadata": {},
          "execution_count": 268
        }
      ]
    },
    {
      "cell_type": "code",
      "metadata": {
        "id": "eVO7PxA75mqB"
      },
      "source": [
        "data.drop(data[data['CustomerID'].isnull()].index,inplace=True) #用drop 刪除"
      ],
      "execution_count": 269,
      "outputs": []
    },
    {
      "cell_type": "code",
      "metadata": {
        "colab": {
          "base_uri": "https://localhost:8080/"
        },
        "id": "hywSiXV46vj4",
        "outputId": "3175b51f-9d3c-444e-b8f4-bb2435a476ee"
      },
      "source": [
        "data.shape #可看出資料有減少了"
      ],
      "execution_count": 270,
      "outputs": [
        {
          "output_type": "execute_result",
          "data": {
            "text/plain": [
              "(1403724, 10)"
            ]
          },
          "metadata": {},
          "execution_count": 270
        }
      ]
    },
    {
      "cell_type": "code",
      "metadata": {
        "colab": {
          "base_uri": "https://localhost:8080/",
          "height": 649
        },
        "id": "NsFVpiVf87yM",
        "outputId": "232b7334-33f7-4576-aa68-050644589538"
      },
      "source": [
        "#發現數量及價格有複數，無法套入相乘公式(因為負負得正，新增『總額』的欄位資料將會「失真」)\n",
        "data.loc[(data['Quantity']<0)|(data['UnitPrice']<0)] #找出兩者皆小於0的資料"
      ],
      "execution_count": 271,
      "outputs": [
        {
          "output_type": "execute_result",
          "data": {
            "text/html": [
              "<div>\n",
              "<style scoped>\n",
              "    .dataframe tbody tr th:only-of-type {\n",
              "        vertical-align: middle;\n",
              "    }\n",
              "\n",
              "    .dataframe tbody tr th {\n",
              "        vertical-align: top;\n",
              "    }\n",
              "\n",
              "    .dataframe thead th {\n",
              "        text-align: right;\n",
              "    }\n",
              "</style>\n",
              "<table border=\"1\" class=\"dataframe\">\n",
              "  <thead>\n",
              "    <tr style=\"text-align: right;\">\n",
              "      <th></th>\n",
              "      <th>InvoiceNo</th>\n",
              "      <th>StockCode</th>\n",
              "      <th>Description</th>\n",
              "      <th>Quantity</th>\n",
              "      <th>InvoiceDate</th>\n",
              "      <th>UnitPrice</th>\n",
              "      <th>CustomerID</th>\n",
              "      <th>Country</th>\n",
              "      <th>member_start_date</th>\n",
              "      <th>first_trans_date</th>\n",
              "    </tr>\n",
              "  </thead>\n",
              "  <tbody>\n",
              "    <tr>\n",
              "      <th>3</th>\n",
              "      <td>PS5335020955</td>\n",
              "      <td>JZA3G1</td>\n",
              "      <td>柚見快樂精油15ml MUI</td>\n",
              "      <td>-8.00</td>\n",
              "      <td>2019-01-01</td>\n",
              "      <td>-1501.00</td>\n",
              "      <td>9100002556566.00</td>\n",
              "      <td>中區</td>\n",
              "      <td>2018-10-21</td>\n",
              "      <td>2018-10-21</td>\n",
              "    </tr>\n",
              "    <tr>\n",
              "      <th>19</th>\n",
              "      <td>PS5323017890</td>\n",
              "      <td>K0464B</td>\n",
              "      <td>DC龍血緊緻修護面膜26ml+5g-單包</td>\n",
              "      <td>-56.00</td>\n",
              "      <td>2019-01-01</td>\n",
              "      <td>-1006.00</td>\n",
              "      <td>9100000045758.00</td>\n",
              "      <td>中區</td>\n",
              "      <td>2001-05-20</td>\n",
              "      <td>2012-07-17</td>\n",
              "    </tr>\n",
              "    <tr>\n",
              "      <th>20</th>\n",
              "      <td>PS5323017890</td>\n",
              "      <td>K0464B</td>\n",
              "      <td>DC龍血緊緻修護面膜26ml+5g-單包</td>\n",
              "      <td>-8.00</td>\n",
              "      <td>2019-01-01</td>\n",
              "      <td>-205.00</td>\n",
              "      <td>9100000045758.00</td>\n",
              "      <td>中區</td>\n",
              "      <td>2001-05-20</td>\n",
              "      <td>2012-07-17</td>\n",
              "    </tr>\n",
              "    <tr>\n",
              "      <th>252</th>\n",
              "      <td>PS5381011345</td>\n",
              "      <td>KQ03</td>\n",
              "      <td>玫瑰晶萃露15ml</td>\n",
              "      <td>-8.00</td>\n",
              "      <td>2019-01-01</td>\n",
              "      <td>-1501.00</td>\n",
              "      <td>9100000356694.00</td>\n",
              "      <td>中區</td>\n",
              "      <td>2002-02-03</td>\n",
              "      <td>2012-10-06</td>\n",
              "    </tr>\n",
              "    <tr>\n",
              "      <th>253</th>\n",
              "      <td>PS5381011345</td>\n",
              "      <td>KQ03</td>\n",
              "      <td>玫瑰晶萃露15ml</td>\n",
              "      <td>-8.00</td>\n",
              "      <td>2019-01-01</td>\n",
              "      <td>-1501.00</td>\n",
              "      <td>9100000356694.00</td>\n",
              "      <td>中區</td>\n",
              "      <td>2002-02-03</td>\n",
              "      <td>2012-10-06</td>\n",
              "    </tr>\n",
              "    <tr>\n",
              "      <th>...</th>\n",
              "      <td>...</td>\n",
              "      <td>...</td>\n",
              "      <td>...</td>\n",
              "      <td>...</td>\n",
              "      <td>...</td>\n",
              "      <td>...</td>\n",
              "      <td>...</td>\n",
              "      <td>...</td>\n",
              "      <td>...</td>\n",
              "      <td>...</td>\n",
              "    </tr>\n",
              "    <tr>\n",
              "      <th>1404039</th>\n",
              "      <td>PS5217034487</td>\n",
              "      <td>JAA3G3</td>\n",
              "      <td>膠原蛋白青春精華94%原液60ml</td>\n",
              "      <td>-8.00</td>\n",
              "      <td>2020-12-31</td>\n",
              "      <td>-2031.00</td>\n",
              "      <td>9100003026129.00</td>\n",
              "      <td>台北B區</td>\n",
              "      <td>2020-12-10</td>\n",
              "      <td>2020-11-23</td>\n",
              "    </tr>\n",
              "    <tr>\n",
              "      <th>1404040</th>\n",
              "      <td>PS5217034487</td>\n",
              "      <td>JAA3G2</td>\n",
              "      <td>玻尿酸超保濕精華96%原液60ml</td>\n",
              "      <td>-8.00</td>\n",
              "      <td>2020-12-31</td>\n",
              "      <td>-2032.00</td>\n",
              "      <td>9100003026129.00</td>\n",
              "      <td>台北B區</td>\n",
              "      <td>2020-12-10</td>\n",
              "      <td>2020-11-23</td>\n",
              "    </tr>\n",
              "    <tr>\n",
              "      <th>1404192</th>\n",
              "      <td>PR9310000260</td>\n",
              "      <td>ENAA01B002</td>\n",
              "      <td>新逆時光藍新寶石亮白全臉單堂(單堂會員)</td>\n",
              "      <td>-48.00</td>\n",
              "      <td>2020-12-31</td>\n",
              "      <td>-12941.00</td>\n",
              "      <td>9100002311295.00</td>\n",
              "      <td>佐登微爾</td>\n",
              "      <td>2018-05-05</td>\n",
              "      <td>2017-04-16</td>\n",
              "    </tr>\n",
              "    <tr>\n",
              "      <th>1404193</th>\n",
              "      <td>PR9310000260</td>\n",
              "      <td>ENBA01B002</td>\n",
              "      <td>新晶透亮白超皮秒透亮美肌局部單堂(單堂會員)</td>\n",
              "      <td>-48.00</td>\n",
              "      <td>2020-12-31</td>\n",
              "      <td>-9941.00</td>\n",
              "      <td>9100002311295.00</td>\n",
              "      <td>佐登微爾</td>\n",
              "      <td>2018-05-05</td>\n",
              "      <td>2017-04-16</td>\n",
              "    </tr>\n",
              "    <tr>\n",
              "      <th>1404194</th>\n",
              "      <td>PR9310000260</td>\n",
              "      <td>ENBD01E001</td>\n",
              "      <td>晶透亮白超皮秒美肌加強版(S1 S2 S3)(特惠)</td>\n",
              "      <td>-8.00</td>\n",
              "      <td>2020-12-31</td>\n",
              "      <td>-6939.00</td>\n",
              "      <td>9100002311295.00</td>\n",
              "      <td>佐登微爾</td>\n",
              "      <td>2018-05-05</td>\n",
              "      <td>2017-04-16</td>\n",
              "    </tr>\n",
              "  </tbody>\n",
              "</table>\n",
              "<p>6612 rows × 10 columns</p>\n",
              "</div>"
            ],
            "text/plain": [
              "            InvoiceNo   StockCode  ... member_start_date  first_trans_date\n",
              "3        PS5335020955      JZA3G1  ...        2018-10-21        2018-10-21\n",
              "19       PS5323017890      K0464B  ...        2001-05-20        2012-07-17\n",
              "20       PS5323017890      K0464B  ...        2001-05-20        2012-07-17\n",
              "252      PS5381011345        KQ03  ...        2002-02-03        2012-10-06\n",
              "253      PS5381011345        KQ03  ...        2002-02-03        2012-10-06\n",
              "...               ...         ...  ...               ...               ...\n",
              "1404039  PS5217034487      JAA3G3  ...        2020-12-10        2020-11-23\n",
              "1404040  PS5217034487      JAA3G2  ...        2020-12-10        2020-11-23\n",
              "1404192  PR9310000260  ENAA01B002  ...        2018-05-05        2017-04-16\n",
              "1404193  PR9310000260  ENBA01B002  ...        2018-05-05        2017-04-16\n",
              "1404194  PR9310000260  ENBD01E001  ...        2018-05-05        2017-04-16\n",
              "\n",
              "[6612 rows x 10 columns]"
            ]
          },
          "metadata": {},
          "execution_count": 271
        }
      ]
    },
    {
      "cell_type": "code",
      "metadata": {
        "colab": {
          "base_uri": "https://localhost:8080/",
          "height": 580
        },
        "id": "Tu3icBc4-UI5",
        "outputId": "12e6b145-5bc8-4cc9-a66d-1aa005bbecf7"
      },
      "source": [
        "data.loc[(data['Quantity']<0)&(data['UnitPrice']>0)] #找出一者小於0的資料"
      ],
      "execution_count": 272,
      "outputs": [
        {
          "output_type": "execute_result",
          "data": {
            "text/html": [
              "<div>\n",
              "<style scoped>\n",
              "    .dataframe tbody tr th:only-of-type {\n",
              "        vertical-align: middle;\n",
              "    }\n",
              "\n",
              "    .dataframe tbody tr th {\n",
              "        vertical-align: top;\n",
              "    }\n",
              "\n",
              "    .dataframe thead th {\n",
              "        text-align: right;\n",
              "    }\n",
              "</style>\n",
              "<table border=\"1\" class=\"dataframe\">\n",
              "  <thead>\n",
              "    <tr style=\"text-align: right;\">\n",
              "      <th></th>\n",
              "      <th>InvoiceNo</th>\n",
              "      <th>StockCode</th>\n",
              "      <th>Description</th>\n",
              "      <th>Quantity</th>\n",
              "      <th>InvoiceDate</th>\n",
              "      <th>UnitPrice</th>\n",
              "      <th>CustomerID</th>\n",
              "      <th>Country</th>\n",
              "      <th>member_start_date</th>\n",
              "      <th>first_trans_date</th>\n",
              "    </tr>\n",
              "  </thead>\n",
              "  <tbody>\n",
              "    <tr>\n",
              "      <th>10361</th>\n",
              "      <td>PR5524003613</td>\n",
              "      <td>9269</td>\n",
              "      <td>JOURDENESS精油包</td>\n",
              "      <td>-8.00</td>\n",
              "      <td>2019-01-11</td>\n",
              "      <td>59.00</td>\n",
              "      <td>9100000538601.00</td>\n",
              "      <td>高屏全區</td>\n",
              "      <td>2009-02-09</td>\n",
              "      <td>2012-11-28</td>\n",
              "    </tr>\n",
              "    <tr>\n",
              "      <th>14317</th>\n",
              "      <td>PR5374002987</td>\n",
              "      <td>9277</td>\n",
              "      <td>歐式古典花語陶瓷鍋墊</td>\n",
              "      <td>-8.00</td>\n",
              "      <td>2019-01-12</td>\n",
              "      <td>59.00</td>\n",
              "      <td>9100002127370.00</td>\n",
              "      <td>彰雲區</td>\n",
              "      <td>2016-03-27</td>\n",
              "      <td>2016-03-27</td>\n",
              "    </tr>\n",
              "    <tr>\n",
              "      <th>14318</th>\n",
              "      <td>PR5374002987</td>\n",
              "      <td>9277</td>\n",
              "      <td>歐式古典花語陶瓷鍋墊</td>\n",
              "      <td>-8.00</td>\n",
              "      <td>2019-01-12</td>\n",
              "      <td>59.00</td>\n",
              "      <td>9100002127370.00</td>\n",
              "      <td>彰雲區</td>\n",
              "      <td>2016-03-27</td>\n",
              "      <td>2016-03-27</td>\n",
              "    </tr>\n",
              "    <tr>\n",
              "      <th>18308</th>\n",
              "      <td>PR5538001155</td>\n",
              "      <td>9277</td>\n",
              "      <td>歐式古典花語陶瓷鍋墊</td>\n",
              "      <td>-8.00</td>\n",
              "      <td>2019-01-15</td>\n",
              "      <td>59.00</td>\n",
              "      <td>9100000533811.00</td>\n",
              "      <td>高屏全區</td>\n",
              "      <td>2008-12-29</td>\n",
              "      <td>2012-10-04</td>\n",
              "    </tr>\n",
              "    <tr>\n",
              "      <th>18309</th>\n",
              "      <td>PR5538001155</td>\n",
              "      <td>9277</td>\n",
              "      <td>歐式古典花語陶瓷鍋墊</td>\n",
              "      <td>-8.00</td>\n",
              "      <td>2019-01-15</td>\n",
              "      <td>59.00</td>\n",
              "      <td>9100000533811.00</td>\n",
              "      <td>高屏全區</td>\n",
              "      <td>2008-12-29</td>\n",
              "      <td>2012-10-04</td>\n",
              "    </tr>\n",
              "    <tr>\n",
              "      <th>...</th>\n",
              "      <td>...</td>\n",
              "      <td>...</td>\n",
              "      <td>...</td>\n",
              "      <td>...</td>\n",
              "      <td>...</td>\n",
              "      <td>...</td>\n",
              "      <td>...</td>\n",
              "      <td>...</td>\n",
              "      <td>...</td>\n",
              "      <td>...</td>\n",
              "    </tr>\n",
              "    <tr>\n",
              "      <th>1340292</th>\n",
              "      <td>PR5142004025</td>\n",
              "      <td>K8013</td>\n",
              "      <td>PURE純淨沐浴精250ml</td>\n",
              "      <td>-8.00</td>\n",
              "      <td>2020-11-29</td>\n",
              "      <td>59.00</td>\n",
              "      <td>9100001032627.00</td>\n",
              "      <td>台北B區</td>\n",
              "      <td>2004-10-18</td>\n",
              "      <td>2015-11-13</td>\n",
              "    </tr>\n",
              "    <tr>\n",
              "      <th>1340293</th>\n",
              "      <td>PR5142004025</td>\n",
              "      <td>BJ075CS</td>\n",
              "      <td>JD 薄荷30ml-職業包 HALAL</td>\n",
              "      <td>-8.00</td>\n",
              "      <td>2020-11-29</td>\n",
              "      <td>59.00</td>\n",
              "      <td>9100001032627.00</td>\n",
              "      <td>台北B區</td>\n",
              "      <td>2004-10-18</td>\n",
              "      <td>2015-11-13</td>\n",
              "    </tr>\n",
              "    <tr>\n",
              "      <th>1340294</th>\n",
              "      <td>PR5142004025</td>\n",
              "      <td>K8013</td>\n",
              "      <td>PURE純淨沐浴精250ml</td>\n",
              "      <td>-8.00</td>\n",
              "      <td>2020-11-29</td>\n",
              "      <td>59.00</td>\n",
              "      <td>9100001032627.00</td>\n",
              "      <td>台北B區</td>\n",
              "      <td>2004-10-18</td>\n",
              "      <td>2015-11-13</td>\n",
              "    </tr>\n",
              "    <tr>\n",
              "      <th>1352683</th>\n",
              "      <td>PR536F001044</td>\n",
              "      <td>ZCP04</td>\n",
              "      <td>課程預付卡</td>\n",
              "      <td>-8.00</td>\n",
              "      <td>2020-12-05</td>\n",
              "      <td>59.00</td>\n",
              "      <td>9100003035650.00</td>\n",
              "      <td>彰雲區</td>\n",
              "      <td>NaN</td>\n",
              "      <td>NaN</td>\n",
              "    </tr>\n",
              "    <tr>\n",
              "      <th>1361629</th>\n",
              "      <td>PR9310000174</td>\n",
              "      <td>ENAA01E001</td>\n",
              "      <td>逆時光藍寶石亮白全臉單堂(特惠)</td>\n",
              "      <td>-8.00</td>\n",
              "      <td>2020-12-11</td>\n",
              "      <td>59.00</td>\n",
              "      <td>9100002740972.00</td>\n",
              "      <td>佐登微爾</td>\n",
              "      <td>2020-03-14</td>\n",
              "      <td>2019-12-14</td>\n",
              "    </tr>\n",
              "  </tbody>\n",
              "</table>\n",
              "<p>232 rows × 10 columns</p>\n",
              "</div>"
            ],
            "text/plain": [
              "            InvoiceNo   StockCode  ... member_start_date  first_trans_date\n",
              "10361    PR5524003613        9269  ...        2009-02-09        2012-11-28\n",
              "14317    PR5374002987        9277  ...        2016-03-27        2016-03-27\n",
              "14318    PR5374002987        9277  ...        2016-03-27        2016-03-27\n",
              "18308    PR5538001155        9277  ...        2008-12-29        2012-10-04\n",
              "18309    PR5538001155        9277  ...        2008-12-29        2012-10-04\n",
              "...               ...         ...  ...               ...               ...\n",
              "1340292  PR5142004025       K8013  ...        2004-10-18        2015-11-13\n",
              "1340293  PR5142004025     BJ075CS  ...        2004-10-18        2015-11-13\n",
              "1340294  PR5142004025       K8013  ...        2004-10-18        2015-11-13\n",
              "1352683  PR536F001044       ZCP04  ...               NaN               NaN\n",
              "1361629  PR9310000174  ENAA01E001  ...        2020-03-14        2019-12-14\n",
              "\n",
              "[232 rows x 10 columns]"
            ]
          },
          "metadata": {},
          "execution_count": 272
        }
      ]
    },
    {
      "cell_type": "code",
      "metadata": {
        "id": "puZT89PTEVSb"
      },
      "source": [
        "#取絕對值\n",
        "data['Revenue'] = data['Quantity'] * abs(data['UnitPrice']) #需要新增一個『總額』的『欄位名稱』"
      ],
      "execution_count": 273,
      "outputs": []
    },
    {
      "cell_type": "code",
      "metadata": {
        "colab": {
          "base_uri": "https://localhost:8080/",
          "height": 313
        },
        "id": "QY42nH4XVPvN",
        "outputId": "77380c13-7e71-4f18-a325-4155910c790e"
      },
      "source": [
        "data.head()"
      ],
      "execution_count": 274,
      "outputs": [
        {
          "output_type": "execute_result",
          "data": {
            "text/html": [
              "<div>\n",
              "<style scoped>\n",
              "    .dataframe tbody tr th:only-of-type {\n",
              "        vertical-align: middle;\n",
              "    }\n",
              "\n",
              "    .dataframe tbody tr th {\n",
              "        vertical-align: top;\n",
              "    }\n",
              "\n",
              "    .dataframe thead th {\n",
              "        text-align: right;\n",
              "    }\n",
              "</style>\n",
              "<table border=\"1\" class=\"dataframe\">\n",
              "  <thead>\n",
              "    <tr style=\"text-align: right;\">\n",
              "      <th></th>\n",
              "      <th>InvoiceNo</th>\n",
              "      <th>StockCode</th>\n",
              "      <th>Description</th>\n",
              "      <th>Quantity</th>\n",
              "      <th>InvoiceDate</th>\n",
              "      <th>UnitPrice</th>\n",
              "      <th>CustomerID</th>\n",
              "      <th>Country</th>\n",
              "      <th>member_start_date</th>\n",
              "      <th>first_trans_date</th>\n",
              "      <th>Revenue</th>\n",
              "    </tr>\n",
              "  </thead>\n",
              "  <tbody>\n",
              "    <tr>\n",
              "      <th>0</th>\n",
              "      <td>PS5327001158</td>\n",
              "      <td>JA01</td>\n",
              "      <td>晶淬雪潔顏乳100ml</td>\n",
              "      <td>8.00</td>\n",
              "      <td>2019-01-01</td>\n",
              "      <td>1259.00</td>\n",
              "      <td>9100002488768.00</td>\n",
              "      <td>中區</td>\n",
              "      <td>2019-12-09</td>\n",
              "      <td>2018-06-24</td>\n",
              "      <td>10072.00</td>\n",
              "    </tr>\n",
              "    <tr>\n",
              "      <th>1</th>\n",
              "      <td>PS5335020955</td>\n",
              "      <td>KG06</td>\n",
              "      <td>多肽亮眼乳霜20g-保濕型</td>\n",
              "      <td>8.00</td>\n",
              "      <td>2019-01-01</td>\n",
              "      <td>839.00</td>\n",
              "      <td>9100002556566.00</td>\n",
              "      <td>中區</td>\n",
              "      <td>2018-10-21</td>\n",
              "      <td>2018-10-21</td>\n",
              "      <td>6712.00</td>\n",
              "    </tr>\n",
              "    <tr>\n",
              "      <th>2</th>\n",
              "      <td>PS5335020955</td>\n",
              "      <td>BJ102</td>\n",
              "      <td>檸檬精油10ml MUI</td>\n",
              "      <td>8.00</td>\n",
              "      <td>2019-01-01</td>\n",
              "      <td>839.00</td>\n",
              "      <td>9100002556566.00</td>\n",
              "      <td>中區</td>\n",
              "      <td>2018-10-21</td>\n",
              "      <td>2018-10-21</td>\n",
              "      <td>6712.00</td>\n",
              "    </tr>\n",
              "    <tr>\n",
              "      <th>3</th>\n",
              "      <td>PS5335020955</td>\n",
              "      <td>JZA3G1</td>\n",
              "      <td>柚見快樂精油15ml MUI</td>\n",
              "      <td>-8.00</td>\n",
              "      <td>2019-01-01</td>\n",
              "      <td>-1501.00</td>\n",
              "      <td>9100002556566.00</td>\n",
              "      <td>中區</td>\n",
              "      <td>2018-10-21</td>\n",
              "      <td>2018-10-21</td>\n",
              "      <td>-12008.00</td>\n",
              "    </tr>\n",
              "    <tr>\n",
              "      <th>4</th>\n",
              "      <td>PS5444006919</td>\n",
              "      <td>BJ103</td>\n",
              "      <td>細花冬青香氛油10ml MUI</td>\n",
              "      <td>8.00</td>\n",
              "      <td>2019-01-01</td>\n",
              "      <td>672.00</td>\n",
              "      <td>9100002582077.00</td>\n",
              "      <td>南區</td>\n",
              "      <td>2018-12-04</td>\n",
              "      <td>2018-12-04</td>\n",
              "      <td>5376.00</td>\n",
              "    </tr>\n",
              "  </tbody>\n",
              "</table>\n",
              "</div>"
            ],
            "text/plain": [
              "      InvoiceNo StockCode  ... first_trans_date   Revenue\n",
              "0  PS5327001158      JA01  ...       2018-06-24  10072.00\n",
              "1  PS5335020955      KG06  ...       2018-10-21   6712.00\n",
              "2  PS5335020955     BJ102  ...       2018-10-21   6712.00\n",
              "3  PS5335020955    JZA3G1  ...       2018-10-21 -12008.00\n",
              "4  PS5444006919     BJ103  ...       2018-12-04   5376.00\n",
              "\n",
              "[5 rows x 11 columns]"
            ]
          },
          "metadata": {},
          "execution_count": 274
        }
      ]
    },
    {
      "cell_type": "code",
      "metadata": {
        "colab": {
          "base_uri": "https://localhost:8080/"
        },
        "id": "6zExZ7hQVZhE",
        "outputId": "3d2a41fa-31ad-46f8-b0d9-9991d6ec8584"
      },
      "source": [
        "data.Revenue.describe()"
      ],
      "execution_count": 275,
      "outputs": [
        {
          "output_type": "execute_result",
          "data": {
            "text/plain": [
              "count     1403724.00\n",
              "mean        82668.84\n",
              "std        922440.49\n",
              "min     -41471304.00\n",
              "25%          4672.00\n",
              "50%          8752.00\n",
              "75%         25904.00\n",
              "max     702441768.00\n",
              "Name: Revenue, dtype: float64"
            ]
          },
          "metadata": {},
          "execution_count": 275
        }
      ]
    },
    {
      "cell_type": "code",
      "metadata": {
        "colab": {
          "base_uri": "https://localhost:8080/",
          "height": 293
        },
        "id": "BI1b1H8A-aTJ",
        "outputId": "c0a9c259-3893-4c6e-e7eb-a05645cffce3"
      },
      "source": [
        "data['Revenue'].plot.box() #使用box主要是為了方便去查看『異常值是否存在』"
      ],
      "execution_count": 276,
      "outputs": [
        {
          "output_type": "execute_result",
          "data": {
            "text/plain": [
              "<matplotlib.axes._subplots.AxesSubplot at 0x7efd952eca50>"
            ]
          },
          "metadata": {},
          "execution_count": 276
        },
        {
          "output_type": "display_data",
          "data": {
            "image/png": "[encoded data removed]",
            "text/plain": [
              "<Figure size 432x288 with 1 Axes>"
            ]
          },
          "metadata": {
            "needs_background": "light"
          }
        }
      ]
    },
    {
      "cell_type": "code",
      "metadata": {
        "id": "I9i-w2FdXsLq"
      },
      "source": [
        "sales_data1 = data.copy()"
      ],
      "execution_count": 277,
      "outputs": []
    },
    {
      "cell_type": "code",
      "metadata": {
        "colab": {
          "base_uri": "https://localhost:8080/",
          "height": 313
        },
        "id": "x5zNZSNGVKFo",
        "outputId": "d771b220-c880-4df2-9979-a60c27f9f1e4"
      },
      "source": [
        "data['Revenue_zcore']=(data['Revenue']-data['Revenue'].mean())/data['Revenue'].std(ddof=0) #算出Z-score的標準差單位(標準化)\n",
        "data.head()"
      ],
      "execution_count": 278,
      "outputs": [
        {
          "output_type": "execute_result",
          "data": {
            "text/html": [
              "<div>\n",
              "<style scoped>\n",
              "    .dataframe tbody tr th:only-of-type {\n",
              "        vertical-align: middle;\n",
              "    }\n",
              "\n",
              "    .dataframe tbody tr th {\n",
              "        vertical-align: top;\n",
              "    }\n",
              "\n",
              "    .dataframe thead th {\n",
              "        text-align: right;\n",
              "    }\n",
              "</style>\n",
              "<table border=\"1\" class=\"dataframe\">\n",
              "  <thead>\n",
              "    <tr style=\"text-align: right;\">\n",
              "      <th></th>\n",
              "      <th>InvoiceNo</th>\n",
              "      <th>StockCode</th>\n",
              "      <th>Description</th>\n",
              "      <th>Quantity</th>\n",
              "      <th>InvoiceDate</th>\n",
              "      <th>UnitPrice</th>\n",
              "      <th>CustomerID</th>\n",
              "      <th>Country</th>\n",
              "      <th>member_start_date</th>\n",
              "      <th>first_trans_date</th>\n",
              "      <th>Revenue</th>\n",
              "      <th>Revenue_zcore</th>\n",
              "    </tr>\n",
              "  </thead>\n",
              "  <tbody>\n",
              "    <tr>\n",
              "      <th>0</th>\n",
              "      <td>PS5327001158</td>\n",
              "      <td>JA01</td>\n",
              "      <td>晶淬雪潔顏乳100ml</td>\n",
              "      <td>8.00</td>\n",
              "      <td>2019-01-01</td>\n",
              "      <td>1259.00</td>\n",
              "      <td>9100002488768.00</td>\n",
              "      <td>中區</td>\n",
              "      <td>2019-12-09</td>\n",
              "      <td>2018-06-24</td>\n",
              "      <td>10072.00</td>\n",
              "      <td>-0.08</td>\n",
              "    </tr>\n",
              "    <tr>\n",
              "      <th>1</th>\n",
              "      <td>PS5335020955</td>\n",
              "      <td>KG06</td>\n",
              "      <td>多肽亮眼乳霜20g-保濕型</td>\n",
              "      <td>8.00</td>\n",
              "      <td>2019-01-01</td>\n",
              "      <td>839.00</td>\n",
              "      <td>9100002556566.00</td>\n",
              "      <td>中區</td>\n",
              "      <td>2018-10-21</td>\n",
              "      <td>2018-10-21</td>\n",
              "      <td>6712.00</td>\n",
              "      <td>-0.08</td>\n",
              "    </tr>\n",
              "    <tr>\n",
              "      <th>2</th>\n",
              "      <td>PS5335020955</td>\n",
              "      <td>BJ102</td>\n",
              "      <td>檸檬精油10ml MUI</td>\n",
              "      <td>8.00</td>\n",
              "      <td>2019-01-01</td>\n",
              "      <td>839.00</td>\n",
              "      <td>9100002556566.00</td>\n",
              "      <td>中區</td>\n",
              "      <td>2018-10-21</td>\n",
              "      <td>2018-10-21</td>\n",
              "      <td>6712.00</td>\n",
              "      <td>-0.08</td>\n",
              "    </tr>\n",
              "    <tr>\n",
              "      <th>3</th>\n",
              "      <td>PS5335020955</td>\n",
              "      <td>JZA3G1</td>\n",
              "      <td>柚見快樂精油15ml MUI</td>\n",
              "      <td>-8.00</td>\n",
              "      <td>2019-01-01</td>\n",
              "      <td>-1501.00</td>\n",
              "      <td>9100002556566.00</td>\n",
              "      <td>中區</td>\n",
              "      <td>2018-10-21</td>\n",
              "      <td>2018-10-21</td>\n",
              "      <td>-12008.00</td>\n",
              "      <td>-0.10</td>\n",
              "    </tr>\n",
              "    <tr>\n",
              "      <th>4</th>\n",
              "      <td>PS5444006919</td>\n",
              "      <td>BJ103</td>\n",
              "      <td>細花冬青香氛油10ml MUI</td>\n",
              "      <td>8.00</td>\n",
              "      <td>2019-01-01</td>\n",
              "      <td>672.00</td>\n",
              "      <td>9100002582077.00</td>\n",
              "      <td>南區</td>\n",
              "      <td>2018-12-04</td>\n",
              "      <td>2018-12-04</td>\n",
              "      <td>5376.00</td>\n",
              "      <td>-0.08</td>\n",
              "    </tr>\n",
              "  </tbody>\n",
              "</table>\n",
              "</div>"
            ],
            "text/plain": [
              "      InvoiceNo StockCode  ...   Revenue  Revenue_zcore\n",
              "0  PS5327001158      JA01  ...  10072.00          -0.08\n",
              "1  PS5335020955      KG06  ...   6712.00          -0.08\n",
              "2  PS5335020955     BJ102  ...   6712.00          -0.08\n",
              "3  PS5335020955    JZA3G1  ... -12008.00          -0.10\n",
              "4  PS5444006919     BJ103  ...   5376.00          -0.08\n",
              "\n",
              "[5 rows x 12 columns]"
            ]
          },
          "metadata": {},
          "execution_count": 278
        }
      ]
    },
    {
      "cell_type": "code",
      "metadata": {
        "colab": {
          "base_uri": "https://localhost:8080/",
          "height": 424
        },
        "id": "3OmETpZsYCkO",
        "outputId": "9441f75c-f749-4ff1-9892-d93dce1f3a22"
      },
      "source": [
        "#抓出異常值>3的資料以及<-3的資料\n",
        "data['Outlier'] = (abs(data['Revenue_zcore'])>3).astype(int) #[data['Revenue_zcore']>3]得出一個『布林值』，需要用[.astype(int)]來轉換成『int(數值)』\n",
        "data.loc[data['Outlier']>0,['Revenue','Revenue_zcore']] #列出所有>0的資料"
      ],
      "execution_count": 279,
      "outputs": [
        {
          "output_type": "execute_result",
          "data": {
            "text/html": [
              "<div>\n",
              "<style scoped>\n",
              "    .dataframe tbody tr th:only-of-type {\n",
              "        vertical-align: middle;\n",
              "    }\n",
              "\n",
              "    .dataframe tbody tr th {\n",
              "        vertical-align: top;\n",
              "    }\n",
              "\n",
              "    .dataframe thead th {\n",
              "        text-align: right;\n",
              "    }\n",
              "</style>\n",
              "<table border=\"1\" class=\"dataframe\">\n",
              "  <thead>\n",
              "    <tr style=\"text-align: right;\">\n",
              "      <th></th>\n",
              "      <th>Revenue</th>\n",
              "      <th>Revenue_zcore</th>\n",
              "    </tr>\n",
              "  </thead>\n",
              "  <tbody>\n",
              "    <tr>\n",
              "      <th>1699</th>\n",
              "      <td>4844064.00</td>\n",
              "      <td>5.16</td>\n",
              "    </tr>\n",
              "    <tr>\n",
              "      <th>4458</th>\n",
              "      <td>4023600.00</td>\n",
              "      <td>4.27</td>\n",
              "    </tr>\n",
              "    <tr>\n",
              "      <th>4668</th>\n",
              "      <td>5788320.00</td>\n",
              "      <td>6.19</td>\n",
              "    </tr>\n",
              "    <tr>\n",
              "      <th>5070</th>\n",
              "      <td>11329248.00</td>\n",
              "      <td>12.19</td>\n",
              "    </tr>\n",
              "    <tr>\n",
              "      <th>6362</th>\n",
              "      <td>4023600.00</td>\n",
              "      <td>4.27</td>\n",
              "    </tr>\n",
              "    <tr>\n",
              "      <th>...</th>\n",
              "      <td>...</td>\n",
              "      <td>...</td>\n",
              "    </tr>\n",
              "    <tr>\n",
              "      <th>1402112</th>\n",
              "      <td>6006792.00</td>\n",
              "      <td>6.42</td>\n",
              "    </tr>\n",
              "    <tr>\n",
              "      <th>1402113</th>\n",
              "      <td>4755136.00</td>\n",
              "      <td>5.07</td>\n",
              "    </tr>\n",
              "    <tr>\n",
              "      <th>1402115</th>\n",
              "      <td>5851016.00</td>\n",
              "      <td>6.25</td>\n",
              "    </tr>\n",
              "    <tr>\n",
              "      <th>1402120</th>\n",
              "      <td>17226552.00</td>\n",
              "      <td>18.59</td>\n",
              "    </tr>\n",
              "    <tr>\n",
              "      <th>1403200</th>\n",
              "      <td>5950008.00</td>\n",
              "      <td>6.36</td>\n",
              "    </tr>\n",
              "  </tbody>\n",
              "</table>\n",
              "<p>692 rows × 2 columns</p>\n",
              "</div>"
            ],
            "text/plain": [
              "            Revenue  Revenue_zcore\n",
              "1699     4844064.00           5.16\n",
              "4458     4023600.00           4.27\n",
              "4668     5788320.00           6.19\n",
              "5070    11329248.00          12.19\n",
              "6362     4023600.00           4.27\n",
              "...             ...            ...\n",
              "1402112  6006792.00           6.42\n",
              "1402113  4755136.00           5.07\n",
              "1402115  5851016.00           6.25\n",
              "1402120 17226552.00          18.59\n",
              "1403200  5950008.00           6.36\n",
              "\n",
              "[692 rows x 2 columns]"
            ]
          },
          "metadata": {},
          "execution_count": 279
        }
      ]
    },
    {
      "cell_type": "code",
      "metadata": {
        "colab": {
          "base_uri": "https://localhost:8080/",
          "height": 424
        },
        "id": "JHJcnoxIZqy9",
        "outputId": "1a957630-7277-4e97-fe2a-616e773fe289"
      },
      "source": [
        "#找出非異常值的資料\n",
        "data.loc[data['Outlier']==0,['Revenue','Revenue_zcore']]"
      ],
      "execution_count": 280,
      "outputs": [
        {
          "output_type": "execute_result",
          "data": {
            "text/html": [
              "<div>\n",
              "<style scoped>\n",
              "    .dataframe tbody tr th:only-of-type {\n",
              "        vertical-align: middle;\n",
              "    }\n",
              "\n",
              "    .dataframe tbody tr th {\n",
              "        vertical-align: top;\n",
              "    }\n",
              "\n",
              "    .dataframe thead th {\n",
              "        text-align: right;\n",
              "    }\n",
              "</style>\n",
              "<table border=\"1\" class=\"dataframe\">\n",
              "  <thead>\n",
              "    <tr style=\"text-align: right;\">\n",
              "      <th></th>\n",
              "      <th>Revenue</th>\n",
              "      <th>Revenue_zcore</th>\n",
              "    </tr>\n",
              "  </thead>\n",
              "  <tbody>\n",
              "    <tr>\n",
              "      <th>0</th>\n",
              "      <td>10072.00</td>\n",
              "      <td>-0.08</td>\n",
              "    </tr>\n",
              "    <tr>\n",
              "      <th>1</th>\n",
              "      <td>6712.00</td>\n",
              "      <td>-0.08</td>\n",
              "    </tr>\n",
              "    <tr>\n",
              "      <th>2</th>\n",
              "      <td>6712.00</td>\n",
              "      <td>-0.08</td>\n",
              "    </tr>\n",
              "    <tr>\n",
              "      <th>3</th>\n",
              "      <td>-12008.00</td>\n",
              "      <td>-0.10</td>\n",
              "    </tr>\n",
              "    <tr>\n",
              "      <th>4</th>\n",
              "      <td>5376.00</td>\n",
              "      <td>-0.08</td>\n",
              "    </tr>\n",
              "    <tr>\n",
              "      <th>...</th>\n",
              "      <td>...</td>\n",
              "      <td>...</td>\n",
              "    </tr>\n",
              "    <tr>\n",
              "      <th>1404430</th>\n",
              "      <td>47136.00</td>\n",
              "      <td>-0.04</td>\n",
              "    </tr>\n",
              "    <tr>\n",
              "      <th>1404431</th>\n",
              "      <td>2472.00</td>\n",
              "      <td>-0.09</td>\n",
              "    </tr>\n",
              "    <tr>\n",
              "      <th>1404432</th>\n",
              "      <td>8752.00</td>\n",
              "      <td>-0.08</td>\n",
              "    </tr>\n",
              "    <tr>\n",
              "      <th>1404433</th>\n",
              "      <td>2640.00</td>\n",
              "      <td>-0.09</td>\n",
              "    </tr>\n",
              "    <tr>\n",
              "      <th>1404434</th>\n",
              "      <td>3528.00</td>\n",
              "      <td>-0.09</td>\n",
              "    </tr>\n",
              "  </tbody>\n",
              "</table>\n",
              "<p>1403032 rows × 2 columns</p>\n",
              "</div>"
            ],
            "text/plain": [
              "          Revenue  Revenue_zcore\n",
              "0        10072.00          -0.08\n",
              "1         6712.00          -0.08\n",
              "2         6712.00          -0.08\n",
              "3       -12008.00          -0.10\n",
              "4         5376.00          -0.08\n",
              "...           ...            ...\n",
              "1404430  47136.00          -0.04\n",
              "1404431   2472.00          -0.09\n",
              "1404432   8752.00          -0.08\n",
              "1404433   2640.00          -0.09\n",
              "1404434   3528.00          -0.09\n",
              "\n",
              "[1403032 rows x 2 columns]"
            ]
          },
          "metadata": {},
          "execution_count": 280
        }
      ]
    },
    {
      "cell_type": "code",
      "metadata": {
        "colab": {
          "base_uri": "https://localhost:8080/"
        },
        "id": "D0wtpmq5a4ET",
        "outputId": "e5bd7152-54ce-437e-c61e-9e9fbaeb6891"
      },
      "source": [
        "data = data[data['Outlier']==0]\n",
        "data.shape"
      ],
      "execution_count": 281,
      "outputs": [
        {
          "output_type": "execute_result",
          "data": {
            "text/plain": [
              "(1403032, 13)"
            ]
          },
          "metadata": {},
          "execution_count": 281
        }
      ]
    },
    {
      "cell_type": "code",
      "metadata": {
        "colab": {
          "base_uri": "https://localhost:8080/",
          "height": 512
        },
        "id": "9xBy6KXxbaD8",
        "outputId": "3c5f27bc-d212-4221-db5e-6c7dbdd85bfa"
      },
      "source": [
        "#再來看整個數值標準化後整個分部的圖，較常用的為box或hist\n",
        "import seaborn as sns\n",
        "import matplotlib.pyplot as plt\n",
        "\n",
        "figure, axis = plt.subplots(1, 2,figsize=(18,8))\n",
        "data['Revenue'].plot.box(ax=axis[0])\n",
        "axis[0].set_title('Revenue box')\n",
        "data['Revenue'].plot.hist(ax=axis[1])\n",
        "axis[1].set_title('Revenue hist') #hist看密度  box看四分衛分佈\n",
        "plt.show()"
      ],
      "execution_count": 282,
      "outputs": [
        {
          "output_type": "display_data",
          "data": {
            "image/png": "[encoded data removed]",
            "text/plain": [
              "<Figure size 1296x576 with 2 Axes>"
            ]
          },
          "metadata": {
            "needs_background": "light"
          }
        }
      ]
    },
    {
      "cell_type": "markdown",
      "metadata": {
        "id": "yK-E1Ei9gQ8m"
      },
      "source": [
        "## IQR抓異常值 (sales_data1)\n",
        "IQR = Q3-Q1\n",
        "\n",
        "Outlier = Observations>Q3 + 1.5IQR or Q1-1.5IQR"
      ]
    },
    {
      "cell_type": "code",
      "metadata": {
        "colab": {
          "base_uri": "https://localhost:8080/",
          "height": 293
        },
        "id": "DlfbVvMXgaZh",
        "outputId": "cbe6e005-dee8-491c-f533-7a1cd4761d43"
      },
      "source": [
        "sales_data1['Revenue'].plot.box() #箱型圖"
      ],
      "execution_count": 283,
      "outputs": [
        {
          "output_type": "execute_result",
          "data": {
            "text/plain": [
              "<matplotlib.axes._subplots.AxesSubplot at 0x7efd951b6ed0>"
            ]
          },
          "metadata": {},
          "execution_count": 283
        },
        {
          "output_type": "display_data",
          "data": {
            "image/png": "[encoded data removed]",
            "text/plain": [
              "<Figure size 432x288 with 1 Axes>"
            ]
          },
          "metadata": {
            "needs_background": "light"
          }
        }
      ]
    },
    {
      "cell_type": "code",
      "metadata": {
        "id": "vTGAF4Uogumb"
      },
      "source": [
        "#def寫python的函式\n",
        "def Outlier_treatment(datacolumn): #傳入datacolumn這個變數\n",
        "  Q1,Q3 =np.percentile(datacolumn,[25,75]) #算出Q1=25 Q3=75 這個是固定的\n",
        "  IQR = Q3-Q1\n",
        "  lower_range = Q1 - (1.5*IQR)\n",
        "  high_range = Q3 + (1.5*IQR)\n",
        "  return lower_range,high_range"
      ],
      "execution_count": 284,
      "outputs": []
    },
    {
      "cell_type": "code",
      "metadata": {
        "colab": {
          "base_uri": "https://localhost:8080/",
          "height": 721
        },
        "id": "3KTtzAqmh_Ub",
        "outputId": "fad624dd-465e-41fe-f731-8b2f0acbd29c"
      },
      "source": [
        "#抓出異常值\n",
        "lowerbound,highbound = Outlier_treatment(sales_data1['Revenue'])\n",
        "\n",
        "sales_data1[(sales_data1['Revenue']< lowerbound) | (sales_data1['Revenue']>highbound)] "
      ],
      "execution_count": 285,
      "outputs": [
        {
          "output_type": "execute_result",
          "data": {
            "text/html": [
              "<div>\n",
              "<style scoped>\n",
              "    .dataframe tbody tr th:only-of-type {\n",
              "        vertical-align: middle;\n",
              "    }\n",
              "\n",
              "    .dataframe tbody tr th {\n",
              "        vertical-align: top;\n",
              "    }\n",
              "\n",
              "    .dataframe thead th {\n",
              "        text-align: right;\n",
              "    }\n",
              "</style>\n",
              "<table border=\"1\" class=\"dataframe\">\n",
              "  <thead>\n",
              "    <tr style=\"text-align: right;\">\n",
              "      <th></th>\n",
              "      <th>InvoiceNo</th>\n",
              "      <th>StockCode</th>\n",
              "      <th>Description</th>\n",
              "      <th>Quantity</th>\n",
              "      <th>InvoiceDate</th>\n",
              "      <th>UnitPrice</th>\n",
              "      <th>CustomerID</th>\n",
              "      <th>Country</th>\n",
              "      <th>member_start_date</th>\n",
              "      <th>first_trans_date</th>\n",
              "      <th>Revenue</th>\n",
              "    </tr>\n",
              "  </thead>\n",
              "  <tbody>\n",
              "    <tr>\n",
              "      <th>9</th>\n",
              "      <td>PS5262016031</td>\n",
              "      <td>HA89A01</td>\n",
              "      <td>肌因彈潤課程單堂</td>\n",
              "      <td>48.00</td>\n",
              "      <td>2019-01-01</td>\n",
              "      <td>9559.00</td>\n",
              "      <td>9100000407160.00</td>\n",
              "      <td>竹區</td>\n",
              "      <td>2007-01-02</td>\n",
              "      <td>2012-07-28</td>\n",
              "      <td>458832.00</td>\n",
              "    </tr>\n",
              "    <tr>\n",
              "      <th>10</th>\n",
              "      <td>PS5262016032</td>\n",
              "      <td>HB90A01</td>\n",
              "      <td>全背順氣活力SPA課程單堂</td>\n",
              "      <td>96.00</td>\n",
              "      <td>2019-01-01</td>\n",
              "      <td>11559.00</td>\n",
              "      <td>9100000407160.00</td>\n",
              "      <td>竹區</td>\n",
              "      <td>2007-01-02</td>\n",
              "      <td>2012-07-28</td>\n",
              "      <td>1109664.00</td>\n",
              "    </tr>\n",
              "    <tr>\n",
              "      <th>13</th>\n",
              "      <td>PS530A050714</td>\n",
              "      <td>FB40A01</td>\n",
              "      <td>旗艦暖宮腹活SPA課程單堂</td>\n",
              "      <td>96.00</td>\n",
              "      <td>2019-01-01</td>\n",
              "      <td>13259.00</td>\n",
              "      <td>9100002554883.00</td>\n",
              "      <td>中區</td>\n",
              "      <td>2018-10-18</td>\n",
              "      <td>2018-10-18</td>\n",
              "      <td>1272864.00</td>\n",
              "    </tr>\n",
              "    <tr>\n",
              "      <th>19</th>\n",
              "      <td>PS5323017890</td>\n",
              "      <td>K0464B</td>\n",
              "      <td>DC龍血緊緻修護面膜26ml+5g-單包</td>\n",
              "      <td>-56.00</td>\n",
              "      <td>2019-01-01</td>\n",
              "      <td>-1006.00</td>\n",
              "      <td>9100000045758.00</td>\n",
              "      <td>中區</td>\n",
              "      <td>2001-05-20</td>\n",
              "      <td>2012-07-17</td>\n",
              "      <td>-56336.00</td>\n",
              "    </tr>\n",
              "    <tr>\n",
              "      <th>31</th>\n",
              "      <td>PS5213017253</td>\n",
              "      <td>HA50A01</td>\n",
              "      <td>胜肽美顏SPA護理單堂</td>\n",
              "      <td>48.00</td>\n",
              "      <td>2019-01-01</td>\n",
              "      <td>6059.00</td>\n",
              "      <td>9100001531076.00</td>\n",
              "      <td>台北B區</td>\n",
              "      <td>2013-11-23</td>\n",
              "      <td>2013-04-09</td>\n",
              "      <td>290832.00</td>\n",
              "    </tr>\n",
              "    <tr>\n",
              "      <th>...</th>\n",
              "      <td>...</td>\n",
              "      <td>...</td>\n",
              "      <td>...</td>\n",
              "      <td>...</td>\n",
              "      <td>...</td>\n",
              "      <td>...</td>\n",
              "      <td>...</td>\n",
              "      <td>...</td>\n",
              "      <td>...</td>\n",
              "      <td>...</td>\n",
              "      <td>...</td>\n",
              "    </tr>\n",
              "    <tr>\n",
              "      <th>1404400</th>\n",
              "      <td>PS5324024939</td>\n",
              "      <td>JAA3G2</td>\n",
              "      <td>玻尿酸超保濕精華96%原液60ml</td>\n",
              "      <td>16.00</td>\n",
              "      <td>2020-12-31</td>\n",
              "      <td>4239.00</td>\n",
              "      <td>9100000043037.00</td>\n",
              "      <td>中區</td>\n",
              "      <td>2004-11-11</td>\n",
              "      <td>2012-07-23</td>\n",
              "      <td>67824.00</td>\n",
              "    </tr>\n",
              "    <tr>\n",
              "      <th>1404401</th>\n",
              "      <td>PS5324024939</td>\n",
              "      <td>KQ02</td>\n",
              "      <td>玫瑰晶萃活膚液130ml</td>\n",
              "      <td>24.00</td>\n",
              "      <td>2020-12-31</td>\n",
              "      <td>5395.00</td>\n",
              "      <td>9100000043037.00</td>\n",
              "      <td>中區</td>\n",
              "      <td>2004-11-11</td>\n",
              "      <td>2012-07-23</td>\n",
              "      <td>129480.00</td>\n",
              "    </tr>\n",
              "    <tr>\n",
              "      <th>1404418</th>\n",
              "      <td>PS5324024940</td>\n",
              "      <td>KQ06</td>\n",
              "      <td>玫瑰晶萃瞬效霜30ml</td>\n",
              "      <td>16.00</td>\n",
              "      <td>2020-12-31</td>\n",
              "      <td>4083.00</td>\n",
              "      <td>9100000706055.00</td>\n",
              "      <td>中區</td>\n",
              "      <td>2011-12-21</td>\n",
              "      <td>2014-03-10</td>\n",
              "      <td>65328.00</td>\n",
              "    </tr>\n",
              "    <tr>\n",
              "      <th>1404421</th>\n",
              "      <td>PS5324024940</td>\n",
              "      <td>MAA7G1</td>\n",
              "      <td>白金密集煥白面膜18ml*6pcs</td>\n",
              "      <td>32.00</td>\n",
              "      <td>2020-12-31</td>\n",
              "      <td>6923.00</td>\n",
              "      <td>9100000706055.00</td>\n",
              "      <td>中區</td>\n",
              "      <td>2011-12-21</td>\n",
              "      <td>2014-03-10</td>\n",
              "      <td>221536.00</td>\n",
              "    </tr>\n",
              "    <tr>\n",
              "      <th>1404424</th>\n",
              "      <td>PS5324024941</td>\n",
              "      <td>WD096</td>\n",
              "      <td>緊緻保濕裸膚羽翼面膜25ml-零售單包</td>\n",
              "      <td>48.00</td>\n",
              "      <td>2020-12-31</td>\n",
              "      <td>3354.00</td>\n",
              "      <td>9100000595826.00</td>\n",
              "      <td>中區</td>\n",
              "      <td>2010-03-15</td>\n",
              "      <td>2012-07-11</td>\n",
              "      <td>160992.00</td>\n",
              "    </tr>\n",
              "  </tbody>\n",
              "</table>\n",
              "<p>222528 rows × 11 columns</p>\n",
              "</div>"
            ],
            "text/plain": [
              "            InvoiceNo StockCode  ... first_trans_date    Revenue\n",
              "9        PS5262016031   HA89A01  ...       2012-07-28  458832.00\n",
              "10       PS5262016032   HB90A01  ...       2012-07-28 1109664.00\n",
              "13       PS530A050714   FB40A01  ...       2018-10-18 1272864.00\n",
              "19       PS5323017890    K0464B  ...       2012-07-17  -56336.00\n",
              "31       PS5213017253   HA50A01  ...       2013-04-09  290832.00\n",
              "...               ...       ...  ...              ...        ...\n",
              "1404400  PS5324024939    JAA3G2  ...       2012-07-23   67824.00\n",
              "1404401  PS5324024939      KQ02  ...       2012-07-23  129480.00\n",
              "1404418  PS5324024940      KQ06  ...       2014-03-10   65328.00\n",
              "1404421  PS5324024940    MAA7G1  ...       2014-03-10  221536.00\n",
              "1404424  PS5324024941     WD096  ...       2012-07-11  160992.00\n",
              "\n",
              "[222528 rows x 11 columns]"
            ]
          },
          "metadata": {},
          "execution_count": 285
        }
      ]
    },
    {
      "cell_type": "code",
      "metadata": {
        "id": "OhmtIG03ihI9"
      },
      "source": [
        "sales_data1.drop(sales_data1[(sales_data1['Revenue']< lowerbound) | (sales_data1['Revenue']> highbound)].index,inplace=True) #去除異常值"
      ],
      "execution_count": 286,
      "outputs": []
    },
    {
      "cell_type": "code",
      "metadata": {
        "colab": {
          "base_uri": "https://localhost:8080/",
          "height": 499
        },
        "id": "8JTjmW2PpW2_",
        "outputId": "a7237cfb-0e44-4f36-def3-0d19da6c9263"
      },
      "source": [
        "figure, axis = plt.subplots(1, 2,figsize=(18,8))\n",
        "sales_data1['Revenue'].plot.box(ax=axis[0])\n",
        "axis[0].set_title('Revenue box')\n",
        "sales_data1['Revenue'].plot.hist(ax=axis[1]) #hist圖\n",
        "axis[1].set_title('Revenue hist')\n",
        "plt.show()"
      ],
      "execution_count": 287,
      "outputs": [
        {
          "output_type": "display_data",
          "data": {
            "image/png": "[encoded data removed]",
            "text/plain": [
              "<Figure size 1296x576 with 2 Axes>"
            ]
          },
          "metadata": {
            "needs_background": "light"
          }
        }
      ]
    },
    {
      "cell_type": "markdown",
      "metadata": {
        "id": "DSY-SNWIrC0f"
      },
      "source": [
        "##畫圖（圖表分析）"
      ]
    },
    {
      "cell_type": "markdown",
      "metadata": {
        "id": "P3KJw2dksqGQ"
      },
      "source": [
        "###Minthly Revenue (畫折線圖)"
      ]
    },
    {
      "cell_type": "code",
      "metadata": {
        "colab": {
          "base_uri": "https://localhost:8080/",
          "height": 313
        },
        "id": "hpBr60KnqEtQ",
        "outputId": "d6e378d6-5cd6-4c86-c21d-a228ed576c0e"
      },
      "source": [
        "sales_data1.head()"
      ],
      "execution_count": 288,
      "outputs": [
        {
          "output_type": "execute_result",
          "data": {
            "text/html": [
              "<div>\n",
              "<style scoped>\n",
              "    .dataframe tbody tr th:only-of-type {\n",
              "        vertical-align: middle;\n",
              "    }\n",
              "\n",
              "    .dataframe tbody tr th {\n",
              "        vertical-align: top;\n",
              "    }\n",
              "\n",
              "    .dataframe thead th {\n",
              "        text-align: right;\n",
              "    }\n",
              "</style>\n",
              "<table border=\"1\" class=\"dataframe\">\n",
              "  <thead>\n",
              "    <tr style=\"text-align: right;\">\n",
              "      <th></th>\n",
              "      <th>InvoiceNo</th>\n",
              "      <th>StockCode</th>\n",
              "      <th>Description</th>\n",
              "      <th>Quantity</th>\n",
              "      <th>InvoiceDate</th>\n",
              "      <th>UnitPrice</th>\n",
              "      <th>CustomerID</th>\n",
              "      <th>Country</th>\n",
              "      <th>member_start_date</th>\n",
              "      <th>first_trans_date</th>\n",
              "      <th>Revenue</th>\n",
              "    </tr>\n",
              "  </thead>\n",
              "  <tbody>\n",
              "    <tr>\n",
              "      <th>0</th>\n",
              "      <td>PS5327001158</td>\n",
              "      <td>JA01</td>\n",
              "      <td>晶淬雪潔顏乳100ml</td>\n",
              "      <td>8.00</td>\n",
              "      <td>2019-01-01</td>\n",
              "      <td>1259.00</td>\n",
              "      <td>9100002488768.00</td>\n",
              "      <td>中區</td>\n",
              "      <td>2019-12-09</td>\n",
              "      <td>2018-06-24</td>\n",
              "      <td>10072.00</td>\n",
              "    </tr>\n",
              "    <tr>\n",
              "      <th>1</th>\n",
              "      <td>PS5335020955</td>\n",
              "      <td>KG06</td>\n",
              "      <td>多肽亮眼乳霜20g-保濕型</td>\n",
              "      <td>8.00</td>\n",
              "      <td>2019-01-01</td>\n",
              "      <td>839.00</td>\n",
              "      <td>9100002556566.00</td>\n",
              "      <td>中區</td>\n",
              "      <td>2018-10-21</td>\n",
              "      <td>2018-10-21</td>\n",
              "      <td>6712.00</td>\n",
              "    </tr>\n",
              "    <tr>\n",
              "      <th>2</th>\n",
              "      <td>PS5335020955</td>\n",
              "      <td>BJ102</td>\n",
              "      <td>檸檬精油10ml MUI</td>\n",
              "      <td>8.00</td>\n",
              "      <td>2019-01-01</td>\n",
              "      <td>839.00</td>\n",
              "      <td>9100002556566.00</td>\n",
              "      <td>中區</td>\n",
              "      <td>2018-10-21</td>\n",
              "      <td>2018-10-21</td>\n",
              "      <td>6712.00</td>\n",
              "    </tr>\n",
              "    <tr>\n",
              "      <th>3</th>\n",
              "      <td>PS5335020955</td>\n",
              "      <td>JZA3G1</td>\n",
              "      <td>柚見快樂精油15ml MUI</td>\n",
              "      <td>-8.00</td>\n",
              "      <td>2019-01-01</td>\n",
              "      <td>-1501.00</td>\n",
              "      <td>9100002556566.00</td>\n",
              "      <td>中區</td>\n",
              "      <td>2018-10-21</td>\n",
              "      <td>2018-10-21</td>\n",
              "      <td>-12008.00</td>\n",
              "    </tr>\n",
              "    <tr>\n",
              "      <th>4</th>\n",
              "      <td>PS5444006919</td>\n",
              "      <td>BJ103</td>\n",
              "      <td>細花冬青香氛油10ml MUI</td>\n",
              "      <td>8.00</td>\n",
              "      <td>2019-01-01</td>\n",
              "      <td>672.00</td>\n",
              "      <td>9100002582077.00</td>\n",
              "      <td>南區</td>\n",
              "      <td>2018-12-04</td>\n",
              "      <td>2018-12-04</td>\n",
              "      <td>5376.00</td>\n",
              "    </tr>\n",
              "  </tbody>\n",
              "</table>\n",
              "</div>"
            ],
            "text/plain": [
              "      InvoiceNo StockCode  ... first_trans_date   Revenue\n",
              "0  PS5327001158      JA01  ...       2018-06-24  10072.00\n",
              "1  PS5335020955      KG06  ...       2018-10-21   6712.00\n",
              "2  PS5335020955     BJ102  ...       2018-10-21   6712.00\n",
              "3  PS5335020955    JZA3G1  ...       2018-10-21 -12008.00\n",
              "4  PS5444006919     BJ103  ...       2018-12-04   5376.00\n",
              "\n",
              "[5 rows x 11 columns]"
            ]
          },
          "metadata": {},
          "execution_count": 288
        }
      ]
    },
    {
      "cell_type": "code",
      "metadata": {
        "colab": {
          "base_uri": "https://localhost:8080/"
        },
        "id": "0lsRCixJssoe",
        "outputId": "840e611b-ec44-48df-9881-207f4b008090"
      },
      "source": [
        "sales_data1.info()"
      ],
      "execution_count": 289,
      "outputs": [
        {
          "output_type": "stream",
          "name": "stdout",
          "text": [
            "<class 'pandas.core.frame.DataFrame'>\n",
            "Int64Index: 1181196 entries, 0 to 1404434\n",
            "Data columns (total 11 columns):\n",
            " #   Column             Non-Null Count    Dtype  \n",
            "---  ------             --------------    -----  \n",
            " 0   InvoiceNo          1181196 non-null  object \n",
            " 1   StockCode          1181196 non-null  object \n",
            " 2   Description        1181196 non-null  object \n",
            " 3   Quantity           1181196 non-null  float64\n",
            " 4   InvoiceDate        1181196 non-null  object \n",
            " 5   UnitPrice          1181196 non-null  float64\n",
            " 6   CustomerID         1181196 non-null  float64\n",
            " 7   Country            1181196 non-null  object \n",
            " 8   member_start_date  1144520 non-null  object \n",
            " 9   first_trans_date   1177960 non-null  object \n",
            " 10  Revenue            1181196 non-null  float64\n",
            "dtypes: float64(4), object(7)\n",
            "memory usage: 108.1+ MB\n"
          ]
        }
      ]
    },
    {
      "cell_type": "code",
      "metadata": {
        "colab": {
          "base_uri": "https://localhost:8080/"
        },
        "id": "JFMHaOJ8s4S7",
        "outputId": "df5aa2a4-d4f4-4fec-da39-16379a888bdd"
      },
      "source": [
        "sales_data1['InvoiceDate'] = pd.to_datetime(sales_data1['InvoiceDate']) #轉換成datetime格式\n",
        "sales_data1.info()"
      ],
      "execution_count": 290,
      "outputs": [
        {
          "output_type": "stream",
          "name": "stdout",
          "text": [
            "<class 'pandas.core.frame.DataFrame'>\n",
            "Int64Index: 1181196 entries, 0 to 1404434\n",
            "Data columns (total 11 columns):\n",
            " #   Column             Non-Null Count    Dtype         \n",
            "---  ------             --------------    -----         \n",
            " 0   InvoiceNo          1181196 non-null  object        \n",
            " 1   StockCode          1181196 non-null  object        \n",
            " 2   Description        1181196 non-null  object        \n",
            " 3   Quantity           1181196 non-null  float64       \n",
            " 4   InvoiceDate        1181196 non-null  datetime64[ns]\n",
            " 5   UnitPrice          1181196 non-null  float64       \n",
            " 6   CustomerID         1181196 non-null  float64       \n",
            " 7   Country            1181196 non-null  object        \n",
            " 8   member_start_date  1144520 non-null  object        \n",
            " 9   first_trans_date   1177960 non-null  object        \n",
            " 10  Revenue            1181196 non-null  float64       \n",
            "dtypes: datetime64[ns](1), float64(4), object(6)\n",
            "memory usage: 108.1+ MB\n"
          ]
        }
      ]
    },
    {
      "cell_type": "code",
      "metadata": {
        "colab": {
          "base_uri": "https://localhost:8080/"
        },
        "id": "pD7Hx84Kvzzq",
        "outputId": "1869abeb-1216-4f8e-f82c-cbbfc8ab7ef9"
      },
      "source": [
        "sales_data1.InvoiceDate.dt.year"
      ],
      "execution_count": 291,
      "outputs": [
        {
          "output_type": "execute_result",
          "data": {
            "text/plain": [
              "0          2019\n",
              "1          2019\n",
              "2          2019\n",
              "3          2019\n",
              "4          2019\n",
              "           ... \n",
              "1404430    2020\n",
              "1404431    2020\n",
              "1404432    2020\n",
              "1404433    2020\n",
              "1404434    2020\n",
              "Name: InvoiceDate, Length: 1181196, dtype: int64"
            ]
          },
          "metadata": {},
          "execution_count": 291
        }
      ]
    },
    {
      "cell_type": "code",
      "metadata": {
        "colab": {
          "base_uri": "https://localhost:8080/",
          "height": 313
        },
        "id": "c54kgqzLtCRl",
        "outputId": "71518a7f-3e97-4848-bc86-16d8fbba1a3a"
      },
      "source": [
        "sales_data1['YearMonth'] = sales_data1['InvoiceDate'].map(lambda date:100 * date.year+date.month)\n",
        "sales_data1.head()"
      ],
      "execution_count": 292,
      "outputs": [
        {
          "output_type": "execute_result",
          "data": {
            "text/html": [
              "<div>\n",
              "<style scoped>\n",
              "    .dataframe tbody tr th:only-of-type {\n",
              "        vertical-align: middle;\n",
              "    }\n",
              "\n",
              "    .dataframe tbody tr th {\n",
              "        vertical-align: top;\n",
              "    }\n",
              "\n",
              "    .dataframe thead th {\n",
              "        text-align: right;\n",
              "    }\n",
              "</style>\n",
              "<table border=\"1\" class=\"dataframe\">\n",
              "  <thead>\n",
              "    <tr style=\"text-align: right;\">\n",
              "      <th></th>\n",
              "      <th>InvoiceNo</th>\n",
              "      <th>StockCode</th>\n",
              "      <th>Description</th>\n",
              "      <th>Quantity</th>\n",
              "      <th>InvoiceDate</th>\n",
              "      <th>UnitPrice</th>\n",
              "      <th>CustomerID</th>\n",
              "      <th>Country</th>\n",
              "      <th>member_start_date</th>\n",
              "      <th>first_trans_date</th>\n",
              "      <th>Revenue</th>\n",
              "      <th>YearMonth</th>\n",
              "    </tr>\n",
              "  </thead>\n",
              "  <tbody>\n",
              "    <tr>\n",
              "      <th>0</th>\n",
              "      <td>PS5327001158</td>\n",
              "      <td>JA01</td>\n",
              "      <td>晶淬雪潔顏乳100ml</td>\n",
              "      <td>8.00</td>\n",
              "      <td>2019-01-01</td>\n",
              "      <td>1259.00</td>\n",
              "      <td>9100002488768.00</td>\n",
              "      <td>中區</td>\n",
              "      <td>2019-12-09</td>\n",
              "      <td>2018-06-24</td>\n",
              "      <td>10072.00</td>\n",
              "      <td>201901</td>\n",
              "    </tr>\n",
              "    <tr>\n",
              "      <th>1</th>\n",
              "      <td>PS5335020955</td>\n",
              "      <td>KG06</td>\n",
              "      <td>多肽亮眼乳霜20g-保濕型</td>\n",
              "      <td>8.00</td>\n",
              "      <td>2019-01-01</td>\n",
              "      <td>839.00</td>\n",
              "      <td>9100002556566.00</td>\n",
              "      <td>中區</td>\n",
              "      <td>2018-10-21</td>\n",
              "      <td>2018-10-21</td>\n",
              "      <td>6712.00</td>\n",
              "      <td>201901</td>\n",
              "    </tr>\n",
              "    <tr>\n",
              "      <th>2</th>\n",
              "      <td>PS5335020955</td>\n",
              "      <td>BJ102</td>\n",
              "      <td>檸檬精油10ml MUI</td>\n",
              "      <td>8.00</td>\n",
              "      <td>2019-01-01</td>\n",
              "      <td>839.00</td>\n",
              "      <td>9100002556566.00</td>\n",
              "      <td>中區</td>\n",
              "      <td>2018-10-21</td>\n",
              "      <td>2018-10-21</td>\n",
              "      <td>6712.00</td>\n",
              "      <td>201901</td>\n",
              "    </tr>\n",
              "    <tr>\n",
              "      <th>3</th>\n",
              "      <td>PS5335020955</td>\n",
              "      <td>JZA3G1</td>\n",
              "      <td>柚見快樂精油15ml MUI</td>\n",
              "      <td>-8.00</td>\n",
              "      <td>2019-01-01</td>\n",
              "      <td>-1501.00</td>\n",
              "      <td>9100002556566.00</td>\n",
              "      <td>中區</td>\n",
              "      <td>2018-10-21</td>\n",
              "      <td>2018-10-21</td>\n",
              "      <td>-12008.00</td>\n",
              "      <td>201901</td>\n",
              "    </tr>\n",
              "    <tr>\n",
              "      <th>4</th>\n",
              "      <td>PS5444006919</td>\n",
              "      <td>BJ103</td>\n",
              "      <td>細花冬青香氛油10ml MUI</td>\n",
              "      <td>8.00</td>\n",
              "      <td>2019-01-01</td>\n",
              "      <td>672.00</td>\n",
              "      <td>9100002582077.00</td>\n",
              "      <td>南區</td>\n",
              "      <td>2018-12-04</td>\n",
              "      <td>2018-12-04</td>\n",
              "      <td>5376.00</td>\n",
              "      <td>201901</td>\n",
              "    </tr>\n",
              "  </tbody>\n",
              "</table>\n",
              "</div>"
            ],
            "text/plain": [
              "      InvoiceNo StockCode  ...   Revenue  YearMonth\n",
              "0  PS5327001158      JA01  ...  10072.00     201901\n",
              "1  PS5335020955      KG06  ...   6712.00     201901\n",
              "2  PS5335020955     BJ102  ...   6712.00     201901\n",
              "3  PS5335020955    JZA3G1  ... -12008.00     201901\n",
              "4  PS5444006919     BJ103  ...   5376.00     201901\n",
              "\n",
              "[5 rows x 12 columns]"
            ]
          },
          "metadata": {},
          "execution_count": 292
        }
      ]
    },
    {
      "cell_type": "code",
      "metadata": {
        "colab": {
          "base_uri": "https://localhost:8080/",
          "height": 802
        },
        "id": "zpYvmcOet_d8",
        "outputId": "7c9291bd-4935-49d8-a8f0-5f3f46c39df3"
      },
      "source": [
        "tx_revenue = sales_data1.groupby(['YearMonth'])['Revenue'].sum().reset_index() #算出每個月的加總Revenue\n",
        "tx_revenue"
      ],
      "execution_count": 293,
      "outputs": [
        {
          "output_type": "execute_result",
          "data": {
            "text/html": [
              "<div>\n",
              "<style scoped>\n",
              "    .dataframe tbody tr th:only-of-type {\n",
              "        vertical-align: middle;\n",
              "    }\n",
              "\n",
              "    .dataframe tbody tr th {\n",
              "        vertical-align: top;\n",
              "    }\n",
              "\n",
              "    .dataframe thead th {\n",
              "        text-align: right;\n",
              "    }\n",
              "</style>\n",
              "<table border=\"1\" class=\"dataframe\">\n",
              "  <thead>\n",
              "    <tr style=\"text-align: right;\">\n",
              "      <th></th>\n",
              "      <th>YearMonth</th>\n",
              "      <th>Revenue</th>\n",
              "    </tr>\n",
              "  </thead>\n",
              "  <tbody>\n",
              "    <tr>\n",
              "      <th>0</th>\n",
              "      <td>201901</td>\n",
              "      <td>425743824.00</td>\n",
              "    </tr>\n",
              "    <tr>\n",
              "      <th>1</th>\n",
              "      <td>201902</td>\n",
              "      <td>300617976.00</td>\n",
              "    </tr>\n",
              "    <tr>\n",
              "      <th>2</th>\n",
              "      <td>201903</td>\n",
              "      <td>699778888.00</td>\n",
              "    </tr>\n",
              "    <tr>\n",
              "      <th>3</th>\n",
              "      <td>201904</td>\n",
              "      <td>516812544.00</td>\n",
              "    </tr>\n",
              "    <tr>\n",
              "      <th>4</th>\n",
              "      <td>201905</td>\n",
              "      <td>551044368.00</td>\n",
              "    </tr>\n",
              "    <tr>\n",
              "      <th>5</th>\n",
              "      <td>201906</td>\n",
              "      <td>453681976.00</td>\n",
              "    </tr>\n",
              "    <tr>\n",
              "      <th>6</th>\n",
              "      <td>201907</td>\n",
              "      <td>480213760.00</td>\n",
              "    </tr>\n",
              "    <tr>\n",
              "      <th>7</th>\n",
              "      <td>201908</td>\n",
              "      <td>500785128.00</td>\n",
              "    </tr>\n",
              "    <tr>\n",
              "      <th>8</th>\n",
              "      <td>201909</td>\n",
              "      <td>553368896.00</td>\n",
              "    </tr>\n",
              "    <tr>\n",
              "      <th>9</th>\n",
              "      <td>201910</td>\n",
              "      <td>643763416.00</td>\n",
              "    </tr>\n",
              "    <tr>\n",
              "      <th>10</th>\n",
              "      <td>201911</td>\n",
              "      <td>602731880.00</td>\n",
              "    </tr>\n",
              "    <tr>\n",
              "      <th>11</th>\n",
              "      <td>201912</td>\n",
              "      <td>650472000.00</td>\n",
              "    </tr>\n",
              "    <tr>\n",
              "      <th>12</th>\n",
              "      <td>202001</td>\n",
              "      <td>506539352.00</td>\n",
              "    </tr>\n",
              "    <tr>\n",
              "      <th>13</th>\n",
              "      <td>202002</td>\n",
              "      <td>510690080.00</td>\n",
              "    </tr>\n",
              "    <tr>\n",
              "      <th>14</th>\n",
              "      <td>202003</td>\n",
              "      <td>591391280.00</td>\n",
              "    </tr>\n",
              "    <tr>\n",
              "      <th>15</th>\n",
              "      <td>202004</td>\n",
              "      <td>567085392.00</td>\n",
              "    </tr>\n",
              "    <tr>\n",
              "      <th>16</th>\n",
              "      <td>202005</td>\n",
              "      <td>645260568.00</td>\n",
              "    </tr>\n",
              "    <tr>\n",
              "      <th>17</th>\n",
              "      <td>202006</td>\n",
              "      <td>625529096.00</td>\n",
              "    </tr>\n",
              "    <tr>\n",
              "      <th>18</th>\n",
              "      <td>202007</td>\n",
              "      <td>489143240.00</td>\n",
              "    </tr>\n",
              "    <tr>\n",
              "      <th>19</th>\n",
              "      <td>202008</td>\n",
              "      <td>549924200.00</td>\n",
              "    </tr>\n",
              "    <tr>\n",
              "      <th>20</th>\n",
              "      <td>202009</td>\n",
              "      <td>491556200.00</td>\n",
              "    </tr>\n",
              "    <tr>\n",
              "      <th>21</th>\n",
              "      <td>202010</td>\n",
              "      <td>513489528.00</td>\n",
              "    </tr>\n",
              "    <tr>\n",
              "      <th>22</th>\n",
              "      <td>202011</td>\n",
              "      <td>586158760.00</td>\n",
              "    </tr>\n",
              "    <tr>\n",
              "      <th>23</th>\n",
              "      <td>202012</td>\n",
              "      <td>584113720.00</td>\n",
              "    </tr>\n",
              "  </tbody>\n",
              "</table>\n",
              "</div>"
            ],
            "text/plain": [
              "    YearMonth      Revenue\n",
              "0      201901 425743824.00\n",
              "1      201902 300617976.00\n",
              "2      201903 699778888.00\n",
              "3      201904 516812544.00\n",
              "4      201905 551044368.00\n",
              "5      201906 453681976.00\n",
              "6      201907 480213760.00\n",
              "7      201908 500785128.00\n",
              "8      201909 553368896.00\n",
              "9      201910 643763416.00\n",
              "10     201911 602731880.00\n",
              "11     201912 650472000.00\n",
              "12     202001 506539352.00\n",
              "13     202002 510690080.00\n",
              "14     202003 591391280.00\n",
              "15     202004 567085392.00\n",
              "16     202005 645260568.00\n",
              "17     202006 625529096.00\n",
              "18     202007 489143240.00\n",
              "19     202008 549924200.00\n",
              "20     202009 491556200.00\n",
              "21     202010 513489528.00\n",
              "22     202011 586158760.00\n",
              "23     202012 584113720.00"
            ]
          },
          "metadata": {},
          "execution_count": 293
        }
      ]
    },
    {
      "cell_type": "code",
      "metadata": {
        "colab": {
          "base_uri": "https://localhost:8080/"
        },
        "id": "b5A6ZdWLxkoj",
        "outputId": "9a29f5ee-cf76-4994-81ac-19e3fad66ece"
      },
      "source": [
        "tx_revenue.info() #型態要改"
      ],
      "execution_count": 294,
      "outputs": [
        {
          "output_type": "stream",
          "name": "stdout",
          "text": [
            "<class 'pandas.core.frame.DataFrame'>\n",
            "RangeIndex: 24 entries, 0 to 23\n",
            "Data columns (total 2 columns):\n",
            " #   Column     Non-Null Count  Dtype  \n",
            "---  ------     --------------  -----  \n",
            " 0   YearMonth  24 non-null     int64  \n",
            " 1   Revenue    24 non-null     float64\n",
            "dtypes: float64(1), int64(1)\n",
            "memory usage: 512.0 bytes\n"
          ]
        }
      ]
    },
    {
      "cell_type": "code",
      "metadata": {
        "colab": {
          "base_uri": "https://localhost:8080/"
        },
        "id": "rgZj5eC51M3w",
        "outputId": "7d98c30b-6b33-46bc-df68-80ddcd4e22d9"
      },
      "source": [
        "tx_revenue['YearMonth'] = tx_revenue['YearMonth'].astype(str)\n",
        "tx_revenue.info()"
      ],
      "execution_count": 295,
      "outputs": [
        {
          "output_type": "stream",
          "name": "stdout",
          "text": [
            "<class 'pandas.core.frame.DataFrame'>\n",
            "RangeIndex: 24 entries, 0 to 23\n",
            "Data columns (total 2 columns):\n",
            " #   Column     Non-Null Count  Dtype  \n",
            "---  ------     --------------  -----  \n",
            " 0   YearMonth  24 non-null     object \n",
            " 1   Revenue    24 non-null     float64\n",
            "dtypes: float64(1), object(1)\n",
            "memory usage: 512.0+ bytes\n"
          ]
        }
      ]
    },
    {
      "cell_type": "code",
      "metadata": {
        "colab": {
          "base_uri": "https://localhost:8080/",
          "height": 399
        },
        "id": "fZivOUxYx8NA",
        "outputId": "2c296758-bd0b-4d5b-dc64-a785fff6c6c0"
      },
      "source": [
        "fig,axes = plt.subplots(figsize=(20,6))\n",
        "sns.lineplot(ax = axes,x='YearMonth',y='Revenue',data=tx_revenue)\n",
        "plt.show()"
      ],
      "execution_count": 296,
      "outputs": [
        {
          "output_type": "display_data",
          "data": {
            "image/png": "[encoded data removed]",
            "text/plain": [
              "<Figure size 1440x432 with 1 Axes>"
            ]
          },
          "metadata": {
            "needs_background": "light"
          }
        }
      ]
    },
    {
      "cell_type": "markdown",
      "metadata": {
        "id": "QYRSvenB3xtN"
      },
      "source": [
        "###Monthly growth rate"
      ]
    },
    {
      "cell_type": "code",
      "metadata": {
        "colab": {
          "base_uri": "https://localhost:8080/",
          "height": 802
        },
        "id": "yZwNFAYvzuux",
        "outputId": "5c1d4310-3503-460e-bd71-e88a1d7fe92f"
      },
      "source": [
        "tx_revenue['GrowthRate'] = tx_revenue['Revenue'].pct_change() #套入『成長率的公式』-此Row的值與前一筆資料的Row值差異的百分比\n",
        "tx_revenue"
      ],
      "execution_count": 297,
      "outputs": [
        {
          "output_type": "execute_result",
          "data": {
            "text/html": [
              "<div>\n",
              "<style scoped>\n",
              "    .dataframe tbody tr th:only-of-type {\n",
              "        vertical-align: middle;\n",
              "    }\n",
              "\n",
              "    .dataframe tbody tr th {\n",
              "        vertical-align: top;\n",
              "    }\n",
              "\n",
              "    .dataframe thead th {\n",
              "        text-align: right;\n",
              "    }\n",
              "</style>\n",
              "<table border=\"1\" class=\"dataframe\">\n",
              "  <thead>\n",
              "    <tr style=\"text-align: right;\">\n",
              "      <th></th>\n",
              "      <th>YearMonth</th>\n",
              "      <th>Revenue</th>\n",
              "      <th>GrowthRate</th>\n",
              "    </tr>\n",
              "  </thead>\n",
              "  <tbody>\n",
              "    <tr>\n",
              "      <th>0</th>\n",
              "      <td>201901</td>\n",
              "      <td>425743824.00</td>\n",
              "      <td>nan</td>\n",
              "    </tr>\n",
              "    <tr>\n",
              "      <th>1</th>\n",
              "      <td>201902</td>\n",
              "      <td>300617976.00</td>\n",
              "      <td>-0.29</td>\n",
              "    </tr>\n",
              "    <tr>\n",
              "      <th>2</th>\n",
              "      <td>201903</td>\n",
              "      <td>699778888.00</td>\n",
              "      <td>1.33</td>\n",
              "    </tr>\n",
              "    <tr>\n",
              "      <th>3</th>\n",
              "      <td>201904</td>\n",
              "      <td>516812544.00</td>\n",
              "      <td>-0.26</td>\n",
              "    </tr>\n",
              "    <tr>\n",
              "      <th>4</th>\n",
              "      <td>201905</td>\n",
              "      <td>551044368.00</td>\n",
              "      <td>0.07</td>\n",
              "    </tr>\n",
              "    <tr>\n",
              "      <th>5</th>\n",
              "      <td>201906</td>\n",
              "      <td>453681976.00</td>\n",
              "      <td>-0.18</td>\n",
              "    </tr>\n",
              "    <tr>\n",
              "      <th>6</th>\n",
              "      <td>201907</td>\n",
              "      <td>480213760.00</td>\n",
              "      <td>0.06</td>\n",
              "    </tr>\n",
              "    <tr>\n",
              "      <th>7</th>\n",
              "      <td>201908</td>\n",
              "      <td>500785128.00</td>\n",
              "      <td>0.04</td>\n",
              "    </tr>\n",
              "    <tr>\n",
              "      <th>8</th>\n",
              "      <td>201909</td>\n",
              "      <td>553368896.00</td>\n",
              "      <td>0.11</td>\n",
              "    </tr>\n",
              "    <tr>\n",
              "      <th>9</th>\n",
              "      <td>201910</td>\n",
              "      <td>643763416.00</td>\n",
              "      <td>0.16</td>\n",
              "    </tr>\n",
              "    <tr>\n",
              "      <th>10</th>\n",
              "      <td>201911</td>\n",
              "      <td>602731880.00</td>\n",
              "      <td>-0.06</td>\n",
              "    </tr>\n",
              "    <tr>\n",
              "      <th>11</th>\n",
              "      <td>201912</td>\n",
              "      <td>650472000.00</td>\n",
              "      <td>0.08</td>\n",
              "    </tr>\n",
              "    <tr>\n",
              "      <th>12</th>\n",
              "      <td>202001</td>\n",
              "      <td>506539352.00</td>\n",
              "      <td>-0.22</td>\n",
              "    </tr>\n",
              "    <tr>\n",
              "      <th>13</th>\n",
              "      <td>202002</td>\n",
              "      <td>510690080.00</td>\n",
              "      <td>0.01</td>\n",
              "    </tr>\n",
              "    <tr>\n",
              "      <th>14</th>\n",
              "      <td>202003</td>\n",
              "      <td>591391280.00</td>\n",
              "      <td>0.16</td>\n",
              "    </tr>\n",
              "    <tr>\n",
              "      <th>15</th>\n",
              "      <td>202004</td>\n",
              "      <td>567085392.00</td>\n",
              "      <td>-0.04</td>\n",
              "    </tr>\n",
              "    <tr>\n",
              "      <th>16</th>\n",
              "      <td>202005</td>\n",
              "      <td>645260568.00</td>\n",
              "      <td>0.14</td>\n",
              "    </tr>\n",
              "    <tr>\n",
              "      <th>17</th>\n",
              "      <td>202006</td>\n",
              "      <td>625529096.00</td>\n",
              "      <td>-0.03</td>\n",
              "    </tr>\n",
              "    <tr>\n",
              "      <th>18</th>\n",
              "      <td>202007</td>\n",
              "      <td>489143240.00</td>\n",
              "      <td>-0.22</td>\n",
              "    </tr>\n",
              "    <tr>\n",
              "      <th>19</th>\n",
              "      <td>202008</td>\n",
              "      <td>549924200.00</td>\n",
              "      <td>0.12</td>\n",
              "    </tr>\n",
              "    <tr>\n",
              "      <th>20</th>\n",
              "      <td>202009</td>\n",
              "      <td>491556200.00</td>\n",
              "      <td>-0.11</td>\n",
              "    </tr>\n",
              "    <tr>\n",
              "      <th>21</th>\n",
              "      <td>202010</td>\n",
              "      <td>513489528.00</td>\n",
              "      <td>0.04</td>\n",
              "    </tr>\n",
              "    <tr>\n",
              "      <th>22</th>\n",
              "      <td>202011</td>\n",
              "      <td>586158760.00</td>\n",
              "      <td>0.14</td>\n",
              "    </tr>\n",
              "    <tr>\n",
              "      <th>23</th>\n",
              "      <td>202012</td>\n",
              "      <td>584113720.00</td>\n",
              "      <td>-0.00</td>\n",
              "    </tr>\n",
              "  </tbody>\n",
              "</table>\n",
              "</div>"
            ],
            "text/plain": [
              "   YearMonth      Revenue  GrowthRate\n",
              "0     201901 425743824.00         nan\n",
              "1     201902 300617976.00       -0.29\n",
              "2     201903 699778888.00        1.33\n",
              "3     201904 516812544.00       -0.26\n",
              "4     201905 551044368.00        0.07\n",
              "5     201906 453681976.00       -0.18\n",
              "6     201907 480213760.00        0.06\n",
              "7     201908 500785128.00        0.04\n",
              "8     201909 553368896.00        0.11\n",
              "9     201910 643763416.00        0.16\n",
              "10    201911 602731880.00       -0.06\n",
              "11    201912 650472000.00        0.08\n",
              "12    202001 506539352.00       -0.22\n",
              "13    202002 510690080.00        0.01\n",
              "14    202003 591391280.00        0.16\n",
              "15    202004 567085392.00       -0.04\n",
              "16    202005 645260568.00        0.14\n",
              "17    202006 625529096.00       -0.03\n",
              "18    202007 489143240.00       -0.22\n",
              "19    202008 549924200.00        0.12\n",
              "20    202009 491556200.00       -0.11\n",
              "21    202010 513489528.00        0.04\n",
              "22    202011 586158760.00        0.14\n",
              "23    202012 584113720.00       -0.00"
            ]
          },
          "metadata": {},
          "execution_count": 297
        }
      ]
    },
    {
      "cell_type": "code",
      "metadata": {
        "colab": {
          "base_uri": "https://localhost:8080/"
        },
        "id": "c_WYFYh45VUH",
        "outputId": "86555a7f-522c-43c6-9495-51e75224485f"
      },
      "source": [
        "tx_revenue['YearMonth'] = tx_revenue['YearMonth'].astype(str)\n",
        "tx_revenue.info()"
      ],
      "execution_count": 298,
      "outputs": [
        {
          "output_type": "stream",
          "name": "stdout",
          "text": [
            "<class 'pandas.core.frame.DataFrame'>\n",
            "RangeIndex: 24 entries, 0 to 23\n",
            "Data columns (total 3 columns):\n",
            " #   Column      Non-Null Count  Dtype  \n",
            "---  ------      --------------  -----  \n",
            " 0   YearMonth   24 non-null     object \n",
            " 1   Revenue     24 non-null     float64\n",
            " 2   GrowthRate  23 non-null     float64\n",
            "dtypes: float64(2), object(1)\n",
            "memory usage: 704.0+ bytes\n"
          ]
        }
      ]
    },
    {
      "cell_type": "code",
      "metadata": {
        "colab": {
          "base_uri": "https://localhost:8080/",
          "height": 390
        },
        "id": "nR3QSjMd4BuK",
        "outputId": "5a450ab6-1601-4828-b79a-93135afcb6cd"
      },
      "source": [
        "fig,axes = plt.subplots(figsize=(20,6))\n",
        "sns.lineplot(ax = axes,x='YearMonth',y='GrowthRate',data=tx_revenue)\n",
        "plt.show()"
      ],
      "execution_count": 299,
      "outputs": [
        {
          "output_type": "display_data",
          "data": {
            "image/png": "[encoded data removed]",
            "text/plain": [
              "<Figure size 1440x432 with 1 Axes>"
            ]
          },
          "metadata": {
            "needs_background": "light"
          }
        }
      ]
    },
    {
      "cell_type": "markdown",
      "metadata": {
        "id": "x5me5Knk999v"
      },
      "source": [
        "###算出每個月『數量加總』並轉換成長柄圖"
      ]
    },
    {
      "cell_type": "code",
      "metadata": {
        "colab": {
          "base_uri": "https://localhost:8080/",
          "height": 802
        },
        "id": "HWG8aHaS5D2h",
        "outputId": "3ae0a6f3-b887-4243-8960-f55ea43db59c"
      },
      "source": [
        "tx_revenue1 = sales_data1.groupby(['YearMonth'])['Quantity'].sum().reset_index() #算出每個月的加總Quantity\n",
        "tx_revenue1"
      ],
      "execution_count": 300,
      "outputs": [
        {
          "output_type": "execute_result",
          "data": {
            "text/html": [
              "<div>\n",
              "<style scoped>\n",
              "    .dataframe tbody tr th:only-of-type {\n",
              "        vertical-align: middle;\n",
              "    }\n",
              "\n",
              "    .dataframe tbody tr th {\n",
              "        vertical-align: top;\n",
              "    }\n",
              "\n",
              "    .dataframe thead th {\n",
              "        text-align: right;\n",
              "    }\n",
              "</style>\n",
              "<table border=\"1\" class=\"dataframe\">\n",
              "  <thead>\n",
              "    <tr style=\"text-align: right;\">\n",
              "      <th></th>\n",
              "      <th>YearMonth</th>\n",
              "      <th>Quantity</th>\n",
              "    </tr>\n",
              "  </thead>\n",
              "  <tbody>\n",
              "    <tr>\n",
              "      <th>0</th>\n",
              "      <td>201901</td>\n",
              "      <td>372096.00</td>\n",
              "    </tr>\n",
              "    <tr>\n",
              "      <th>1</th>\n",
              "      <td>201902</td>\n",
              "      <td>243576.00</td>\n",
              "    </tr>\n",
              "    <tr>\n",
              "      <th>2</th>\n",
              "      <td>201903</td>\n",
              "      <td>760144.00</td>\n",
              "    </tr>\n",
              "    <tr>\n",
              "      <th>3</th>\n",
              "      <td>201904</td>\n",
              "      <td>514888.00</td>\n",
              "    </tr>\n",
              "    <tr>\n",
              "      <th>4</th>\n",
              "      <td>201905</td>\n",
              "      <td>489304.00</td>\n",
              "    </tr>\n",
              "    <tr>\n",
              "      <th>5</th>\n",
              "      <td>201906</td>\n",
              "      <td>406304.00</td>\n",
              "    </tr>\n",
              "    <tr>\n",
              "      <th>6</th>\n",
              "      <td>201907</td>\n",
              "      <td>407536.00</td>\n",
              "    </tr>\n",
              "    <tr>\n",
              "      <th>7</th>\n",
              "      <td>201908</td>\n",
              "      <td>449040.00</td>\n",
              "    </tr>\n",
              "    <tr>\n",
              "      <th>8</th>\n",
              "      <td>201909</td>\n",
              "      <td>453488.00</td>\n",
              "    </tr>\n",
              "    <tr>\n",
              "      <th>9</th>\n",
              "      <td>201910</td>\n",
              "      <td>648960.00</td>\n",
              "    </tr>\n",
              "    <tr>\n",
              "      <th>10</th>\n",
              "      <td>201911</td>\n",
              "      <td>574872.00</td>\n",
              "    </tr>\n",
              "    <tr>\n",
              "      <th>11</th>\n",
              "      <td>201912</td>\n",
              "      <td>450968.00</td>\n",
              "    </tr>\n",
              "    <tr>\n",
              "      <th>12</th>\n",
              "      <td>202001</td>\n",
              "      <td>361064.00</td>\n",
              "    </tr>\n",
              "    <tr>\n",
              "      <th>13</th>\n",
              "      <td>202002</td>\n",
              "      <td>523568.00</td>\n",
              "    </tr>\n",
              "    <tr>\n",
              "      <th>14</th>\n",
              "      <td>202003</td>\n",
              "      <td>530288.00</td>\n",
              "    </tr>\n",
              "    <tr>\n",
              "      <th>15</th>\n",
              "      <td>202004</td>\n",
              "      <td>460344.00</td>\n",
              "    </tr>\n",
              "    <tr>\n",
              "      <th>16</th>\n",
              "      <td>202005</td>\n",
              "      <td>536848.00</td>\n",
              "    </tr>\n",
              "    <tr>\n",
              "      <th>17</th>\n",
              "      <td>202006</td>\n",
              "      <td>593544.00</td>\n",
              "    </tr>\n",
              "    <tr>\n",
              "      <th>18</th>\n",
              "      <td>202007</td>\n",
              "      <td>427928.00</td>\n",
              "    </tr>\n",
              "    <tr>\n",
              "      <th>19</th>\n",
              "      <td>202008</td>\n",
              "      <td>486128.00</td>\n",
              "    </tr>\n",
              "    <tr>\n",
              "      <th>20</th>\n",
              "      <td>202009</td>\n",
              "      <td>418432.00</td>\n",
              "    </tr>\n",
              "    <tr>\n",
              "      <th>21</th>\n",
              "      <td>202010</td>\n",
              "      <td>423960.00</td>\n",
              "    </tr>\n",
              "    <tr>\n",
              "      <th>22</th>\n",
              "      <td>202011</td>\n",
              "      <td>460448.00</td>\n",
              "    </tr>\n",
              "    <tr>\n",
              "      <th>23</th>\n",
              "      <td>202012</td>\n",
              "      <td>443616.00</td>\n",
              "    </tr>\n",
              "  </tbody>\n",
              "</table>\n",
              "</div>"
            ],
            "text/plain": [
              "    YearMonth  Quantity\n",
              "0      201901 372096.00\n",
              "1      201902 243576.00\n",
              "2      201903 760144.00\n",
              "3      201904 514888.00\n",
              "4      201905 489304.00\n",
              "5      201906 406304.00\n",
              "6      201907 407536.00\n",
              "7      201908 449040.00\n",
              "8      201909 453488.00\n",
              "9      201910 648960.00\n",
              "10     201911 574872.00\n",
              "11     201912 450968.00\n",
              "12     202001 361064.00\n",
              "13     202002 523568.00\n",
              "14     202003 530288.00\n",
              "15     202004 460344.00\n",
              "16     202005 536848.00\n",
              "17     202006 593544.00\n",
              "18     202007 427928.00\n",
              "19     202008 486128.00\n",
              "20     202009 418432.00\n",
              "21     202010 423960.00\n",
              "22     202011 460448.00\n",
              "23     202012 443616.00"
            ]
          },
          "metadata": {},
          "execution_count": 300
        }
      ]
    },
    {
      "cell_type": "code",
      "metadata": {
        "id": "U0r8z_Og964N",
        "outputId": "c14bb40f-4564-4f0b-ca69-f0e05b950a44",
        "colab": {
          "base_uri": "https://localhost:8080/"
        }
      },
      "source": [
        "tx_revenue.info() #型態查看"
      ],
      "execution_count": 301,
      "outputs": [
        {
          "output_type": "stream",
          "name": "stdout",
          "text": [
            "<class 'pandas.core.frame.DataFrame'>\n",
            "RangeIndex: 24 entries, 0 to 23\n",
            "Data columns (total 3 columns):\n",
            " #   Column      Non-Null Count  Dtype  \n",
            "---  ------      --------------  -----  \n",
            " 0   YearMonth   24 non-null     object \n",
            " 1   Revenue     24 non-null     float64\n",
            " 2   GrowthRate  23 non-null     float64\n",
            "dtypes: float64(2), object(1)\n",
            "memory usage: 704.0+ bytes\n"
          ]
        }
      ]
    },
    {
      "cell_type": "code",
      "metadata": {
        "id": "80iAR0Ky-IuH",
        "outputId": "f0fa3330-e8c3-4117-b652-06b61f148ec7",
        "colab": {
          "base_uri": "https://localhost:8080/",
          "height": 388
        }
      },
      "source": [
        "fig,axes = plt.subplots(figsize=(20,6))\n",
        "sns.barplot(ax = axes,x='YearMonth',y='Quantity',data=tx_revenue1) #使用barplot做圖\n",
        "plt.show()"
      ],
      "execution_count": 304,
      "outputs": [
        {
          "output_type": "display_data",
          "data": {
            "image/png": "[encoded data removed]",
            "text/plain": [
              "<Figure size 1440x432 with 1 Axes>"
            ]
          },
          "metadata": {
            "needs_background": "light"
          }
        }
      ]
    },
    {
      "cell_type": "markdown",
      "metadata": {
        "id": "gytlMClMA3m5"
      },
      "source": [
        "###Average Revenue per Order(每個月收入平均)"
      ]
    },
    {
      "cell_type": "code",
      "metadata": {
        "id": "S8uZyefFAOar",
        "outputId": "a7e0bcc6-df19-4b42-a8e5-80718e23b642",
        "colab": {
          "base_uri": "https://localhost:8080/",
          "height": 313
        }
      },
      "source": [
        "sales_data1.head()"
      ],
      "execution_count": 305,
      "outputs": [
        {
          "output_type": "execute_result",
          "data": {
            "text/html": [
              "<div>\n",
              "<style scoped>\n",
              "    .dataframe tbody tr th:only-of-type {\n",
              "        vertical-align: middle;\n",
              "    }\n",
              "\n",
              "    .dataframe tbody tr th {\n",
              "        vertical-align: top;\n",
              "    }\n",
              "\n",
              "    .dataframe thead th {\n",
              "        text-align: right;\n",
              "    }\n",
              "</style>\n",
              "<table border=\"1\" class=\"dataframe\">\n",
              "  <thead>\n",
              "    <tr style=\"text-align: right;\">\n",
              "      <th></th>\n",
              "      <th>InvoiceNo</th>\n",
              "      <th>StockCode</th>\n",
              "      <th>Description</th>\n",
              "      <th>Quantity</th>\n",
              "      <th>InvoiceDate</th>\n",
              "      <th>UnitPrice</th>\n",
              "      <th>CustomerID</th>\n",
              "      <th>Country</th>\n",
              "      <th>member_start_date</th>\n",
              "      <th>first_trans_date</th>\n",
              "      <th>Revenue</th>\n",
              "      <th>YearMonth</th>\n",
              "    </tr>\n",
              "  </thead>\n",
              "  <tbody>\n",
              "    <tr>\n",
              "      <th>0</th>\n",
              "      <td>PS5327001158</td>\n",
              "      <td>JA01</td>\n",
              "      <td>晶淬雪潔顏乳100ml</td>\n",
              "      <td>8.00</td>\n",
              "      <td>2019-01-01</td>\n",
              "      <td>1259.00</td>\n",
              "      <td>9100002488768.00</td>\n",
              "      <td>中區</td>\n",
              "      <td>2019-12-09</td>\n",
              "      <td>2018-06-24</td>\n",
              "      <td>10072.00</td>\n",
              "      <td>201901</td>\n",
              "    </tr>\n",
              "    <tr>\n",
              "      <th>1</th>\n",
              "      <td>PS5335020955</td>\n",
              "      <td>KG06</td>\n",
              "      <td>多肽亮眼乳霜20g-保濕型</td>\n",
              "      <td>8.00</td>\n",
              "      <td>2019-01-01</td>\n",
              "      <td>839.00</td>\n",
              "      <td>9100002556566.00</td>\n",
              "      <td>中區</td>\n",
              "      <td>2018-10-21</td>\n",
              "      <td>2018-10-21</td>\n",
              "      <td>6712.00</td>\n",
              "      <td>201901</td>\n",
              "    </tr>\n",
              "    <tr>\n",
              "      <th>2</th>\n",
              "      <td>PS5335020955</td>\n",
              "      <td>BJ102</td>\n",
              "      <td>檸檬精油10ml MUI</td>\n",
              "      <td>8.00</td>\n",
              "      <td>2019-01-01</td>\n",
              "      <td>839.00</td>\n",
              "      <td>9100002556566.00</td>\n",
              "      <td>中區</td>\n",
              "      <td>2018-10-21</td>\n",
              "      <td>2018-10-21</td>\n",
              "      <td>6712.00</td>\n",
              "      <td>201901</td>\n",
              "    </tr>\n",
              "    <tr>\n",
              "      <th>3</th>\n",
              "      <td>PS5335020955</td>\n",
              "      <td>JZA3G1</td>\n",
              "      <td>柚見快樂精油15ml MUI</td>\n",
              "      <td>-8.00</td>\n",
              "      <td>2019-01-01</td>\n",
              "      <td>-1501.00</td>\n",
              "      <td>9100002556566.00</td>\n",
              "      <td>中區</td>\n",
              "      <td>2018-10-21</td>\n",
              "      <td>2018-10-21</td>\n",
              "      <td>-12008.00</td>\n",
              "      <td>201901</td>\n",
              "    </tr>\n",
              "    <tr>\n",
              "      <th>4</th>\n",
              "      <td>PS5444006919</td>\n",
              "      <td>BJ103</td>\n",
              "      <td>細花冬青香氛油10ml MUI</td>\n",
              "      <td>8.00</td>\n",
              "      <td>2019-01-01</td>\n",
              "      <td>672.00</td>\n",
              "      <td>9100002582077.00</td>\n",
              "      <td>南區</td>\n",
              "      <td>2018-12-04</td>\n",
              "      <td>2018-12-04</td>\n",
              "      <td>5376.00</td>\n",
              "      <td>201901</td>\n",
              "    </tr>\n",
              "  </tbody>\n",
              "</table>\n",
              "</div>"
            ],
            "text/plain": [
              "      InvoiceNo StockCode  ...   Revenue  YearMonth\n",
              "0  PS5327001158      JA01  ...  10072.00     201901\n",
              "1  PS5335020955      KG06  ...   6712.00     201901\n",
              "2  PS5335020955     BJ102  ...   6712.00     201901\n",
              "3  PS5335020955    JZA3G1  ... -12008.00     201901\n",
              "4  PS5444006919     BJ103  ...   5376.00     201901\n",
              "\n",
              "[5 rows x 12 columns]"
            ]
          },
          "metadata": {},
          "execution_count": 305
        }
      ]
    },
    {
      "cell_type": "code",
      "metadata": {
        "id": "baAK6IMTA_zm",
        "outputId": "b15c1110-af60-421d-eca7-59e78eb7b92d",
        "colab": {
          "base_uri": "https://localhost:8080/",
          "height": 802
        }
      },
      "source": [
        "tx_revenue_avg = sales_data1.groupby(['YearMonth'])['Revenue'].mean().reset_index()\n",
        "tx_revenue_avg"
      ],
      "execution_count": 307,
      "outputs": [
        {
          "output_type": "execute_result",
          "data": {
            "text/html": [
              "<div>\n",
              "<style scoped>\n",
              "    .dataframe tbody tr th:only-of-type {\n",
              "        vertical-align: middle;\n",
              "    }\n",
              "\n",
              "    .dataframe tbody tr th {\n",
              "        vertical-align: top;\n",
              "    }\n",
              "\n",
              "    .dataframe thead th {\n",
              "        text-align: right;\n",
              "    }\n",
              "</style>\n",
              "<table border=\"1\" class=\"dataframe\">\n",
              "  <thead>\n",
              "    <tr style=\"text-align: right;\">\n",
              "      <th></th>\n",
              "      <th>YearMonth</th>\n",
              "      <th>Revenue</th>\n",
              "    </tr>\n",
              "  </thead>\n",
              "  <tbody>\n",
              "    <tr>\n",
              "      <th>0</th>\n",
              "      <td>201901</td>\n",
              "      <td>9859.97</td>\n",
              "    </tr>\n",
              "    <tr>\n",
              "      <th>1</th>\n",
              "      <td>201902</td>\n",
              "      <td>10893.93</td>\n",
              "    </tr>\n",
              "    <tr>\n",
              "      <th>2</th>\n",
              "      <td>201903</td>\n",
              "      <td>9157.61</td>\n",
              "    </tr>\n",
              "    <tr>\n",
              "      <th>3</th>\n",
              "      <td>201904</td>\n",
              "      <td>10094.59</td>\n",
              "    </tr>\n",
              "    <tr>\n",
              "      <th>4</th>\n",
              "      <td>201905</td>\n",
              "      <td>10560.05</td>\n",
              "    </tr>\n",
              "    <tr>\n",
              "      <th>5</th>\n",
              "      <td>201906</td>\n",
              "      <td>10836.53</td>\n",
              "    </tr>\n",
              "    <tr>\n",
              "      <th>6</th>\n",
              "      <td>201907</td>\n",
              "      <td>11346.94</td>\n",
              "    </tr>\n",
              "    <tr>\n",
              "      <th>7</th>\n",
              "      <td>201908</td>\n",
              "      <td>10429.33</td>\n",
              "    </tr>\n",
              "    <tr>\n",
              "      <th>8</th>\n",
              "      <td>201909</td>\n",
              "      <td>11319.58</td>\n",
              "    </tr>\n",
              "    <tr>\n",
              "      <th>9</th>\n",
              "      <td>201910</td>\n",
              "      <td>13218.15</td>\n",
              "    </tr>\n",
              "    <tr>\n",
              "      <th>10</th>\n",
              "      <td>201911</td>\n",
              "      <td>12175.91</td>\n",
              "    </tr>\n",
              "    <tr>\n",
              "      <th>11</th>\n",
              "      <td>201912</td>\n",
              "      <td>14846.21</td>\n",
              "    </tr>\n",
              "    <tr>\n",
              "      <th>12</th>\n",
              "      <td>202001</td>\n",
              "      <td>14354.44</td>\n",
              "    </tr>\n",
              "    <tr>\n",
              "      <th>13</th>\n",
              "      <td>202002</td>\n",
              "      <td>10503.92</td>\n",
              "    </tr>\n",
              "    <tr>\n",
              "      <th>14</th>\n",
              "      <td>202003</td>\n",
              "      <td>10383.85</td>\n",
              "    </tr>\n",
              "    <tr>\n",
              "      <th>15</th>\n",
              "      <td>202004</td>\n",
              "      <td>11274.96</td>\n",
              "    </tr>\n",
              "    <tr>\n",
              "      <th>16</th>\n",
              "      <td>202005</td>\n",
              "      <td>10876.34</td>\n",
              "    </tr>\n",
              "    <tr>\n",
              "      <th>17</th>\n",
              "      <td>202006</td>\n",
              "      <td>9711.98</td>\n",
              "    </tr>\n",
              "    <tr>\n",
              "      <th>18</th>\n",
              "      <td>202007</td>\n",
              "      <td>10116.72</td>\n",
              "    </tr>\n",
              "    <tr>\n",
              "      <th>19</th>\n",
              "      <td>202008</td>\n",
              "      <td>9831.31</td>\n",
              "    </tr>\n",
              "    <tr>\n",
              "      <th>20</th>\n",
              "      <td>202009</td>\n",
              "      <td>11248.43</td>\n",
              "    </tr>\n",
              "    <tr>\n",
              "      <th>21</th>\n",
              "      <td>202010</td>\n",
              "      <td>11122.92</td>\n",
              "    </tr>\n",
              "    <tr>\n",
              "      <th>22</th>\n",
              "      <td>202011</td>\n",
              "      <td>11634.75</td>\n",
              "    </tr>\n",
              "    <tr>\n",
              "      <th>23</th>\n",
              "      <td>202012</td>\n",
              "      <td>12144.49</td>\n",
              "    </tr>\n",
              "  </tbody>\n",
              "</table>\n",
              "</div>"
            ],
            "text/plain": [
              "    YearMonth  Revenue\n",
              "0      201901  9859.97\n",
              "1      201902 10893.93\n",
              "2      201903  9157.61\n",
              "3      201904 10094.59\n",
              "4      201905 10560.05\n",
              "5      201906 10836.53\n",
              "6      201907 11346.94\n",
              "7      201908 10429.33\n",
              "8      201909 11319.58\n",
              "9      201910 13218.15\n",
              "10     201911 12175.91\n",
              "11     201912 14846.21\n",
              "12     202001 14354.44\n",
              "13     202002 10503.92\n",
              "14     202003 10383.85\n",
              "15     202004 11274.96\n",
              "16     202005 10876.34\n",
              "17     202006  9711.98\n",
              "18     202007 10116.72\n",
              "19     202008  9831.31\n",
              "20     202009 11248.43\n",
              "21     202010 11122.92\n",
              "22     202011 11634.75\n",
              "23     202012 12144.49"
            ]
          },
          "metadata": {},
          "execution_count": 307
        }
      ]
    },
    {
      "cell_type": "code",
      "metadata": {
        "id": "O4F8o9n0BRDv"
      },
      "source": [
        "tx_revenue_avg['YearMonth'] = tx_revenue_avg['YearMonth'].astype(str)"
      ],
      "execution_count": 308,
      "outputs": []
    },
    {
      "cell_type": "code",
      "metadata": {
        "id": "Y4b3VlgiBrhL",
        "outputId": "c09854ee-3535-4953-9cc7-0311759507ae",
        "colab": {
          "base_uri": "https://localhost:8080/",
          "height": 389
        }
      },
      "source": [
        "figure,axes = plt.subplots(2,1,figsize=(18,6))\n",
        "sns.lineplot(x='YearMonth',y='Revenue',data=tx_revenue_avg,ax=axes[0])\n",
        "sns.barplot(x='YearMonth',y='Revenue',data=tx_revenue_avg,ax=axes[1])\n",
        "plt.show()"
      ],
      "execution_count": 309,
      "outputs": [
        {
          "output_type": "display_data",
          "data": {
            "image/png": "[encoded data removed]",
            "text/plain": [
              "<Figure size 1296x432 with 2 Axes>"
            ]
          },
          "metadata": {
            "needs_background": "light"
          }
        }
      ]
    },
    {
      "cell_type": "markdown",
      "metadata": {
        "id": "h1Esxd5JDiz8"
      },
      "source": [
        "###Monthly Active Customers(算來客數，並且不要重複的)"
      ]
    },
    {
      "cell_type": "code",
      "metadata": {
        "id": "yApSea0RCTW2",
        "outputId": "2342001a-901e-43a5-95e9-3d7d58d6d6bd",
        "colab": {
          "base_uri": "https://localhost:8080/",
          "height": 802
        }
      },
      "source": [
        "tx_monthly_active = sales_data1.groupby(['YearMonth'])['CustomerID'].nunique().reset_index() #nunique()是將重複資訊剔除掉的語法\n",
        "tx_monthly_active"
      ],
      "execution_count": 310,
      "outputs": [
        {
          "output_type": "execute_result",
          "data": {
            "text/html": [
              "<div>\n",
              "<style scoped>\n",
              "    .dataframe tbody tr th:only-of-type {\n",
              "        vertical-align: middle;\n",
              "    }\n",
              "\n",
              "    .dataframe tbody tr th {\n",
              "        vertical-align: top;\n",
              "    }\n",
              "\n",
              "    .dataframe thead th {\n",
              "        text-align: right;\n",
              "    }\n",
              "</style>\n",
              "<table border=\"1\" class=\"dataframe\">\n",
              "  <thead>\n",
              "    <tr style=\"text-align: right;\">\n",
              "      <th></th>\n",
              "      <th>YearMonth</th>\n",
              "      <th>CustomerID</th>\n",
              "    </tr>\n",
              "  </thead>\n",
              "  <tbody>\n",
              "    <tr>\n",
              "      <th>0</th>\n",
              "      <td>201901</td>\n",
              "      <td>11061</td>\n",
              "    </tr>\n",
              "    <tr>\n",
              "      <th>1</th>\n",
              "      <td>201902</td>\n",
              "      <td>8593</td>\n",
              "    </tr>\n",
              "    <tr>\n",
              "      <th>2</th>\n",
              "      <td>201903</td>\n",
              "      <td>15972</td>\n",
              "    </tr>\n",
              "    <tr>\n",
              "      <th>3</th>\n",
              "      <td>201904</td>\n",
              "      <td>11846</td>\n",
              "    </tr>\n",
              "    <tr>\n",
              "      <th>4</th>\n",
              "      <td>201905</td>\n",
              "      <td>12569</td>\n",
              "    </tr>\n",
              "    <tr>\n",
              "      <th>5</th>\n",
              "      <td>201906</td>\n",
              "      <td>11159</td>\n",
              "    </tr>\n",
              "    <tr>\n",
              "      <th>6</th>\n",
              "      <td>201907</td>\n",
              "      <td>10981</td>\n",
              "    </tr>\n",
              "    <tr>\n",
              "      <th>7</th>\n",
              "      <td>201908</td>\n",
              "      <td>12747</td>\n",
              "    </tr>\n",
              "    <tr>\n",
              "      <th>8</th>\n",
              "      <td>201909</td>\n",
              "      <td>12498</td>\n",
              "    </tr>\n",
              "    <tr>\n",
              "      <th>9</th>\n",
              "      <td>201910</td>\n",
              "      <td>14506</td>\n",
              "    </tr>\n",
              "    <tr>\n",
              "      <th>10</th>\n",
              "      <td>201911</td>\n",
              "      <td>12519</td>\n",
              "    </tr>\n",
              "    <tr>\n",
              "      <th>11</th>\n",
              "      <td>201912</td>\n",
              "      <td>12041</td>\n",
              "    </tr>\n",
              "    <tr>\n",
              "      <th>12</th>\n",
              "      <td>202001</td>\n",
              "      <td>10110</td>\n",
              "    </tr>\n",
              "    <tr>\n",
              "      <th>13</th>\n",
              "      <td>202002</td>\n",
              "      <td>13004</td>\n",
              "    </tr>\n",
              "    <tr>\n",
              "      <th>14</th>\n",
              "      <td>202003</td>\n",
              "      <td>11979</td>\n",
              "    </tr>\n",
              "    <tr>\n",
              "      <th>15</th>\n",
              "      <td>202004</td>\n",
              "      <td>11456</td>\n",
              "    </tr>\n",
              "    <tr>\n",
              "      <th>16</th>\n",
              "      <td>202005</td>\n",
              "      <td>14775</td>\n",
              "    </tr>\n",
              "    <tr>\n",
              "      <th>17</th>\n",
              "      <td>202006</td>\n",
              "      <td>13852</td>\n",
              "    </tr>\n",
              "    <tr>\n",
              "      <th>18</th>\n",
              "      <td>202007</td>\n",
              "      <td>10547</td>\n",
              "    </tr>\n",
              "    <tr>\n",
              "      <th>19</th>\n",
              "      <td>202008</td>\n",
              "      <td>12189</td>\n",
              "    </tr>\n",
              "    <tr>\n",
              "      <th>20</th>\n",
              "      <td>202009</td>\n",
              "      <td>10873</td>\n",
              "    </tr>\n",
              "    <tr>\n",
              "      <th>21</th>\n",
              "      <td>202010</td>\n",
              "      <td>11476</td>\n",
              "    </tr>\n",
              "    <tr>\n",
              "      <th>22</th>\n",
              "      <td>202011</td>\n",
              "      <td>12820</td>\n",
              "    </tr>\n",
              "    <tr>\n",
              "      <th>23</th>\n",
              "      <td>202012</td>\n",
              "      <td>12108</td>\n",
              "    </tr>\n",
              "  </tbody>\n",
              "</table>\n",
              "</div>"
            ],
            "text/plain": [
              "    YearMonth  CustomerID\n",
              "0      201901       11061\n",
              "1      201902        8593\n",
              "2      201903       15972\n",
              "3      201904       11846\n",
              "4      201905       12569\n",
              "5      201906       11159\n",
              "6      201907       10981\n",
              "7      201908       12747\n",
              "8      201909       12498\n",
              "9      201910       14506\n",
              "10     201911       12519\n",
              "11     201912       12041\n",
              "12     202001       10110\n",
              "13     202002       13004\n",
              "14     202003       11979\n",
              "15     202004       11456\n",
              "16     202005       14775\n",
              "17     202006       13852\n",
              "18     202007       10547\n",
              "19     202008       12189\n",
              "20     202009       10873\n",
              "21     202010       11476\n",
              "22     202011       12820\n",
              "23     202012       12108"
            ]
          },
          "metadata": {},
          "execution_count": 310
        }
      ]
    },
    {
      "cell_type": "code",
      "metadata": {
        "id": "ue42nrK6FVDm"
      },
      "source": [
        "tx_monthly_active['YearMonth'] = tx_monthly_active['YearMonth'].astype(str)"
      ],
      "execution_count": 313,
      "outputs": []
    },
    {
      "cell_type": "code",
      "metadata": {
        "id": "iXX0IsW7Fs5e",
        "outputId": "5f20cf25-22a3-403e-df37-4925ca62ac46",
        "colab": {
          "base_uri": "https://localhost:8080/",
          "height": 378
        }
      },
      "source": [
        "fig,axes1 = plt.subplots(figsize=(20,6))\n",
        "sns.barplot(x='YearMonth',y='CustomerID',data=tx_monthly_active,ax=axes1)\n",
        "axes2 = axes1.twinx() #twinx()是合併兩張畫布的語法\n",
        "sns.lineplot(x='YearMonth',y='CustomerID',data=tx_monthly_active,ax=axes2)\n",
        "plt.show()"
      ],
      "execution_count": 318,
      "outputs": [
        {
          "output_type": "display_data",
          "data": {
            "image/png": "[encoded data removed]",
            "text/plain": [
              "<Figure size 1440x432 with 2 Axes>"
            ]
          },
          "metadata": {
            "needs_background": "light"
          }
        }
      ]
    },
    {
      "cell_type": "code",
      "metadata": {
        "id": "9Wl3nlHgF_Bj"
      },
      "source": [
        ""
      ],
      "execution_count": null,
      "outputs": []
    }
  ]
}