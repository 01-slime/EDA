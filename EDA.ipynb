{
  "nbformat": 4,
  "nbformat_minor": 0,
  "metadata": {
    "colab": {
      "name": "EDA.ipynb",
      "provenance": [],
      "mount_file_id": "https://github.com/01-slime/EDA/blob/main/EDA.ipynb",
      "authorship_tag": "ABX9TyN3WPkU6/2mYfMB6Cxne+PN",
      "include_colab_link": true
    },
    "kernelspec": {
      "name": "python3",
      "display_name": "Python 3"
    },
    "language_info": {
      "name": "python"
    }
  },
  "cells": [
    {
      "cell_type": "markdown",
      "metadata": {
        "id": "view-in-github",
        "colab_type": "text"
      },
      "source": [
        "<a href=\"https://colab.research.google.com/github/01-slime/EDA/blob/main/EDA.ipynb\" target=\"_parent\"><img src=\"https://colab.research.google.com/assets/colab-badge.svg\" alt=\"Open In Colab\"/></a>"
      ]
    },
    {
      "cell_type": "markdown",
      "metadata": {
        "id": "knKh7z1P1g8z"
      },
      "source": [
        "##EDA(資料前處理)"
      ]
    },
    {
      "cell_type": "code",
      "metadata": {
        "id": "uRojrY_l1Vf7"
      },
      "source": [
        "#EDA(資料前處理)\n",
        "import pandas as pd #目前只需要用到這個"
      ],
      "execution_count": 94,
      "outputs": []
    },
    {
      "cell_type": "code",
      "metadata": {
        "id": "De4v4mJT10wH"
      },
      "source": [
        "#給他一個存檔案的變數\n",
        "data = pd.read_csv('/content/drive/MyDrive/T大使企業實習-佐登尼斯/11 30/colab/data3_project.csv')"
      ],
      "execution_count": 95,
      "outputs": []
    },
    {
      "cell_type": "code",
      "metadata": {
        "colab": {
          "base_uri": "https://localhost:8080/",
          "height": 224
        },
        "id": "vsPzT-UV2WbQ",
        "outputId": "31b64221-21f7-4dd0-dcaa-056f9b285576"
      },
      "source": [
        "#如何看資料內檔案：查看roll的前五筆\n",
        "data.head(5)"
      ],
      "execution_count": 96,
      "outputs": [
        {
          "output_type": "execute_result",
          "data": {
            "text/html": [
              "<div>\n",
              "<style scoped>\n",
              "    .dataframe tbody tr th:only-of-type {\n",
              "        vertical-align: middle;\n",
              "    }\n",
              "\n",
              "    .dataframe tbody tr th {\n",
              "        vertical-align: top;\n",
              "    }\n",
              "\n",
              "    .dataframe thead th {\n",
              "        text-align: right;\n",
              "    }\n",
              "</style>\n",
              "<table border=\"1\" class=\"dataframe\">\n",
              "  <thead>\n",
              "    <tr style=\"text-align: right;\">\n",
              "      <th></th>\n",
              "      <th>InvoiceNo</th>\n",
              "      <th>StockCode</th>\n",
              "      <th>Description</th>\n",
              "      <th>Quantity</th>\n",
              "      <th>InvoiceDate</th>\n",
              "      <th>UnitPrice</th>\n",
              "      <th>CustomerID</th>\n",
              "      <th>Country</th>\n",
              "      <th>member_start_date</th>\n",
              "      <th>first_trans_date</th>\n",
              "    </tr>\n",
              "  </thead>\n",
              "  <tbody>\n",
              "    <tr>\n",
              "      <th>0</th>\n",
              "      <td>PS5327001158</td>\n",
              "      <td>JA01</td>\n",
              "      <td>晶淬雪潔顏乳100ml</td>\n",
              "      <td>8.00</td>\n",
              "      <td>2019-01-01</td>\n",
              "      <td>1259.00</td>\n",
              "      <td>9100002488768.00</td>\n",
              "      <td>中區</td>\n",
              "      <td>2019-12-09</td>\n",
              "      <td>2018-06-24</td>\n",
              "    </tr>\n",
              "    <tr>\n",
              "      <th>1</th>\n",
              "      <td>PS5335020955</td>\n",
              "      <td>KG06</td>\n",
              "      <td>多肽亮眼乳霜20g-保濕型</td>\n",
              "      <td>8.00</td>\n",
              "      <td>2019-01-01</td>\n",
              "      <td>839.00</td>\n",
              "      <td>9100002556566.00</td>\n",
              "      <td>中區</td>\n",
              "      <td>2018-10-21</td>\n",
              "      <td>2018-10-21</td>\n",
              "    </tr>\n",
              "    <tr>\n",
              "      <th>2</th>\n",
              "      <td>PS5335020955</td>\n",
              "      <td>BJ102</td>\n",
              "      <td>檸檬精油10ml MUI</td>\n",
              "      <td>8.00</td>\n",
              "      <td>2019-01-01</td>\n",
              "      <td>839.00</td>\n",
              "      <td>9100002556566.00</td>\n",
              "      <td>中區</td>\n",
              "      <td>2018-10-21</td>\n",
              "      <td>2018-10-21</td>\n",
              "    </tr>\n",
              "    <tr>\n",
              "      <th>3</th>\n",
              "      <td>PS5335020955</td>\n",
              "      <td>JZA3G1</td>\n",
              "      <td>柚見快樂精油15ml MUI</td>\n",
              "      <td>-8.00</td>\n",
              "      <td>2019-01-01</td>\n",
              "      <td>-1501.00</td>\n",
              "      <td>9100002556566.00</td>\n",
              "      <td>中區</td>\n",
              "      <td>2018-10-21</td>\n",
              "      <td>2018-10-21</td>\n",
              "    </tr>\n",
              "    <tr>\n",
              "      <th>4</th>\n",
              "      <td>PS5444006919</td>\n",
              "      <td>BJ103</td>\n",
              "      <td>細花冬青香氛油10ml MUI</td>\n",
              "      <td>8.00</td>\n",
              "      <td>2019-01-01</td>\n",
              "      <td>672.00</td>\n",
              "      <td>9100002582077.00</td>\n",
              "      <td>南區</td>\n",
              "      <td>2018-12-04</td>\n",
              "      <td>2018-12-04</td>\n",
              "    </tr>\n",
              "  </tbody>\n",
              "</table>\n",
              "</div>"
            ],
            "text/plain": [
              "      InvoiceNo StockCode  ... member_start_date  first_trans_date\n",
              "0  PS5327001158      JA01  ...        2019-12-09        2018-06-24\n",
              "1  PS5335020955      KG06  ...        2018-10-21        2018-10-21\n",
              "2  PS5335020955     BJ102  ...        2018-10-21        2018-10-21\n",
              "3  PS5335020955    JZA3G1  ...        2018-10-21        2018-10-21\n",
              "4  PS5444006919     BJ103  ...        2018-12-04        2018-12-04\n",
              "\n",
              "[5 rows x 10 columns]"
            ]
          },
          "metadata": {},
          "execution_count": 96
        }
      ]
    },
    {
      "cell_type": "code",
      "metadata": {
        "colab": {
          "base_uri": "https://localhost:8080/",
          "height": 345
        },
        "id": "EvBdiZsq2zgE",
        "outputId": "98cdb8c1-a13a-4295-e637-1a28c2e664d4"
      },
      "source": [
        "#看後五筆\n",
        "data.tail(5)"
      ],
      "execution_count": 97,
      "outputs": [
        {
          "output_type": "execute_result",
          "data": {
            "text/html": [
              "<div>\n",
              "<style scoped>\n",
              "    .dataframe tbody tr th:only-of-type {\n",
              "        vertical-align: middle;\n",
              "    }\n",
              "\n",
              "    .dataframe tbody tr th {\n",
              "        vertical-align: top;\n",
              "    }\n",
              "\n",
              "    .dataframe thead th {\n",
              "        text-align: right;\n",
              "    }\n",
              "</style>\n",
              "<table border=\"1\" class=\"dataframe\">\n",
              "  <thead>\n",
              "    <tr style=\"text-align: right;\">\n",
              "      <th></th>\n",
              "      <th>InvoiceNo</th>\n",
              "      <th>StockCode</th>\n",
              "      <th>Description</th>\n",
              "      <th>Quantity</th>\n",
              "      <th>InvoiceDate</th>\n",
              "      <th>UnitPrice</th>\n",
              "      <th>CustomerID</th>\n",
              "      <th>Country</th>\n",
              "      <th>member_start_date</th>\n",
              "      <th>first_trans_date</th>\n",
              "    </tr>\n",
              "  </thead>\n",
              "  <tbody>\n",
              "    <tr>\n",
              "      <th>1404430</th>\n",
              "      <td>PS5324024941</td>\n",
              "      <td>KQ02</td>\n",
              "      <td>玫瑰晶萃活膚液130ml</td>\n",
              "      <td>16.00</td>\n",
              "      <td>2020-12-31</td>\n",
              "      <td>2946.00</td>\n",
              "      <td>9100000595826.00</td>\n",
              "      <td>中區</td>\n",
              "      <td>2010-03-15</td>\n",
              "      <td>2012-07-11</td>\n",
              "    </tr>\n",
              "    <tr>\n",
              "      <th>1404431</th>\n",
              "      <td>PS5219002027</td>\n",
              "      <td>GAXFG1</td>\n",
              "      <td>真正除臭抗菌噴霧(銀離子迷迭香)250ml</td>\n",
              "      <td>8.00</td>\n",
              "      <td>2020-12-31</td>\n",
              "      <td>309.00</td>\n",
              "      <td>9100003028369.00</td>\n",
              "      <td>竹區</td>\n",
              "      <td>2020-12-08</td>\n",
              "      <td>2020-11-26</td>\n",
              "    </tr>\n",
              "    <tr>\n",
              "      <th>1404432</th>\n",
              "      <td>PS5219002027</td>\n",
              "      <td>MAB2G1</td>\n",
              "      <td>BA-5肌密全效噴霧奇蹟水70ml</td>\n",
              "      <td>8.00</td>\n",
              "      <td>2020-12-31</td>\n",
              "      <td>1094.00</td>\n",
              "      <td>9100003028369.00</td>\n",
              "      <td>竹區</td>\n",
              "      <td>2020-12-08</td>\n",
              "      <td>2020-11-26</td>\n",
              "    </tr>\n",
              "    <tr>\n",
              "      <th>1404433</th>\n",
              "      <td>PS5219002027</td>\n",
              "      <td>WD096</td>\n",
              "      <td>緊緻保濕裸膚羽翼面膜25ml-零售單包</td>\n",
              "      <td>16.00</td>\n",
              "      <td>2020-12-31</td>\n",
              "      <td>165.00</td>\n",
              "      <td>9100003028369.00</td>\n",
              "      <td>竹區</td>\n",
              "      <td>2020-12-08</td>\n",
              "      <td>2020-11-26</td>\n",
              "    </tr>\n",
              "    <tr>\n",
              "      <th>1404434</th>\n",
              "      <td>PS5219002028</td>\n",
              "      <td>GAXFG2</td>\n",
              "      <td>真正除臭抗菌噴霧(銀離子迷迭香)350ml</td>\n",
              "      <td>8.00</td>\n",
              "      <td>2020-12-31</td>\n",
              "      <td>441.00</td>\n",
              "      <td>9100003039464.00</td>\n",
              "      <td>竹區</td>\n",
              "      <td>2020-12-23</td>\n",
              "      <td>2020-12-10</td>\n",
              "    </tr>\n",
              "  </tbody>\n",
              "</table>\n",
              "</div>"
            ],
            "text/plain": [
              "            InvoiceNo StockCode  ... member_start_date  first_trans_date\n",
              "1404430  PS5324024941      KQ02  ...        2010-03-15        2012-07-11\n",
              "1404431  PS5219002027    GAXFG1  ...        2020-12-08        2020-11-26\n",
              "1404432  PS5219002027    MAB2G1  ...        2020-12-08        2020-11-26\n",
              "1404433  PS5219002027     WD096  ...        2020-12-08        2020-11-26\n",
              "1404434  PS5219002028    GAXFG2  ...        2020-12-23        2020-12-10\n",
              "\n",
              "[5 rows x 10 columns]"
            ]
          },
          "metadata": {},
          "execution_count": 97
        }
      ]
    },
    {
      "cell_type": "code",
      "metadata": {
        "colab": {
          "base_uri": "https://localhost:8080/"
        },
        "id": "LVWs5qv62_2K",
        "outputId": "cd454309-4455-4752-b66b-67cead4d9b02"
      },
      "source": [
        "#查看檔案的型態：詳細資料中的資料型態\n",
        "#not type(data)\n",
        "data.info()"
      ],
      "execution_count": 98,
      "outputs": [
        {
          "output_type": "stream",
          "name": "stdout",
          "text": [
            "<class 'pandas.core.frame.DataFrame'>\n",
            "RangeIndex: 1404435 entries, 0 to 1404434\n",
            "Data columns (total 10 columns):\n",
            " #   Column             Non-Null Count    Dtype  \n",
            "---  ------             --------------    -----  \n",
            " 0   InvoiceNo          1404435 non-null  object \n",
            " 1   StockCode          1404435 non-null  object \n",
            " 2   Description        1404435 non-null  object \n",
            " 3   Quantity           1404435 non-null  float64\n",
            " 4   InvoiceDate        1404435 non-null  object \n",
            " 5   UnitPrice          1404435 non-null  float64\n",
            " 6   CustomerID         1403724 non-null  float64\n",
            " 7   Country            1404435 non-null  object \n",
            " 8   member_start_date  1366651 non-null  object \n",
            " 9   first_trans_date   1400412 non-null  object \n",
            "dtypes: float64(3), object(7)\n",
            "memory usage: 107.2+ MB\n"
          ]
        }
      ]
    },
    {
      "cell_type": "code",
      "metadata": {
        "colab": {
          "base_uri": "https://localhost:8080/"
        },
        "id": "kp7XSfpZ34Qq",
        "outputId": "ce8e5a79-4a95-4847-a4d2-6d8ddfa9bcbf"
      },
      "source": [
        "#float64=數值 \n",
        "data.shape #1百多萬筆資料以及有10個column"
      ],
      "execution_count": 99,
      "outputs": [
        {
          "output_type": "execute_result",
          "data": {
            "text/plain": [
              "(1404435, 10)"
            ]
          },
          "metadata": {},
          "execution_count": 99
        }
      ]
    },
    {
      "cell_type": "code",
      "metadata": {
        "colab": {
          "base_uri": "https://localhost:8080/"
        },
        "id": "VoTsUF554JEA",
        "outputId": "b6009d10-4c96-48a2-8f26-eac553c043d7"
      },
      "source": [
        "data.Description.value_counts() #針對欄位為object形式查看 此為pd中函式,資料前處理蠻常使用"
      ],
      "execution_count": 100,
      "outputs": [
        {
          "output_type": "execute_result",
          "data": {
            "text/plain": [
              "全背順氣活力SPA課程單堂                58636\n",
              "清除環境中腸病毒濕紙巾10抽               52599\n",
              "plus5智頻美塑儀課程單堂               46660\n",
              "(新)溫熱刮痧課程單堂                  34129\n",
              "全身健康優化SPA課程單堂                33770\n",
              "                             ...  \n",
              "淋巴循環舒壓SPA單堂                      1\n",
              "佐登妮絲４號複方精油30ml-職業包 HALAL         1\n",
              "新膠原靓白療程單堂(單堂會員)                  1\n",
              "精準無痕BOTOX除皺鼻背紋/下巴放鬆(單堂會員)        1\n",
              "尊爵東方能量頭部深呼吸課程                    1\n",
              "Name: Description, Length: 870, dtype: int64"
            ]
          },
          "metadata": {},
          "execution_count": 100
        }
      ]
    },
    {
      "cell_type": "code",
      "metadata": {
        "colab": {
          "base_uri": "https://localhost:8080/"
        },
        "id": "o9qGSmlB4u7O",
        "outputId": "92bf8e2e-5beb-4a22-8710-48eb0494ff80"
      },
      "source": [
        "#data.Quantity.value_counts() 不常使用\n",
        "data.Country.value_counts() #通常可查看欄位為物件(中文)的資訊"
      ],
      "execution_count": 101,
      "outputs": [
        {
          "output_type": "execute_result",
          "data": {
            "text/plain": [
              "中區      286162\n",
              "高屏全區    240244\n",
              "台北A區    215051\n",
              "台北B區    206350\n",
              "南區      154843\n",
              "竹區      147998\n",
              "彰雲區     138562\n",
              "佐登微爾      8108\n",
              "總管理處      7117\n",
              "Name: Country, dtype: int64"
            ]
          },
          "metadata": {},
          "execution_count": 101
        }
      ]
    },
    {
      "cell_type": "code",
      "metadata": {
        "colab": {
          "base_uri": "https://localhost:8080/",
          "height": 424
        },
        "id": "aWBzjoBE4-ey",
        "outputId": "8be20f14-2367-48ce-aefe-cd1ece312767"
      },
      "source": [
        "#練習：抓出數量大於2的...\n",
        "data[['StockCode','Description','Quantity','InvoiceDate','UnitPrice']] #看一筆資料時使用['object'],多筆時使用[['','',...]]"
      ],
      "execution_count": 102,
      "outputs": [
        {
          "output_type": "execute_result",
          "data": {
            "text/html": [
              "<div>\n",
              "<style scoped>\n",
              "    .dataframe tbody tr th:only-of-type {\n",
              "        vertical-align: middle;\n",
              "    }\n",
              "\n",
              "    .dataframe tbody tr th {\n",
              "        vertical-align: top;\n",
              "    }\n",
              "\n",
              "    .dataframe thead th {\n",
              "        text-align: right;\n",
              "    }\n",
              "</style>\n",
              "<table border=\"1\" class=\"dataframe\">\n",
              "  <thead>\n",
              "    <tr style=\"text-align: right;\">\n",
              "      <th></th>\n",
              "      <th>StockCode</th>\n",
              "      <th>Description</th>\n",
              "      <th>Quantity</th>\n",
              "      <th>InvoiceDate</th>\n",
              "      <th>UnitPrice</th>\n",
              "    </tr>\n",
              "  </thead>\n",
              "  <tbody>\n",
              "    <tr>\n",
              "      <th>0</th>\n",
              "      <td>JA01</td>\n",
              "      <td>晶淬雪潔顏乳100ml</td>\n",
              "      <td>8.00</td>\n",
              "      <td>2019-01-01</td>\n",
              "      <td>1259.00</td>\n",
              "    </tr>\n",
              "    <tr>\n",
              "      <th>1</th>\n",
              "      <td>KG06</td>\n",
              "      <td>多肽亮眼乳霜20g-保濕型</td>\n",
              "      <td>8.00</td>\n",
              "      <td>2019-01-01</td>\n",
              "      <td>839.00</td>\n",
              "    </tr>\n",
              "    <tr>\n",
              "      <th>2</th>\n",
              "      <td>BJ102</td>\n",
              "      <td>檸檬精油10ml MUI</td>\n",
              "      <td>8.00</td>\n",
              "      <td>2019-01-01</td>\n",
              "      <td>839.00</td>\n",
              "    </tr>\n",
              "    <tr>\n",
              "      <th>3</th>\n",
              "      <td>JZA3G1</td>\n",
              "      <td>柚見快樂精油15ml MUI</td>\n",
              "      <td>-8.00</td>\n",
              "      <td>2019-01-01</td>\n",
              "      <td>-1501.00</td>\n",
              "    </tr>\n",
              "    <tr>\n",
              "      <th>4</th>\n",
              "      <td>BJ103</td>\n",
              "      <td>細花冬青香氛油10ml MUI</td>\n",
              "      <td>8.00</td>\n",
              "      <td>2019-01-01</td>\n",
              "      <td>672.00</td>\n",
              "    </tr>\n",
              "    <tr>\n",
              "      <th>...</th>\n",
              "      <td>...</td>\n",
              "      <td>...</td>\n",
              "      <td>...</td>\n",
              "      <td>...</td>\n",
              "      <td>...</td>\n",
              "    </tr>\n",
              "    <tr>\n",
              "      <th>1404430</th>\n",
              "      <td>KQ02</td>\n",
              "      <td>玫瑰晶萃活膚液130ml</td>\n",
              "      <td>16.00</td>\n",
              "      <td>2020-12-31</td>\n",
              "      <td>2946.00</td>\n",
              "    </tr>\n",
              "    <tr>\n",
              "      <th>1404431</th>\n",
              "      <td>GAXFG1</td>\n",
              "      <td>真正除臭抗菌噴霧(銀離子迷迭香)250ml</td>\n",
              "      <td>8.00</td>\n",
              "      <td>2020-12-31</td>\n",
              "      <td>309.00</td>\n",
              "    </tr>\n",
              "    <tr>\n",
              "      <th>1404432</th>\n",
              "      <td>MAB2G1</td>\n",
              "      <td>BA-5肌密全效噴霧奇蹟水70ml</td>\n",
              "      <td>8.00</td>\n",
              "      <td>2020-12-31</td>\n",
              "      <td>1094.00</td>\n",
              "    </tr>\n",
              "    <tr>\n",
              "      <th>1404433</th>\n",
              "      <td>WD096</td>\n",
              "      <td>緊緻保濕裸膚羽翼面膜25ml-零售單包</td>\n",
              "      <td>16.00</td>\n",
              "      <td>2020-12-31</td>\n",
              "      <td>165.00</td>\n",
              "    </tr>\n",
              "    <tr>\n",
              "      <th>1404434</th>\n",
              "      <td>GAXFG2</td>\n",
              "      <td>真正除臭抗菌噴霧(銀離子迷迭香)350ml</td>\n",
              "      <td>8.00</td>\n",
              "      <td>2020-12-31</td>\n",
              "      <td>441.00</td>\n",
              "    </tr>\n",
              "  </tbody>\n",
              "</table>\n",
              "<p>1404435 rows × 5 columns</p>\n",
              "</div>"
            ],
            "text/plain": [
              "        StockCode            Description  Quantity InvoiceDate  UnitPrice\n",
              "0            JA01            晶淬雪潔顏乳100ml      8.00  2019-01-01    1259.00\n",
              "1            KG06          多肽亮眼乳霜20g-保濕型      8.00  2019-01-01     839.00\n",
              "2           BJ102           檸檬精油10ml MUI      8.00  2019-01-01     839.00\n",
              "3          JZA3G1         柚見快樂精油15ml MUI     -8.00  2019-01-01   -1501.00\n",
              "4           BJ103        細花冬青香氛油10ml MUI      8.00  2019-01-01     672.00\n",
              "...           ...                    ...       ...         ...        ...\n",
              "1404430      KQ02           玫瑰晶萃活膚液130ml     16.00  2020-12-31    2946.00\n",
              "1404431    GAXFG1  真正除臭抗菌噴霧(銀離子迷迭香)250ml      8.00  2020-12-31     309.00\n",
              "1404432    MAB2G1      BA-5肌密全效噴霧奇蹟水70ml      8.00  2020-12-31    1094.00\n",
              "1404433     WD096    緊緻保濕裸膚羽翼面膜25ml-零售單包     16.00  2020-12-31     165.00\n",
              "1404434    GAXFG2  真正除臭抗菌噴霧(銀離子迷迭香)350ml      8.00  2020-12-31     441.00\n",
              "\n",
              "[1404435 rows x 5 columns]"
            ]
          },
          "metadata": {},
          "execution_count": 102
        }
      ]
    },
    {
      "cell_type": "code",
      "metadata": {
        "colab": {
          "base_uri": "https://localhost:8080/",
          "height": 649
        },
        "id": "0vLIJl5S5ubh",
        "outputId": "cd1b2754-60a3-4f5f-c6b5-b65042cc1174"
      },
      "source": [
        "#如何寫『大於2』呢？\n",
        "data[data['Quantity']>2]"
      ],
      "execution_count": 103,
      "outputs": [
        {
          "output_type": "execute_result",
          "data": {
            "text/html": [
              "<div>\n",
              "<style scoped>\n",
              "    .dataframe tbody tr th:only-of-type {\n",
              "        vertical-align: middle;\n",
              "    }\n",
              "\n",
              "    .dataframe tbody tr th {\n",
              "        vertical-align: top;\n",
              "    }\n",
              "\n",
              "    .dataframe thead th {\n",
              "        text-align: right;\n",
              "    }\n",
              "</style>\n",
              "<table border=\"1\" class=\"dataframe\">\n",
              "  <thead>\n",
              "    <tr style=\"text-align: right;\">\n",
              "      <th></th>\n",
              "      <th>InvoiceNo</th>\n",
              "      <th>StockCode</th>\n",
              "      <th>Description</th>\n",
              "      <th>Quantity</th>\n",
              "      <th>InvoiceDate</th>\n",
              "      <th>UnitPrice</th>\n",
              "      <th>CustomerID</th>\n",
              "      <th>Country</th>\n",
              "      <th>member_start_date</th>\n",
              "      <th>first_trans_date</th>\n",
              "    </tr>\n",
              "  </thead>\n",
              "  <tbody>\n",
              "    <tr>\n",
              "      <th>0</th>\n",
              "      <td>PS5327001158</td>\n",
              "      <td>JA01</td>\n",
              "      <td>晶淬雪潔顏乳100ml</td>\n",
              "      <td>8.00</td>\n",
              "      <td>2019-01-01</td>\n",
              "      <td>1259.00</td>\n",
              "      <td>9100002488768.00</td>\n",
              "      <td>中區</td>\n",
              "      <td>2019-12-09</td>\n",
              "      <td>2018-06-24</td>\n",
              "    </tr>\n",
              "    <tr>\n",
              "      <th>1</th>\n",
              "      <td>PS5335020955</td>\n",
              "      <td>KG06</td>\n",
              "      <td>多肽亮眼乳霜20g-保濕型</td>\n",
              "      <td>8.00</td>\n",
              "      <td>2019-01-01</td>\n",
              "      <td>839.00</td>\n",
              "      <td>9100002556566.00</td>\n",
              "      <td>中區</td>\n",
              "      <td>2018-10-21</td>\n",
              "      <td>2018-10-21</td>\n",
              "    </tr>\n",
              "    <tr>\n",
              "      <th>2</th>\n",
              "      <td>PS5335020955</td>\n",
              "      <td>BJ102</td>\n",
              "      <td>檸檬精油10ml MUI</td>\n",
              "      <td>8.00</td>\n",
              "      <td>2019-01-01</td>\n",
              "      <td>839.00</td>\n",
              "      <td>9100002556566.00</td>\n",
              "      <td>中區</td>\n",
              "      <td>2018-10-21</td>\n",
              "      <td>2018-10-21</td>\n",
              "    </tr>\n",
              "    <tr>\n",
              "      <th>4</th>\n",
              "      <td>PS5444006919</td>\n",
              "      <td>BJ103</td>\n",
              "      <td>細花冬青香氛油10ml MUI</td>\n",
              "      <td>8.00</td>\n",
              "      <td>2019-01-01</td>\n",
              "      <td>672.00</td>\n",
              "      <td>9100002582077.00</td>\n",
              "      <td>南區</td>\n",
              "      <td>2018-12-04</td>\n",
              "      <td>2018-12-04</td>\n",
              "    </tr>\n",
              "    <tr>\n",
              "      <th>5</th>\n",
              "      <td>PS5444006920</td>\n",
              "      <td>K8018</td>\n",
              "      <td>植粹養護潤髮乳475ml</td>\n",
              "      <td>8.00</td>\n",
              "      <td>2019-01-01</td>\n",
              "      <td>549.00</td>\n",
              "      <td>9100002426142.00</td>\n",
              "      <td>南區</td>\n",
              "      <td>2017-12-19</td>\n",
              "      <td>2017-12-19</td>\n",
              "    </tr>\n",
              "    <tr>\n",
              "      <th>...</th>\n",
              "      <td>...</td>\n",
              "      <td>...</td>\n",
              "      <td>...</td>\n",
              "      <td>...</td>\n",
              "      <td>...</td>\n",
              "      <td>...</td>\n",
              "      <td>...</td>\n",
              "      <td>...</td>\n",
              "      <td>...</td>\n",
              "      <td>...</td>\n",
              "    </tr>\n",
              "    <tr>\n",
              "      <th>1404430</th>\n",
              "      <td>PS5324024941</td>\n",
              "      <td>KQ02</td>\n",
              "      <td>玫瑰晶萃活膚液130ml</td>\n",
              "      <td>16.00</td>\n",
              "      <td>2020-12-31</td>\n",
              "      <td>2946.00</td>\n",
              "      <td>9100000595826.00</td>\n",
              "      <td>中區</td>\n",
              "      <td>2010-03-15</td>\n",
              "      <td>2012-07-11</td>\n",
              "    </tr>\n",
              "    <tr>\n",
              "      <th>1404431</th>\n",
              "      <td>PS5219002027</td>\n",
              "      <td>GAXFG1</td>\n",
              "      <td>真正除臭抗菌噴霧(銀離子迷迭香)250ml</td>\n",
              "      <td>8.00</td>\n",
              "      <td>2020-12-31</td>\n",
              "      <td>309.00</td>\n",
              "      <td>9100003028369.00</td>\n",
              "      <td>竹區</td>\n",
              "      <td>2020-12-08</td>\n",
              "      <td>2020-11-26</td>\n",
              "    </tr>\n",
              "    <tr>\n",
              "      <th>1404432</th>\n",
              "      <td>PS5219002027</td>\n",
              "      <td>MAB2G1</td>\n",
              "      <td>BA-5肌密全效噴霧奇蹟水70ml</td>\n",
              "      <td>8.00</td>\n",
              "      <td>2020-12-31</td>\n",
              "      <td>1094.00</td>\n",
              "      <td>9100003028369.00</td>\n",
              "      <td>竹區</td>\n",
              "      <td>2020-12-08</td>\n",
              "      <td>2020-11-26</td>\n",
              "    </tr>\n",
              "    <tr>\n",
              "      <th>1404433</th>\n",
              "      <td>PS5219002027</td>\n",
              "      <td>WD096</td>\n",
              "      <td>緊緻保濕裸膚羽翼面膜25ml-零售單包</td>\n",
              "      <td>16.00</td>\n",
              "      <td>2020-12-31</td>\n",
              "      <td>165.00</td>\n",
              "      <td>9100003028369.00</td>\n",
              "      <td>竹區</td>\n",
              "      <td>2020-12-08</td>\n",
              "      <td>2020-11-26</td>\n",
              "    </tr>\n",
              "    <tr>\n",
              "      <th>1404434</th>\n",
              "      <td>PS5219002028</td>\n",
              "      <td>GAXFG2</td>\n",
              "      <td>真正除臭抗菌噴霧(銀離子迷迭香)350ml</td>\n",
              "      <td>8.00</td>\n",
              "      <td>2020-12-31</td>\n",
              "      <td>441.00</td>\n",
              "      <td>9100003039464.00</td>\n",
              "      <td>竹區</td>\n",
              "      <td>2020-12-23</td>\n",
              "      <td>2020-12-10</td>\n",
              "    </tr>\n",
              "  </tbody>\n",
              "</table>\n",
              "<p>1397796 rows × 10 columns</p>\n",
              "</div>"
            ],
            "text/plain": [
              "            InvoiceNo StockCode  ... member_start_date  first_trans_date\n",
              "0        PS5327001158      JA01  ...        2019-12-09        2018-06-24\n",
              "1        PS5335020955      KG06  ...        2018-10-21        2018-10-21\n",
              "2        PS5335020955     BJ102  ...        2018-10-21        2018-10-21\n",
              "4        PS5444006919     BJ103  ...        2018-12-04        2018-12-04\n",
              "5        PS5444006920     K8018  ...        2017-12-19        2017-12-19\n",
              "...               ...       ...  ...               ...               ...\n",
              "1404430  PS5324024941      KQ02  ...        2010-03-15        2012-07-11\n",
              "1404431  PS5219002027    GAXFG1  ...        2020-12-08        2020-11-26\n",
              "1404432  PS5219002027    MAB2G1  ...        2020-12-08        2020-11-26\n",
              "1404433  PS5219002027     WD096  ...        2020-12-08        2020-11-26\n",
              "1404434  PS5219002028    GAXFG2  ...        2020-12-23        2020-12-10\n",
              "\n",
              "[1397796 rows x 10 columns]"
            ]
          },
          "metadata": {},
          "execution_count": 103
        }
      ]
    },
    {
      "cell_type": "code",
      "metadata": {
        "colab": {
          "base_uri": "https://localhost:8080/",
          "height": 424
        },
        "id": "9xohFWqA6p94",
        "outputId": "cf980848-72cc-4c28-fdf7-827c9b5314ce"
      },
      "source": [
        "#那如何兩個條件都達成呢？ 答：新增一個變數後再設一次條件\n",
        "data1 = data[['StockCode','Description','Quantity','InvoiceDate','UnitPrice']]\n",
        "data1[data1['Quantity']>2]"
      ],
      "execution_count": 104,
      "outputs": [
        {
          "output_type": "execute_result",
          "data": {
            "text/html": [
              "<div>\n",
              "<style scoped>\n",
              "    .dataframe tbody tr th:only-of-type {\n",
              "        vertical-align: middle;\n",
              "    }\n",
              "\n",
              "    .dataframe tbody tr th {\n",
              "        vertical-align: top;\n",
              "    }\n",
              "\n",
              "    .dataframe thead th {\n",
              "        text-align: right;\n",
              "    }\n",
              "</style>\n",
              "<table border=\"1\" class=\"dataframe\">\n",
              "  <thead>\n",
              "    <tr style=\"text-align: right;\">\n",
              "      <th></th>\n",
              "      <th>StockCode</th>\n",
              "      <th>Description</th>\n",
              "      <th>Quantity</th>\n",
              "      <th>InvoiceDate</th>\n",
              "      <th>UnitPrice</th>\n",
              "    </tr>\n",
              "  </thead>\n",
              "  <tbody>\n",
              "    <tr>\n",
              "      <th>0</th>\n",
              "      <td>JA01</td>\n",
              "      <td>晶淬雪潔顏乳100ml</td>\n",
              "      <td>8.00</td>\n",
              "      <td>2019-01-01</td>\n",
              "      <td>1259.00</td>\n",
              "    </tr>\n",
              "    <tr>\n",
              "      <th>1</th>\n",
              "      <td>KG06</td>\n",
              "      <td>多肽亮眼乳霜20g-保濕型</td>\n",
              "      <td>8.00</td>\n",
              "      <td>2019-01-01</td>\n",
              "      <td>839.00</td>\n",
              "    </tr>\n",
              "    <tr>\n",
              "      <th>2</th>\n",
              "      <td>BJ102</td>\n",
              "      <td>檸檬精油10ml MUI</td>\n",
              "      <td>8.00</td>\n",
              "      <td>2019-01-01</td>\n",
              "      <td>839.00</td>\n",
              "    </tr>\n",
              "    <tr>\n",
              "      <th>4</th>\n",
              "      <td>BJ103</td>\n",
              "      <td>細花冬青香氛油10ml MUI</td>\n",
              "      <td>8.00</td>\n",
              "      <td>2019-01-01</td>\n",
              "      <td>672.00</td>\n",
              "    </tr>\n",
              "    <tr>\n",
              "      <th>5</th>\n",
              "      <td>K8018</td>\n",
              "      <td>植粹養護潤髮乳475ml</td>\n",
              "      <td>8.00</td>\n",
              "      <td>2019-01-01</td>\n",
              "      <td>549.00</td>\n",
              "    </tr>\n",
              "    <tr>\n",
              "      <th>...</th>\n",
              "      <td>...</td>\n",
              "      <td>...</td>\n",
              "      <td>...</td>\n",
              "      <td>...</td>\n",
              "      <td>...</td>\n",
              "    </tr>\n",
              "    <tr>\n",
              "      <th>1404430</th>\n",
              "      <td>KQ02</td>\n",
              "      <td>玫瑰晶萃活膚液130ml</td>\n",
              "      <td>16.00</td>\n",
              "      <td>2020-12-31</td>\n",
              "      <td>2946.00</td>\n",
              "    </tr>\n",
              "    <tr>\n",
              "      <th>1404431</th>\n",
              "      <td>GAXFG1</td>\n",
              "      <td>真正除臭抗菌噴霧(銀離子迷迭香)250ml</td>\n",
              "      <td>8.00</td>\n",
              "      <td>2020-12-31</td>\n",
              "      <td>309.00</td>\n",
              "    </tr>\n",
              "    <tr>\n",
              "      <th>1404432</th>\n",
              "      <td>MAB2G1</td>\n",
              "      <td>BA-5肌密全效噴霧奇蹟水70ml</td>\n",
              "      <td>8.00</td>\n",
              "      <td>2020-12-31</td>\n",
              "      <td>1094.00</td>\n",
              "    </tr>\n",
              "    <tr>\n",
              "      <th>1404433</th>\n",
              "      <td>WD096</td>\n",
              "      <td>緊緻保濕裸膚羽翼面膜25ml-零售單包</td>\n",
              "      <td>16.00</td>\n",
              "      <td>2020-12-31</td>\n",
              "      <td>165.00</td>\n",
              "    </tr>\n",
              "    <tr>\n",
              "      <th>1404434</th>\n",
              "      <td>GAXFG2</td>\n",
              "      <td>真正除臭抗菌噴霧(銀離子迷迭香)350ml</td>\n",
              "      <td>8.00</td>\n",
              "      <td>2020-12-31</td>\n",
              "      <td>441.00</td>\n",
              "    </tr>\n",
              "  </tbody>\n",
              "</table>\n",
              "<p>1397796 rows × 5 columns</p>\n",
              "</div>"
            ],
            "text/plain": [
              "        StockCode            Description  Quantity InvoiceDate  UnitPrice\n",
              "0            JA01            晶淬雪潔顏乳100ml      8.00  2019-01-01    1259.00\n",
              "1            KG06          多肽亮眼乳霜20g-保濕型      8.00  2019-01-01     839.00\n",
              "2           BJ102           檸檬精油10ml MUI      8.00  2019-01-01     839.00\n",
              "4           BJ103        細花冬青香氛油10ml MUI      8.00  2019-01-01     672.00\n",
              "5           K8018           植粹養護潤髮乳475ml      8.00  2019-01-01     549.00\n",
              "...           ...                    ...       ...         ...        ...\n",
              "1404430      KQ02           玫瑰晶萃活膚液130ml     16.00  2020-12-31    2946.00\n",
              "1404431    GAXFG1  真正除臭抗菌噴霧(銀離子迷迭香)250ml      8.00  2020-12-31     309.00\n",
              "1404432    MAB2G1      BA-5肌密全效噴霧奇蹟水70ml      8.00  2020-12-31    1094.00\n",
              "1404433     WD096    緊緻保濕裸膚羽翼面膜25ml-零售單包     16.00  2020-12-31     165.00\n",
              "1404434    GAXFG2  真正除臭抗菌噴霧(銀離子迷迭香)350ml      8.00  2020-12-31     441.00\n",
              "\n",
              "[1397796 rows x 5 columns]"
            ]
          },
          "metadata": {},
          "execution_count": 104
        }
      ]
    },
    {
      "cell_type": "code",
      "metadata": {
        "colab": {
          "base_uri": "https://localhost:8080/"
        },
        "id": "YG7nXBgx7NI3",
        "outputId": "3ce3181f-5615-45ed-e1b9-8d9f24041297"
      },
      "source": [
        "#顯示特定欄位資料\n",
        "data.iloc[1000]"
      ],
      "execution_count": 105,
      "outputs": [
        {
          "output_type": "execute_result",
          "data": {
            "text/plain": [
              "InvoiceNo               PS5444006925\n",
              "StockCode                    HB89A01\n",
              "Description              頭部活氧熱舒壓課程單堂\n",
              "Quantity                        8.00\n",
              "InvoiceDate               2019-01-02\n",
              "UnitPrice                     848.00\n",
              "CustomerID          9100001536064.00\n",
              "Country                           南區\n",
              "member_start_date         2013-04-26\n",
              "first_trans_date          2013-04-20\n",
              "Name: 1000, dtype: object"
            ]
          },
          "metadata": {},
          "execution_count": 105
        }
      ]
    },
    {
      "cell_type": "code",
      "metadata": {
        "id": "3qKtQHIT8i0j"
      },
      "source": [
        "data2 = data[['CustomerID','Description']]"
      ],
      "execution_count": 106,
      "outputs": []
    },
    {
      "cell_type": "code",
      "metadata": {
        "colab": {
          "base_uri": "https://localhost:8080/"
        },
        "id": "7TalR8zs93ES",
        "outputId": "375eefab-1854-4e84-a420-4fa26c6d5a54"
      },
      "source": [
        "data2.iloc[1000]"
      ],
      "execution_count": 107,
      "outputs": [
        {
          "output_type": "execute_result",
          "data": {
            "text/plain": [
              "CustomerID    9100001536064.00\n",
              "Description        頭部活氧熱舒壓課程單堂\n",
              "Name: 1000, dtype: object"
            ]
          },
          "metadata": {},
          "execution_count": 107
        }
      ]
    },
    {
      "cell_type": "markdown",
      "metadata": {
        "id": "Dwu8meuy1xoH"
      },
      "source": [
        "## New-Data Wrangling (透過Z-score方法抓異常值)"
      ]
    },
    {
      "cell_type": "code",
      "metadata": {
        "id": "RpOzv8m010ZW"
      },
      "source": [
        "import numpy as np"
      ],
      "execution_count": 108,
      "outputs": []
    },
    {
      "cell_type": "code",
      "metadata": {
        "id": "5PbmDCei2Zbl"
      },
      "source": [
        "pd.set_option('display.float_format',lambda x:'%.2f'% x) #設定浮點數要到小數點後幾位，主要是針對讀檔欄位為『浮點數』時，只顯示到『小數點第二位』"
      ],
      "execution_count": 109,
      "outputs": []
    },
    {
      "cell_type": "code",
      "metadata": {
        "colab": {
          "base_uri": "https://localhost:8080/"
        },
        "id": "ezEtdluB3dxx",
        "outputId": "4b510aae-ed4c-4dd5-c614-39c609a201bd"
      },
      "source": [
        "data.info()"
      ],
      "execution_count": 110,
      "outputs": [
        {
          "output_type": "stream",
          "name": "stdout",
          "text": [
            "<class 'pandas.core.frame.DataFrame'>\n",
            "RangeIndex: 1404435 entries, 0 to 1404434\n",
            "Data columns (total 10 columns):\n",
            " #   Column             Non-Null Count    Dtype  \n",
            "---  ------             --------------    -----  \n",
            " 0   InvoiceNo          1404435 non-null  object \n",
            " 1   StockCode          1404435 non-null  object \n",
            " 2   Description        1404435 non-null  object \n",
            " 3   Quantity           1404435 non-null  float64\n",
            " 4   InvoiceDate        1404435 non-null  object \n",
            " 5   UnitPrice          1404435 non-null  float64\n",
            " 6   CustomerID         1403724 non-null  float64\n",
            " 7   Country            1404435 non-null  object \n",
            " 8   member_start_date  1366651 non-null  object \n",
            " 9   first_trans_date   1400412 non-null  object \n",
            "dtypes: float64(3), object(7)\n",
            "memory usage: 107.2+ MB\n"
          ]
        }
      ]
    },
    {
      "cell_type": "code",
      "metadata": {
        "colab": {
          "base_uri": "https://localhost:8080/"
        },
        "id": "7SbtNYM_304o",
        "outputId": "09f30add-7634-4ed6-ec79-16237c5bb9a1"
      },
      "source": [
        "data.shape #14..多筆資料,10個欄位"
      ],
      "execution_count": 111,
      "outputs": [
        {
          "output_type": "execute_result",
          "data": {
            "text/plain": [
              "(1404435, 10)"
            ]
          },
          "metadata": {},
          "execution_count": 111
        }
      ]
    },
    {
      "cell_type": "code",
      "metadata": {
        "colab": {
          "base_uri": "https://localhost:8080/"
        },
        "id": "CD9kC84g4AC9",
        "outputId": "5f91f0ce-9321-42d7-dc4d-9879b46c9f77"
      },
      "source": [
        "data.Description.value_counts() #看產品,出現次數,進行初步探索(要有一定的doment know how)"
      ],
      "execution_count": 112,
      "outputs": [
        {
          "output_type": "execute_result",
          "data": {
            "text/plain": [
              "全背順氣活力SPA課程單堂                58636\n",
              "清除環境中腸病毒濕紙巾10抽               52599\n",
              "plus5智頻美塑儀課程單堂               46660\n",
              "(新)溫熱刮痧課程單堂                  34129\n",
              "全身健康優化SPA課程單堂                33770\n",
              "                             ...  \n",
              "淋巴循環舒壓SPA單堂                      1\n",
              "佐登妮絲４號複方精油30ml-職業包 HALAL         1\n",
              "新膠原靓白療程單堂(單堂會員)                  1\n",
              "精準無痕BOTOX除皺鼻背紋/下巴放鬆(單堂會員)        1\n",
              "尊爵東方能量頭部深呼吸課程                    1\n",
              "Name: Description, Length: 870, dtype: int64"
            ]
          },
          "metadata": {},
          "execution_count": 112
        }
      ]
    },
    {
      "cell_type": "code",
      "metadata": {
        "colab": {
          "base_uri": "https://localhost:8080/"
        },
        "id": "h3rgMfWy4OkX",
        "outputId": "df83d465-7a92-453b-bd49-7c23e9040e5a"
      },
      "source": [
        "data['Description'].value_counts"
      ],
      "execution_count": 113,
      "outputs": [
        {
          "output_type": "execute_result",
          "data": {
            "text/plain": [
              "<bound method IndexOpsMixin.value_counts of 0                    晶淬雪潔顏乳100ml\n",
              "1                  多肽亮眼乳霜20g-保濕型\n",
              "2                   檸檬精油10ml MUI\n",
              "3                 柚見快樂精油15ml MUI\n",
              "4                細花冬青香氛油10ml MUI\n",
              "                   ...          \n",
              "1404430             玫瑰晶萃活膚液130ml\n",
              "1404431    真正除臭抗菌噴霧(銀離子迷迭香)250ml\n",
              "1404432        BA-5肌密全效噴霧奇蹟水70ml\n",
              "1404433      緊緻保濕裸膚羽翼面膜25ml-零售單包\n",
              "1404434    真正除臭抗菌噴霧(銀離子迷迭香)350ml\n",
              "Name: Description, Length: 1404435, dtype: object>"
            ]
          },
          "metadata": {},
          "execution_count": 113
        }
      ]
    },
    {
      "cell_type": "code",
      "metadata": {
        "colab": {
          "base_uri": "https://localhost:8080/"
        },
        "id": "6isnAcjo4mp5",
        "outputId": "a3308dca-7240-42d1-96b2-c6e066cfbfda"
      },
      "source": [
        "data.isna().any() #檢查這筆資料中 各項欄位內有無『諾值(null)』"
      ],
      "execution_count": 114,
      "outputs": [
        {
          "output_type": "execute_result",
          "data": {
            "text/plain": [
              "InvoiceNo            False\n",
              "StockCode            False\n",
              "Description          False\n",
              "Quantity             False\n",
              "InvoiceDate          False\n",
              "UnitPrice            False\n",
              "CustomerID            True\n",
              "Country              False\n",
              "member_start_date     True\n",
              "first_trans_date      True\n",
              "dtype: bool"
            ]
          },
          "metadata": {},
          "execution_count": 114
        }
      ]
    },
    {
      "cell_type": "code",
      "metadata": {
        "colab": {
          "base_uri": "https://localhost:8080/",
          "height": 476
        },
        "id": "IH7CnL7_4q82",
        "outputId": "c32ad300-3183-43fe-83ae-d8b715d7b353"
      },
      "source": [
        "data.loc[data['CustomerID'].isnull()] #用loc找出"
      ],
      "execution_count": 115,
      "outputs": [
        {
          "output_type": "execute_result",
          "data": {
            "text/html": [
              "<div>\n",
              "<style scoped>\n",
              "    .dataframe tbody tr th:only-of-type {\n",
              "        vertical-align: middle;\n",
              "    }\n",
              "\n",
              "    .dataframe tbody tr th {\n",
              "        vertical-align: top;\n",
              "    }\n",
              "\n",
              "    .dataframe thead th {\n",
              "        text-align: right;\n",
              "    }\n",
              "</style>\n",
              "<table border=\"1\" class=\"dataframe\">\n",
              "  <thead>\n",
              "    <tr style=\"text-align: right;\">\n",
              "      <th></th>\n",
              "      <th>InvoiceNo</th>\n",
              "      <th>StockCode</th>\n",
              "      <th>Description</th>\n",
              "      <th>Quantity</th>\n",
              "      <th>InvoiceDate</th>\n",
              "      <th>UnitPrice</th>\n",
              "      <th>CustomerID</th>\n",
              "      <th>Country</th>\n",
              "      <th>member_start_date</th>\n",
              "      <th>first_trans_date</th>\n",
              "    </tr>\n",
              "  </thead>\n",
              "  <tbody>\n",
              "    <tr>\n",
              "      <th>1544</th>\n",
              "      <td>PS1001008016</td>\n",
              "      <td>MD-1265</td>\n",
              "      <td>2019營運售全背</td>\n",
              "      <td>32.00</td>\n",
              "      <td>2019-01-03</td>\n",
              "      <td>1859.00</td>\n",
              "      <td>nan</td>\n",
              "      <td>總管理處</td>\n",
              "      <td>NaN</td>\n",
              "      <td>NaN</td>\n",
              "    </tr>\n",
              "    <tr>\n",
              "      <th>1545</th>\n",
              "      <td>PS1001008016</td>\n",
              "      <td>JZA4G2</td>\n",
              "      <td>輕鬆．清新複方按摩油30ml</td>\n",
              "      <td>40.00</td>\n",
              "      <td>2019-01-03</td>\n",
              "      <td>2699.00</td>\n",
              "      <td>nan</td>\n",
              "      <td>總管理處</td>\n",
              "      <td>NaN</td>\n",
              "      <td>NaN</td>\n",
              "    </tr>\n",
              "    <tr>\n",
              "      <th>3470</th>\n",
              "      <td>PS1001008018</td>\n",
              "      <td>MD-1266</td>\n",
              "      <td>2019營運售太極</td>\n",
              "      <td>8.00</td>\n",
              "      <td>2019-01-05</td>\n",
              "      <td>509.00</td>\n",
              "      <td>nan</td>\n",
              "      <td>總管理處</td>\n",
              "      <td>NaN</td>\n",
              "      <td>NaN</td>\n",
              "    </tr>\n",
              "    <tr>\n",
              "      <th>3471</th>\n",
              "      <td>PS1001008018</td>\n",
              "      <td>K8016</td>\n",
              "      <td>植粹清香沐浴精500ml</td>\n",
              "      <td>8.00</td>\n",
              "      <td>2019-01-05</td>\n",
              "      <td>497.00</td>\n",
              "      <td>nan</td>\n",
              "      <td>總管理處</td>\n",
              "      <td>NaN</td>\n",
              "      <td>NaN</td>\n",
              "    </tr>\n",
              "    <tr>\n",
              "      <th>3472</th>\n",
              "      <td>PS1001008018</td>\n",
              "      <td>K8017</td>\n",
              "      <td>植粹養護洗髮精500ml</td>\n",
              "      <td>8.00</td>\n",
              "      <td>2019-01-05</td>\n",
              "      <td>497.00</td>\n",
              "      <td>nan</td>\n",
              "      <td>總管理處</td>\n",
              "      <td>NaN</td>\n",
              "      <td>NaN</td>\n",
              "    </tr>\n",
              "    <tr>\n",
              "      <th>...</th>\n",
              "      <td>...</td>\n",
              "      <td>...</td>\n",
              "      <td>...</td>\n",
              "      <td>...</td>\n",
              "      <td>...</td>\n",
              "      <td>...</td>\n",
              "      <td>...</td>\n",
              "      <td>...</td>\n",
              "      <td>...</td>\n",
              "      <td>...</td>\n",
              "    </tr>\n",
              "    <tr>\n",
              "      <th>1370084</th>\n",
              "      <td>PS5525021426</td>\n",
              "      <td>BJ079</td>\n",
              "      <td>佐登妮絲６號複方精油10ml</td>\n",
              "      <td>8.00</td>\n",
              "      <td>2020-12-14</td>\n",
              "      <td>1099.00</td>\n",
              "      <td>nan</td>\n",
              "      <td>高屏全區</td>\n",
              "      <td>NaN</td>\n",
              "      <td>NaN</td>\n",
              "    </tr>\n",
              "    <tr>\n",
              "      <th>1370085</th>\n",
              "      <td>PS5525021426</td>\n",
              "      <td>JYA1G1</td>\n",
              "      <td>玫瑰複方精油5ml HALAL</td>\n",
              "      <td>8.00</td>\n",
              "      <td>2020-12-14</td>\n",
              "      <td>1099.00</td>\n",
              "      <td>nan</td>\n",
              "      <td>高屏全區</td>\n",
              "      <td>NaN</td>\n",
              "      <td>NaN</td>\n",
              "    </tr>\n",
              "    <tr>\n",
              "      <th>1382674</th>\n",
              "      <td>PS5455008904</td>\n",
              "      <td>ZFE02</td>\n",
              "      <td>工本費</td>\n",
              "      <td>8.00</td>\n",
              "      <td>2020-12-21</td>\n",
              "      <td>509.00</td>\n",
              "      <td>nan</td>\n",
              "      <td>南區</td>\n",
              "      <td>NaN</td>\n",
              "      <td>NaN</td>\n",
              "    </tr>\n",
              "    <tr>\n",
              "      <th>1396234</th>\n",
              "      <td>PS5414018463</td>\n",
              "      <td>JZB4G1</td>\n",
              "      <td>呼暢護隨精油30ml</td>\n",
              "      <td>-8.00</td>\n",
              "      <td>2020-12-28</td>\n",
              "      <td>-1720.00</td>\n",
              "      <td>nan</td>\n",
              "      <td>南區</td>\n",
              "      <td>NaN</td>\n",
              "      <td>NaN</td>\n",
              "    </tr>\n",
              "    <tr>\n",
              "      <th>1396235</th>\n",
              "      <td>PS5414018463</td>\n",
              "      <td>KQ02</td>\n",
              "      <td>玫瑰晶萃活膚液130ml</td>\n",
              "      <td>8.00</td>\n",
              "      <td>2020-12-28</td>\n",
              "      <td>1838.00</td>\n",
              "      <td>nan</td>\n",
              "      <td>南區</td>\n",
              "      <td>NaN</td>\n",
              "      <td>NaN</td>\n",
              "    </tr>\n",
              "  </tbody>\n",
              "</table>\n",
              "<p>711 rows × 10 columns</p>\n",
              "</div>"
            ],
            "text/plain": [
              "            InvoiceNo StockCode  ... member_start_date  first_trans_date\n",
              "1544     PS1001008016   MD-1265  ...               NaN               NaN\n",
              "1545     PS1001008016    JZA4G2  ...               NaN               NaN\n",
              "3470     PS1001008018   MD-1266  ...               NaN               NaN\n",
              "3471     PS1001008018     K8016  ...               NaN               NaN\n",
              "3472     PS1001008018     K8017  ...               NaN               NaN\n",
              "...               ...       ...  ...               ...               ...\n",
              "1370084  PS5525021426     BJ079  ...               NaN               NaN\n",
              "1370085  PS5525021426    JYA1G1  ...               NaN               NaN\n",
              "1382674  PS5455008904     ZFE02  ...               NaN               NaN\n",
              "1396234  PS5414018463    JZB4G1  ...               NaN               NaN\n",
              "1396235  PS5414018463      KQ02  ...               NaN               NaN\n",
              "\n",
              "[711 rows x 10 columns]"
            ]
          },
          "metadata": {},
          "execution_count": 115
        }
      ]
    },
    {
      "cell_type": "code",
      "metadata": {
        "id": "eVO7PxA75mqB"
      },
      "source": [
        "data.drop(data[data['CustomerID'].isnull()].index,inplace=True) #用drop 刪除"
      ],
      "execution_count": 116,
      "outputs": []
    },
    {
      "cell_type": "code",
      "metadata": {
        "colab": {
          "base_uri": "https://localhost:8080/"
        },
        "id": "hywSiXV46vj4",
        "outputId": "f73f27c3-6554-4429-b547-2c5a89a908c5"
      },
      "source": [
        "data.shape #可看出資料有減少了"
      ],
      "execution_count": 117,
      "outputs": [
        {
          "output_type": "execute_result",
          "data": {
            "text/plain": [
              "(1403724, 10)"
            ]
          },
          "metadata": {},
          "execution_count": 117
        }
      ]
    },
    {
      "cell_type": "code",
      "metadata": {
        "colab": {
          "base_uri": "https://localhost:8080/",
          "height": 684
        },
        "id": "NsFVpiVf87yM",
        "outputId": "061373ef-90f6-48c1-b54c-3ef4ca889138"
      },
      "source": [
        "#發現數量及價格有複數，無法套入相乘公式(因為負負得正，新增『總額』的欄位資料將會「失真」)\n",
        "data.loc[(data['Quantity']<0)|(data['UnitPrice']<0)] #找出兩者皆小於0的資料"
      ],
      "execution_count": 118,
      "outputs": [
        {
          "output_type": "execute_result",
          "data": {
            "text/html": [
              "<div>\n",
              "<style scoped>\n",
              "    .dataframe tbody tr th:only-of-type {\n",
              "        vertical-align: middle;\n",
              "    }\n",
              "\n",
              "    .dataframe tbody tr th {\n",
              "        vertical-align: top;\n",
              "    }\n",
              "\n",
              "    .dataframe thead th {\n",
              "        text-align: right;\n",
              "    }\n",
              "</style>\n",
              "<table border=\"1\" class=\"dataframe\">\n",
              "  <thead>\n",
              "    <tr style=\"text-align: right;\">\n",
              "      <th></th>\n",
              "      <th>InvoiceNo</th>\n",
              "      <th>StockCode</th>\n",
              "      <th>Description</th>\n",
              "      <th>Quantity</th>\n",
              "      <th>InvoiceDate</th>\n",
              "      <th>UnitPrice</th>\n",
              "      <th>CustomerID</th>\n",
              "      <th>Country</th>\n",
              "      <th>member_start_date</th>\n",
              "      <th>first_trans_date</th>\n",
              "    </tr>\n",
              "  </thead>\n",
              "  <tbody>\n",
              "    <tr>\n",
              "      <th>3</th>\n",
              "      <td>PS5335020955</td>\n",
              "      <td>JZA3G1</td>\n",
              "      <td>柚見快樂精油15ml MUI</td>\n",
              "      <td>-8.00</td>\n",
              "      <td>2019-01-01</td>\n",
              "      <td>-1501.00</td>\n",
              "      <td>9100002556566.00</td>\n",
              "      <td>中區</td>\n",
              "      <td>2018-10-21</td>\n",
              "      <td>2018-10-21</td>\n",
              "    </tr>\n",
              "    <tr>\n",
              "      <th>19</th>\n",
              "      <td>PS5323017890</td>\n",
              "      <td>K0464B</td>\n",
              "      <td>DC龍血緊緻修護面膜26ml+5g-單包</td>\n",
              "      <td>-56.00</td>\n",
              "      <td>2019-01-01</td>\n",
              "      <td>-1006.00</td>\n",
              "      <td>9100000045758.00</td>\n",
              "      <td>中區</td>\n",
              "      <td>2001-05-20</td>\n",
              "      <td>2012-07-17</td>\n",
              "    </tr>\n",
              "    <tr>\n",
              "      <th>20</th>\n",
              "      <td>PS5323017890</td>\n",
              "      <td>K0464B</td>\n",
              "      <td>DC龍血緊緻修護面膜26ml+5g-單包</td>\n",
              "      <td>-8.00</td>\n",
              "      <td>2019-01-01</td>\n",
              "      <td>-205.00</td>\n",
              "      <td>9100000045758.00</td>\n",
              "      <td>中區</td>\n",
              "      <td>2001-05-20</td>\n",
              "      <td>2012-07-17</td>\n",
              "    </tr>\n",
              "    <tr>\n",
              "      <th>252</th>\n",
              "      <td>PS5381011345</td>\n",
              "      <td>KQ03</td>\n",
              "      <td>玫瑰晶萃露15ml</td>\n",
              "      <td>-8.00</td>\n",
              "      <td>2019-01-01</td>\n",
              "      <td>-1501.00</td>\n",
              "      <td>9100000356694.00</td>\n",
              "      <td>中區</td>\n",
              "      <td>2002-02-03</td>\n",
              "      <td>2012-10-06</td>\n",
              "    </tr>\n",
              "    <tr>\n",
              "      <th>253</th>\n",
              "      <td>PS5381011345</td>\n",
              "      <td>KQ03</td>\n",
              "      <td>玫瑰晶萃露15ml</td>\n",
              "      <td>-8.00</td>\n",
              "      <td>2019-01-01</td>\n",
              "      <td>-1501.00</td>\n",
              "      <td>9100000356694.00</td>\n",
              "      <td>中區</td>\n",
              "      <td>2002-02-03</td>\n",
              "      <td>2012-10-06</td>\n",
              "    </tr>\n",
              "    <tr>\n",
              "      <th>...</th>\n",
              "      <td>...</td>\n",
              "      <td>...</td>\n",
              "      <td>...</td>\n",
              "      <td>...</td>\n",
              "      <td>...</td>\n",
              "      <td>...</td>\n",
              "      <td>...</td>\n",
              "      <td>...</td>\n",
              "      <td>...</td>\n",
              "      <td>...</td>\n",
              "    </tr>\n",
              "    <tr>\n",
              "      <th>1404039</th>\n",
              "      <td>PS5217034487</td>\n",
              "      <td>JAA3G3</td>\n",
              "      <td>膠原蛋白青春精華94%原液60ml</td>\n",
              "      <td>-8.00</td>\n",
              "      <td>2020-12-31</td>\n",
              "      <td>-2031.00</td>\n",
              "      <td>9100003026129.00</td>\n",
              "      <td>台北B區</td>\n",
              "      <td>2020-12-10</td>\n",
              "      <td>2020-11-23</td>\n",
              "    </tr>\n",
              "    <tr>\n",
              "      <th>1404040</th>\n",
              "      <td>PS5217034487</td>\n",
              "      <td>JAA3G2</td>\n",
              "      <td>玻尿酸超保濕精華96%原液60ml</td>\n",
              "      <td>-8.00</td>\n",
              "      <td>2020-12-31</td>\n",
              "      <td>-2032.00</td>\n",
              "      <td>9100003026129.00</td>\n",
              "      <td>台北B區</td>\n",
              "      <td>2020-12-10</td>\n",
              "      <td>2020-11-23</td>\n",
              "    </tr>\n",
              "    <tr>\n",
              "      <th>1404192</th>\n",
              "      <td>PR9310000260</td>\n",
              "      <td>ENAA01B002</td>\n",
              "      <td>新逆時光藍新寶石亮白全臉單堂(單堂會員)</td>\n",
              "      <td>-48.00</td>\n",
              "      <td>2020-12-31</td>\n",
              "      <td>-12941.00</td>\n",
              "      <td>9100002311295.00</td>\n",
              "      <td>佐登微爾</td>\n",
              "      <td>2018-05-05</td>\n",
              "      <td>2017-04-16</td>\n",
              "    </tr>\n",
              "    <tr>\n",
              "      <th>1404193</th>\n",
              "      <td>PR9310000260</td>\n",
              "      <td>ENBA01B002</td>\n",
              "      <td>新晶透亮白超皮秒透亮美肌局部單堂(單堂會員)</td>\n",
              "      <td>-48.00</td>\n",
              "      <td>2020-12-31</td>\n",
              "      <td>-9941.00</td>\n",
              "      <td>9100002311295.00</td>\n",
              "      <td>佐登微爾</td>\n",
              "      <td>2018-05-05</td>\n",
              "      <td>2017-04-16</td>\n",
              "    </tr>\n",
              "    <tr>\n",
              "      <th>1404194</th>\n",
              "      <td>PR9310000260</td>\n",
              "      <td>ENBD01E001</td>\n",
              "      <td>晶透亮白超皮秒美肌加強版(S1 S2 S3)(特惠)</td>\n",
              "      <td>-8.00</td>\n",
              "      <td>2020-12-31</td>\n",
              "      <td>-6939.00</td>\n",
              "      <td>9100002311295.00</td>\n",
              "      <td>佐登微爾</td>\n",
              "      <td>2018-05-05</td>\n",
              "      <td>2017-04-16</td>\n",
              "    </tr>\n",
              "  </tbody>\n",
              "</table>\n",
              "<p>6612 rows × 10 columns</p>\n",
              "</div>"
            ],
            "text/plain": [
              "            InvoiceNo   StockCode  ... member_start_date  first_trans_date\n",
              "3        PS5335020955      JZA3G1  ...        2018-10-21        2018-10-21\n",
              "19       PS5323017890      K0464B  ...        2001-05-20        2012-07-17\n",
              "20       PS5323017890      K0464B  ...        2001-05-20        2012-07-17\n",
              "252      PS5381011345        KQ03  ...        2002-02-03        2012-10-06\n",
              "253      PS5381011345        KQ03  ...        2002-02-03        2012-10-06\n",
              "...               ...         ...  ...               ...               ...\n",
              "1404039  PS5217034487      JAA3G3  ...        2020-12-10        2020-11-23\n",
              "1404040  PS5217034487      JAA3G2  ...        2020-12-10        2020-11-23\n",
              "1404192  PR9310000260  ENAA01B002  ...        2018-05-05        2017-04-16\n",
              "1404193  PR9310000260  ENBA01B002  ...        2018-05-05        2017-04-16\n",
              "1404194  PR9310000260  ENBD01E001  ...        2018-05-05        2017-04-16\n",
              "\n",
              "[6612 rows x 10 columns]"
            ]
          },
          "metadata": {},
          "execution_count": 118
        }
      ]
    },
    {
      "cell_type": "code",
      "metadata": {
        "colab": {
          "base_uri": "https://localhost:8080/",
          "height": 597
        },
        "id": "Tu3icBc4-UI5",
        "outputId": "24e2c792-e59c-4507-a1df-b60ab0e8c18d"
      },
      "source": [
        "data.loc[(data['Quantity']<0)&(data['UnitPrice']>0)] #找出一者小於0的資料"
      ],
      "execution_count": 119,
      "outputs": [
        {
          "output_type": "execute_result",
          "data": {
            "text/html": [
              "<div>\n",
              "<style scoped>\n",
              "    .dataframe tbody tr th:only-of-type {\n",
              "        vertical-align: middle;\n",
              "    }\n",
              "\n",
              "    .dataframe tbody tr th {\n",
              "        vertical-align: top;\n",
              "    }\n",
              "\n",
              "    .dataframe thead th {\n",
              "        text-align: right;\n",
              "    }\n",
              "</style>\n",
              "<table border=\"1\" class=\"dataframe\">\n",
              "  <thead>\n",
              "    <tr style=\"text-align: right;\">\n",
              "      <th></th>\n",
              "      <th>InvoiceNo</th>\n",
              "      <th>StockCode</th>\n",
              "      <th>Description</th>\n",
              "      <th>Quantity</th>\n",
              "      <th>InvoiceDate</th>\n",
              "      <th>UnitPrice</th>\n",
              "      <th>CustomerID</th>\n",
              "      <th>Country</th>\n",
              "      <th>member_start_date</th>\n",
              "      <th>first_trans_date</th>\n",
              "    </tr>\n",
              "  </thead>\n",
              "  <tbody>\n",
              "    <tr>\n",
              "      <th>10361</th>\n",
              "      <td>PR5524003613</td>\n",
              "      <td>9269</td>\n",
              "      <td>JOURDENESS精油包</td>\n",
              "      <td>-8.00</td>\n",
              "      <td>2019-01-11</td>\n",
              "      <td>59.00</td>\n",
              "      <td>9100000538601.00</td>\n",
              "      <td>高屏全區</td>\n",
              "      <td>2009-02-09</td>\n",
              "      <td>2012-11-28</td>\n",
              "    </tr>\n",
              "    <tr>\n",
              "      <th>14317</th>\n",
              "      <td>PR5374002987</td>\n",
              "      <td>9277</td>\n",
              "      <td>歐式古典花語陶瓷鍋墊</td>\n",
              "      <td>-8.00</td>\n",
              "      <td>2019-01-12</td>\n",
              "      <td>59.00</td>\n",
              "      <td>9100002127370.00</td>\n",
              "      <td>彰雲區</td>\n",
              "      <td>2016-03-27</td>\n",
              "      <td>2016-03-27</td>\n",
              "    </tr>\n",
              "    <tr>\n",
              "      <th>14318</th>\n",
              "      <td>PR5374002987</td>\n",
              "      <td>9277</td>\n",
              "      <td>歐式古典花語陶瓷鍋墊</td>\n",
              "      <td>-8.00</td>\n",
              "      <td>2019-01-12</td>\n",
              "      <td>59.00</td>\n",
              "      <td>9100002127370.00</td>\n",
              "      <td>彰雲區</td>\n",
              "      <td>2016-03-27</td>\n",
              "      <td>2016-03-27</td>\n",
              "    </tr>\n",
              "    <tr>\n",
              "      <th>18308</th>\n",
              "      <td>PR5538001155</td>\n",
              "      <td>9277</td>\n",
              "      <td>歐式古典花語陶瓷鍋墊</td>\n",
              "      <td>-8.00</td>\n",
              "      <td>2019-01-15</td>\n",
              "      <td>59.00</td>\n",
              "      <td>9100000533811.00</td>\n",
              "      <td>高屏全區</td>\n",
              "      <td>2008-12-29</td>\n",
              "      <td>2012-10-04</td>\n",
              "    </tr>\n",
              "    <tr>\n",
              "      <th>18309</th>\n",
              "      <td>PR5538001155</td>\n",
              "      <td>9277</td>\n",
              "      <td>歐式古典花語陶瓷鍋墊</td>\n",
              "      <td>-8.00</td>\n",
              "      <td>2019-01-15</td>\n",
              "      <td>59.00</td>\n",
              "      <td>9100000533811.00</td>\n",
              "      <td>高屏全區</td>\n",
              "      <td>2008-12-29</td>\n",
              "      <td>2012-10-04</td>\n",
              "    </tr>\n",
              "    <tr>\n",
              "      <th>...</th>\n",
              "      <td>...</td>\n",
              "      <td>...</td>\n",
              "      <td>...</td>\n",
              "      <td>...</td>\n",
              "      <td>...</td>\n",
              "      <td>...</td>\n",
              "      <td>...</td>\n",
              "      <td>...</td>\n",
              "      <td>...</td>\n",
              "      <td>...</td>\n",
              "    </tr>\n",
              "    <tr>\n",
              "      <th>1340292</th>\n",
              "      <td>PR5142004025</td>\n",
              "      <td>K8013</td>\n",
              "      <td>PURE純淨沐浴精250ml</td>\n",
              "      <td>-8.00</td>\n",
              "      <td>2020-11-29</td>\n",
              "      <td>59.00</td>\n",
              "      <td>9100001032627.00</td>\n",
              "      <td>台北B區</td>\n",
              "      <td>2004-10-18</td>\n",
              "      <td>2015-11-13</td>\n",
              "    </tr>\n",
              "    <tr>\n",
              "      <th>1340293</th>\n",
              "      <td>PR5142004025</td>\n",
              "      <td>BJ075CS</td>\n",
              "      <td>JD 薄荷30ml-職業包 HALAL</td>\n",
              "      <td>-8.00</td>\n",
              "      <td>2020-11-29</td>\n",
              "      <td>59.00</td>\n",
              "      <td>9100001032627.00</td>\n",
              "      <td>台北B區</td>\n",
              "      <td>2004-10-18</td>\n",
              "      <td>2015-11-13</td>\n",
              "    </tr>\n",
              "    <tr>\n",
              "      <th>1340294</th>\n",
              "      <td>PR5142004025</td>\n",
              "      <td>K8013</td>\n",
              "      <td>PURE純淨沐浴精250ml</td>\n",
              "      <td>-8.00</td>\n",
              "      <td>2020-11-29</td>\n",
              "      <td>59.00</td>\n",
              "      <td>9100001032627.00</td>\n",
              "      <td>台北B區</td>\n",
              "      <td>2004-10-18</td>\n",
              "      <td>2015-11-13</td>\n",
              "    </tr>\n",
              "    <tr>\n",
              "      <th>1352683</th>\n",
              "      <td>PR536F001044</td>\n",
              "      <td>ZCP04</td>\n",
              "      <td>課程預付卡</td>\n",
              "      <td>-8.00</td>\n",
              "      <td>2020-12-05</td>\n",
              "      <td>59.00</td>\n",
              "      <td>9100003035650.00</td>\n",
              "      <td>彰雲區</td>\n",
              "      <td>NaN</td>\n",
              "      <td>NaN</td>\n",
              "    </tr>\n",
              "    <tr>\n",
              "      <th>1361629</th>\n",
              "      <td>PR9310000174</td>\n",
              "      <td>ENAA01E001</td>\n",
              "      <td>逆時光藍寶石亮白全臉單堂(特惠)</td>\n",
              "      <td>-8.00</td>\n",
              "      <td>2020-12-11</td>\n",
              "      <td>59.00</td>\n",
              "      <td>9100002740972.00</td>\n",
              "      <td>佐登微爾</td>\n",
              "      <td>2020-03-14</td>\n",
              "      <td>2019-12-14</td>\n",
              "    </tr>\n",
              "  </tbody>\n",
              "</table>\n",
              "<p>232 rows × 10 columns</p>\n",
              "</div>"
            ],
            "text/plain": [
              "            InvoiceNo   StockCode  ... member_start_date  first_trans_date\n",
              "10361    PR5524003613        9269  ...        2009-02-09        2012-11-28\n",
              "14317    PR5374002987        9277  ...        2016-03-27        2016-03-27\n",
              "14318    PR5374002987        9277  ...        2016-03-27        2016-03-27\n",
              "18308    PR5538001155        9277  ...        2008-12-29        2012-10-04\n",
              "18309    PR5538001155        9277  ...        2008-12-29        2012-10-04\n",
              "...               ...         ...  ...               ...               ...\n",
              "1340292  PR5142004025       K8013  ...        2004-10-18        2015-11-13\n",
              "1340293  PR5142004025     BJ075CS  ...        2004-10-18        2015-11-13\n",
              "1340294  PR5142004025       K8013  ...        2004-10-18        2015-11-13\n",
              "1352683  PR536F001044       ZCP04  ...               NaN               NaN\n",
              "1361629  PR9310000174  ENAA01E001  ...        2020-03-14        2019-12-14\n",
              "\n",
              "[232 rows x 10 columns]"
            ]
          },
          "metadata": {},
          "execution_count": 119
        }
      ]
    },
    {
      "cell_type": "code",
      "metadata": {
        "id": "puZT89PTEVSb"
      },
      "source": [
        "#取絕對值\n",
        "data['Revenue'] = data['Quantity'] * abs(data['UnitPrice']) #需要新增一個『總額』的『欄位名稱』"
      ],
      "execution_count": 120,
      "outputs": []
    },
    {
      "cell_type": "code",
      "metadata": {
        "colab": {
          "base_uri": "https://localhost:8080/",
          "height": 313
        },
        "id": "QY42nH4XVPvN",
        "outputId": "c423d06f-5c40-40ad-c000-c2279cf18bb8"
      },
      "source": [
        "data.head()"
      ],
      "execution_count": 121,
      "outputs": [
        {
          "output_type": "execute_result",
          "data": {
            "text/html": [
              "<div>\n",
              "<style scoped>\n",
              "    .dataframe tbody tr th:only-of-type {\n",
              "        vertical-align: middle;\n",
              "    }\n",
              "\n",
              "    .dataframe tbody tr th {\n",
              "        vertical-align: top;\n",
              "    }\n",
              "\n",
              "    .dataframe thead th {\n",
              "        text-align: right;\n",
              "    }\n",
              "</style>\n",
              "<table border=\"1\" class=\"dataframe\">\n",
              "  <thead>\n",
              "    <tr style=\"text-align: right;\">\n",
              "      <th></th>\n",
              "      <th>InvoiceNo</th>\n",
              "      <th>StockCode</th>\n",
              "      <th>Description</th>\n",
              "      <th>Quantity</th>\n",
              "      <th>InvoiceDate</th>\n",
              "      <th>UnitPrice</th>\n",
              "      <th>CustomerID</th>\n",
              "      <th>Country</th>\n",
              "      <th>member_start_date</th>\n",
              "      <th>first_trans_date</th>\n",
              "      <th>Revenue</th>\n",
              "    </tr>\n",
              "  </thead>\n",
              "  <tbody>\n",
              "    <tr>\n",
              "      <th>0</th>\n",
              "      <td>PS5327001158</td>\n",
              "      <td>JA01</td>\n",
              "      <td>晶淬雪潔顏乳100ml</td>\n",
              "      <td>8.00</td>\n",
              "      <td>2019-01-01</td>\n",
              "      <td>1259.00</td>\n",
              "      <td>9100002488768.00</td>\n",
              "      <td>中區</td>\n",
              "      <td>2019-12-09</td>\n",
              "      <td>2018-06-24</td>\n",
              "      <td>10072.00</td>\n",
              "    </tr>\n",
              "    <tr>\n",
              "      <th>1</th>\n",
              "      <td>PS5335020955</td>\n",
              "      <td>KG06</td>\n",
              "      <td>多肽亮眼乳霜20g-保濕型</td>\n",
              "      <td>8.00</td>\n",
              "      <td>2019-01-01</td>\n",
              "      <td>839.00</td>\n",
              "      <td>9100002556566.00</td>\n",
              "      <td>中區</td>\n",
              "      <td>2018-10-21</td>\n",
              "      <td>2018-10-21</td>\n",
              "      <td>6712.00</td>\n",
              "    </tr>\n",
              "    <tr>\n",
              "      <th>2</th>\n",
              "      <td>PS5335020955</td>\n",
              "      <td>BJ102</td>\n",
              "      <td>檸檬精油10ml MUI</td>\n",
              "      <td>8.00</td>\n",
              "      <td>2019-01-01</td>\n",
              "      <td>839.00</td>\n",
              "      <td>9100002556566.00</td>\n",
              "      <td>中區</td>\n",
              "      <td>2018-10-21</td>\n",
              "      <td>2018-10-21</td>\n",
              "      <td>6712.00</td>\n",
              "    </tr>\n",
              "    <tr>\n",
              "      <th>3</th>\n",
              "      <td>PS5335020955</td>\n",
              "      <td>JZA3G1</td>\n",
              "      <td>柚見快樂精油15ml MUI</td>\n",
              "      <td>-8.00</td>\n",
              "      <td>2019-01-01</td>\n",
              "      <td>-1501.00</td>\n",
              "      <td>9100002556566.00</td>\n",
              "      <td>中區</td>\n",
              "      <td>2018-10-21</td>\n",
              "      <td>2018-10-21</td>\n",
              "      <td>-12008.00</td>\n",
              "    </tr>\n",
              "    <tr>\n",
              "      <th>4</th>\n",
              "      <td>PS5444006919</td>\n",
              "      <td>BJ103</td>\n",
              "      <td>細花冬青香氛油10ml MUI</td>\n",
              "      <td>8.00</td>\n",
              "      <td>2019-01-01</td>\n",
              "      <td>672.00</td>\n",
              "      <td>9100002582077.00</td>\n",
              "      <td>南區</td>\n",
              "      <td>2018-12-04</td>\n",
              "      <td>2018-12-04</td>\n",
              "      <td>5376.00</td>\n",
              "    </tr>\n",
              "  </tbody>\n",
              "</table>\n",
              "</div>"
            ],
            "text/plain": [
              "      InvoiceNo StockCode  ... first_trans_date   Revenue\n",
              "0  PS5327001158      JA01  ...       2018-06-24  10072.00\n",
              "1  PS5335020955      KG06  ...       2018-10-21   6712.00\n",
              "2  PS5335020955     BJ102  ...       2018-10-21   6712.00\n",
              "3  PS5335020955    JZA3G1  ...       2018-10-21 -12008.00\n",
              "4  PS5444006919     BJ103  ...       2018-12-04   5376.00\n",
              "\n",
              "[5 rows x 11 columns]"
            ]
          },
          "metadata": {},
          "execution_count": 121
        }
      ]
    },
    {
      "cell_type": "code",
      "metadata": {
        "colab": {
          "base_uri": "https://localhost:8080/"
        },
        "id": "6zExZ7hQVZhE",
        "outputId": "8d14de29-35b1-4788-dc44-46ac4b6c458e"
      },
      "source": [
        "data.Revenue.describe()"
      ],
      "execution_count": 122,
      "outputs": [
        {
          "output_type": "execute_result",
          "data": {
            "text/plain": [
              "count     1403724.00\n",
              "mean        82668.84\n",
              "std        922440.49\n",
              "min     -41471304.00\n",
              "25%          4672.00\n",
              "50%          8752.00\n",
              "75%         25904.00\n",
              "max     702441768.00\n",
              "Name: Revenue, dtype: float64"
            ]
          },
          "metadata": {},
          "execution_count": 122
        }
      ]
    },
    {
      "cell_type": "code",
      "metadata": {
        "colab": {
          "base_uri": "https://localhost:8080/",
          "height": 293
        },
        "id": "BI1b1H8A-aTJ",
        "outputId": "c0f3792f-3900-462d-eb9e-23b807dea372"
      },
      "source": [
        "data['Revenue'].plot.box() #使用box主要是為了方便去查看『異常值是否存在』"
      ],
      "execution_count": 123,
      "outputs": [
        {
          "output_type": "execute_result",
          "data": {
            "text/plain": [
              "<matplotlib.axes._subplots.AxesSubplot at 0x7f33ce8db2d0>"
            ]
          },
          "metadata": {},
          "execution_count": 123
        },
        {
          "output_type": "display_data",
          "data": {
            "image/png": "[encoded data removed]",
            "text/plain": [
              "<Figure size 432x288 with 1 Axes>"
            ]
          },
          "metadata": {
            "needs_background": "light"
          }
        }
      ]
    },
    {
      "cell_type": "code",
      "metadata": {
        "id": "I9i-w2FdXsLq"
      },
      "source": [
        "sales_data1 = data.copy()"
      ],
      "execution_count": 124,
      "outputs": []
    },
    {
      "cell_type": "code",
      "metadata": {
        "colab": {
          "base_uri": "https://localhost:8080/",
          "height": 313
        },
        "id": "x5zNZSNGVKFo",
        "outputId": "84f0d7c9-71c9-4238-95f2-de980b8bcc98"
      },
      "source": [
        "data['Revenue_zcore']=(data['Revenue']-data['Revenue'].mean())/data['Revenue'].std(ddof=0) #算出Z-score的標準差單位(標準化)\n",
        "data.head()"
      ],
      "execution_count": 125,
      "outputs": [
        {
          "output_type": "execute_result",
          "data": {
            "text/html": [
              "<div>\n",
              "<style scoped>\n",
              "    .dataframe tbody tr th:only-of-type {\n",
              "        vertical-align: middle;\n",
              "    }\n",
              "\n",
              "    .dataframe tbody tr th {\n",
              "        vertical-align: top;\n",
              "    }\n",
              "\n",
              "    .dataframe thead th {\n",
              "        text-align: right;\n",
              "    }\n",
              "</style>\n",
              "<table border=\"1\" class=\"dataframe\">\n",
              "  <thead>\n",
              "    <tr style=\"text-align: right;\">\n",
              "      <th></th>\n",
              "      <th>InvoiceNo</th>\n",
              "      <th>StockCode</th>\n",
              "      <th>Description</th>\n",
              "      <th>Quantity</th>\n",
              "      <th>InvoiceDate</th>\n",
              "      <th>UnitPrice</th>\n",
              "      <th>CustomerID</th>\n",
              "      <th>Country</th>\n",
              "      <th>member_start_date</th>\n",
              "      <th>first_trans_date</th>\n",
              "      <th>Revenue</th>\n",
              "      <th>Revenue_zcore</th>\n",
              "    </tr>\n",
              "  </thead>\n",
              "  <tbody>\n",
              "    <tr>\n",
              "      <th>0</th>\n",
              "      <td>PS5327001158</td>\n",
              "      <td>JA01</td>\n",
              "      <td>晶淬雪潔顏乳100ml</td>\n",
              "      <td>8.00</td>\n",
              "      <td>2019-01-01</td>\n",
              "      <td>1259.00</td>\n",
              "      <td>9100002488768.00</td>\n",
              "      <td>中區</td>\n",
              "      <td>2019-12-09</td>\n",
              "      <td>2018-06-24</td>\n",
              "      <td>10072.00</td>\n",
              "      <td>-0.08</td>\n",
              "    </tr>\n",
              "    <tr>\n",
              "      <th>1</th>\n",
              "      <td>PS5335020955</td>\n",
              "      <td>KG06</td>\n",
              "      <td>多肽亮眼乳霜20g-保濕型</td>\n",
              "      <td>8.00</td>\n",
              "      <td>2019-01-01</td>\n",
              "      <td>839.00</td>\n",
              "      <td>9100002556566.00</td>\n",
              "      <td>中區</td>\n",
              "      <td>2018-10-21</td>\n",
              "      <td>2018-10-21</td>\n",
              "      <td>6712.00</td>\n",
              "      <td>-0.08</td>\n",
              "    </tr>\n",
              "    <tr>\n",
              "      <th>2</th>\n",
              "      <td>PS5335020955</td>\n",
              "      <td>BJ102</td>\n",
              "      <td>檸檬精油10ml MUI</td>\n",
              "      <td>8.00</td>\n",
              "      <td>2019-01-01</td>\n",
              "      <td>839.00</td>\n",
              "      <td>9100002556566.00</td>\n",
              "      <td>中區</td>\n",
              "      <td>2018-10-21</td>\n",
              "      <td>2018-10-21</td>\n",
              "      <td>6712.00</td>\n",
              "      <td>-0.08</td>\n",
              "    </tr>\n",
              "    <tr>\n",
              "      <th>3</th>\n",
              "      <td>PS5335020955</td>\n",
              "      <td>JZA3G1</td>\n",
              "      <td>柚見快樂精油15ml MUI</td>\n",
              "      <td>-8.00</td>\n",
              "      <td>2019-01-01</td>\n",
              "      <td>-1501.00</td>\n",
              "      <td>9100002556566.00</td>\n",
              "      <td>中區</td>\n",
              "      <td>2018-10-21</td>\n",
              "      <td>2018-10-21</td>\n",
              "      <td>-12008.00</td>\n",
              "      <td>-0.10</td>\n",
              "    </tr>\n",
              "    <tr>\n",
              "      <th>4</th>\n",
              "      <td>PS5444006919</td>\n",
              "      <td>BJ103</td>\n",
              "      <td>細花冬青香氛油10ml MUI</td>\n",
              "      <td>8.00</td>\n",
              "      <td>2019-01-01</td>\n",
              "      <td>672.00</td>\n",
              "      <td>9100002582077.00</td>\n",
              "      <td>南區</td>\n",
              "      <td>2018-12-04</td>\n",
              "      <td>2018-12-04</td>\n",
              "      <td>5376.00</td>\n",
              "      <td>-0.08</td>\n",
              "    </tr>\n",
              "  </tbody>\n",
              "</table>\n",
              "</div>"
            ],
            "text/plain": [
              "      InvoiceNo StockCode  ...   Revenue  Revenue_zcore\n",
              "0  PS5327001158      JA01  ...  10072.00          -0.08\n",
              "1  PS5335020955      KG06  ...   6712.00          -0.08\n",
              "2  PS5335020955     BJ102  ...   6712.00          -0.08\n",
              "3  PS5335020955    JZA3G1  ... -12008.00          -0.10\n",
              "4  PS5444006919     BJ103  ...   5376.00          -0.08\n",
              "\n",
              "[5 rows x 12 columns]"
            ]
          },
          "metadata": {},
          "execution_count": 125
        }
      ]
    },
    {
      "cell_type": "code",
      "metadata": {
        "colab": {
          "base_uri": "https://localhost:8080/",
          "height": 424
        },
        "id": "3OmETpZsYCkO",
        "outputId": "1e0da468-9cfc-4634-a446-69e1805172b2"
      },
      "source": [
        "#抓出異常值>3的資料以及<-3的資料\n",
        "data['Outlier'] = (abs(data['Revenue_zcore'])>3).astype(int) #[data['Revenue_zcore']>3]得出一個『布林值』，需要用[.astype(int)]來轉換成『int(數值)』\n",
        "data.loc[data['Outlier']>0,['Revenue','Revenue_zcore']] #列出所有>0的資料"
      ],
      "execution_count": 126,
      "outputs": [
        {
          "output_type": "execute_result",
          "data": {
            "text/html": [
              "<div>\n",
              "<style scoped>\n",
              "    .dataframe tbody tr th:only-of-type {\n",
              "        vertical-align: middle;\n",
              "    }\n",
              "\n",
              "    .dataframe tbody tr th {\n",
              "        vertical-align: top;\n",
              "    }\n",
              "\n",
              "    .dataframe thead th {\n",
              "        text-align: right;\n",
              "    }\n",
              "</style>\n",
              "<table border=\"1\" class=\"dataframe\">\n",
              "  <thead>\n",
              "    <tr style=\"text-align: right;\">\n",
              "      <th></th>\n",
              "      <th>Revenue</th>\n",
              "      <th>Revenue_zcore</th>\n",
              "    </tr>\n",
              "  </thead>\n",
              "  <tbody>\n",
              "    <tr>\n",
              "      <th>1699</th>\n",
              "      <td>4844064.00</td>\n",
              "      <td>5.16</td>\n",
              "    </tr>\n",
              "    <tr>\n",
              "      <th>4458</th>\n",
              "      <td>4023600.00</td>\n",
              "      <td>4.27</td>\n",
              "    </tr>\n",
              "    <tr>\n",
              "      <th>4668</th>\n",
              "      <td>5788320.00</td>\n",
              "      <td>6.19</td>\n",
              "    </tr>\n",
              "    <tr>\n",
              "      <th>5070</th>\n",
              "      <td>11329248.00</td>\n",
              "      <td>12.19</td>\n",
              "    </tr>\n",
              "    <tr>\n",
              "      <th>6362</th>\n",
              "      <td>4023600.00</td>\n",
              "      <td>4.27</td>\n",
              "    </tr>\n",
              "    <tr>\n",
              "      <th>...</th>\n",
              "      <td>...</td>\n",
              "      <td>...</td>\n",
              "    </tr>\n",
              "    <tr>\n",
              "      <th>1402112</th>\n",
              "      <td>6006792.00</td>\n",
              "      <td>6.42</td>\n",
              "    </tr>\n",
              "    <tr>\n",
              "      <th>1402113</th>\n",
              "      <td>4755136.00</td>\n",
              "      <td>5.07</td>\n",
              "    </tr>\n",
              "    <tr>\n",
              "      <th>1402115</th>\n",
              "      <td>5851016.00</td>\n",
              "      <td>6.25</td>\n",
              "    </tr>\n",
              "    <tr>\n",
              "      <th>1402120</th>\n",
              "      <td>17226552.00</td>\n",
              "      <td>18.59</td>\n",
              "    </tr>\n",
              "    <tr>\n",
              "      <th>1403200</th>\n",
              "      <td>5950008.00</td>\n",
              "      <td>6.36</td>\n",
              "    </tr>\n",
              "  </tbody>\n",
              "</table>\n",
              "<p>692 rows × 2 columns</p>\n",
              "</div>"
            ],
            "text/plain": [
              "            Revenue  Revenue_zcore\n",
              "1699     4844064.00           5.16\n",
              "4458     4023600.00           4.27\n",
              "4668     5788320.00           6.19\n",
              "5070    11329248.00          12.19\n",
              "6362     4023600.00           4.27\n",
              "...             ...            ...\n",
              "1402112  6006792.00           6.42\n",
              "1402113  4755136.00           5.07\n",
              "1402115  5851016.00           6.25\n",
              "1402120 17226552.00          18.59\n",
              "1403200  5950008.00           6.36\n",
              "\n",
              "[692 rows x 2 columns]"
            ]
          },
          "metadata": {},
          "execution_count": 126
        }
      ]
    },
    {
      "cell_type": "code",
      "metadata": {
        "colab": {
          "base_uri": "https://localhost:8080/",
          "height": 424
        },
        "id": "JHJcnoxIZqy9",
        "outputId": "ef121d2a-3edc-45ae-ec58-3eff16d84bff"
      },
      "source": [
        "#找出非異常值的資料\n",
        "data.loc[data['Outlier']==0,['Revenue','Revenue_zcore']]"
      ],
      "execution_count": 127,
      "outputs": [
        {
          "output_type": "execute_result",
          "data": {
            "text/html": [
              "<div>\n",
              "<style scoped>\n",
              "    .dataframe tbody tr th:only-of-type {\n",
              "        vertical-align: middle;\n",
              "    }\n",
              "\n",
              "    .dataframe tbody tr th {\n",
              "        vertical-align: top;\n",
              "    }\n",
              "\n",
              "    .dataframe thead th {\n",
              "        text-align: right;\n",
              "    }\n",
              "</style>\n",
              "<table border=\"1\" class=\"dataframe\">\n",
              "  <thead>\n",
              "    <tr style=\"text-align: right;\">\n",
              "      <th></th>\n",
              "      <th>Revenue</th>\n",
              "      <th>Revenue_zcore</th>\n",
              "    </tr>\n",
              "  </thead>\n",
              "  <tbody>\n",
              "    <tr>\n",
              "      <th>0</th>\n",
              "      <td>10072.00</td>\n",
              "      <td>-0.08</td>\n",
              "    </tr>\n",
              "    <tr>\n",
              "      <th>1</th>\n",
              "      <td>6712.00</td>\n",
              "      <td>-0.08</td>\n",
              "    </tr>\n",
              "    <tr>\n",
              "      <th>2</th>\n",
              "      <td>6712.00</td>\n",
              "      <td>-0.08</td>\n",
              "    </tr>\n",
              "    <tr>\n",
              "      <th>3</th>\n",
              "      <td>-12008.00</td>\n",
              "      <td>-0.10</td>\n",
              "    </tr>\n",
              "    <tr>\n",
              "      <th>4</th>\n",
              "      <td>5376.00</td>\n",
              "      <td>-0.08</td>\n",
              "    </tr>\n",
              "    <tr>\n",
              "      <th>...</th>\n",
              "      <td>...</td>\n",
              "      <td>...</td>\n",
              "    </tr>\n",
              "    <tr>\n",
              "      <th>1404430</th>\n",
              "      <td>47136.00</td>\n",
              "      <td>-0.04</td>\n",
              "    </tr>\n",
              "    <tr>\n",
              "      <th>1404431</th>\n",
              "      <td>2472.00</td>\n",
              "      <td>-0.09</td>\n",
              "    </tr>\n",
              "    <tr>\n",
              "      <th>1404432</th>\n",
              "      <td>8752.00</td>\n",
              "      <td>-0.08</td>\n",
              "    </tr>\n",
              "    <tr>\n",
              "      <th>1404433</th>\n",
              "      <td>2640.00</td>\n",
              "      <td>-0.09</td>\n",
              "    </tr>\n",
              "    <tr>\n",
              "      <th>1404434</th>\n",
              "      <td>3528.00</td>\n",
              "      <td>-0.09</td>\n",
              "    </tr>\n",
              "  </tbody>\n",
              "</table>\n",
              "<p>1403032 rows × 2 columns</p>\n",
              "</div>"
            ],
            "text/plain": [
              "          Revenue  Revenue_zcore\n",
              "0        10072.00          -0.08\n",
              "1         6712.00          -0.08\n",
              "2         6712.00          -0.08\n",
              "3       -12008.00          -0.10\n",
              "4         5376.00          -0.08\n",
              "...           ...            ...\n",
              "1404430  47136.00          -0.04\n",
              "1404431   2472.00          -0.09\n",
              "1404432   8752.00          -0.08\n",
              "1404433   2640.00          -0.09\n",
              "1404434   3528.00          -0.09\n",
              "\n",
              "[1403032 rows x 2 columns]"
            ]
          },
          "metadata": {},
          "execution_count": 127
        }
      ]
    },
    {
      "cell_type": "code",
      "metadata": {
        "colab": {
          "base_uri": "https://localhost:8080/"
        },
        "id": "D0wtpmq5a4ET",
        "outputId": "c76dbca2-71d4-40a7-c18b-e67a46dcfc73"
      },
      "source": [
        "data = data[data['Outlier']==0]\n",
        "data.shape"
      ],
      "execution_count": 128,
      "outputs": [
        {
          "output_type": "execute_result",
          "data": {
            "text/plain": [
              "(1403032, 13)"
            ]
          },
          "metadata": {},
          "execution_count": 128
        }
      ]
    },
    {
      "cell_type": "code",
      "metadata": {
        "colab": {
          "base_uri": "https://localhost:8080/",
          "height": 512
        },
        "id": "9xBy6KXxbaD8",
        "outputId": "10a02f30-ebd4-405c-fc0d-33bf80c4c3fc"
      },
      "source": [
        "#再來看整個數值標準化後整個分部的圖，較常用的為box或hist\n",
        "import seaborn as sns\n",
        "import matplotlib.pyplot as plt\n",
        "\n",
        "figure, axis = plt.subplots(1, 2,figsize=(18,8))\n",
        "data['Revenue'].plot.box(ax=axis[0])\n",
        "axis[0].set_title('Revenue box')\n",
        "data['Revenue'].plot.hist(ax=axis[1])\n",
        "axis[1].set_title('Revenue hist') #hist看密度  box看四分衛分佈\n",
        "plt.show()"
      ],
      "execution_count": 129,
      "outputs": [
        {
          "output_type": "display_data",
          "data": {
            "image/png": "[encoded data removed]",
            "text/plain": [
              "<Figure size 1296x576 with 2 Axes>"
            ]
          },
          "metadata": {
            "needs_background": "light"
          }
        }
      ]
    },
    {
      "cell_type": "markdown",
      "metadata": {
        "id": "yK-E1Ei9gQ8m"
      },
      "source": [
        "## IQR抓異常值 (sales_data1)\n",
        "IQR = Q3-Q1\n",
        "\n",
        "Outlier = Observations>Q3 + 1.5IQR or Q1-1.5IQR"
      ]
    },
    {
      "cell_type": "code",
      "metadata": {
        "colab": {
          "base_uri": "https://localhost:8080/",
          "height": 293
        },
        "id": "DlfbVvMXgaZh",
        "outputId": "e73a2855-5c20-496c-92b6-b7b406c014fd"
      },
      "source": [
        "sales_data1['Revenue'].plot.box() #箱型圖"
      ],
      "execution_count": 130,
      "outputs": [
        {
          "output_type": "execute_result",
          "data": {
            "text/plain": [
              "<matplotlib.axes._subplots.AxesSubplot at 0x7f33ce873a10>"
            ]
          },
          "metadata": {},
          "execution_count": 130
        },
        {
          "output_type": "display_data",
          "data": {
            "image/png": "[encoded data removed]",
            "text/plain": [
              "<Figure size 432x288 with 1 Axes>"
            ]
          },
          "metadata": {
            "needs_background": "light"
          }
        }
      ]
    },
    {
      "cell_type": "code",
      "metadata": {
        "id": "vTGAF4Uogumb"
      },
      "source": [
        "#def寫python的函式\n",
        "def Outlier_treatment(datacolumn): #傳入datacolumn這個變數\n",
        "  Q1,Q3 =np.percentile(datacolumn,[25,75]) #算出Q1=25 Q3=75 這個是固定的\n",
        "  IQR = Q3-Q1\n",
        "  lower_range = Q1 - (1.5*IQR)\n",
        "  high_range = Q3 + (1.5*IQR)\n",
        "  return lower_range,high_range"
      ],
      "execution_count": 131,
      "outputs": []
    },
    {
      "cell_type": "code",
      "metadata": {
        "colab": {
          "base_uri": "https://localhost:8080/",
          "height": 721
        },
        "id": "3KTtzAqmh_Ub",
        "outputId": "e06ef0ff-3947-4a7b-90b0-04eab7a1278d"
      },
      "source": [
        "#抓出異常值\n",
        "lowerbound,highbound = Outlier_treatment(sales_data1['Revenue'])\n",
        "\n",
        "sales_data1[(sales_data1['Revenue']< lowerbound) | (sales_data1['Revenue']>highbound)] "
      ],
      "execution_count": 132,
      "outputs": [
        {
          "output_type": "execute_result",
          "data": {
            "text/html": [
              "<div>\n",
              "<style scoped>\n",
              "    .dataframe tbody tr th:only-of-type {\n",
              "        vertical-align: middle;\n",
              "    }\n",
              "\n",
              "    .dataframe tbody tr th {\n",
              "        vertical-align: top;\n",
              "    }\n",
              "\n",
              "    .dataframe thead th {\n",
              "        text-align: right;\n",
              "    }\n",
              "</style>\n",
              "<table border=\"1\" class=\"dataframe\">\n",
              "  <thead>\n",
              "    <tr style=\"text-align: right;\">\n",
              "      <th></th>\n",
              "      <th>InvoiceNo</th>\n",
              "      <th>StockCode</th>\n",
              "      <th>Description</th>\n",
              "      <th>Quantity</th>\n",
              "      <th>InvoiceDate</th>\n",
              "      <th>UnitPrice</th>\n",
              "      <th>CustomerID</th>\n",
              "      <th>Country</th>\n",
              "      <th>member_start_date</th>\n",
              "      <th>first_trans_date</th>\n",
              "      <th>Revenue</th>\n",
              "    </tr>\n",
              "  </thead>\n",
              "  <tbody>\n",
              "    <tr>\n",
              "      <th>9</th>\n",
              "      <td>PS5262016031</td>\n",
              "      <td>HA89A01</td>\n",
              "      <td>肌因彈潤課程單堂</td>\n",
              "      <td>48.00</td>\n",
              "      <td>2019-01-01</td>\n",
              "      <td>9559.00</td>\n",
              "      <td>9100000407160.00</td>\n",
              "      <td>竹區</td>\n",
              "      <td>2007-01-02</td>\n",
              "      <td>2012-07-28</td>\n",
              "      <td>458832.00</td>\n",
              "    </tr>\n",
              "    <tr>\n",
              "      <th>10</th>\n",
              "      <td>PS5262016032</td>\n",
              "      <td>HB90A01</td>\n",
              "      <td>全背順氣活力SPA課程單堂</td>\n",
              "      <td>96.00</td>\n",
              "      <td>2019-01-01</td>\n",
              "      <td>11559.00</td>\n",
              "      <td>9100000407160.00</td>\n",
              "      <td>竹區</td>\n",
              "      <td>2007-01-02</td>\n",
              "      <td>2012-07-28</td>\n",
              "      <td>1109664.00</td>\n",
              "    </tr>\n",
              "    <tr>\n",
              "      <th>13</th>\n",
              "      <td>PS530A050714</td>\n",
              "      <td>FB40A01</td>\n",
              "      <td>旗艦暖宮腹活SPA課程單堂</td>\n",
              "      <td>96.00</td>\n",
              "      <td>2019-01-01</td>\n",
              "      <td>13259.00</td>\n",
              "      <td>9100002554883.00</td>\n",
              "      <td>中區</td>\n",
              "      <td>2018-10-18</td>\n",
              "      <td>2018-10-18</td>\n",
              "      <td>1272864.00</td>\n",
              "    </tr>\n",
              "    <tr>\n",
              "      <th>19</th>\n",
              "      <td>PS5323017890</td>\n",
              "      <td>K0464B</td>\n",
              "      <td>DC龍血緊緻修護面膜26ml+5g-單包</td>\n",
              "      <td>-56.00</td>\n",
              "      <td>2019-01-01</td>\n",
              "      <td>-1006.00</td>\n",
              "      <td>9100000045758.00</td>\n",
              "      <td>中區</td>\n",
              "      <td>2001-05-20</td>\n",
              "      <td>2012-07-17</td>\n",
              "      <td>-56336.00</td>\n",
              "    </tr>\n",
              "    <tr>\n",
              "      <th>31</th>\n",
              "      <td>PS5213017253</td>\n",
              "      <td>HA50A01</td>\n",
              "      <td>胜肽美顏SPA護理單堂</td>\n",
              "      <td>48.00</td>\n",
              "      <td>2019-01-01</td>\n",
              "      <td>6059.00</td>\n",
              "      <td>9100001531076.00</td>\n",
              "      <td>台北B區</td>\n",
              "      <td>2013-11-23</td>\n",
              "      <td>2013-04-09</td>\n",
              "      <td>290832.00</td>\n",
              "    </tr>\n",
              "    <tr>\n",
              "      <th>...</th>\n",
              "      <td>...</td>\n",
              "      <td>...</td>\n",
              "      <td>...</td>\n",
              "      <td>...</td>\n",
              "      <td>...</td>\n",
              "      <td>...</td>\n",
              "      <td>...</td>\n",
              "      <td>...</td>\n",
              "      <td>...</td>\n",
              "      <td>...</td>\n",
              "      <td>...</td>\n",
              "    </tr>\n",
              "    <tr>\n",
              "      <th>1404400</th>\n",
              "      <td>PS5324024939</td>\n",
              "      <td>JAA3G2</td>\n",
              "      <td>玻尿酸超保濕精華96%原液60ml</td>\n",
              "      <td>16.00</td>\n",
              "      <td>2020-12-31</td>\n",
              "      <td>4239.00</td>\n",
              "      <td>9100000043037.00</td>\n",
              "      <td>中區</td>\n",
              "      <td>2004-11-11</td>\n",
              "      <td>2012-07-23</td>\n",
              "      <td>67824.00</td>\n",
              "    </tr>\n",
              "    <tr>\n",
              "      <th>1404401</th>\n",
              "      <td>PS5324024939</td>\n",
              "      <td>KQ02</td>\n",
              "      <td>玫瑰晶萃活膚液130ml</td>\n",
              "      <td>24.00</td>\n",
              "      <td>2020-12-31</td>\n",
              "      <td>5395.00</td>\n",
              "      <td>9100000043037.00</td>\n",
              "      <td>中區</td>\n",
              "      <td>2004-11-11</td>\n",
              "      <td>2012-07-23</td>\n",
              "      <td>129480.00</td>\n",
              "    </tr>\n",
              "    <tr>\n",
              "      <th>1404418</th>\n",
              "      <td>PS5324024940</td>\n",
              "      <td>KQ06</td>\n",
              "      <td>玫瑰晶萃瞬效霜30ml</td>\n",
              "      <td>16.00</td>\n",
              "      <td>2020-12-31</td>\n",
              "      <td>4083.00</td>\n",
              "      <td>9100000706055.00</td>\n",
              "      <td>中區</td>\n",
              "      <td>2011-12-21</td>\n",
              "      <td>2014-03-10</td>\n",
              "      <td>65328.00</td>\n",
              "    </tr>\n",
              "    <tr>\n",
              "      <th>1404421</th>\n",
              "      <td>PS5324024940</td>\n",
              "      <td>MAA7G1</td>\n",
              "      <td>白金密集煥白面膜18ml*6pcs</td>\n",
              "      <td>32.00</td>\n",
              "      <td>2020-12-31</td>\n",
              "      <td>6923.00</td>\n",
              "      <td>9100000706055.00</td>\n",
              "      <td>中區</td>\n",
              "      <td>2011-12-21</td>\n",
              "      <td>2014-03-10</td>\n",
              "      <td>221536.00</td>\n",
              "    </tr>\n",
              "    <tr>\n",
              "      <th>1404424</th>\n",
              "      <td>PS5324024941</td>\n",
              "      <td>WD096</td>\n",
              "      <td>緊緻保濕裸膚羽翼面膜25ml-零售單包</td>\n",
              "      <td>48.00</td>\n",
              "      <td>2020-12-31</td>\n",
              "      <td>3354.00</td>\n",
              "      <td>9100000595826.00</td>\n",
              "      <td>中區</td>\n",
              "      <td>2010-03-15</td>\n",
              "      <td>2012-07-11</td>\n",
              "      <td>160992.00</td>\n",
              "    </tr>\n",
              "  </tbody>\n",
              "</table>\n",
              "<p>222528 rows × 11 columns</p>\n",
              "</div>"
            ],
            "text/plain": [
              "            InvoiceNo StockCode  ... first_trans_date    Revenue\n",
              "9        PS5262016031   HA89A01  ...       2012-07-28  458832.00\n",
              "10       PS5262016032   HB90A01  ...       2012-07-28 1109664.00\n",
              "13       PS530A050714   FB40A01  ...       2018-10-18 1272864.00\n",
              "19       PS5323017890    K0464B  ...       2012-07-17  -56336.00\n",
              "31       PS5213017253   HA50A01  ...       2013-04-09  290832.00\n",
              "...               ...       ...  ...              ...        ...\n",
              "1404400  PS5324024939    JAA3G2  ...       2012-07-23   67824.00\n",
              "1404401  PS5324024939      KQ02  ...       2012-07-23  129480.00\n",
              "1404418  PS5324024940      KQ06  ...       2014-03-10   65328.00\n",
              "1404421  PS5324024940    MAA7G1  ...       2014-03-10  221536.00\n",
              "1404424  PS5324024941     WD096  ...       2012-07-11  160992.00\n",
              "\n",
              "[222528 rows x 11 columns]"
            ]
          },
          "metadata": {},
          "execution_count": 132
        }
      ]
    },
    {
      "cell_type": "code",
      "metadata": {
        "id": "OhmtIG03ihI9"
      },
      "source": [
        "sales_data1.drop(sales_data1[(sales_data1['Revenue']< lowerbound) | (sales_data1['Revenue']> highbound)].index,inplace=True) #去除異常值"
      ],
      "execution_count": 133,
      "outputs": []
    },
    {
      "cell_type": "code",
      "metadata": {
        "colab": {
          "base_uri": "https://localhost:8080/",
          "height": 499
        },
        "id": "8JTjmW2PpW2_",
        "outputId": "c92a07a5-ef48-4a60-ae72-a7851685727d"
      },
      "source": [
        "figure, axis = plt.subplots(1, 2,figsize=(18,8))\n",
        "sales_data1['Revenue'].plot.box(ax=axis[0])\n",
        "axis[0].set_title('Revenue box')\n",
        "sales_data1['Revenue'].plot.hist(ax=axis[1]) #hist圖\n",
        "axis[1].set_title('Revenue hist')\n",
        "plt.show()"
      ],
      "execution_count": 134,
      "outputs": [
        {
          "output_type": "display_data",
          "data": {
            "image/png": "[encoded data removed]",
            "text/plain": [
              "<Figure size 1296x576 with 2 Axes>"
            ]
          },
          "metadata": {
            "needs_background": "light"
          }
        }
      ]
    },
    {
      "cell_type": "markdown",
      "metadata": {
        "id": "DSY-SNWIrC0f"
      },
      "source": [
        "##畫圖（圖表分析）"
      ]
    },
    {
      "cell_type": "markdown",
      "metadata": {
        "id": "P3KJw2dksqGQ"
      },
      "source": [
        "###Minthly Revenue (畫折線圖)"
      ]
    },
    {
      "cell_type": "code",
      "metadata": {
        "colab": {
          "base_uri": "https://localhost:8080/",
          "height": 313
        },
        "id": "hpBr60KnqEtQ",
        "outputId": "72165837-95cd-446b-ce7d-ceb6b614e34a"
      },
      "source": [
        "sales_data1.head()"
      ],
      "execution_count": 135,
      "outputs": [
        {
          "output_type": "execute_result",
          "data": {
            "text/html": [
              "<div>\n",
              "<style scoped>\n",
              "    .dataframe tbody tr th:only-of-type {\n",
              "        vertical-align: middle;\n",
              "    }\n",
              "\n",
              "    .dataframe tbody tr th {\n",
              "        vertical-align: top;\n",
              "    }\n",
              "\n",
              "    .dataframe thead th {\n",
              "        text-align: right;\n",
              "    }\n",
              "</style>\n",
              "<table border=\"1\" class=\"dataframe\">\n",
              "  <thead>\n",
              "    <tr style=\"text-align: right;\">\n",
              "      <th></th>\n",
              "      <th>InvoiceNo</th>\n",
              "      <th>StockCode</th>\n",
              "      <th>Description</th>\n",
              "      <th>Quantity</th>\n",
              "      <th>InvoiceDate</th>\n",
              "      <th>UnitPrice</th>\n",
              "      <th>CustomerID</th>\n",
              "      <th>Country</th>\n",
              "      <th>member_start_date</th>\n",
              "      <th>first_trans_date</th>\n",
              "      <th>Revenue</th>\n",
              "    </tr>\n",
              "  </thead>\n",
              "  <tbody>\n",
              "    <tr>\n",
              "      <th>0</th>\n",
              "      <td>PS5327001158</td>\n",
              "      <td>JA01</td>\n",
              "      <td>晶淬雪潔顏乳100ml</td>\n",
              "      <td>8.00</td>\n",
              "      <td>2019-01-01</td>\n",
              "      <td>1259.00</td>\n",
              "      <td>9100002488768.00</td>\n",
              "      <td>中區</td>\n",
              "      <td>2019-12-09</td>\n",
              "      <td>2018-06-24</td>\n",
              "      <td>10072.00</td>\n",
              "    </tr>\n",
              "    <tr>\n",
              "      <th>1</th>\n",
              "      <td>PS5335020955</td>\n",
              "      <td>KG06</td>\n",
              "      <td>多肽亮眼乳霜20g-保濕型</td>\n",
              "      <td>8.00</td>\n",
              "      <td>2019-01-01</td>\n",
              "      <td>839.00</td>\n",
              "      <td>9100002556566.00</td>\n",
              "      <td>中區</td>\n",
              "      <td>2018-10-21</td>\n",
              "      <td>2018-10-21</td>\n",
              "      <td>6712.00</td>\n",
              "    </tr>\n",
              "    <tr>\n",
              "      <th>2</th>\n",
              "      <td>PS5335020955</td>\n",
              "      <td>BJ102</td>\n",
              "      <td>檸檬精油10ml MUI</td>\n",
              "      <td>8.00</td>\n",
              "      <td>2019-01-01</td>\n",
              "      <td>839.00</td>\n",
              "      <td>9100002556566.00</td>\n",
              "      <td>中區</td>\n",
              "      <td>2018-10-21</td>\n",
              "      <td>2018-10-21</td>\n",
              "      <td>6712.00</td>\n",
              "    </tr>\n",
              "    <tr>\n",
              "      <th>3</th>\n",
              "      <td>PS5335020955</td>\n",
              "      <td>JZA3G1</td>\n",
              "      <td>柚見快樂精油15ml MUI</td>\n",
              "      <td>-8.00</td>\n",
              "      <td>2019-01-01</td>\n",
              "      <td>-1501.00</td>\n",
              "      <td>9100002556566.00</td>\n",
              "      <td>中區</td>\n",
              "      <td>2018-10-21</td>\n",
              "      <td>2018-10-21</td>\n",
              "      <td>-12008.00</td>\n",
              "    </tr>\n",
              "    <tr>\n",
              "      <th>4</th>\n",
              "      <td>PS5444006919</td>\n",
              "      <td>BJ103</td>\n",
              "      <td>細花冬青香氛油10ml MUI</td>\n",
              "      <td>8.00</td>\n",
              "      <td>2019-01-01</td>\n",
              "      <td>672.00</td>\n",
              "      <td>9100002582077.00</td>\n",
              "      <td>南區</td>\n",
              "      <td>2018-12-04</td>\n",
              "      <td>2018-12-04</td>\n",
              "      <td>5376.00</td>\n",
              "    </tr>\n",
              "  </tbody>\n",
              "</table>\n",
              "</div>"
            ],
            "text/plain": [
              "      InvoiceNo StockCode  ... first_trans_date   Revenue\n",
              "0  PS5327001158      JA01  ...       2018-06-24  10072.00\n",
              "1  PS5335020955      KG06  ...       2018-10-21   6712.00\n",
              "2  PS5335020955     BJ102  ...       2018-10-21   6712.00\n",
              "3  PS5335020955    JZA3G1  ...       2018-10-21 -12008.00\n",
              "4  PS5444006919     BJ103  ...       2018-12-04   5376.00\n",
              "\n",
              "[5 rows x 11 columns]"
            ]
          },
          "metadata": {},
          "execution_count": 135
        }
      ]
    },
    {
      "cell_type": "code",
      "metadata": {
        "colab": {
          "base_uri": "https://localhost:8080/"
        },
        "id": "0lsRCixJssoe",
        "outputId": "ddec9c4a-7651-4449-9f12-f47949dd5c77"
      },
      "source": [
        "sales_data1.info()"
      ],
      "execution_count": 136,
      "outputs": [
        {
          "output_type": "stream",
          "name": "stdout",
          "text": [
            "<class 'pandas.core.frame.DataFrame'>\n",
            "Int64Index: 1181196 entries, 0 to 1404434\n",
            "Data columns (total 11 columns):\n",
            " #   Column             Non-Null Count    Dtype  \n",
            "---  ------             --------------    -----  \n",
            " 0   InvoiceNo          1181196 non-null  object \n",
            " 1   StockCode          1181196 non-null  object \n",
            " 2   Description        1181196 non-null  object \n",
            " 3   Quantity           1181196 non-null  float64\n",
            " 4   InvoiceDate        1181196 non-null  object \n",
            " 5   UnitPrice          1181196 non-null  float64\n",
            " 6   CustomerID         1181196 non-null  float64\n",
            " 7   Country            1181196 non-null  object \n",
            " 8   member_start_date  1144520 non-null  object \n",
            " 9   first_trans_date   1177960 non-null  object \n",
            " 10  Revenue            1181196 non-null  float64\n",
            "dtypes: float64(4), object(7)\n",
            "memory usage: 108.1+ MB\n"
          ]
        }
      ]
    },
    {
      "cell_type": "code",
      "metadata": {
        "colab": {
          "base_uri": "https://localhost:8080/"
        },
        "id": "JFMHaOJ8s4S7",
        "outputId": "11426422-8e1a-41bf-da62-6bd5b75e99b6"
      },
      "source": [
        "sales_data1['InvoiceDate'] = pd.to_datetime(sales_data1['InvoiceDate']) #轉換成datetime格式\n",
        "sales_data1.info()"
      ],
      "execution_count": 137,
      "outputs": [
        {
          "output_type": "stream",
          "name": "stdout",
          "text": [
            "<class 'pandas.core.frame.DataFrame'>\n",
            "Int64Index: 1181196 entries, 0 to 1404434\n",
            "Data columns (total 11 columns):\n",
            " #   Column             Non-Null Count    Dtype         \n",
            "---  ------             --------------    -----         \n",
            " 0   InvoiceNo          1181196 non-null  object        \n",
            " 1   StockCode          1181196 non-null  object        \n",
            " 2   Description        1181196 non-null  object        \n",
            " 3   Quantity           1181196 non-null  float64       \n",
            " 4   InvoiceDate        1181196 non-null  datetime64[ns]\n",
            " 5   UnitPrice          1181196 non-null  float64       \n",
            " 6   CustomerID         1181196 non-null  float64       \n",
            " 7   Country            1181196 non-null  object        \n",
            " 8   member_start_date  1144520 non-null  object        \n",
            " 9   first_trans_date   1177960 non-null  object        \n",
            " 10  Revenue            1181196 non-null  float64       \n",
            "dtypes: datetime64[ns](1), float64(4), object(6)\n",
            "memory usage: 108.1+ MB\n"
          ]
        }
      ]
    },
    {
      "cell_type": "code",
      "metadata": {
        "colab": {
          "base_uri": "https://localhost:8080/"
        },
        "id": "pD7Hx84Kvzzq",
        "outputId": "8afaecdb-90ac-4438-de49-99e76892746e"
      },
      "source": [
        "sales_data1.InvoiceDate.dt.year"
      ],
      "execution_count": 138,
      "outputs": [
        {
          "output_type": "execute_result",
          "data": {
            "text/plain": [
              "0          2019\n",
              "1          2019\n",
              "2          2019\n",
              "3          2019\n",
              "4          2019\n",
              "           ... \n",
              "1404430    2020\n",
              "1404431    2020\n",
              "1404432    2020\n",
              "1404433    2020\n",
              "1404434    2020\n",
              "Name: InvoiceDate, Length: 1181196, dtype: int64"
            ]
          },
          "metadata": {},
          "execution_count": 138
        }
      ]
    },
    {
      "cell_type": "code",
      "metadata": {
        "colab": {
          "base_uri": "https://localhost:8080/",
          "height": 313
        },
        "id": "c54kgqzLtCRl",
        "outputId": "891ba54a-3ca4-4920-a5c9-47c78071085d"
      },
      "source": [
        "sales_data1['YearMonth'] = sales_data1['InvoiceDate'].map(lambda date:100 * date.year+date.month)\n",
        "sales_data1.head()"
      ],
      "execution_count": 139,
      "outputs": [
        {
          "output_type": "execute_result",
          "data": {
            "text/html": [
              "<div>\n",
              "<style scoped>\n",
              "    .dataframe tbody tr th:only-of-type {\n",
              "        vertical-align: middle;\n",
              "    }\n",
              "\n",
              "    .dataframe tbody tr th {\n",
              "        vertical-align: top;\n",
              "    }\n",
              "\n",
              "    .dataframe thead th {\n",
              "        text-align: right;\n",
              "    }\n",
              "</style>\n",
              "<table border=\"1\" class=\"dataframe\">\n",
              "  <thead>\n",
              "    <tr style=\"text-align: right;\">\n",
              "      <th></th>\n",
              "      <th>InvoiceNo</th>\n",
              "      <th>StockCode</th>\n",
              "      <th>Description</th>\n",
              "      <th>Quantity</th>\n",
              "      <th>InvoiceDate</th>\n",
              "      <th>UnitPrice</th>\n",
              "      <th>CustomerID</th>\n",
              "      <th>Country</th>\n",
              "      <th>member_start_date</th>\n",
              "      <th>first_trans_date</th>\n",
              "      <th>Revenue</th>\n",
              "      <th>YearMonth</th>\n",
              "    </tr>\n",
              "  </thead>\n",
              "  <tbody>\n",
              "    <tr>\n",
              "      <th>0</th>\n",
              "      <td>PS5327001158</td>\n",
              "      <td>JA01</td>\n",
              "      <td>晶淬雪潔顏乳100ml</td>\n",
              "      <td>8.00</td>\n",
              "      <td>2019-01-01</td>\n",
              "      <td>1259.00</td>\n",
              "      <td>9100002488768.00</td>\n",
              "      <td>中區</td>\n",
              "      <td>2019-12-09</td>\n",
              "      <td>2018-06-24</td>\n",
              "      <td>10072.00</td>\n",
              "      <td>201901</td>\n",
              "    </tr>\n",
              "    <tr>\n",
              "      <th>1</th>\n",
              "      <td>PS5335020955</td>\n",
              "      <td>KG06</td>\n",
              "      <td>多肽亮眼乳霜20g-保濕型</td>\n",
              "      <td>8.00</td>\n",
              "      <td>2019-01-01</td>\n",
              "      <td>839.00</td>\n",
              "      <td>9100002556566.00</td>\n",
              "      <td>中區</td>\n",
              "      <td>2018-10-21</td>\n",
              "      <td>2018-10-21</td>\n",
              "      <td>6712.00</td>\n",
              "      <td>201901</td>\n",
              "    </tr>\n",
              "    <tr>\n",
              "      <th>2</th>\n",
              "      <td>PS5335020955</td>\n",
              "      <td>BJ102</td>\n",
              "      <td>檸檬精油10ml MUI</td>\n",
              "      <td>8.00</td>\n",
              "      <td>2019-01-01</td>\n",
              "      <td>839.00</td>\n",
              "      <td>9100002556566.00</td>\n",
              "      <td>中區</td>\n",
              "      <td>2018-10-21</td>\n",
              "      <td>2018-10-21</td>\n",
              "      <td>6712.00</td>\n",
              "      <td>201901</td>\n",
              "    </tr>\n",
              "    <tr>\n",
              "      <th>3</th>\n",
              "      <td>PS5335020955</td>\n",
              "      <td>JZA3G1</td>\n",
              "      <td>柚見快樂精油15ml MUI</td>\n",
              "      <td>-8.00</td>\n",
              "      <td>2019-01-01</td>\n",
              "      <td>-1501.00</td>\n",
              "      <td>9100002556566.00</td>\n",
              "      <td>中區</td>\n",
              "      <td>2018-10-21</td>\n",
              "      <td>2018-10-21</td>\n",
              "      <td>-12008.00</td>\n",
              "      <td>201901</td>\n",
              "    </tr>\n",
              "    <tr>\n",
              "      <th>4</th>\n",
              "      <td>PS5444006919</td>\n",
              "      <td>BJ103</td>\n",
              "      <td>細花冬青香氛油10ml MUI</td>\n",
              "      <td>8.00</td>\n",
              "      <td>2019-01-01</td>\n",
              "      <td>672.00</td>\n",
              "      <td>9100002582077.00</td>\n",
              "      <td>南區</td>\n",
              "      <td>2018-12-04</td>\n",
              "      <td>2018-12-04</td>\n",
              "      <td>5376.00</td>\n",
              "      <td>201901</td>\n",
              "    </tr>\n",
              "  </tbody>\n",
              "</table>\n",
              "</div>"
            ],
            "text/plain": [
              "      InvoiceNo StockCode  ...   Revenue  YearMonth\n",
              "0  PS5327001158      JA01  ...  10072.00     201901\n",
              "1  PS5335020955      KG06  ...   6712.00     201901\n",
              "2  PS5335020955     BJ102  ...   6712.00     201901\n",
              "3  PS5335020955    JZA3G1  ... -12008.00     201901\n",
              "4  PS5444006919     BJ103  ...   5376.00     201901\n",
              "\n",
              "[5 rows x 12 columns]"
            ]
          },
          "metadata": {},
          "execution_count": 139
        }
      ]
    },
    {
      "cell_type": "code",
      "metadata": {
        "colab": {
          "base_uri": "https://localhost:8080/",
          "height": 802
        },
        "id": "zpYvmcOet_d8",
        "outputId": "5b89393d-f76e-45f9-dc4d-6d151d923e23"
      },
      "source": [
        "tx_revenue = sales_data1.groupby(['YearMonth'])['Revenue'].sum().reset_index() #算出每個月的加總Revenue\n",
        "tx_revenue"
      ],
      "execution_count": 140,
      "outputs": [
        {
          "output_type": "execute_result",
          "data": {
            "text/html": [
              "<div>\n",
              "<style scoped>\n",
              "    .dataframe tbody tr th:only-of-type {\n",
              "        vertical-align: middle;\n",
              "    }\n",
              "\n",
              "    .dataframe tbody tr th {\n",
              "        vertical-align: top;\n",
              "    }\n",
              "\n",
              "    .dataframe thead th {\n",
              "        text-align: right;\n",
              "    }\n",
              "</style>\n",
              "<table border=\"1\" class=\"dataframe\">\n",
              "  <thead>\n",
              "    <tr style=\"text-align: right;\">\n",
              "      <th></th>\n",
              "      <th>YearMonth</th>\n",
              "      <th>Revenue</th>\n",
              "    </tr>\n",
              "  </thead>\n",
              "  <tbody>\n",
              "    <tr>\n",
              "      <th>0</th>\n",
              "      <td>201901</td>\n",
              "      <td>425743824.00</td>\n",
              "    </tr>\n",
              "    <tr>\n",
              "      <th>1</th>\n",
              "      <td>201902</td>\n",
              "      <td>300617976.00</td>\n",
              "    </tr>\n",
              "    <tr>\n",
              "      <th>2</th>\n",
              "      <td>201903</td>\n",
              "      <td>699778888.00</td>\n",
              "    </tr>\n",
              "    <tr>\n",
              "      <th>3</th>\n",
              "      <td>201904</td>\n",
              "      <td>516812544.00</td>\n",
              "    </tr>\n",
              "    <tr>\n",
              "      <th>4</th>\n",
              "      <td>201905</td>\n",
              "      <td>551044368.00</td>\n",
              "    </tr>\n",
              "    <tr>\n",
              "      <th>5</th>\n",
              "      <td>201906</td>\n",
              "      <td>453681976.00</td>\n",
              "    </tr>\n",
              "    <tr>\n",
              "      <th>6</th>\n",
              "      <td>201907</td>\n",
              "      <td>480213760.00</td>\n",
              "    </tr>\n",
              "    <tr>\n",
              "      <th>7</th>\n",
              "      <td>201908</td>\n",
              "      <td>500785128.00</td>\n",
              "    </tr>\n",
              "    <tr>\n",
              "      <th>8</th>\n",
              "      <td>201909</td>\n",
              "      <td>553368896.00</td>\n",
              "    </tr>\n",
              "    <tr>\n",
              "      <th>9</th>\n",
              "      <td>201910</td>\n",
              "      <td>643763416.00</td>\n",
              "    </tr>\n",
              "    <tr>\n",
              "      <th>10</th>\n",
              "      <td>201911</td>\n",
              "      <td>602731880.00</td>\n",
              "    </tr>\n",
              "    <tr>\n",
              "      <th>11</th>\n",
              "      <td>201912</td>\n",
              "      <td>650472000.00</td>\n",
              "    </tr>\n",
              "    <tr>\n",
              "      <th>12</th>\n",
              "      <td>202001</td>\n",
              "      <td>506539352.00</td>\n",
              "    </tr>\n",
              "    <tr>\n",
              "      <th>13</th>\n",
              "      <td>202002</td>\n",
              "      <td>510690080.00</td>\n",
              "    </tr>\n",
              "    <tr>\n",
              "      <th>14</th>\n",
              "      <td>202003</td>\n",
              "      <td>591391280.00</td>\n",
              "    </tr>\n",
              "    <tr>\n",
              "      <th>15</th>\n",
              "      <td>202004</td>\n",
              "      <td>567085392.00</td>\n",
              "    </tr>\n",
              "    <tr>\n",
              "      <th>16</th>\n",
              "      <td>202005</td>\n",
              "      <td>645260568.00</td>\n",
              "    </tr>\n",
              "    <tr>\n",
              "      <th>17</th>\n",
              "      <td>202006</td>\n",
              "      <td>625529096.00</td>\n",
              "    </tr>\n",
              "    <tr>\n",
              "      <th>18</th>\n",
              "      <td>202007</td>\n",
              "      <td>489143240.00</td>\n",
              "    </tr>\n",
              "    <tr>\n",
              "      <th>19</th>\n",
              "      <td>202008</td>\n",
              "      <td>549924200.00</td>\n",
              "    </tr>\n",
              "    <tr>\n",
              "      <th>20</th>\n",
              "      <td>202009</td>\n",
              "      <td>491556200.00</td>\n",
              "    </tr>\n",
              "    <tr>\n",
              "      <th>21</th>\n",
              "      <td>202010</td>\n",
              "      <td>513489528.00</td>\n",
              "    </tr>\n",
              "    <tr>\n",
              "      <th>22</th>\n",
              "      <td>202011</td>\n",
              "      <td>586158760.00</td>\n",
              "    </tr>\n",
              "    <tr>\n",
              "      <th>23</th>\n",
              "      <td>202012</td>\n",
              "      <td>584113720.00</td>\n",
              "    </tr>\n",
              "  </tbody>\n",
              "</table>\n",
              "</div>"
            ],
            "text/plain": [
              "    YearMonth      Revenue\n",
              "0      201901 425743824.00\n",
              "1      201902 300617976.00\n",
              "2      201903 699778888.00\n",
              "3      201904 516812544.00\n",
              "4      201905 551044368.00\n",
              "5      201906 453681976.00\n",
              "6      201907 480213760.00\n",
              "7      201908 500785128.00\n",
              "8      201909 553368896.00\n",
              "9      201910 643763416.00\n",
              "10     201911 602731880.00\n",
              "11     201912 650472000.00\n",
              "12     202001 506539352.00\n",
              "13     202002 510690080.00\n",
              "14     202003 591391280.00\n",
              "15     202004 567085392.00\n",
              "16     202005 645260568.00\n",
              "17     202006 625529096.00\n",
              "18     202007 489143240.00\n",
              "19     202008 549924200.00\n",
              "20     202009 491556200.00\n",
              "21     202010 513489528.00\n",
              "22     202011 586158760.00\n",
              "23     202012 584113720.00"
            ]
          },
          "metadata": {},
          "execution_count": 140
        }
      ]
    },
    {
      "cell_type": "code",
      "metadata": {
        "colab": {
          "base_uri": "https://localhost:8080/"
        },
        "id": "b5A6ZdWLxkoj",
        "outputId": "e7c89e10-9f64-4c51-c033-35f580090d7e"
      },
      "source": [
        "tx_revenue.info() #型態要改"
      ],
      "execution_count": 141,
      "outputs": [
        {
          "output_type": "stream",
          "name": "stdout",
          "text": [
            "<class 'pandas.core.frame.DataFrame'>\n",
            "RangeIndex: 24 entries, 0 to 23\n",
            "Data columns (total 2 columns):\n",
            " #   Column     Non-Null Count  Dtype  \n",
            "---  ------     --------------  -----  \n",
            " 0   YearMonth  24 non-null     int64  \n",
            " 1   Revenue    24 non-null     float64\n",
            "dtypes: float64(1), int64(1)\n",
            "memory usage: 512.0 bytes\n"
          ]
        }
      ]
    },
    {
      "cell_type": "code",
      "metadata": {
        "colab": {
          "base_uri": "https://localhost:8080/"
        },
        "id": "rgZj5eC51M3w",
        "outputId": "066a875b-f2bb-464e-8a81-a92048de1573"
      },
      "source": [
        "tx_revenue['YearMonth'] = tx_revenue['YearMonth'].astype(str)\n",
        "tx_revenue.info()"
      ],
      "execution_count": 142,
      "outputs": [
        {
          "output_type": "stream",
          "name": "stdout",
          "text": [
            "<class 'pandas.core.frame.DataFrame'>\n",
            "RangeIndex: 24 entries, 0 to 23\n",
            "Data columns (total 2 columns):\n",
            " #   Column     Non-Null Count  Dtype  \n",
            "---  ------     --------------  -----  \n",
            " 0   YearMonth  24 non-null     object \n",
            " 1   Revenue    24 non-null     float64\n",
            "dtypes: float64(1), object(1)\n",
            "memory usage: 512.0+ bytes\n"
          ]
        }
      ]
    },
    {
      "cell_type": "code",
      "metadata": {
        "colab": {
          "base_uri": "https://localhost:8080/",
          "height": 399
        },
        "id": "fZivOUxYx8NA",
        "outputId": "fcdabfd1-0300-4486-a415-9868901026df"
      },
      "source": [
        "fig,axes = plt.subplots(figsize=(20,6))\n",
        "sns.lineplot(ax = axes,x='YearMonth',y='Revenue',data=tx_revenue)\n",
        "plt.show()"
      ],
      "execution_count": 143,
      "outputs": [
        {
          "output_type": "display_data",
          "data": {
            "image/png": "[encoded data removed]",
            "text/plain": [
              "<Figure size 1440x432 with 1 Axes>"
            ]
          },
          "metadata": {
            "needs_background": "light"
          }
        }
      ]
    },
    {
      "cell_type": "markdown",
      "metadata": {
        "id": "QYRSvenB3xtN"
      },
      "source": [
        "###Monthly growth rate"
      ]
    },
    {
      "cell_type": "code",
      "metadata": {
        "colab": {
          "base_uri": "https://localhost:8080/",
          "height": 802
        },
        "id": "yZwNFAYvzuux",
        "outputId": "0e9b2945-e220-4314-d8cf-f8c989e9eb6e"
      },
      "source": [
        "tx_revenue['GrowthRate'] = tx_revenue['Revenue'].pct_change() #套入『成長率的公式』-此Row的值與前一筆資料的Row值差異的百分比\n",
        "tx_revenue"
      ],
      "execution_count": 144,
      "outputs": [
        {
          "output_type": "execute_result",
          "data": {
            "text/html": [
              "<div>\n",
              "<style scoped>\n",
              "    .dataframe tbody tr th:only-of-type {\n",
              "        vertical-align: middle;\n",
              "    }\n",
              "\n",
              "    .dataframe tbody tr th {\n",
              "        vertical-align: top;\n",
              "    }\n",
              "\n",
              "    .dataframe thead th {\n",
              "        text-align: right;\n",
              "    }\n",
              "</style>\n",
              "<table border=\"1\" class=\"dataframe\">\n",
              "  <thead>\n",
              "    <tr style=\"text-align: right;\">\n",
              "      <th></th>\n",
              "      <th>YearMonth</th>\n",
              "      <th>Revenue</th>\n",
              "      <th>GrowthRate</th>\n",
              "    </tr>\n",
              "  </thead>\n",
              "  <tbody>\n",
              "    <tr>\n",
              "      <th>0</th>\n",
              "      <td>201901</td>\n",
              "      <td>425743824.00</td>\n",
              "      <td>nan</td>\n",
              "    </tr>\n",
              "    <tr>\n",
              "      <th>1</th>\n",
              "      <td>201902</td>\n",
              "      <td>300617976.00</td>\n",
              "      <td>-0.29</td>\n",
              "    </tr>\n",
              "    <tr>\n",
              "      <th>2</th>\n",
              "      <td>201903</td>\n",
              "      <td>699778888.00</td>\n",
              "      <td>1.33</td>\n",
              "    </tr>\n",
              "    <tr>\n",
              "      <th>3</th>\n",
              "      <td>201904</td>\n",
              "      <td>516812544.00</td>\n",
              "      <td>-0.26</td>\n",
              "    </tr>\n",
              "    <tr>\n",
              "      <th>4</th>\n",
              "      <td>201905</td>\n",
              "      <td>551044368.00</td>\n",
              "      <td>0.07</td>\n",
              "    </tr>\n",
              "    <tr>\n",
              "      <th>5</th>\n",
              "      <td>201906</td>\n",
              "      <td>453681976.00</td>\n",
              "      <td>-0.18</td>\n",
              "    </tr>\n",
              "    <tr>\n",
              "      <th>6</th>\n",
              "      <td>201907</td>\n",
              "      <td>480213760.00</td>\n",
              "      <td>0.06</td>\n",
              "    </tr>\n",
              "    <tr>\n",
              "      <th>7</th>\n",
              "      <td>201908</td>\n",
              "      <td>500785128.00</td>\n",
              "      <td>0.04</td>\n",
              "    </tr>\n",
              "    <tr>\n",
              "      <th>8</th>\n",
              "      <td>201909</td>\n",
              "      <td>553368896.00</td>\n",
              "      <td>0.11</td>\n",
              "    </tr>\n",
              "    <tr>\n",
              "      <th>9</th>\n",
              "      <td>201910</td>\n",
              "      <td>643763416.00</td>\n",
              "      <td>0.16</td>\n",
              "    </tr>\n",
              "    <tr>\n",
              "      <th>10</th>\n",
              "      <td>201911</td>\n",
              "      <td>602731880.00</td>\n",
              "      <td>-0.06</td>\n",
              "    </tr>\n",
              "    <tr>\n",
              "      <th>11</th>\n",
              "      <td>201912</td>\n",
              "      <td>650472000.00</td>\n",
              "      <td>0.08</td>\n",
              "    </tr>\n",
              "    <tr>\n",
              "      <th>12</th>\n",
              "      <td>202001</td>\n",
              "      <td>506539352.00</td>\n",
              "      <td>-0.22</td>\n",
              "    </tr>\n",
              "    <tr>\n",
              "      <th>13</th>\n",
              "      <td>202002</td>\n",
              "      <td>510690080.00</td>\n",
              "      <td>0.01</td>\n",
              "    </tr>\n",
              "    <tr>\n",
              "      <th>14</th>\n",
              "      <td>202003</td>\n",
              "      <td>591391280.00</td>\n",
              "      <td>0.16</td>\n",
              "    </tr>\n",
              "    <tr>\n",
              "      <th>15</th>\n",
              "      <td>202004</td>\n",
              "      <td>567085392.00</td>\n",
              "      <td>-0.04</td>\n",
              "    </tr>\n",
              "    <tr>\n",
              "      <th>16</th>\n",
              "      <td>202005</td>\n",
              "      <td>645260568.00</td>\n",
              "      <td>0.14</td>\n",
              "    </tr>\n",
              "    <tr>\n",
              "      <th>17</th>\n",
              "      <td>202006</td>\n",
              "      <td>625529096.00</td>\n",
              "      <td>-0.03</td>\n",
              "    </tr>\n",
              "    <tr>\n",
              "      <th>18</th>\n",
              "      <td>202007</td>\n",
              "      <td>489143240.00</td>\n",
              "      <td>-0.22</td>\n",
              "    </tr>\n",
              "    <tr>\n",
              "      <th>19</th>\n",
              "      <td>202008</td>\n",
              "      <td>549924200.00</td>\n",
              "      <td>0.12</td>\n",
              "    </tr>\n",
              "    <tr>\n",
              "      <th>20</th>\n",
              "      <td>202009</td>\n",
              "      <td>491556200.00</td>\n",
              "      <td>-0.11</td>\n",
              "    </tr>\n",
              "    <tr>\n",
              "      <th>21</th>\n",
              "      <td>202010</td>\n",
              "      <td>513489528.00</td>\n",
              "      <td>0.04</td>\n",
              "    </tr>\n",
              "    <tr>\n",
              "      <th>22</th>\n",
              "      <td>202011</td>\n",
              "      <td>586158760.00</td>\n",
              "      <td>0.14</td>\n",
              "    </tr>\n",
              "    <tr>\n",
              "      <th>23</th>\n",
              "      <td>202012</td>\n",
              "      <td>584113720.00</td>\n",
              "      <td>-0.00</td>\n",
              "    </tr>\n",
              "  </tbody>\n",
              "</table>\n",
              "</div>"
            ],
            "text/plain": [
              "   YearMonth      Revenue  GrowthRate\n",
              "0     201901 425743824.00         nan\n",
              "1     201902 300617976.00       -0.29\n",
              "2     201903 699778888.00        1.33\n",
              "3     201904 516812544.00       -0.26\n",
              "4     201905 551044368.00        0.07\n",
              "5     201906 453681976.00       -0.18\n",
              "6     201907 480213760.00        0.06\n",
              "7     201908 500785128.00        0.04\n",
              "8     201909 553368896.00        0.11\n",
              "9     201910 643763416.00        0.16\n",
              "10    201911 602731880.00       -0.06\n",
              "11    201912 650472000.00        0.08\n",
              "12    202001 506539352.00       -0.22\n",
              "13    202002 510690080.00        0.01\n",
              "14    202003 591391280.00        0.16\n",
              "15    202004 567085392.00       -0.04\n",
              "16    202005 645260568.00        0.14\n",
              "17    202006 625529096.00       -0.03\n",
              "18    202007 489143240.00       -0.22\n",
              "19    202008 549924200.00        0.12\n",
              "20    202009 491556200.00       -0.11\n",
              "21    202010 513489528.00        0.04\n",
              "22    202011 586158760.00        0.14\n",
              "23    202012 584113720.00       -0.00"
            ]
          },
          "metadata": {},
          "execution_count": 144
        }
      ]
    },
    {
      "cell_type": "code",
      "metadata": {
        "colab": {
          "base_uri": "https://localhost:8080/"
        },
        "id": "c_WYFYh45VUH",
        "outputId": "bfe0d5bd-458e-4bd7-a665-942a091a2e23"
      },
      "source": [
        "tx_revenue['YearMonth'] = tx_revenue['YearMonth'].astype(str)\n",
        "tx_revenue.info()"
      ],
      "execution_count": 145,
      "outputs": [
        {
          "output_type": "stream",
          "name": "stdout",
          "text": [
            "<class 'pandas.core.frame.DataFrame'>\n",
            "RangeIndex: 24 entries, 0 to 23\n",
            "Data columns (total 3 columns):\n",
            " #   Column      Non-Null Count  Dtype  \n",
            "---  ------      --------------  -----  \n",
            " 0   YearMonth   24 non-null     object \n",
            " 1   Revenue     24 non-null     float64\n",
            " 2   GrowthRate  23 non-null     float64\n",
            "dtypes: float64(2), object(1)\n",
            "memory usage: 704.0+ bytes\n"
          ]
        }
      ]
    },
    {
      "cell_type": "code",
      "metadata": {
        "colab": {
          "base_uri": "https://localhost:8080/",
          "height": 390
        },
        "id": "nR3QSjMd4BuK",
        "outputId": "fb4ec22b-d87a-4fbc-d934-c81c062c8b7c"
      },
      "source": [
        "fig,axes = plt.subplots(figsize=(20,6))\n",
        "sns.lineplot(ax = axes,x='YearMonth',y='GrowthRate',data=tx_revenue)\n",
        "plt.show()"
      ],
      "execution_count": 146,
      "outputs": [
        {
          "output_type": "display_data",
          "data": {
            "image/png": "[encoded data removed]",
            "text/plain": [
              "<Figure size 1440x432 with 1 Axes>"
            ]
          },
          "metadata": {
            "needs_background": "light"
          }
        }
      ]
    },
    {
      "cell_type": "markdown",
      "metadata": {
        "id": "x5me5Knk999v"
      },
      "source": [
        "###算出每個月『數量加總』並轉換成長柄圖"
      ]
    },
    {
      "cell_type": "code",
      "metadata": {
        "colab": {
          "base_uri": "https://localhost:8080/",
          "height": 802
        },
        "id": "HWG8aHaS5D2h",
        "outputId": "cefc4928-aed3-49f2-eee4-576182067d93"
      },
      "source": [
        "tx_revenue1 = sales_data1.groupby(['YearMonth'])['Quantity'].sum().reset_index() #算出每個月的加總Quantity\n",
        "tx_revenue1"
      ],
      "execution_count": 147,
      "outputs": [
        {
          "output_type": "execute_result",
          "data": {
            "text/html": [
              "<div>\n",
              "<style scoped>\n",
              "    .dataframe tbody tr th:only-of-type {\n",
              "        vertical-align: middle;\n",
              "    }\n",
              "\n",
              "    .dataframe tbody tr th {\n",
              "        vertical-align: top;\n",
              "    }\n",
              "\n",
              "    .dataframe thead th {\n",
              "        text-align: right;\n",
              "    }\n",
              "</style>\n",
              "<table border=\"1\" class=\"dataframe\">\n",
              "  <thead>\n",
              "    <tr style=\"text-align: right;\">\n",
              "      <th></th>\n",
              "      <th>YearMonth</th>\n",
              "      <th>Quantity</th>\n",
              "    </tr>\n",
              "  </thead>\n",
              "  <tbody>\n",
              "    <tr>\n",
              "      <th>0</th>\n",
              "      <td>201901</td>\n",
              "      <td>372096.00</td>\n",
              "    </tr>\n",
              "    <tr>\n",
              "      <th>1</th>\n",
              "      <td>201902</td>\n",
              "      <td>243576.00</td>\n",
              "    </tr>\n",
              "    <tr>\n",
              "      <th>2</th>\n",
              "      <td>201903</td>\n",
              "      <td>760144.00</td>\n",
              "    </tr>\n",
              "    <tr>\n",
              "      <th>3</th>\n",
              "      <td>201904</td>\n",
              "      <td>514888.00</td>\n",
              "    </tr>\n",
              "    <tr>\n",
              "      <th>4</th>\n",
              "      <td>201905</td>\n",
              "      <td>489304.00</td>\n",
              "    </tr>\n",
              "    <tr>\n",
              "      <th>5</th>\n",
              "      <td>201906</td>\n",
              "      <td>406304.00</td>\n",
              "    </tr>\n",
              "    <tr>\n",
              "      <th>6</th>\n",
              "      <td>201907</td>\n",
              "      <td>407536.00</td>\n",
              "    </tr>\n",
              "    <tr>\n",
              "      <th>7</th>\n",
              "      <td>201908</td>\n",
              "      <td>449040.00</td>\n",
              "    </tr>\n",
              "    <tr>\n",
              "      <th>8</th>\n",
              "      <td>201909</td>\n",
              "      <td>453488.00</td>\n",
              "    </tr>\n",
              "    <tr>\n",
              "      <th>9</th>\n",
              "      <td>201910</td>\n",
              "      <td>648960.00</td>\n",
              "    </tr>\n",
              "    <tr>\n",
              "      <th>10</th>\n",
              "      <td>201911</td>\n",
              "      <td>574872.00</td>\n",
              "    </tr>\n",
              "    <tr>\n",
              "      <th>11</th>\n",
              "      <td>201912</td>\n",
              "      <td>450968.00</td>\n",
              "    </tr>\n",
              "    <tr>\n",
              "      <th>12</th>\n",
              "      <td>202001</td>\n",
              "      <td>361064.00</td>\n",
              "    </tr>\n",
              "    <tr>\n",
              "      <th>13</th>\n",
              "      <td>202002</td>\n",
              "      <td>523568.00</td>\n",
              "    </tr>\n",
              "    <tr>\n",
              "      <th>14</th>\n",
              "      <td>202003</td>\n",
              "      <td>530288.00</td>\n",
              "    </tr>\n",
              "    <tr>\n",
              "      <th>15</th>\n",
              "      <td>202004</td>\n",
              "      <td>460344.00</td>\n",
              "    </tr>\n",
              "    <tr>\n",
              "      <th>16</th>\n",
              "      <td>202005</td>\n",
              "      <td>536848.00</td>\n",
              "    </tr>\n",
              "    <tr>\n",
              "      <th>17</th>\n",
              "      <td>202006</td>\n",
              "      <td>593544.00</td>\n",
              "    </tr>\n",
              "    <tr>\n",
              "      <th>18</th>\n",
              "      <td>202007</td>\n",
              "      <td>427928.00</td>\n",
              "    </tr>\n",
              "    <tr>\n",
              "      <th>19</th>\n",
              "      <td>202008</td>\n",
              "      <td>486128.00</td>\n",
              "    </tr>\n",
              "    <tr>\n",
              "      <th>20</th>\n",
              "      <td>202009</td>\n",
              "      <td>418432.00</td>\n",
              "    </tr>\n",
              "    <tr>\n",
              "      <th>21</th>\n",
              "      <td>202010</td>\n",
              "      <td>423960.00</td>\n",
              "    </tr>\n",
              "    <tr>\n",
              "      <th>22</th>\n",
              "      <td>202011</td>\n",
              "      <td>460448.00</td>\n",
              "    </tr>\n",
              "    <tr>\n",
              "      <th>23</th>\n",
              "      <td>202012</td>\n",
              "      <td>443616.00</td>\n",
              "    </tr>\n",
              "  </tbody>\n",
              "</table>\n",
              "</div>"
            ],
            "text/plain": [
              "    YearMonth  Quantity\n",
              "0      201901 372096.00\n",
              "1      201902 243576.00\n",
              "2      201903 760144.00\n",
              "3      201904 514888.00\n",
              "4      201905 489304.00\n",
              "5      201906 406304.00\n",
              "6      201907 407536.00\n",
              "7      201908 449040.00\n",
              "8      201909 453488.00\n",
              "9      201910 648960.00\n",
              "10     201911 574872.00\n",
              "11     201912 450968.00\n",
              "12     202001 361064.00\n",
              "13     202002 523568.00\n",
              "14     202003 530288.00\n",
              "15     202004 460344.00\n",
              "16     202005 536848.00\n",
              "17     202006 593544.00\n",
              "18     202007 427928.00\n",
              "19     202008 486128.00\n",
              "20     202009 418432.00\n",
              "21     202010 423960.00\n",
              "22     202011 460448.00\n",
              "23     202012 443616.00"
            ]
          },
          "metadata": {},
          "execution_count": 147
        }
      ]
    },
    {
      "cell_type": "code",
      "metadata": {
        "id": "U0r8z_Og964N",
        "outputId": "ed6e8476-332c-42df-a2ad-8921f1cb4e39",
        "colab": {
          "base_uri": "https://localhost:8080/"
        }
      },
      "source": [
        "tx_revenue.info() #型態查看"
      ],
      "execution_count": 148,
      "outputs": [
        {
          "output_type": "stream",
          "name": "stdout",
          "text": [
            "<class 'pandas.core.frame.DataFrame'>\n",
            "RangeIndex: 24 entries, 0 to 23\n",
            "Data columns (total 3 columns):\n",
            " #   Column      Non-Null Count  Dtype  \n",
            "---  ------      --------------  -----  \n",
            " 0   YearMonth   24 non-null     object \n",
            " 1   Revenue     24 non-null     float64\n",
            " 2   GrowthRate  23 non-null     float64\n",
            "dtypes: float64(2), object(1)\n",
            "memory usage: 704.0+ bytes\n"
          ]
        }
      ]
    },
    {
      "cell_type": "code",
      "metadata": {
        "id": "80iAR0Ky-IuH",
        "outputId": "bab9e1e2-2a4f-4a4f-ee6c-39ffd5858dac",
        "colab": {
          "base_uri": "https://localhost:8080/",
          "height": 388
        }
      },
      "source": [
        "fig,axes = plt.subplots(figsize=(20,6))\n",
        "sns.barplot(ax = axes,x='YearMonth',y='Quantity',data=tx_revenue1) #使用barplot做圖\n",
        "plt.show()"
      ],
      "execution_count": 149,
      "outputs": [
        {
          "output_type": "display_data",
          "data": {
            "image/png": "[encoded data removed]",
            "text/plain": [
              "<Figure size 1440x432 with 1 Axes>"
            ]
          },
          "metadata": {
            "needs_background": "light"
          }
        }
      ]
    },
    {
      "cell_type": "markdown",
      "metadata": {
        "id": "gytlMClMA3m5"
      },
      "source": [
        "###Average Revenue per Order(每個月收入平均)"
      ]
    },
    {
      "cell_type": "code",
      "metadata": {
        "id": "S8uZyefFAOar",
        "outputId": "5150fd83-7db6-4fab-cc18-f23d3f8010eb",
        "colab": {
          "base_uri": "https://localhost:8080/",
          "height": 313
        }
      },
      "source": [
        "sales_data1.head()"
      ],
      "execution_count": 150,
      "outputs": [
        {
          "output_type": "execute_result",
          "data": {
            "text/html": [
              "<div>\n",
              "<style scoped>\n",
              "    .dataframe tbody tr th:only-of-type {\n",
              "        vertical-align: middle;\n",
              "    }\n",
              "\n",
              "    .dataframe tbody tr th {\n",
              "        vertical-align: top;\n",
              "    }\n",
              "\n",
              "    .dataframe thead th {\n",
              "        text-align: right;\n",
              "    }\n",
              "</style>\n",
              "<table border=\"1\" class=\"dataframe\">\n",
              "  <thead>\n",
              "    <tr style=\"text-align: right;\">\n",
              "      <th></th>\n",
              "      <th>InvoiceNo</th>\n",
              "      <th>StockCode</th>\n",
              "      <th>Description</th>\n",
              "      <th>Quantity</th>\n",
              "      <th>InvoiceDate</th>\n",
              "      <th>UnitPrice</th>\n",
              "      <th>CustomerID</th>\n",
              "      <th>Country</th>\n",
              "      <th>member_start_date</th>\n",
              "      <th>first_trans_date</th>\n",
              "      <th>Revenue</th>\n",
              "      <th>YearMonth</th>\n",
              "    </tr>\n",
              "  </thead>\n",
              "  <tbody>\n",
              "    <tr>\n",
              "      <th>0</th>\n",
              "      <td>PS5327001158</td>\n",
              "      <td>JA01</td>\n",
              "      <td>晶淬雪潔顏乳100ml</td>\n",
              "      <td>8.00</td>\n",
              "      <td>2019-01-01</td>\n",
              "      <td>1259.00</td>\n",
              "      <td>9100002488768.00</td>\n",
              "      <td>中區</td>\n",
              "      <td>2019-12-09</td>\n",
              "      <td>2018-06-24</td>\n",
              "      <td>10072.00</td>\n",
              "      <td>201901</td>\n",
              "    </tr>\n",
              "    <tr>\n",
              "      <th>1</th>\n",
              "      <td>PS5335020955</td>\n",
              "      <td>KG06</td>\n",
              "      <td>多肽亮眼乳霜20g-保濕型</td>\n",
              "      <td>8.00</td>\n",
              "      <td>2019-01-01</td>\n",
              "      <td>839.00</td>\n",
              "      <td>9100002556566.00</td>\n",
              "      <td>中區</td>\n",
              "      <td>2018-10-21</td>\n",
              "      <td>2018-10-21</td>\n",
              "      <td>6712.00</td>\n",
              "      <td>201901</td>\n",
              "    </tr>\n",
              "    <tr>\n",
              "      <th>2</th>\n",
              "      <td>PS5335020955</td>\n",
              "      <td>BJ102</td>\n",
              "      <td>檸檬精油10ml MUI</td>\n",
              "      <td>8.00</td>\n",
              "      <td>2019-01-01</td>\n",
              "      <td>839.00</td>\n",
              "      <td>9100002556566.00</td>\n",
              "      <td>中區</td>\n",
              "      <td>2018-10-21</td>\n",
              "      <td>2018-10-21</td>\n",
              "      <td>6712.00</td>\n",
              "      <td>201901</td>\n",
              "    </tr>\n",
              "    <tr>\n",
              "      <th>3</th>\n",
              "      <td>PS5335020955</td>\n",
              "      <td>JZA3G1</td>\n",
              "      <td>柚見快樂精油15ml MUI</td>\n",
              "      <td>-8.00</td>\n",
              "      <td>2019-01-01</td>\n",
              "      <td>-1501.00</td>\n",
              "      <td>9100002556566.00</td>\n",
              "      <td>中區</td>\n",
              "      <td>2018-10-21</td>\n",
              "      <td>2018-10-21</td>\n",
              "      <td>-12008.00</td>\n",
              "      <td>201901</td>\n",
              "    </tr>\n",
              "    <tr>\n",
              "      <th>4</th>\n",
              "      <td>PS5444006919</td>\n",
              "      <td>BJ103</td>\n",
              "      <td>細花冬青香氛油10ml MUI</td>\n",
              "      <td>8.00</td>\n",
              "      <td>2019-01-01</td>\n",
              "      <td>672.00</td>\n",
              "      <td>9100002582077.00</td>\n",
              "      <td>南區</td>\n",
              "      <td>2018-12-04</td>\n",
              "      <td>2018-12-04</td>\n",
              "      <td>5376.00</td>\n",
              "      <td>201901</td>\n",
              "    </tr>\n",
              "  </tbody>\n",
              "</table>\n",
              "</div>"
            ],
            "text/plain": [
              "      InvoiceNo StockCode  ...   Revenue  YearMonth\n",
              "0  PS5327001158      JA01  ...  10072.00     201901\n",
              "1  PS5335020955      KG06  ...   6712.00     201901\n",
              "2  PS5335020955     BJ102  ...   6712.00     201901\n",
              "3  PS5335020955    JZA3G1  ... -12008.00     201901\n",
              "4  PS5444006919     BJ103  ...   5376.00     201901\n",
              "\n",
              "[5 rows x 12 columns]"
            ]
          },
          "metadata": {},
          "execution_count": 150
        }
      ]
    },
    {
      "cell_type": "code",
      "metadata": {
        "id": "baAK6IMTA_zm",
        "outputId": "79a01603-d67d-4637-8fe9-8be9850bc1b4",
        "colab": {
          "base_uri": "https://localhost:8080/",
          "height": 802
        }
      },
      "source": [
        "tx_revenue_avg = sales_data1.groupby(['YearMonth'])['Revenue'].mean().reset_index()\n",
        "tx_revenue_avg"
      ],
      "execution_count": 151,
      "outputs": [
        {
          "output_type": "execute_result",
          "data": {
            "text/html": [
              "<div>\n",
              "<style scoped>\n",
              "    .dataframe tbody tr th:only-of-type {\n",
              "        vertical-align: middle;\n",
              "    }\n",
              "\n",
              "    .dataframe tbody tr th {\n",
              "        vertical-align: top;\n",
              "    }\n",
              "\n",
              "    .dataframe thead th {\n",
              "        text-align: right;\n",
              "    }\n",
              "</style>\n",
              "<table border=\"1\" class=\"dataframe\">\n",
              "  <thead>\n",
              "    <tr style=\"text-align: right;\">\n",
              "      <th></th>\n",
              "      <th>YearMonth</th>\n",
              "      <th>Revenue</th>\n",
              "    </tr>\n",
              "  </thead>\n",
              "  <tbody>\n",
              "    <tr>\n",
              "      <th>0</th>\n",
              "      <td>201901</td>\n",
              "      <td>9859.97</td>\n",
              "    </tr>\n",
              "    <tr>\n",
              "      <th>1</th>\n",
              "      <td>201902</td>\n",
              "      <td>10893.93</td>\n",
              "    </tr>\n",
              "    <tr>\n",
              "      <th>2</th>\n",
              "      <td>201903</td>\n",
              "      <td>9157.61</td>\n",
              "    </tr>\n",
              "    <tr>\n",
              "      <th>3</th>\n",
              "      <td>201904</td>\n",
              "      <td>10094.59</td>\n",
              "    </tr>\n",
              "    <tr>\n",
              "      <th>4</th>\n",
              "      <td>201905</td>\n",
              "      <td>10560.05</td>\n",
              "    </tr>\n",
              "    <tr>\n",
              "      <th>5</th>\n",
              "      <td>201906</td>\n",
              "      <td>10836.53</td>\n",
              "    </tr>\n",
              "    <tr>\n",
              "      <th>6</th>\n",
              "      <td>201907</td>\n",
              "      <td>11346.94</td>\n",
              "    </tr>\n",
              "    <tr>\n",
              "      <th>7</th>\n",
              "      <td>201908</td>\n",
              "      <td>10429.33</td>\n",
              "    </tr>\n",
              "    <tr>\n",
              "      <th>8</th>\n",
              "      <td>201909</td>\n",
              "      <td>11319.58</td>\n",
              "    </tr>\n",
              "    <tr>\n",
              "      <th>9</th>\n",
              "      <td>201910</td>\n",
              "      <td>13218.15</td>\n",
              "    </tr>\n",
              "    <tr>\n",
              "      <th>10</th>\n",
              "      <td>201911</td>\n",
              "      <td>12175.91</td>\n",
              "    </tr>\n",
              "    <tr>\n",
              "      <th>11</th>\n",
              "      <td>201912</td>\n",
              "      <td>14846.21</td>\n",
              "    </tr>\n",
              "    <tr>\n",
              "      <th>12</th>\n",
              "      <td>202001</td>\n",
              "      <td>14354.44</td>\n",
              "    </tr>\n",
              "    <tr>\n",
              "      <th>13</th>\n",
              "      <td>202002</td>\n",
              "      <td>10503.92</td>\n",
              "    </tr>\n",
              "    <tr>\n",
              "      <th>14</th>\n",
              "      <td>202003</td>\n",
              "      <td>10383.85</td>\n",
              "    </tr>\n",
              "    <tr>\n",
              "      <th>15</th>\n",
              "      <td>202004</td>\n",
              "      <td>11274.96</td>\n",
              "    </tr>\n",
              "    <tr>\n",
              "      <th>16</th>\n",
              "      <td>202005</td>\n",
              "      <td>10876.34</td>\n",
              "    </tr>\n",
              "    <tr>\n",
              "      <th>17</th>\n",
              "      <td>202006</td>\n",
              "      <td>9711.98</td>\n",
              "    </tr>\n",
              "    <tr>\n",
              "      <th>18</th>\n",
              "      <td>202007</td>\n",
              "      <td>10116.72</td>\n",
              "    </tr>\n",
              "    <tr>\n",
              "      <th>19</th>\n",
              "      <td>202008</td>\n",
              "      <td>9831.31</td>\n",
              "    </tr>\n",
              "    <tr>\n",
              "      <th>20</th>\n",
              "      <td>202009</td>\n",
              "      <td>11248.43</td>\n",
              "    </tr>\n",
              "    <tr>\n",
              "      <th>21</th>\n",
              "      <td>202010</td>\n",
              "      <td>11122.92</td>\n",
              "    </tr>\n",
              "    <tr>\n",
              "      <th>22</th>\n",
              "      <td>202011</td>\n",
              "      <td>11634.75</td>\n",
              "    </tr>\n",
              "    <tr>\n",
              "      <th>23</th>\n",
              "      <td>202012</td>\n",
              "      <td>12144.49</td>\n",
              "    </tr>\n",
              "  </tbody>\n",
              "</table>\n",
              "</div>"
            ],
            "text/plain": [
              "    YearMonth  Revenue\n",
              "0      201901  9859.97\n",
              "1      201902 10893.93\n",
              "2      201903  9157.61\n",
              "3      201904 10094.59\n",
              "4      201905 10560.05\n",
              "5      201906 10836.53\n",
              "6      201907 11346.94\n",
              "7      201908 10429.33\n",
              "8      201909 11319.58\n",
              "9      201910 13218.15\n",
              "10     201911 12175.91\n",
              "11     201912 14846.21\n",
              "12     202001 14354.44\n",
              "13     202002 10503.92\n",
              "14     202003 10383.85\n",
              "15     202004 11274.96\n",
              "16     202005 10876.34\n",
              "17     202006  9711.98\n",
              "18     202007 10116.72\n",
              "19     202008  9831.31\n",
              "20     202009 11248.43\n",
              "21     202010 11122.92\n",
              "22     202011 11634.75\n",
              "23     202012 12144.49"
            ]
          },
          "metadata": {},
          "execution_count": 151
        }
      ]
    },
    {
      "cell_type": "code",
      "metadata": {
        "id": "O4F8o9n0BRDv"
      },
      "source": [
        "tx_revenue_avg['YearMonth'] = tx_revenue_avg['YearMonth'].astype(str)"
      ],
      "execution_count": 152,
      "outputs": []
    },
    {
      "cell_type": "code",
      "metadata": {
        "id": "Y4b3VlgiBrhL",
        "outputId": "fbebaf6f-1317-489d-8f3f-409b6b516a36",
        "colab": {
          "base_uri": "https://localhost:8080/",
          "height": 389
        }
      },
      "source": [
        "figure,axes = plt.subplots(2,1,figsize=(18,6))\n",
        "sns.lineplot(x='YearMonth',y='Revenue',data=tx_revenue_avg,ax=axes[0])\n",
        "sns.barplot(x='YearMonth',y='Revenue',data=tx_revenue_avg,ax=axes[1])\n",
        "plt.show()"
      ],
      "execution_count": 153,
      "outputs": [
        {
          "output_type": "display_data",
          "data": {
            "image/png": "[encoded data removed]",
            "text/plain": [
              "<Figure size 1296x432 with 2 Axes>"
            ]
          },
          "metadata": {
            "needs_background": "light"
          }
        }
      ]
    },
    {
      "cell_type": "markdown",
      "metadata": {
        "id": "h1Esxd5JDiz8"
      },
      "source": [
        "###Monthly Active Customers(算來客數，並且不要重複的)"
      ]
    },
    {
      "cell_type": "code",
      "metadata": {
        "id": "yApSea0RCTW2",
        "outputId": "791ce4aa-d59e-4f5c-9f53-9b2421584d55",
        "colab": {
          "base_uri": "https://localhost:8080/",
          "height": 802
        }
      },
      "source": [
        "tx_monthly_active = sales_data1.groupby(['YearMonth'])['CustomerID'].nunique().reset_index() #nunique()是將重複資訊剔除掉的語法\n",
        "tx_monthly_active"
      ],
      "execution_count": 154,
      "outputs": [
        {
          "output_type": "execute_result",
          "data": {
            "text/html": [
              "<div>\n",
              "<style scoped>\n",
              "    .dataframe tbody tr th:only-of-type {\n",
              "        vertical-align: middle;\n",
              "    }\n",
              "\n",
              "    .dataframe tbody tr th {\n",
              "        vertical-align: top;\n",
              "    }\n",
              "\n",
              "    .dataframe thead th {\n",
              "        text-align: right;\n",
              "    }\n",
              "</style>\n",
              "<table border=\"1\" class=\"dataframe\">\n",
              "  <thead>\n",
              "    <tr style=\"text-align: right;\">\n",
              "      <th></th>\n",
              "      <th>YearMonth</th>\n",
              "      <th>CustomerID</th>\n",
              "    </tr>\n",
              "  </thead>\n",
              "  <tbody>\n",
              "    <tr>\n",
              "      <th>0</th>\n",
              "      <td>201901</td>\n",
              "      <td>11061</td>\n",
              "    </tr>\n",
              "    <tr>\n",
              "      <th>1</th>\n",
              "      <td>201902</td>\n",
              "      <td>8593</td>\n",
              "    </tr>\n",
              "    <tr>\n",
              "      <th>2</th>\n",
              "      <td>201903</td>\n",
              "      <td>15972</td>\n",
              "    </tr>\n",
              "    <tr>\n",
              "      <th>3</th>\n",
              "      <td>201904</td>\n",
              "      <td>11846</td>\n",
              "    </tr>\n",
              "    <tr>\n",
              "      <th>4</th>\n",
              "      <td>201905</td>\n",
              "      <td>12569</td>\n",
              "    </tr>\n",
              "    <tr>\n",
              "      <th>5</th>\n",
              "      <td>201906</td>\n",
              "      <td>11159</td>\n",
              "    </tr>\n",
              "    <tr>\n",
              "      <th>6</th>\n",
              "      <td>201907</td>\n",
              "      <td>10981</td>\n",
              "    </tr>\n",
              "    <tr>\n",
              "      <th>7</th>\n",
              "      <td>201908</td>\n",
              "      <td>12747</td>\n",
              "    </tr>\n",
              "    <tr>\n",
              "      <th>8</th>\n",
              "      <td>201909</td>\n",
              "      <td>12498</td>\n",
              "    </tr>\n",
              "    <tr>\n",
              "      <th>9</th>\n",
              "      <td>201910</td>\n",
              "      <td>14506</td>\n",
              "    </tr>\n",
              "    <tr>\n",
              "      <th>10</th>\n",
              "      <td>201911</td>\n",
              "      <td>12519</td>\n",
              "    </tr>\n",
              "    <tr>\n",
              "      <th>11</th>\n",
              "      <td>201912</td>\n",
              "      <td>12041</td>\n",
              "    </tr>\n",
              "    <tr>\n",
              "      <th>12</th>\n",
              "      <td>202001</td>\n",
              "      <td>10110</td>\n",
              "    </tr>\n",
              "    <tr>\n",
              "      <th>13</th>\n",
              "      <td>202002</td>\n",
              "      <td>13004</td>\n",
              "    </tr>\n",
              "    <tr>\n",
              "      <th>14</th>\n",
              "      <td>202003</td>\n",
              "      <td>11979</td>\n",
              "    </tr>\n",
              "    <tr>\n",
              "      <th>15</th>\n",
              "      <td>202004</td>\n",
              "      <td>11456</td>\n",
              "    </tr>\n",
              "    <tr>\n",
              "      <th>16</th>\n",
              "      <td>202005</td>\n",
              "      <td>14775</td>\n",
              "    </tr>\n",
              "    <tr>\n",
              "      <th>17</th>\n",
              "      <td>202006</td>\n",
              "      <td>13852</td>\n",
              "    </tr>\n",
              "    <tr>\n",
              "      <th>18</th>\n",
              "      <td>202007</td>\n",
              "      <td>10547</td>\n",
              "    </tr>\n",
              "    <tr>\n",
              "      <th>19</th>\n",
              "      <td>202008</td>\n",
              "      <td>12189</td>\n",
              "    </tr>\n",
              "    <tr>\n",
              "      <th>20</th>\n",
              "      <td>202009</td>\n",
              "      <td>10873</td>\n",
              "    </tr>\n",
              "    <tr>\n",
              "      <th>21</th>\n",
              "      <td>202010</td>\n",
              "      <td>11476</td>\n",
              "    </tr>\n",
              "    <tr>\n",
              "      <th>22</th>\n",
              "      <td>202011</td>\n",
              "      <td>12820</td>\n",
              "    </tr>\n",
              "    <tr>\n",
              "      <th>23</th>\n",
              "      <td>202012</td>\n",
              "      <td>12108</td>\n",
              "    </tr>\n",
              "  </tbody>\n",
              "</table>\n",
              "</div>"
            ],
            "text/plain": [
              "    YearMonth  CustomerID\n",
              "0      201901       11061\n",
              "1      201902        8593\n",
              "2      201903       15972\n",
              "3      201904       11846\n",
              "4      201905       12569\n",
              "5      201906       11159\n",
              "6      201907       10981\n",
              "7      201908       12747\n",
              "8      201909       12498\n",
              "9      201910       14506\n",
              "10     201911       12519\n",
              "11     201912       12041\n",
              "12     202001       10110\n",
              "13     202002       13004\n",
              "14     202003       11979\n",
              "15     202004       11456\n",
              "16     202005       14775\n",
              "17     202006       13852\n",
              "18     202007       10547\n",
              "19     202008       12189\n",
              "20     202009       10873\n",
              "21     202010       11476\n",
              "22     202011       12820\n",
              "23     202012       12108"
            ]
          },
          "metadata": {},
          "execution_count": 154
        }
      ]
    },
    {
      "cell_type": "code",
      "metadata": {
        "id": "ue42nrK6FVDm"
      },
      "source": [
        "tx_monthly_active['YearMonth'] = tx_monthly_active['YearMonth'].astype(str)"
      ],
      "execution_count": 155,
      "outputs": []
    },
    {
      "cell_type": "code",
      "metadata": {
        "id": "iXX0IsW7Fs5e",
        "outputId": "ebd7f5c3-63d6-4a0f-a9be-4e3f6abf5b97",
        "colab": {
          "base_uri": "https://localhost:8080/",
          "height": 378
        }
      },
      "source": [
        "fig,axes1 = plt.subplots(figsize=(20,6))\n",
        "sns.barplot(x='YearMonth',y='CustomerID',data=tx_monthly_active,ax=axes1)\n",
        "axes2 = axes1.twinx() #twinx()是合併兩張畫布的語法\n",
        "sns.lineplot(x='YearMonth',y='CustomerID',data=tx_monthly_active,ax=axes2)\n",
        "plt.show()"
      ],
      "execution_count": 180,
      "outputs": [
        {
          "output_type": "display_data",
          "data": {
            "image/png": "[encoded data removed]",
            "text/plain": [
              "<Figure size 1440x432 with 2 Axes>"
            ]
          },
          "metadata": {
            "needs_background": "light"
          }
        }
      ]
    },
    {
      "cell_type": "markdown",
      "source": [
        "##第三週作業"
      ],
      "metadata": {
        "id": "_5mMC3V0YYhF"
      }
    },
    {
      "cell_type": "markdown",
      "source": [
        "###1.請畫出每個區域的收入分佈圖(條狀圖)"
      ],
      "metadata": {
        "id": "sGYJR9EvYjTq"
      }
    },
    {
      "cell_type": "code",
      "source": [
        "sales_data1.head()"
      ],
      "metadata": {
        "id": "oIsG07t-Ybv6",
        "outputId": "4699e628-f690-48b9-97f0-e650f5138544",
        "colab": {
          "base_uri": "https://localhost:8080/",
          "height": 313
        }
      },
      "execution_count": 198,
      "outputs": [
        {
          "output_type": "execute_result",
          "data": {
            "text/html": [
              "<div>\n",
              "<style scoped>\n",
              "    .dataframe tbody tr th:only-of-type {\n",
              "        vertical-align: middle;\n",
              "    }\n",
              "\n",
              "    .dataframe tbody tr th {\n",
              "        vertical-align: top;\n",
              "    }\n",
              "\n",
              "    .dataframe thead th {\n",
              "        text-align: right;\n",
              "    }\n",
              "</style>\n",
              "<table border=\"1\" class=\"dataframe\">\n",
              "  <thead>\n",
              "    <tr style=\"text-align: right;\">\n",
              "      <th></th>\n",
              "      <th>InvoiceNo</th>\n",
              "      <th>StockCode</th>\n",
              "      <th>Description</th>\n",
              "      <th>Quantity</th>\n",
              "      <th>InvoiceDate</th>\n",
              "      <th>UnitPrice</th>\n",
              "      <th>CustomerID</th>\n",
              "      <th>Country</th>\n",
              "      <th>member_start_date</th>\n",
              "      <th>first_trans_date</th>\n",
              "      <th>Revenue</th>\n",
              "      <th>YearMonth</th>\n",
              "    </tr>\n",
              "  </thead>\n",
              "  <tbody>\n",
              "    <tr>\n",
              "      <th>0</th>\n",
              "      <td>PS5327001158</td>\n",
              "      <td>JA01</td>\n",
              "      <td>晶淬雪潔顏乳100ml</td>\n",
              "      <td>8.00</td>\n",
              "      <td>2019-01-01</td>\n",
              "      <td>1259.00</td>\n",
              "      <td>9100002488768.00</td>\n",
              "      <td>中區</td>\n",
              "      <td>2019-12-09</td>\n",
              "      <td>2018-06-24</td>\n",
              "      <td>10072.00</td>\n",
              "      <td>201901</td>\n",
              "    </tr>\n",
              "    <tr>\n",
              "      <th>1</th>\n",
              "      <td>PS5335020955</td>\n",
              "      <td>KG06</td>\n",
              "      <td>多肽亮眼乳霜20g-保濕型</td>\n",
              "      <td>8.00</td>\n",
              "      <td>2019-01-01</td>\n",
              "      <td>839.00</td>\n",
              "      <td>9100002556566.00</td>\n",
              "      <td>中區</td>\n",
              "      <td>2018-10-21</td>\n",
              "      <td>2018-10-21</td>\n",
              "      <td>6712.00</td>\n",
              "      <td>201901</td>\n",
              "    </tr>\n",
              "    <tr>\n",
              "      <th>2</th>\n",
              "      <td>PS5335020955</td>\n",
              "      <td>BJ102</td>\n",
              "      <td>檸檬精油10ml MUI</td>\n",
              "      <td>8.00</td>\n",
              "      <td>2019-01-01</td>\n",
              "      <td>839.00</td>\n",
              "      <td>9100002556566.00</td>\n",
              "      <td>中區</td>\n",
              "      <td>2018-10-21</td>\n",
              "      <td>2018-10-21</td>\n",
              "      <td>6712.00</td>\n",
              "      <td>201901</td>\n",
              "    </tr>\n",
              "    <tr>\n",
              "      <th>3</th>\n",
              "      <td>PS5335020955</td>\n",
              "      <td>JZA3G1</td>\n",
              "      <td>柚見快樂精油15ml MUI</td>\n",
              "      <td>-8.00</td>\n",
              "      <td>2019-01-01</td>\n",
              "      <td>-1501.00</td>\n",
              "      <td>9100002556566.00</td>\n",
              "      <td>中區</td>\n",
              "      <td>2018-10-21</td>\n",
              "      <td>2018-10-21</td>\n",
              "      <td>-12008.00</td>\n",
              "      <td>201901</td>\n",
              "    </tr>\n",
              "    <tr>\n",
              "      <th>4</th>\n",
              "      <td>PS5444006919</td>\n",
              "      <td>BJ103</td>\n",
              "      <td>細花冬青香氛油10ml MUI</td>\n",
              "      <td>8.00</td>\n",
              "      <td>2019-01-01</td>\n",
              "      <td>672.00</td>\n",
              "      <td>9100002582077.00</td>\n",
              "      <td>南區</td>\n",
              "      <td>2018-12-04</td>\n",
              "      <td>2018-12-04</td>\n",
              "      <td>5376.00</td>\n",
              "      <td>201901</td>\n",
              "    </tr>\n",
              "  </tbody>\n",
              "</table>\n",
              "</div>"
            ],
            "text/plain": [
              "      InvoiceNo StockCode  ...   Revenue  YearMonth\n",
              "0  PS5327001158      JA01  ...  10072.00     201901\n",
              "1  PS5335020955      KG06  ...   6712.00     201901\n",
              "2  PS5335020955     BJ102  ...   6712.00     201901\n",
              "3  PS5335020955    JZA3G1  ... -12008.00     201901\n",
              "4  PS5444006919     BJ103  ...   5376.00     201901\n",
              "\n",
              "[5 rows x 12 columns]"
            ]
          },
          "metadata": {},
          "execution_count": 198
        }
      ]
    },
    {
      "cell_type": "code",
      "source": [
        "sales_data1.info()"
      ],
      "metadata": {
        "id": "33glirVKaBzf",
        "outputId": "c51cf212-a8b0-40dd-ecda-8a9bb8b09532",
        "colab": {
          "base_uri": "https://localhost:8080/"
        }
      },
      "execution_count": 158,
      "outputs": [
        {
          "output_type": "stream",
          "name": "stdout",
          "text": [
            "<class 'pandas.core.frame.DataFrame'>\n",
            "Int64Index: 1181196 entries, 0 to 1404434\n",
            "Data columns (total 12 columns):\n",
            " #   Column             Non-Null Count    Dtype         \n",
            "---  ------             --------------    -----         \n",
            " 0   InvoiceNo          1181196 non-null  object        \n",
            " 1   StockCode          1181196 non-null  object        \n",
            " 2   Description        1181196 non-null  object        \n",
            " 3   Quantity           1181196 non-null  float64       \n",
            " 4   InvoiceDate        1181196 non-null  datetime64[ns]\n",
            " 5   UnitPrice          1181196 non-null  float64       \n",
            " 6   CustomerID         1181196 non-null  float64       \n",
            " 7   Country            1181196 non-null  object        \n",
            " 8   member_start_date  1144520 non-null  object        \n",
            " 9   first_trans_date   1177960 non-null  object        \n",
            " 10  Revenue            1181196 non-null  float64       \n",
            " 11  YearMonth          1181196 non-null  int64         \n",
            "dtypes: datetime64[ns](1), float64(4), int64(1), object(6)\n",
            "memory usage: 117.2+ MB\n"
          ]
        }
      ]
    },
    {
      "cell_type": "code",
      "source": [
        "country_revenue = sales_data1.groupby(['Country'])['Revenue'].sum().reset_index()\n",
        "country_revenue"
      ],
      "metadata": {
        "id": "9YofnN9kbssO",
        "outputId": "6042cadd-85e1-484c-b772-df844b9b38d5",
        "colab": {
          "base_uri": "https://localhost:8080/",
          "height": 332
        }
      },
      "execution_count": 159,
      "outputs": [
        {
          "output_type": "execute_result",
          "data": {
            "text/html": [
              "<div>\n",
              "<style scoped>\n",
              "    .dataframe tbody tr th:only-of-type {\n",
              "        vertical-align: middle;\n",
              "    }\n",
              "\n",
              "    .dataframe tbody tr th {\n",
              "        vertical-align: top;\n",
              "    }\n",
              "\n",
              "    .dataframe thead th {\n",
              "        text-align: right;\n",
              "    }\n",
              "</style>\n",
              "<table border=\"1\" class=\"dataframe\">\n",
              "  <thead>\n",
              "    <tr style=\"text-align: right;\">\n",
              "      <th></th>\n",
              "      <th>Country</th>\n",
              "      <th>Revenue</th>\n",
              "    </tr>\n",
              "  </thead>\n",
              "  <tbody>\n",
              "    <tr>\n",
              "      <th>0</th>\n",
              "      <td>中區</td>\n",
              "      <td>2823219968.00</td>\n",
              "    </tr>\n",
              "    <tr>\n",
              "      <th>1</th>\n",
              "      <td>佐登微爾</td>\n",
              "      <td>62912024.00</td>\n",
              "    </tr>\n",
              "    <tr>\n",
              "      <th>2</th>\n",
              "      <td>南區</td>\n",
              "      <td>1397659152.00</td>\n",
              "    </tr>\n",
              "    <tr>\n",
              "      <th>3</th>\n",
              "      <td>台北A區</td>\n",
              "      <td>2175803848.00</td>\n",
              "    </tr>\n",
              "    <tr>\n",
              "      <th>4</th>\n",
              "      <td>台北B區</td>\n",
              "      <td>1779395376.00</td>\n",
              "    </tr>\n",
              "    <tr>\n",
              "      <th>5</th>\n",
              "      <td>彰雲區</td>\n",
              "      <td>1232884144.00</td>\n",
              "    </tr>\n",
              "    <tr>\n",
              "      <th>6</th>\n",
              "      <td>竹區</td>\n",
              "      <td>1372911816.00</td>\n",
              "    </tr>\n",
              "    <tr>\n",
              "      <th>7</th>\n",
              "      <td>總管理處</td>\n",
              "      <td>60226184.00</td>\n",
              "    </tr>\n",
              "    <tr>\n",
              "      <th>8</th>\n",
              "      <td>高屏全區</td>\n",
              "      <td>2134883560.00</td>\n",
              "    </tr>\n",
              "  </tbody>\n",
              "</table>\n",
              "</div>"
            ],
            "text/plain": [
              "  Country       Revenue\n",
              "0      中區 2823219968.00\n",
              "1    佐登微爾   62912024.00\n",
              "2      南區 1397659152.00\n",
              "3    台北A區 2175803848.00\n",
              "4    台北B區 1779395376.00\n",
              "5     彰雲區 1232884144.00\n",
              "6      竹區 1372911816.00\n",
              "7    總管理處   60226184.00\n",
              "8    高屏全區 2134883560.00"
            ]
          },
          "metadata": {},
          "execution_count": 159
        }
      ]
    },
    {
      "cell_type": "code",
      "source": [
        "country_revenue.info()"
      ],
      "metadata": {
        "id": "TKw6WCW8dykq",
        "outputId": "74bb055f-9cc2-42f3-9b25-b9a2b169b748",
        "colab": {
          "base_uri": "https://localhost:8080/"
        }
      },
      "execution_count": 177,
      "outputs": [
        {
          "output_type": "stream",
          "name": "stdout",
          "text": [
            "<class 'pandas.core.frame.DataFrame'>\n",
            "RangeIndex: 9 entries, 0 to 8\n",
            "Data columns (total 2 columns):\n",
            " #   Column   Non-Null Count  Dtype  \n",
            "---  ------   --------------  -----  \n",
            " 0   Country  9 non-null      object \n",
            " 1   Revenue  9 non-null      float64\n",
            "dtypes: float64(1), object(1)\n",
            "memory usage: 272.0+ bytes\n"
          ]
        }
      ]
    },
    {
      "cell_type": "code",
      "source": [
        "#Colab 進行matplotlib繪圖時顯示繁體中文\n",
        "# 下載台北思源黑體並命名taipei_sans_tc_beta.ttf，移至指定路徑\n",
        "!wget -O TaipeiSansTCBeta-Regular.ttf https://drive.google.com/uc?id=1eGAsTN1HBpJAkeVM57_C7ccp7hbgSz3_&export=download\n",
        "\n",
        "import matplotlib as mpl\n",
        "import matplotlib.pyplot as plt \n",
        "from matplotlib.font_manager import fontManager\n",
        "\n",
        "# 改style要在改font之前\n",
        "# plt.style.use('seaborn')  \n",
        "\n",
        "fontManager.addfont('TaipeiSansTCBeta-Regular.ttf')\n",
        "mpl.rc('font', family='Taipei Sans TC Beta')"
      ],
      "metadata": {
        "id": "IQGTys4ufvuN",
        "outputId": "f8bede95-29d8-4106-96a6-3316057ca121",
        "colab": {
          "base_uri": "https://localhost:8080/"
        }
      },
      "execution_count": 161,
      "outputs": [
        {
          "output_type": "stream",
          "name": "stdout",
          "text": [
            "--2021-12-09 09:50:14--  https://drive.google.com/uc?id=1eGAsTN1HBpJAkeVM57_C7ccp7hbgSz3_\n",
            "Resolving drive.google.com (drive.google.com)... 64.233.187.100, 64.233.187.101, 64.233.187.138, ...\n",
            "Connecting to drive.google.com (drive.google.com)|64.233.187.100|:443... connected.\n",
            "HTTP request sent, awaiting response... 302 Moved Temporarily\n",
            "Location: https://doc-0k-9o-docs.googleusercontent.com/docs/securesc/ha0ro937gcuc7l7deffksulhg5h7mbp1/6sc6ik1peg5miaps5gp0busr5dapdg0j/1639043400000/02847987870453524430/*/1eGAsTN1HBpJAkeVM57_C7ccp7hbgSz3_ [following]\n",
            "Warning: wildcards not supported in HTTP.\n",
            "--2021-12-09 09:50:15--  https://doc-0k-9o-docs.googleusercontent.com/docs/securesc/ha0ro937gcuc7l7deffksulhg5h7mbp1/6sc6ik1peg5miaps5gp0busr5dapdg0j/1639043400000/02847987870453524430/*/1eGAsTN1HBpJAkeVM57_C7ccp7hbgSz3_\n",
            "Resolving doc-0k-9o-docs.googleusercontent.com (doc-0k-9o-docs.googleusercontent.com)... 74.125.204.132, 2404:6800:4008:c04::84\n",
            "Connecting to doc-0k-9o-docs.googleusercontent.com (doc-0k-9o-docs.googleusercontent.com)|74.125.204.132|:443... connected.\n",
            "HTTP request sent, awaiting response... 200 OK\n",
            "Length: 20659344 (20M) [application/x-font-ttf]\n",
            "Saving to: ‘TaipeiSansTCBeta-Regular.ttf’\n",
            "\n",
            "TaipeiSansTCBeta-Re 100%[===================>]  19.70M  --.-KB/s    in 0.1s    \n",
            "\n",
            "2021-12-09 09:50:16 (158 MB/s) - ‘TaipeiSansTCBeta-Regular.ttf’ saved [20659344/20659344]\n",
            "\n"
          ]
        }
      ]
    },
    {
      "cell_type": "code",
      "source": [
        "fig,axes = plt.subplots(figsize=(20,6))\n",
        "sns.barplot(x='Country',y='Revenue',data=country_revenue,ax = axes)\n",
        "plt.show()"
      ],
      "metadata": {
        "id": "klcnIaIHcN5P",
        "outputId": "a432538d-ac79-4137-e363-3d5470580c71",
        "colab": {
          "base_uri": "https://localhost:8080/",
          "height": 399
        }
      },
      "execution_count": 181,
      "outputs": [
        {
          "output_type": "display_data",
          "data": {
            "image/png": "[encoded data removed]",
            "text/plain": [
              "<Figure size 1440x432 with 1 Axes>"
            ]
          },
          "metadata": {
            "needs_background": "light"
          }
        }
      ]
    },
    {
      "cell_type": "markdown",
      "source": [
        "###2. 這些銷售資料裡，請找出銷售最好的產品（或課程），並用圓餅圖的方式與折線圖的方式呈現在每個地區的收入分佈狀況"
      ],
      "metadata": {
        "id": "AYJQQo3riHr6"
      }
    },
    {
      "cell_type": "code",
      "source": [
        "sales_data1.head()"
      ],
      "metadata": {
        "id": "nyNvMf_Nc9zo"
      },
      "execution_count": null,
      "outputs": []
    },
    {
      "cell_type": "markdown",
      "source": [
        "####找出銷售數量最好的品項"
      ],
      "metadata": {
        "id": "5bpMR0T1oiQs"
      }
    },
    {
      "cell_type": "code",
      "source": [
        "best_sales_quantity = sales_data1.groupby(['Description'])['Quantity'].sum().reset_index()\n",
        "best_sales_quantity"
      ],
      "metadata": {
        "id": "uEvj9ixkiU2a",
        "outputId": "cc1ed49c-d500-47fe-fd46-e1401c815c5f",
        "colab": {
          "base_uri": "https://localhost:8080/",
          "height": 424
        }
      },
      "execution_count": 196,
      "outputs": [
        {
          "output_type": "execute_result",
          "data": {
            "text/html": [
              "<div>\n",
              "<style scoped>\n",
              "    .dataframe tbody tr th:only-of-type {\n",
              "        vertical-align: middle;\n",
              "    }\n",
              "\n",
              "    .dataframe tbody tr th {\n",
              "        vertical-align: top;\n",
              "    }\n",
              "\n",
              "    .dataframe thead th {\n",
              "        text-align: right;\n",
              "    }\n",
              "</style>\n",
              "<table border=\"1\" class=\"dataframe\">\n",
              "  <thead>\n",
              "    <tr style=\"text-align: right;\">\n",
              "      <th></th>\n",
              "      <th>Description</th>\n",
              "      <th>Quantity</th>\n",
              "    </tr>\n",
              "  </thead>\n",
              "  <tbody>\n",
              "    <tr>\n",
              "      <th>0</th>\n",
              "      <td>(3.0 )腸道淨化3.0課程單堂</td>\n",
              "      <td>81960.00</td>\n",
              "    </tr>\n",
              "    <tr>\n",
              "      <th>1</th>\n",
              "      <td>(3.0)旗艦腸道淨化3.0課程單堂</td>\n",
              "      <td>1088.00</td>\n",
              "    </tr>\n",
              "    <tr>\n",
              "      <th>2</th>\n",
              "      <td>(VIP)足部玫瑰晶萃瞬效保養課程單堂</td>\n",
              "      <td>208.00</td>\n",
              "    </tr>\n",
              "    <tr>\n",
              "      <th>3</th>\n",
              "      <td>(寵愛御藏)肌因彈潤課程單堂</td>\n",
              "      <td>1976.00</td>\n",
              "    </tr>\n",
              "    <tr>\n",
              "      <th>4</th>\n",
              "      <td>(新)溫熱刮痧課程單堂</td>\n",
              "      <td>148320.00</td>\n",
              "    </tr>\n",
              "    <tr>\n",
              "      <th>...</th>\n",
              "      <td>...</td>\n",
              "      <td>...</td>\n",
              "    </tr>\n",
              "    <tr>\n",
              "      <th>770</th>\n",
              "      <td>龍血求麗修護霜5ml-贈品</td>\n",
              "      <td>4752.00</td>\n",
              "    </tr>\n",
              "    <tr>\n",
              "      <th>771</th>\n",
              "      <td>龍血求麗精油手工皂100g</td>\n",
              "      <td>3872.00</td>\n",
              "    </tr>\n",
              "    <tr>\n",
              "      <th>772</th>\n",
              "      <td>龍血求麗精油護手霜30ml</td>\n",
              "      <td>120.00</td>\n",
              "    </tr>\n",
              "    <tr>\n",
              "      <th>773</th>\n",
              "      <td>３鑽白奢華面膜-10包</td>\n",
              "      <td>8.00</td>\n",
              "    </tr>\n",
              "    <tr>\n",
              "      <th>774</th>\n",
              "      <td>６Ｄ美容儀</td>\n",
              "      <td>21448.00</td>\n",
              "    </tr>\n",
              "  </tbody>\n",
              "</table>\n",
              "<p>775 rows × 2 columns</p>\n",
              "</div>"
            ],
            "text/plain": [
              "             Description  Quantity\n",
              "0      (3.0 )腸道淨化3.0課程單堂  81960.00\n",
              "1     (3.0)旗艦腸道淨化3.0課程單堂   1088.00\n",
              "2    (VIP)足部玫瑰晶萃瞬效保養課程單堂    208.00\n",
              "3         (寵愛御藏)肌因彈潤課程單堂   1976.00\n",
              "4            (新)溫熱刮痧課程單堂 148320.00\n",
              "..                   ...       ...\n",
              "770        龍血求麗修護霜5ml-贈品   4752.00\n",
              "771        龍血求麗精油手工皂100g   3872.00\n",
              "772        龍血求麗精油護手霜30ml    120.00\n",
              "773          ３鑽白奢華面膜-10包      8.00\n",
              "774                ６Ｄ美容儀  21448.00\n",
              "\n",
              "[775 rows x 2 columns]"
            ]
          },
          "metadata": {},
          "execution_count": 196
        }
      ]
    },
    {
      "cell_type": "code",
      "source": [
        "best_sales_quantity.shape"
      ],
      "metadata": {
        "id": "8X9Jtv3FjM-a",
        "outputId": "345600e8-9a65-40b4-8532-03b0b26bea06",
        "colab": {
          "base_uri": "https://localhost:8080/"
        }
      },
      "execution_count": 165,
      "outputs": [
        {
          "output_type": "execute_result",
          "data": {
            "text/plain": [
              "(775, 2)"
            ]
          },
          "metadata": {},
          "execution_count": 165
        }
      ]
    },
    {
      "cell_type": "code",
      "source": [
        "best_sales_quantity.describe() #找出銷售數量最好隻數量為1075696.00"
      ],
      "metadata": {
        "id": "7OBZhaPaj3jB",
        "outputId": "f65edf79-47ee-408f-f6ec-3c7dc1e73898",
        "colab": {
          "base_uri": "https://localhost:8080/",
          "height": 300
        }
      },
      "execution_count": 166,
      "outputs": [
        {
          "output_type": "execute_result",
          "data": {
            "text/html": [
              "<div>\n",
              "<style scoped>\n",
              "    .dataframe tbody tr th:only-of-type {\n",
              "        vertical-align: middle;\n",
              "    }\n",
              "\n",
              "    .dataframe tbody tr th {\n",
              "        vertical-align: top;\n",
              "    }\n",
              "\n",
              "    .dataframe thead th {\n",
              "        text-align: right;\n",
              "    }\n",
              "</style>\n",
              "<table border=\"1\" class=\"dataframe\">\n",
              "  <thead>\n",
              "    <tr style=\"text-align: right;\">\n",
              "      <th></th>\n",
              "      <th>Quantity</th>\n",
              "    </tr>\n",
              "  </thead>\n",
              "  <tbody>\n",
              "    <tr>\n",
              "      <th>count</th>\n",
              "      <td>775.00</td>\n",
              "    </tr>\n",
              "    <tr>\n",
              "      <th>mean</th>\n",
              "      <td>14757.86</td>\n",
              "    </tr>\n",
              "    <tr>\n",
              "      <th>std</th>\n",
              "      <td>51595.40</td>\n",
              "    </tr>\n",
              "    <tr>\n",
              "      <th>min</th>\n",
              "      <td>0.00</td>\n",
              "    </tr>\n",
              "    <tr>\n",
              "      <th>25%</th>\n",
              "      <td>40.00</td>\n",
              "    </tr>\n",
              "    <tr>\n",
              "      <th>50%</th>\n",
              "      <td>544.00</td>\n",
              "    </tr>\n",
              "    <tr>\n",
              "      <th>75%</th>\n",
              "      <td>10056.00</td>\n",
              "    </tr>\n",
              "    <tr>\n",
              "      <th>max</th>\n",
              "      <td>1075696.00</td>\n",
              "    </tr>\n",
              "  </tbody>\n",
              "</table>\n",
              "</div>"
            ],
            "text/plain": [
              "        Quantity\n",
              "count     775.00\n",
              "mean    14757.86\n",
              "std     51595.40\n",
              "min         0.00\n",
              "25%        40.00\n",
              "50%       544.00\n",
              "75%     10056.00\n",
              "max   1075696.00"
            ]
          },
          "metadata": {},
          "execution_count": 166
        }
      ]
    },
    {
      "cell_type": "markdown",
      "source": [
        "####再來找出銷售金額最高之品項"
      ],
      "metadata": {
        "id": "6pAVS9fFoo82"
      }
    },
    {
      "cell_type": "code",
      "source": [
        "best_sales_revenue1 = sales_data1.groupby(['Description'])['Revenue'].sum().reset_index()\n",
        "best_sales_revenue1"
      ],
      "metadata": {
        "id": "z2vhb0hRkh_3",
        "outputId": "ea6c81eb-c052-410b-91f5-586d6af38291",
        "colab": {
          "base_uri": "https://localhost:8080/",
          "height": 424
        }
      },
      "execution_count": 167,
      "outputs": [
        {
          "output_type": "execute_result",
          "data": {
            "text/html": [
              "<div>\n",
              "<style scoped>\n",
              "    .dataframe tbody tr th:only-of-type {\n",
              "        vertical-align: middle;\n",
              "    }\n",
              "\n",
              "    .dataframe tbody tr th {\n",
              "        vertical-align: top;\n",
              "    }\n",
              "\n",
              "    .dataframe thead th {\n",
              "        text-align: right;\n",
              "    }\n",
              "</style>\n",
              "<table border=\"1\" class=\"dataframe\">\n",
              "  <thead>\n",
              "    <tr style=\"text-align: right;\">\n",
              "      <th></th>\n",
              "      <th>Description</th>\n",
              "      <th>Revenue</th>\n",
              "    </tr>\n",
              "  </thead>\n",
              "  <tbody>\n",
              "    <tr>\n",
              "      <th>0</th>\n",
              "      <td>(3.0 )腸道淨化3.0課程單堂</td>\n",
              "      <td>42561328.00</td>\n",
              "    </tr>\n",
              "    <tr>\n",
              "      <th>1</th>\n",
              "      <td>(3.0)旗艦腸道淨化3.0課程單堂</td>\n",
              "      <td>703856.00</td>\n",
              "    </tr>\n",
              "    <tr>\n",
              "      <th>2</th>\n",
              "      <td>(VIP)足部玫瑰晶萃瞬效保養課程單堂</td>\n",
              "      <td>12272.00</td>\n",
              "    </tr>\n",
              "    <tr>\n",
              "      <th>3</th>\n",
              "      <td>(寵愛御藏)肌因彈潤課程單堂</td>\n",
              "      <td>3026632.00</td>\n",
              "    </tr>\n",
              "    <tr>\n",
              "      <th>4</th>\n",
              "      <td>(新)溫熱刮痧課程單堂</td>\n",
              "      <td>88386960.00</td>\n",
              "    </tr>\n",
              "    <tr>\n",
              "      <th>...</th>\n",
              "      <td>...</td>\n",
              "      <td>...</td>\n",
              "    </tr>\n",
              "    <tr>\n",
              "      <th>770</th>\n",
              "      <td>龍血求麗修護霜5ml-贈品</td>\n",
              "      <td>722536.00</td>\n",
              "    </tr>\n",
              "    <tr>\n",
              "      <th>771</th>\n",
              "      <td>龍血求麗精油手工皂100g</td>\n",
              "      <td>2753792.00</td>\n",
              "    </tr>\n",
              "    <tr>\n",
              "      <th>772</th>\n",
              "      <td>龍血求麗精油護手霜30ml</td>\n",
              "      <td>40624.00</td>\n",
              "    </tr>\n",
              "    <tr>\n",
              "      <th>773</th>\n",
              "      <td>３鑽白奢華面膜-10包</td>\n",
              "      <td>13408.00</td>\n",
              "    </tr>\n",
              "    <tr>\n",
              "      <th>774</th>\n",
              "      <td>６Ｄ美容儀</td>\n",
              "      <td>64347272.00</td>\n",
              "    </tr>\n",
              "  </tbody>\n",
              "</table>\n",
              "<p>775 rows × 2 columns</p>\n",
              "</div>"
            ],
            "text/plain": [
              "             Description     Revenue\n",
              "0      (3.0 )腸道淨化3.0課程單堂 42561328.00\n",
              "1     (3.0)旗艦腸道淨化3.0課程單堂   703856.00\n",
              "2    (VIP)足部玫瑰晶萃瞬效保養課程單堂    12272.00\n",
              "3         (寵愛御藏)肌因彈潤課程單堂  3026632.00\n",
              "4            (新)溫熱刮痧課程單堂 88386960.00\n",
              "..                   ...         ...\n",
              "770        龍血求麗修護霜5ml-贈品   722536.00\n",
              "771        龍血求麗精油手工皂100g  2753792.00\n",
              "772        龍血求麗精油護手霜30ml    40624.00\n",
              "773          ３鑽白奢華面膜-10包    13408.00\n",
              "774                ６Ｄ美容儀 64347272.00\n",
              "\n",
              "[775 rows x 2 columns]"
            ]
          },
          "metadata": {},
          "execution_count": 167
        }
      ]
    },
    {
      "cell_type": "code",
      "source": [
        "best_sales_revenue1.describe() #找出銷售額最好的產品"
      ],
      "metadata": {
        "id": "aK70rbILm2lW",
        "outputId": "9c6c146b-fd58-4cd9-cec2-5609e0bceb2e",
        "colab": {
          "base_uri": "https://localhost:8080/",
          "height": 300
        }
      },
      "execution_count": 169,
      "outputs": [
        {
          "output_type": "execute_result",
          "data": {
            "text/html": [
              "<div>\n",
              "<style scoped>\n",
              "    .dataframe tbody tr th:only-of-type {\n",
              "        vertical-align: middle;\n",
              "    }\n",
              "\n",
              "    .dataframe tbody tr th {\n",
              "        vertical-align: top;\n",
              "    }\n",
              "\n",
              "    .dataframe thead th {\n",
              "        text-align: right;\n",
              "    }\n",
              "</style>\n",
              "<table border=\"1\" class=\"dataframe\">\n",
              "  <thead>\n",
              "    <tr style=\"text-align: right;\">\n",
              "      <th></th>\n",
              "      <th>Revenue</th>\n",
              "    </tr>\n",
              "  </thead>\n",
              "  <tbody>\n",
              "    <tr>\n",
              "      <th>count</th>\n",
              "      <td>775.00</td>\n",
              "    </tr>\n",
              "    <tr>\n",
              "      <th>mean</th>\n",
              "      <td>16825672.35</td>\n",
              "    </tr>\n",
              "    <tr>\n",
              "      <th>std</th>\n",
              "      <td>46069584.85</td>\n",
              "    </tr>\n",
              "    <tr>\n",
              "      <th>min</th>\n",
              "      <td>472.00</td>\n",
              "    </tr>\n",
              "    <tr>\n",
              "      <th>25%</th>\n",
              "      <td>30872.00</td>\n",
              "    </tr>\n",
              "    <tr>\n",
              "      <th>50%</th>\n",
              "      <td>393664.00</td>\n",
              "    </tr>\n",
              "    <tr>\n",
              "      <th>75%</th>\n",
              "      <td>9724992.00</td>\n",
              "    </tr>\n",
              "    <tr>\n",
              "      <th>max</th>\n",
              "      <td>485392400.00</td>\n",
              "    </tr>\n",
              "  </tbody>\n",
              "</table>\n",
              "</div>"
            ],
            "text/plain": [
              "           Revenue\n",
              "count       775.00\n",
              "mean   16825672.35\n",
              "std    46069584.85\n",
              "min         472.00\n",
              "25%       30872.00\n",
              "50%      393664.00\n",
              "75%     9724992.00\n",
              "max   485392400.00"
            ]
          },
          "metadata": {},
          "execution_count": 169
        }
      ]
    },
    {
      "cell_type": "markdown",
      "source": [
        "####得出"
      ],
      "metadata": {
        "id": "t_ymSGlmpEdH"
      }
    },
    {
      "cell_type": "code",
      "source": [
        "best_sales_revenue1[best_sales_revenue1['Revenue']==485392400.00]"
      ],
      "metadata": {
        "id": "7NnQ7eYFnCWD",
        "outputId": "c980036a-e702-4fdb-94dd-e518eaeee34d",
        "colab": {
          "base_uri": "https://localhost:8080/",
          "height": 81
        }
      },
      "execution_count": 174,
      "outputs": [
        {
          "output_type": "execute_result",
          "data": {
            "text/html": [
              "<div>\n",
              "<style scoped>\n",
              "    .dataframe tbody tr th:only-of-type {\n",
              "        vertical-align: middle;\n",
              "    }\n",
              "\n",
              "    .dataframe tbody tr th {\n",
              "        vertical-align: top;\n",
              "    }\n",
              "\n",
              "    .dataframe thead th {\n",
              "        text-align: right;\n",
              "    }\n",
              "</style>\n",
              "<table border=\"1\" class=\"dataframe\">\n",
              "  <thead>\n",
              "    <tr style=\"text-align: right;\">\n",
              "      <th></th>\n",
              "      <th>Description</th>\n",
              "      <th>Revenue</th>\n",
              "    </tr>\n",
              "  </thead>\n",
              "  <tbody>\n",
              "    <tr>\n",
              "      <th>37</th>\n",
              "      <td>BA-5肌密抗皺活妍霜60g</td>\n",
              "      <td>485392400.00</td>\n",
              "    </tr>\n",
              "  </tbody>\n",
              "</table>\n",
              "</div>"
            ],
            "text/plain": [
              "       Description      Revenue\n",
              "37  BA-5肌密抗皺活妍霜60g 485392400.00"
            ]
          },
          "metadata": {},
          "execution_count": 174
        }
      ]
    },
    {
      "cell_type": "code",
      "source": [
        "best_sales_quantity[best_sales_quantity['Quantity']==1075696.00]"
      ],
      "metadata": {
        "id": "LYJKuLNlnmn5",
        "outputId": "5be411bc-05ab-46b3-a226-a5296ddb9bc0",
        "colab": {
          "base_uri": "https://localhost:8080/",
          "height": 81
        }
      },
      "execution_count": 173,
      "outputs": [
        {
          "output_type": "execute_result",
          "data": {
            "text/html": [
              "<div>\n",
              "<style scoped>\n",
              "    .dataframe tbody tr th:only-of-type {\n",
              "        vertical-align: middle;\n",
              "    }\n",
              "\n",
              "    .dataframe tbody tr th {\n",
              "        vertical-align: top;\n",
              "    }\n",
              "\n",
              "    .dataframe thead th {\n",
              "        text-align: right;\n",
              "    }\n",
              "</style>\n",
              "<table border=\"1\" class=\"dataframe\">\n",
              "  <thead>\n",
              "    <tr style=\"text-align: right;\">\n",
              "      <th></th>\n",
              "      <th>Description</th>\n",
              "      <th>Quantity</th>\n",
              "    </tr>\n",
              "  </thead>\n",
              "  <tbody>\n",
              "    <tr>\n",
              "      <th>423</th>\n",
              "      <td>清除環境中腸病毒濕紙巾10抽</td>\n",
              "      <td>1075696.00</td>\n",
              "    </tr>\n",
              "  </tbody>\n",
              "</table>\n",
              "</div>"
            ],
            "text/plain": [
              "        Description   Quantity\n",
              "423  清除環境中腸病毒濕紙巾10抽 1075696.00"
            ]
          },
          "metadata": {},
          "execution_count": 173
        }
      ]
    },
    {
      "cell_type": "markdown",
      "source": [
        "####練習畫圖"
      ],
      "metadata": {
        "id": "piKjohLJpy_p"
      }
    },
    {
      "cell_type": "code",
      "source": [
        "best_sales_revenue_top1 = best_sales_revenue1[best_sales_revenue1['Revenue']==485392400.00]\n",
        "best_sales_revenue_top1"
      ],
      "metadata": {
        "id": "8R-eJc1bp1y0",
        "outputId": "c77d6fb7-96a3-4ee7-8b31-2c3bac0325b4",
        "colab": {
          "base_uri": "https://localhost:8080/",
          "height": 81
        }
      },
      "execution_count": 175,
      "outputs": [
        {
          "output_type": "execute_result",
          "data": {
            "text/html": [
              "<div>\n",
              "<style scoped>\n",
              "    .dataframe tbody tr th:only-of-type {\n",
              "        vertical-align: middle;\n",
              "    }\n",
              "\n",
              "    .dataframe tbody tr th {\n",
              "        vertical-align: top;\n",
              "    }\n",
              "\n",
              "    .dataframe thead th {\n",
              "        text-align: right;\n",
              "    }\n",
              "</style>\n",
              "<table border=\"1\" class=\"dataframe\">\n",
              "  <thead>\n",
              "    <tr style=\"text-align: right;\">\n",
              "      <th></th>\n",
              "      <th>Description</th>\n",
              "      <th>Revenue</th>\n",
              "    </tr>\n",
              "  </thead>\n",
              "  <tbody>\n",
              "    <tr>\n",
              "      <th>37</th>\n",
              "      <td>BA-5肌密抗皺活妍霜60g</td>\n",
              "      <td>485392400.00</td>\n",
              "    </tr>\n",
              "  </tbody>\n",
              "</table>\n",
              "</div>"
            ],
            "text/plain": [
              "       Description      Revenue\n",
              "37  BA-5肌密抗皺活妍霜60g 485392400.00"
            ]
          },
          "metadata": {},
          "execution_count": 175
        }
      ]
    },
    {
      "cell_type": "code",
      "source": [
        "best_sales_quantity_top1 = best_sales_quantity[best_sales_quantity['Quantity']==1075696.00]\n",
        "best_sales_quantity_top1"
      ],
      "metadata": {
        "id": "GLB-QwhmsaJP",
        "outputId": "0544f100-c005-462d-ce9d-0b67aebf1c02",
        "colab": {
          "base_uri": "https://localhost:8080/",
          "height": 81
        }
      },
      "execution_count": 176,
      "outputs": [
        {
          "output_type": "execute_result",
          "data": {
            "text/html": [
              "<div>\n",
              "<style scoped>\n",
              "    .dataframe tbody tr th:only-of-type {\n",
              "        vertical-align: middle;\n",
              "    }\n",
              "\n",
              "    .dataframe tbody tr th {\n",
              "        vertical-align: top;\n",
              "    }\n",
              "\n",
              "    .dataframe thead th {\n",
              "        text-align: right;\n",
              "    }\n",
              "</style>\n",
              "<table border=\"1\" class=\"dataframe\">\n",
              "  <thead>\n",
              "    <tr style=\"text-align: right;\">\n",
              "      <th></th>\n",
              "      <th>Description</th>\n",
              "      <th>Quantity</th>\n",
              "    </tr>\n",
              "  </thead>\n",
              "  <tbody>\n",
              "    <tr>\n",
              "      <th>423</th>\n",
              "      <td>清除環境中腸病毒濕紙巾10抽</td>\n",
              "      <td>1075696.00</td>\n",
              "    </tr>\n",
              "  </tbody>\n",
              "</table>\n",
              "</div>"
            ],
            "text/plain": [
              "        Description   Quantity\n",
              "423  清除環境中腸病毒濕紙巾10抽 1075696.00"
            ]
          },
          "metadata": {},
          "execution_count": 176
        }
      ]
    },
    {
      "cell_type": "code",
      "source": [
        "fig,axes1 = plt.subplots(figsize=(20,6))\n",
        "sns.barplot(x='Country',y='Revenue',data=country_revenue,ax = axes1)\n",
        "axes2 = axes1.twinx()\n",
        "sns.lineplot(x='Country',y='Revenue',data=country_revenue,ax = axes2)\n",
        "plt.show()"
      ],
      "metadata": {
        "id": "QxdkABlXsk_A",
        "outputId": "755fac93-bdbd-4d40-e2ff-1b2fcc6fc78a",
        "colab": {
          "base_uri": "https://localhost:8080/",
          "height": 398
        }
      },
      "execution_count": 184,
      "outputs": [
        {
          "output_type": "display_data",
          "data": {
            "image/png": "[encoded data removed]",
            "text/plain": [
              "<Figure size 1440x432 with 2 Axes>"
            ]
          },
          "metadata": {
            "needs_background": "light"
          }
        }
      ]
    },
    {
      "cell_type": "code",
      "source": [
        ""
      ],
      "metadata": {
        "id": "3XR68R-iwXvn"
      },
      "execution_count": null,
      "outputs": []
    }
  ]
}